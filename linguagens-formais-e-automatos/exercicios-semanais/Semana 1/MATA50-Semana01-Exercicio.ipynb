{
  "nbformat": 4,
  "nbformat_minor": 0,
  "metadata": {
    "colab": {
      "name": "MATA50-Semana01-Estudante.ipynb",
      "provenance": [],
      "collapsed_sections": []
    },
    "kernelspec": {
      "name": "python3",
      "display_name": "Python 3"
    },
    "language_info": {
      "name": "python"
    }
  },
  "cells": [
    {
      "cell_type": "markdown",
      "metadata": {
        "id": "EC51xd8L1WzV"
      },
      "source": [
        "# MATA50 - Exercícios da Semana 01\n",
        "\n",
        "\n",
        "*   Estudante: Tiago de Oliveira Januario\n",
        "*   Matrícula: 2250653\n",
        "*   Grupo: Manga\n"
      ]
    },
    {
      "cell_type": "markdown",
      "metadata": {
        "id": "UDIB4qHrmpy1"
      },
      "source": [
        "# Exercícios\n",
        "\n",
        "## Sejam os conjuntos $A = \\{n \\in \\mathbb{N} \\mid n \\leq 8\\}$ e $B = \\{ n \\in \\mathbb{Z} \\mid -5 \\leq n \\leq 5\\}$. Liste os elementos dos seguintes conjuntos:"
      ]
    },
    {
      "cell_type": "markdown",
      "metadata": {
        "id": "Cq1DYG6SWcrU"
      },
      "source": [
        "a) $E = A \\cap B$"
      ]
    },
    {
      "cell_type": "markdown",
      "metadata": {
        "id": "_k2RC8neWdB8"
      },
      "source": [
        "b) $C = \\{ n \\in A \\cup B \\mid n = 2k$ para $k \\in \\mathbb{Z}\\}$"
      ]
    },
    {
      "cell_type": "markdown",
      "metadata": {
        "id": "pHx0BKntWcWo"
      },
      "source": [
        "c) $D = (A-B) \\cup (B-A)$"
      ]
    },
    {
      "cell_type": "markdown",
      "metadata": {
        "id": "9cA2D5I2Wnt4"
      },
      "source": [
        "d) $[(A\\cap C)-(A\\cap D)]\\times [(A\\cap D)-(A\\cap C)]$"
      ]
    },
    {
      "cell_type": "markdown",
      "metadata": {
        "id": "958a0jaqW8uY"
      },
      "source": [
        "## Para cada uma das igualdades abaixo, certifique-se de que seja válida para $n \\leq 100$ e prove por indução sua validade para qualquer $n$:"
      ]
    },
    {
      "cell_type": "markdown",
      "metadata": {
        "id": "ILweyaCKXWSR"
      },
      "source": [
        "a) $$ \\sum_{i=0}^n i = \\frac{n(n+1)}{2}$$"
      ]
    },
    {
      "cell_type": "markdown",
      "metadata": {
        "id": "u6-91VGrdpTT"
      },
      "source": [
        "b) $$ \\sum_{i=0}^n i^3 = \\big( \\sum_{i=0}^n i \\big)^2 $$"
      ]
    }
  ]
}