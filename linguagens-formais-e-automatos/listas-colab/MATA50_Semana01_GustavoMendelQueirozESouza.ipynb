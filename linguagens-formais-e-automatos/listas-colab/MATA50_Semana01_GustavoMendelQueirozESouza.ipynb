{
  "nbformat": 4,
  "nbformat_minor": 0,
  "metadata": {
    "colab": {
      "name": "MATA50-Semana01-GustavoMendelQueirozESouza.ipynb",
      "provenance": [],
      "collapsed_sections": []
    },
    "kernelspec": {
      "name": "python3",
      "display_name": "Python 3"
    },
    "language_info": {
      "name": "python"
    }
  },
  "cells": [
    {
      "cell_type": "markdown",
      "metadata": {
        "id": "EC51xd8L1WzV"
      },
      "source": [
        "# MATA50 - Exercícios da Semana 01\n",
        "\n",
        "\n",
        "*   Estudante: Gustavo Mendel Queiroz e Souza\n",
        "*   Matrícula: 219215671\n",
        "*   Grupo: Brócolis\n"
      ]
    },
    {
      "cell_type": "markdown",
      "metadata": {
        "id": "UDIB4qHrmpy1"
      },
      "source": [
        "# Exercícios\n",
        "\n",
        "## Sejam os conjuntos $A = \\{n \\in \\mathbb{N} \\mid n \\leq 8\\}$ e $B = \\{ n \\in \\mathbb{Z} \\mid -5 \\leq n \\leq 5\\}$. Liste os elementos dos seguintes conjuntos:"
      ]
    },
    {
      "cell_type": "code",
      "metadata": {
        "colab": {
          "base_uri": "https://localhost:8080/"
        },
        "id": "wBO0vmLdpUnz",
        "outputId": "b37febd7-417b-4fa2-bc05-deb23e1a4bc8"
      },
      "source": [
        "# Define os conjuntos A e B através de Loops entre intervalos definidos\n",
        "A = set(it for it in range(9))\n",
        "B = set(it for it in range(-5, 6))\n",
        "print(\"A =\", A)\n",
        "print(\"B =\", B)"
      ],
      "execution_count": null,
      "outputs": [
        {
          "output_type": "stream",
          "text": [
            "A = {0, 1, 2, 3, 4, 5, 6, 7, 8}\n",
            "B = {0, 1, 2, 3, 4, 5, -1, -5, -4, -3, -2}\n"
          ],
          "name": "stdout"
        }
      ]
    },
    {
      "cell_type": "markdown",
      "metadata": {
        "id": "Cq1DYG6SWcrU"
      },
      "source": [
        "a) $E = A \\cap B$"
      ]
    },
    {
      "cell_type": "code",
      "metadata": {
        "colab": {
          "base_uri": "https://localhost:8080/"
        },
        "id": "7Bp2Nm92psOs",
        "outputId": "274b0aba-d52d-4239-e538-c82056616cd2"
      },
      "source": [
        "# Função Set para retornar interseção de A em B\n",
        "E = A.intersection(B)\n",
        "print(\"E =\", E)"
      ],
      "execution_count": null,
      "outputs": [
        {
          "output_type": "stream",
          "text": [
            "E = {0, 1, 2, 3, 4, 5}\n"
          ],
          "name": "stdout"
        }
      ]
    },
    {
      "cell_type": "markdown",
      "metadata": {
        "id": "_k2RC8neWdB8"
      },
      "source": [
        "b) $C = \\{ n \\in A \\cup B \\mid n = 2k$ para $k \\in \\mathbb{Z}\\}$"
      ]
    },
    {
      "cell_type": "code",
      "metadata": {
        "colab": {
          "base_uri": "https://localhost:8080/"
        },
        "id": "m9rSeIjMpxaF",
        "outputId": "4f3d6a00-b912-407b-9f75-5d1e0261aa8b"
      },
      "source": [
        "C = set()\n",
        "\n",
        "# Loop entre os elementos do conjunto resultante da função União Set de A e B\n",
        "for n in A.union(B):\n",
        "  # Se o elemento for par, adicione-o no conjunto resultante final \n",
        "  if (n % 2 == 0):\n",
        "    C.add(n)\n",
        "\n",
        "print(\"C =\", C)"
      ],
      "execution_count": null,
      "outputs": [
        {
          "output_type": "stream",
          "text": [
            "C = {0, 2, 4, 6, 8, -4, -2}\n"
          ],
          "name": "stdout"
        }
      ]
    },
    {
      "cell_type": "markdown",
      "metadata": {
        "id": "pHx0BKntWcWo"
      },
      "source": [
        "c) $D = (A-B) \\cup (B-A)$"
      ]
    },
    {
      "cell_type": "code",
      "metadata": {
        "colab": {
          "base_uri": "https://localhost:8080/"
        },
        "id": "awSLFHJ7y_CJ",
        "outputId": "a85f920e-c11d-40e0-fc29-8c8f94ea86cc"
      },
      "source": [
        "# Intercalação de funções, diferença entre A e B, unindo com a diferença de B e A\n",
        "D = (A.difference(B)).union(B.difference(A))\n",
        "print(\"D =\", D)"
      ],
      "execution_count": null,
      "outputs": [
        {
          "output_type": "stream",
          "text": [
            "D = {6, 7, 8, -1, -5, -4, -3, -2}\n"
          ],
          "name": "stdout"
        }
      ]
    },
    {
      "cell_type": "markdown",
      "metadata": {
        "id": "9cA2D5I2Wnt4"
      },
      "source": [
        "d) $[(A\\cap C)-(A\\cap D)]\\times [(A\\cap D)-(A\\cap C)]$"
      ]
    },
    {
      "cell_type": "code",
      "metadata": {
        "id": "EkpsDgy0zyeY",
        "colab": {
          "base_uri": "https://localhost:8080/"
        },
        "outputId": "2e404e4d-a104-46a9-dbe0-f132ef134b33"
      },
      "source": [
        "# Primeiro a definição dos conjuntos A interseção C e A interseção D\n",
        "m = A.intersection(C)\n",
        "n = A.intersection(D)\n",
        "\n",
        "# Depois, define o lado direito da operação e esquerdo também pelas diferenças\n",
        "left = m.difference(n)\n",
        "right = n.difference(m)\n",
        "\n",
        "ans = list()\n",
        "\n",
        "# Realiza a combinação dos conjuntos resultantes\n",
        "# Loops intercalados para realizar a combinação de todos os elementos\n",
        "for i in left:\n",
        "  for j in right:\n",
        "    ans.append({i, j})\n",
        "\n",
        "print(\"Ans =\", ans)"
      ],
      "execution_count": null,
      "outputs": [
        {
          "output_type": "stream",
          "text": [
            "Ans = [{0, 7}, {2, 7}, {4, 7}]\n"
          ],
          "name": "stdout"
        }
      ]
    },
    {
      "cell_type": "markdown",
      "metadata": {
        "id": "958a0jaqW8uY"
      },
      "source": [
        "## Para cada uma das igualdades abaixo, certifique-se de que seja válida para $1 \\leq n \\leq 100$ e prove por indução sua validade para qualquer $n$:"
      ]
    },
    {
      "cell_type": "markdown",
      "metadata": {
        "id": "ILweyaCKXWSR"
      },
      "source": [
        "a) $$ \\sum_{i=0}^n i = \\frac{n(n+1)}{2}$$"
      ]
    },
    {
      "cell_type": "code",
      "metadata": {
        "id": "6X2foa6jRlW4"
      },
      "source": [
        "N = 100\n",
        "\n",
        "# Loop para a varição dos casos de teste 1 <= n <= 100\n",
        "for n in range(1, N+1):\n",
        "\n",
        "  # Cálculo da fórmula n(n+1)/2\n",
        "  formula = (n * (n + 1)) // 2\n",
        "\n",
        "  # Somatório da esquerda\n",
        "  sum = 0\n",
        "  for j in range(n+1):\n",
        "    sum += j\n",
        "\n",
        "  # Verificação da igualdade entre a fórmula e o somatório\n",
        "  if formula == sum:\n",
        "    print(\"É VÁLIDO para n =\", n)\n",
        "  else:\n",
        "    print(\"NÃO É VÁLIDO para n =\", n)"
      ],
      "execution_count": null,
      "outputs": []
    },
    {
      "cell_type": "markdown",
      "metadata": {
        "id": "IrnVv2guqM9q"
      },
      "source": [
        "Provando a Base de Indução para $n=1$, temos\n",
        "\n",
        "$$ \\sum_{i=0}^n i = \\frac{n(n+1)}{2}$$\n",
        "\n",
        "$$ \\sum_{i=0}^1 i = \\frac{1(1+1)}{2}$$\n",
        "\n",
        "$$ \\sum_{i=0}^1 i = 1 $$\n",
        "\n",
        "\\\n",
        "E de fato, o somatório para n=1, é 1. Ou seja, temos a prova para $ \\sum_{i=0}^n i$, e como Hipótese da Indução, precisamos provar $\\sum_{i=0}^{n+1} i$. Logo:\n",
        "\n",
        "$$ \\sum_{i=0}^{n+1} i = 1 + 2 + 3 + 4 + ... + n + {n+1} $$\n",
        "\n",
        "Percebemos que $$1 + 2 + 4 + ... + n = \\sum_{i=0}^n i $$ Logo, substituindo:\n",
        "\n",
        "$$ \\sum_{i=0}^{n+1} i = \\frac{n(n+1)}{2} + {n+1} $$\n",
        "\n",
        "$$ \\sum_{i=0}^{n+1} i = \\frac{n(n+1)}{2} + \\frac{2(n+1)}{2} $$\n",
        "\n",
        "$$ \\sum_{i=0}^{n+1} i = \\frac{n(n+1) + 2(n+1)}{2} $$\n",
        "\n",
        "$$ \\sum_{i=0}^{n+1} i = \\frac{(n+1) + (2 + n)}{2} $$\n",
        "\n",
        "$$ \\sum_{i=0}^{n+1} i = \\frac{(n+1) + ((n+1) + 1)}{2} $$\n",
        "\n",
        "\\\n",
        "E de acordo com a fórmula original, $\\frac{k(k+1)}{2}, para \\ k = n + 1$, temos então a prova por indução."
      ]
    },
    {
      "cell_type": "markdown",
      "metadata": {
        "id": "u6-91VGrdpTT"
      },
      "source": [
        "b) $$ \\sum_{i=0}^n i^3 = \\big( \\sum_{i=0}^n i \\big)^2 $$"
      ]
    },
    {
      "cell_type": "code",
      "metadata": {
        "id": "QSoyFpQ8DKo8"
      },
      "source": [
        "N = 100\n",
        "\n",
        "# Loop para a varição dos casos de teste 1 <= n <= 100\n",
        "for n in range(1, N+1):\n",
        "  somatorio_esquerda = 0\n",
        "  somatorio_direita  = 0\n",
        "  \n",
        "  # Cálculo de ambos somatórios da esquerda e direita\n",
        "  for i in range(n+1):\n",
        "    somatorio_direita  += i\n",
        "    somatorio_esquerda += i ** 3\n",
        "  \n",
        "  resultado_esquerda = somatorio_esquerda\n",
        "  resultado_direita  = somatorio_direita ** 2\n",
        "  \n",
        "  # Verificação da igualdade entre os dois somatórios\n",
        "  if resultado_direita == resultado_esquerda:\n",
        "    print(\"É VÁLIDO para n =\", n)\n",
        "  else:\n",
        "    print(\"NÃO É VÁLIDO para n =\", n)"
      ],
      "execution_count": null,
      "outputs": []
    },
    {
      "cell_type": "markdown",
      "metadata": {
        "id": "iLUyfEpMFe10"
      },
      "source": [
        "Provando para $n=2$ a Base de Indução, temos:\n",
        "\n",
        "$$1³ + 2³ = (1 + 2)²$$\n",
        "$$1 + 8 = 3²$$\n",
        "$$9 = 9$$\n",
        "\n",
        "\\\n",
        "Sendo assim, provamos para $n = k$ a indução acima, e para provar a Hipótese de Indução, queremos provar para $n = k+1$\n",
        "\n",
        "Tendo então $n = k+1$, temos:\n",
        "\n",
        "$$(I) \\ \\ \\ \\ \\ \\ \\  \\sum_{i=0}^{n+1} i³ = \\sum_{i=0}^{n} i³ + (n+1)³$$\n",
        "\n",
        "e\n",
        "\n",
        "$$ (\\sum_{i=0}^{n+1} i)² = (\\sum_{i=0}^{n} i + (n+1))²$$\n",
        "\n",
        "$$ (\\sum_{i=0}^{n+1} i)² = (\\sum_{i=0}^{n}i)² + 2 . (n+1) . \\sum_{i=0}^n i + (n+1)², pelo \\ produto \\ notável \\ (a+b)² $$\n",
        "\n",
        "Supomos que os somatórios são iguais para n, provado anteriormente na Base da Indução, substituimos então:\n",
        "\n",
        "$$(\\sum_{i=0}^{n+1} i)² = \\sum_{i=0}^{n} i³ + 2 . (n+1) . \\sum_{i=0}^n i + (n+1)²$$\n",
        "\n",
        "\\\n",
        "\n",
        "De acordo com a questão $a)$, temos que $\\sum_{i=0}^n i= \\frac{n(n+1)}{2}$\n",
        "\n",
        "\\\n",
        "\n",
        "$$(\\sum_{i=0}^{n+1} i)² = \\sum_{i=0}^{n} i³ + 2 . (n+1) . \\frac{n(n+1)}{2} + (n+1)²$$\n",
        "\n",
        "$$(\\sum_{i=0}^{n+1} i)² = \\sum_{i=0}^{n} i³ + (n+1) . n(n+1) + (n+1)²$$\n",
        "\n",
        "$$(\\sum_{i=0}^{n+1} i)² = \\sum_{i=0}^{n} i³ + (n+1)³$$\n",
        "\n",
        "\\\n",
        "\n",
        "E de acordo com a afirmação em $(I)$, temos a prova da Hipótese, provando por fim a igualdade por indução."
      ]
    },
    {
      "cell_type": "code",
      "metadata": {
        "id": "PHO-B1Alwkzz",
        "colab": {
          "base_uri": "https://localhost:8080/"
        },
        "outputId": "1a10654b-3008-4a6d-80e9-a096f8c06cbe"
      },
      "source": [
        "def nota(contribution,URI,COLAB):\n",
        "    nota = 0\n",
        "    fator_URI = 1\n",
        "    fator_COLAB = 1\n",
        "\n",
        "    if contribution == True:\n",
        "        nota+=2\n",
        "    \n",
        "    if URI == None:\n",
        "        fator_URI = 0.5\n",
        "        URI = 1\n",
        "\n",
        "    if COLAB == None:\n",
        "        fator_COLAB = 0.5\n",
        "        COLAB = 1\n",
        "\n",
        "    nota += 0.4*(URI*fator_COLAB + COLAB*fator_URI)\n",
        "    return max(nota,1)\n",
        "\n",
        "print(nota(True,None,None))\n",
        "print(nota(True,10,None))\n",
        "print(nota(True,None,10))\n",
        "print(nota(True,5,10))\n",
        "print(nota(True,10,10))"
      ],
      "execution_count": null,
      "outputs": [
        {
          "output_type": "stream",
          "text": [
            "2.4\n",
            "4.4\n",
            "4.4\n",
            "8.0\n",
            "10.0\n"
          ],
          "name": "stdout"
        }
      ]
    }
  ]
}