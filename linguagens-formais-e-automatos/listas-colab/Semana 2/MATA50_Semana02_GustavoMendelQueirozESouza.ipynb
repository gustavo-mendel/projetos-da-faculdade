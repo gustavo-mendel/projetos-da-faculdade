{
  "nbformat": 4,
  "nbformat_minor": 0,
  "metadata": {
    "colab": {
      "name": "MATA50-Semana02-GustavoMendelQueirozESouza.ipynb",
      "provenance": [],
      "collapsed_sections": []
    },
    "kernelspec": {
      "name": "python3",
      "display_name": "Python 3"
    },
    "language_info": {
      "name": "python"
    }
  },
  "cells": [
    {
      "cell_type": "markdown",
      "metadata": {
        "id": "EC51xd8L1WzV"
      },
      "source": [
        "# MATA50 - Exercícios da Semana 02\n",
        "\n",
        "*   Grupo: Brócolis\n",
        "*   Autor: Gustavo Mendel Queiroz e Souza\n",
        "\n"
      ]
    },
    {
      "cell_type": "markdown",
      "metadata": {
        "id": "9_9I0TfW94ov"
      },
      "source": [
        "# Instruções\n",
        "1.   Altere o nome do notebook/documentação para o nome do vegetal do seu grupo.\n",
        "2.   Incluia o nome completo dos autores na lista de autores que auxiliaram na elaboração deste notebook. Destaque o responsável como sendo o(a) primeiro(a) autor(a).\n",
        "3. Compartilhe este documento com todos os membros do grupo (que participaram da elaboração deste documento) e também com januario.ufba@gmail.com (dando permisão para edição)\n",
        "\n"
      ]
    },
    {
      "cell_type": "markdown",
      "metadata": {
        "id": "UDIB4qHrmpy1"
      },
      "source": [
        "# Exercícios\n",
        "\n",
        "1. Escreva um programa recursivo para obter o resultado da multiplicação de números sobre o conjunto dos naturais. Dica: $a \\times b = a+a+...+a (b$ vezes)."
      ]
    },
    {
      "cell_type": "code",
      "metadata": {
        "id": "V1UnDjfW0dEw",
        "colab": {
          "base_uri": "https://localhost:8080/"
        },
        "outputId": "7751689d-b9b4-434d-f8e8-595590266ba4"
      },
      "source": [
        "def mult (a, b):\n",
        "  if b == 1:\n",
        "    return a\n",
        "\n",
        "  else:\n",
        "    return a + mult(a, b-1)\n",
        "\n",
        "num1 = int(input(\"Primeiro número: \"))\n",
        "num2 = int(input(\"Segundo  número: \"))\n",
        "\n",
        "ans = mult(num1, num2)\n",
        "\n",
        "print(num1, \"x\", num2, \"=\", ans)"
      ],
      "execution_count": null,
      "outputs": [
        {
          "output_type": "stream",
          "text": [
            "Primeiro número: 4\n",
            "Segundo  número: 5\n",
            "4 x 5 = 20\n"
          ],
          "name": "stdout"
        }
      ]
    },
    {
      "cell_type": "markdown",
      "metadata": {
        "id": "YnKVc_In1AdD"
      },
      "source": [
        "2. Escreva um programa recursivo para obter o resultado da função $f:\\mathbb{N} \\rightarrow \\mathbb{N}$ em que $f(n) = \\sum_{k=1}^n k$\n"
      ]
    },
    {
      "cell_type": "code",
      "metadata": {
        "id": "vl3UDq4P1oFR",
        "colab": {
          "base_uri": "https://localhost:8080/"
        },
        "outputId": "2aad7e61-74ea-40fe-b4bb-80ac6b519c64"
      },
      "source": [
        "def soma(n):\n",
        "  if n == 1:\n",
        "    return n\n",
        "\n",
        "  else:\n",
        "    return n + soma(n-1)\n",
        "\n",
        "n = int(input(\"Digite um número: \"))\n",
        "\n",
        "print(soma(n))"
      ],
      "execution_count": null,
      "outputs": [
        {
          "output_type": "stream",
          "text": [
            "Digite um número: 5\n",
            "15\n"
          ],
          "name": "stdout"
        }
      ]
    },
    {
      "cell_type": "markdown",
      "metadata": {
        "id": "haz4BKsH1af7"
      },
      "source": [
        "3. Apresente as soluções comentadas e documentadas detalhadamente para cada um dos problemas resolvidos URI."
      ]
    },
    {
      "cell_type": "code",
      "metadata": {
        "colab": {
          "base_uri": "https://localhost:8080/"
        },
        "id": "NbwDEho8q894",
        "outputId": "c02032d2-20dc-4195-a529-fab80c7bce5b"
      },
      "source": [
        "# Primeiro Problema \"Hello World!\" 1000\n",
        "# https://www.urionlinejudge.com.br/judge/en/problems/view/1000\n",
        "\n",
        "print('Hello World!') #nós definitivamente não temos o que cometar!!! E deus disse: \"Hello World\""
      ],
      "execution_count": 6,
      "outputs": [
        {
          "output_type": "stream",
          "text": [
            "Hello World!\n"
          ],
          "name": "stdout"
        }
      ]
    },
    {
      "cell_type": "code",
      "metadata": {
        "colab": {
          "base_uri": "https://localhost:8080/"
        },
        "id": "boxCI85DroKw",
        "outputId": "68d1e2c0-84f5-4ec7-9770-8a51104c6d0d"
      },
      "source": [
        "# Segundo Problema \"Extremely Basic\" 1001\n",
        "# https://www.urionlinejudge.com.br/judge/en/problems/view/1001\n",
        " \n",
        "#  Entrada dos dados\n",
        "a = int(input()) #Digite o valor de A\n",
        "b = int(input()) #Digite o valor de B\n",
        "\n",
        "# Saída dos dados\n",
        "print(f'X = {a+b}') #Resultado da expressão"
      ],
      "execution_count": 7,
      "outputs": [
        {
          "output_type": "stream",
          "text": [
            "4\n",
            "5\n",
            "X = 9\n"
          ],
          "name": "stdout"
        }
      ]
    },
    {
      "cell_type": "code",
      "metadata": {
        "id": "XQ1oeojIs64v",
        "colab": {
          "base_uri": "https://localhost:8080/"
        },
        "outputId": "335a39fe-079c-4bbd-bbcc-ec42468dae8a"
      },
      "source": [
        "# Terceiro Problema \"Combiner\" 1238\n",
        "# https://www.urionlinejudge.com.br/judge/en/problems/view/1238\n",
        "\n",
        "# Entrada do número de testes\n",
        "n = int(input())\n",
        "\n",
        "# Loop para os casos de testes\n",
        "for i in range(n):\n",
        "\n",
        "  # Entrada das duas strings separadas por espaço\n",
        "  a, b = input().split()\n",
        "\n",
        "  # Declara a variável answer, que definirá a solução para cada caso de teste\n",
        "  ans = \"\"\n",
        "\n",
        "  # Pega o valor minímo de caracteres entre a str1 e str2\n",
        "  # A lógica é fazer a contagem até onde ambas strings tem caracteres em determinado indície\n",
        "  # E depois é só pegar o restante da string com mais caracteres\n",
        "  minimo = min(len(a), len(b))\n",
        "\n",
        "  # Passear pelas strings até o valor minimo explicado acima\n",
        "  for j in range(minimo):\n",
        "\n",
        "    # Adiciona caracteres à variável answer, a solução\n",
        "    # Adiciona de forma alternada entre as duas strings\n",
        "    ans += a[j]\n",
        "    ans += b[j]\n",
        "\n",
        "  # Vá pelo restantes da string, caso haja e adiciona o resto à solução\n",
        "  for j in range(minimo, len(a)):\n",
        "   ans += a[j]\n",
        "\n",
        "  # Vá pelo restantes da string, caso haja e adiciona o resto à solução\n",
        "  for j in range(minimo, len(b)):\n",
        "    ans += b[j]\n",
        "\n",
        "  # Saída da solução\n",
        "  print(ans)"
      ],
      "execution_count": 8,
      "outputs": [
        {
          "output_type": "stream",
          "text": [
            "2\n",
            "Tpo oCder\n",
            "TopCoder\n",
            "aa bb\n",
            "abab\n"
          ],
          "name": "stdout"
        }
      ]
    },
    {
      "cell_type": "code",
      "metadata": {
        "id": "k0tWXvXAvQm8",
        "colab": {
          "base_uri": "https://localhost:8080/"
        },
        "outputId": "72873c79-f957-4ad2-b08f-663ef5bbbd59"
      },
      "source": [
        "# Quarta Problema \"One-Two-Three\" 1332\n",
        "# https://www.urionlinejudge.com.br/judge/en/problems/view/1332\n",
        "\n",
        "# Entrada do número de testes\n",
        "n = int(input())\n",
        "\n",
        "# Loop para os casos de teste\n",
        "for i in range(n):\n",
        "\n",
        "  # Entrada da string a ser analisada\n",
        "  a = input()\n",
        "\n",
        "  # Pré-análise para já definir se é o 3, pela quantidade de caracteres\n",
        "  # Já que apenas \"Three\" tem 5 caracteres\n",
        "  if len(a) == 5:\n",
        "    print(3)\n",
        "  \n",
        "  # Verifica a diferença de \"one\" e \"two\"\n",
        "  else:\n",
        "\n",
        "    # Contadores para auxílio\n",
        "    count1 = 0\n",
        "    count2 = 0\n",
        "\n",
        "    # Palavras originais para auxílio\n",
        "    one = \"one\"\n",
        "    two = \"two\"\n",
        "\n",
        "    # Passear por toda a string a ser analisada\n",
        "    for j in range(3):\n",
        "\n",
        "      # Confere as letras coincidentes da string a ser analisada e da palavra \"one\"\n",
        "      if a[j] == one[j]:\n",
        "        count1 += 1\n",
        "\n",
        "      # Confere as letras coincidentes da string a ser analisada e da palavra \"two\"\n",
        "      if a[j] == two[j]:\n",
        "        count2 += 1\n",
        "\n",
        "    # Confere qual entre as palavras \"one\" e \"two\" tem mais coincidências com a string a ser analisada\n",
        "    if count1 > count2:\n",
        "      print(1)\n",
        "    else:\n",
        "      print(2)"
      ],
      "execution_count": 9,
      "outputs": [
        {
          "output_type": "stream",
          "text": [
            "3\n",
            "owe\n",
            "1\n",
            "too\n",
            "2\n",
            "treee\n",
            "3\n"
          ],
          "name": "stdout"
        }
      ]
    },
    {
      "cell_type": "code",
      "metadata": {
        "colab": {
          "base_uri": "https://localhost:8080/"
        },
        "id": "mn6d92vywy0D",
        "outputId": "3808d786-4ade-4407-df74-d1ec5f2e50e6"
      },
      "source": [
        "# Quinto Problema \"Simple Factorial\" 1153\n",
        "# https://www.urionlinejudge.com.br/judge/en/problems/view/1153\n",
        "\n",
        "def fatorial(n: int)->int: \n",
        "  \n",
        "  # Caso base\n",
        "  if n == 1 or n == 0: \n",
        "    return 1\n",
        "  \n",
        "  # Chamada recursiva da função n-1 vezes.\n",
        "  else:\n",
        "    return n * fatorial(n-1) \n",
        "\n",
        "# Entrada do dado para teste\n",
        "n = int(input())\n",
        "\n",
        "# Saída do dado/teste\n",
        "print(fatorial(n))"
      ],
      "execution_count": 10,
      "outputs": [
        {
          "output_type": "stream",
          "text": [
            "5\n",
            "120\n"
          ],
          "name": "stdout"
        }
      ]
    }
  ]
}