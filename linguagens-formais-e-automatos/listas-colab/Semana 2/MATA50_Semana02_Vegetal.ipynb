{
  "nbformat": 4,
  "nbformat_minor": 0,
  "metadata": {
    "colab": {
      "name": "MATA50-Semana02-Vegetal.ipynb",
      "provenance": [],
      "collapsed_sections": []
    },
    "kernelspec": {
      "name": "python3",
      "display_name": "Python 3"
    },
    "language_info": {
      "name": "python"
    }
  },
  "cells": [
    {
      "cell_type": "markdown",
      "metadata": {
        "id": "EC51xd8L1WzV"
      },
      "source": [
        "# MATA50 - Exercícios da Semana 02\n",
        "\n",
        "*   Grupo: Manga\n",
        "*   Autores: Ney Matogrosso (Responsável), Tiago de Oliveira Januario\n",
        "\n"
      ]
    },
    {
      "cell_type": "markdown",
      "metadata": {
        "id": "9_9I0TfW94ov"
      },
      "source": [
        "# Instruções\n",
        "1.   Altere o nome do notebook/documentação para o nome do vegetal do seu grupo.\n",
        "2.   Incluia o nome completo dos autores na lista de autores que auxiliaram na elaboração deste notebook. Destaque o responsável como sendo o(a) primeiro(a) autor(a).\n",
        "3. Compartilhe este documento com todos os membros do grupo (que participaram da elaboração deste documento) e também com januario.ufba@gmail.com (dando permisão para edição)\n",
        "\n"
      ]
    },
    {
      "cell_type": "markdown",
      "metadata": {
        "id": "UDIB4qHrmpy1"
      },
      "source": [
        "# Exercícios\n",
        "\n",
        "1. Escreva um programa recursivo para obter o resultado da multiplicação de números sobre o conjunto dos naturais. Dica: $a \\times b = a+a+...+a (b$ vezes)."
      ]
    },
    {
      "cell_type": "code",
      "metadata": {
        "id": "V1UnDjfW0dEw"
      },
      "source": [
        "# Dica a*b = a+a+...+a (b vezes)"
      ],
      "execution_count": null,
      "outputs": []
    },
    {
      "cell_type": "markdown",
      "metadata": {
        "id": "YnKVc_In1AdD"
      },
      "source": [
        "2. Escreva um programa recursivo para obter o resultado da função $f:\\mathbb{N} \\rightarrow \\mathbb{N}$ em que $f(n) = \\sum_{k=1}^n k$\n"
      ]
    },
    {
      "cell_type": "code",
      "metadata": {
        "id": "vl3UDq4P1oFR"
      },
      "source": [
        "def f(n):\n",
        "  # seu codigo aqui\n",
        "\n",
        "print(f(n))"
      ],
      "execution_count": null,
      "outputs": []
    },
    {
      "cell_type": "markdown",
      "metadata": {
        "id": "haz4BKsH1af7"
      },
      "source": [
        "3. Apresente as soluções comentadas e documentadas detalhadamente para cada um dos problemas resolvidos URI."
      ]
    }
  ]
}