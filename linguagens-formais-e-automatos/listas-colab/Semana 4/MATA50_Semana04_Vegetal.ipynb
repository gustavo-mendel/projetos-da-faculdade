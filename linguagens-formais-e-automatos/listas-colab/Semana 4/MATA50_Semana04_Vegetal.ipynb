{
  "nbformat": 4,
  "nbformat_minor": 0,
  "metadata": {
    "colab": {
      "name": "MATA50-Semana04-Vegetal.ipynb",
      "provenance": [],
      "collapsed_sections": []
    },
    "kernelspec": {
      "name": "python3",
      "display_name": "Python 3"
    },
    "language_info": {
      "name": "python"
    }
  },
  "cells": [
    {
      "cell_type": "markdown",
      "metadata": {
        "id": "EC51xd8L1WzV"
      },
      "source": [
        "# MATA50 - Exercícios da Semana 04\n",
        "\n",
        "*   Grupo: Carambola\n",
        "*   Autores: [Amy Winehouse](https://en.wikipedia.org/wiki/Amy_Winehouse) (Responsável), Tiago de Oliveira Januario\n",
        "\n"
      ]
    },
    {
      "cell_type": "markdown",
      "metadata": {
        "id": "9_9I0TfW94ov"
      },
      "source": [
        "# Instruções (não apagar)\n",
        "1.   Após criar este notebook, altere o nome do notebook/documentação incluindo o nome do vegetal do seu grupo. Por exemplo, se você é do grupo Carambola, altere o nome do notebook para \"MATA50-Semana04-Carambola.ipynb\"\n",
        "1. Compartilhe este documento com todos os membros do grupo (para participarem da elaboração deste documento). É importante que o notebook utilizado seja o mesmo compartilhado para que os registros de participação e colaboração fiquem salvos no histórico.\n",
        "1.   Incluia o nome completo dos autores na lista de autores que auxiliaram na elaboração deste notebook. Destaque o responsável como sendo o(a) primeiro(a) autor(a).\n",
        "1. Utilize os recursos de blocos de texto e de código para adicionar as suas respostas, sem alterar os blocos de texto e código existente. Não economize, esses blocos são de graça.\n",
        "1. Ao concluir a atividade, compartilhe o notebook com januario.ufba@gmail.com (dando permisão para edição) e deixando o aviso de notificação marcado, para que eu receba o seu e-mail.\n",
        "\n"
      ]
    },
    {
      "cell_type": "code",
      "metadata": {
        "id": "TM_UtFZ-BmZ8",
        "cellView": "form"
      },
      "source": [
        "#@title Implementação dos modelos em Python\n",
        "#@markdown Esta célula contém a implementação em Python 3 dos principais modelos de computação vistos na disciplina de Linguagens Formais e Autômatos. \n",
        "#@markdown Não é necessário conhecer o código aqui implementado ou mesmo ter um conhecimento profundo da linguagem Python. Acompanhe os exemplos e experimente construir seus próprios modelos.\n",
        " \n",
        "#@markdown >*Execute esta célula (`ctrl+enter` ou clicando no botão ao lado) para que o ambiente seja carregado com as classes implementadas.*\n",
        " \n",
        "from graphviz import Digraph\n",
        "import re\n",
        " \n",
        "class AP: \n",
        "    def __init__(self, Q={}, Sigma={}, Gamma={}, delta={}, q0=0, F={}):\n",
        "        self.states = Q\n",
        "        self.inputAlphabet = Sigma\n",
        "        self.stackAlphabet = Gamma\n",
        "        self.transition = delta\n",
        "        self.startState = q0\n",
        "        self.acceptStates = F \n",
        " \n",
        "        self.initialize()\n",
        " \n",
        "    def initialize(self, input_string=\"\"):\n",
        "        self.traces = [[(self.startState,tuple(input_string),())]]\n",
        " \n",
        "    def check(self):\n",
        "        pass\n",
        "        \n",
        "    def hasNext(self):\n",
        "        return self.traces and (not self.acceptTraces())\n",
        "    \n",
        "    def acceptTraces(self):\n",
        "        return [t for t in self.traces if t[-1][1] == () and t[-1][0] in self.acceptStates]\n",
        " \n",
        "    def step(self):\n",
        "        updated_traces = []\n",
        "        for trace in self.traces:\n",
        "          s, string, stack = trace[-1]\n",
        "          A = {'', string[0]} if string else {''}\n",
        "          B = {'', stack[-1]} if stack else {''}\n",
        "          possible_transitions = [(s,a,b) for a in A for b in B if (s,a,b) in self.transition]          \n",
        "          for (s,a,b) in possible_transitions:  \n",
        "            for r,c in self.transition[s,a,b]:\n",
        "              nstring = string[1:] if a else string\n",
        "              nstack  = stack[:-1] if b else stack\n",
        "              nstack  = nstack+(c,) if c else nstack\n",
        "              if (not (r,nstring,nstack) in trace):\n",
        "                updated_traces.append(trace+[(r,nstring,nstack)])\n",
        "        self.traces = updated_traces\n",
        " \n",
        "    def run(self, input_string=0, max_steps=1000):        \n",
        "        while (self.hasNext()): \n",
        "          if max_steps == 0: \n",
        "            raise Exception(\"Timeout\")\n",
        "          self.step()\n",
        "          max_steps -= 1\n",
        "        return self.result()\n",
        " \n",
        "    def aceita(self, input_string=0):\n",
        "        self.initialize(input_string)\n",
        "        return self.run()\n",
        " \n",
        "    def result(self):\n",
        "        return True if self.acceptTraces() else (False if (not self.traces) else None)\n",
        "    \n",
        "    def visualizar(self):      \n",
        "        f = Digraph('finite_state_machine', filename='fsm.gv')\n",
        "        f.attr(rankdir='LR', size='8,5')\n",
        " \n",
        "        f.attr('node', shape='point')\n",
        "        f.node('')\n",
        "        \n",
        "        f.attr('node', shape='doublecircle')\n",
        "        for n in self.acceptStates:\n",
        "          f.node(str(n))\n",
        " \n",
        "        f.attr('node', shape='circle')\n",
        "        for n in self.states.difference(self.acceptStates):\n",
        "          f.node(str(n))\n",
        " \n",
        "        label = {}        \n",
        "        for (q,a,b) in self.transition:\n",
        "          for (r,c) in self.transition[q,a,b]:          \n",
        "            label[q,r] = label[q,r]+[(a,b,c)] if (q,r) in label else [(a,b,c)]\n",
        " \n",
        "        f.edge('', str(self.startState))\n",
        "        for (q,r) in label:\n",
        "          f.edge(str(q),str(r),label=self.graphviz_edge_label_format(label[q,r]))      \n",
        "          pass\n",
        "        \n",
        "        return f\n",
        "    \n",
        "    def graphviz_edge_label_format(self,labels=[]):\n",
        "        epsilon = \"\\u03BB\"\n",
        "        right_arrow = \"\\u2192\"\n",
        "        return '\\n'.join([(a if (a or a==0) else epsilon) + \",\" + (b if (b or b==0) else epsilon) + right_arrow + (c if (c or c==0) else epsilon) for (a,b,c) in labels])\n",
        "        # return '\\n'.join([(str(a) if a else epsilon) + \",\" + (str(b) if b else epsilon) + right_arrow + (str(c) if c else epsilon) for (a,b,c) in labels])\n",
        " \n",
        "class AFN(AP):\n",
        "  def __init__(self, Q={}, Sigma={}, delta={}, q0=0, F={}):\n",
        "        delta_pda = {}\n",
        "        for q,a in delta:\n",
        "          delta_pda[q,a,''] = {(r,'') for r in delta[q,a]}\n",
        "        super().__init__(Q,Sigma,{},delta_pda,q0,F)\n",
        "  \n",
        "  def graphviz_edge_label_format(self,labels):\n",
        "      epsilon = \"\\u03B5\"\n",
        "      return \",\".join([(str(a) if (a or a==0) else epsilon) for (a,b,c) in labels])\n",
        " \n",
        "class AFD(AFN):\n",
        "  def __init__(self, Q={}, Sigma={}, delta={}, q0=0, F={}):\n",
        "        delta_nfa = {}\n",
        "        for (q,a) in delta:\n",
        "          delta_nfa[q,a] = {delta[q,a]}\n",
        "        super().__init__(Q,Sigma,delta_nfa,q0,F)\n",
        " \n",
        "class ER:\n",
        "  def __init__(self,regex=None):  \n",
        "    if (regex == None):\n",
        "      self.regex = None\n",
        "    elif (re.match(\"^[a-zA-Z0-9\\(\\)\\|\\*]*$\", regex)):\n",
        "      self.regex = regex\n",
        "    else:\n",
        "      raise Exception(\"Invalid pattern\")\n",
        " \n",
        "  def gera(self, input_string):\n",
        "    if (self.regex == None):\n",
        "      return False\n",
        "    else:\n",
        "      return True if re.match(\"^\"+self.regex+\"$\",input_string) else False\n",
        " \n",
        "class GLC:\n",
        "  def __init__(self,V,Sigma,R,S):\n",
        "      self.variables = V\n",
        "      self.terminals = Sigma\n",
        "      # self.rules = R\n",
        "      self.rules = {(a, tuple(b)) for (a,b) in R}\n",
        "      self.start = S\n",
        " \n",
        "      self.derivation = []\n",
        "      self.chomsky = None\n",
        "  \n",
        "  def gera(self, string):\n",
        "      if (not self.chomsky):\n",
        "        self.chomsky = self.to_chomsky()        \n",
        "      G = self.chomsky\n",
        "      \n",
        "      if len(string) == 0: return (G.start,()) in G.rules\n",
        " \n",
        "      # CYK Algorithm\n",
        "      n = len(string)\n",
        "      P = [[[] for x in range(n - y)] for y in range(n)]\n",
        "      for i,c in enumerate(string):\n",
        "        for v in [a for (a,b) in G.rules if len(b) == 1 and c in b]:\n",
        "          P[0][i] += [v]\n",
        "      for l in range(2, n+1): # borda da iteração\n",
        "        for s in range(0, n+1-l): # coluna\n",
        "          for p in range(1, l): # linha\n",
        "            for u, v in [(a,b) for (a,b) in G.rules if len(b) == 2]:\n",
        "              if v[0] in P[p-1][s] and v[1] in P[l-p-1][s+p]:\n",
        "                P[l-1][s] += [u]\n",
        "      return G.start in P[-1][0]\n",
        " \n",
        "  def print(self):\n",
        "      rightarrow = \"\\u2192\"\n",
        "      print(self.start,rightarrow, '|'.join([''.join(y) for x,y in self.rules if x == S]))\n",
        "      for v in sorted(self.variables.difference(self.start)): \n",
        "        print(v,rightarrow, '|'.join([''.join(y) for x,y in self.rules if x == v]))\n",
        " \n",
        "  def replace_eps(self, v, l):\n",
        "    if not l: return {()}\n",
        "    result = {(l[0],) + s for s in self.replace_eps(v, tuple(l[1:]))}\n",
        "    if l[0] == v:\n",
        "      result.update({tuple(s[1:]) for s in result})\n",
        "    return result   \n",
        " \n",
        "  def to_chomsky(self):\n",
        "      n_state = 0\n",
        "      \n",
        "      S = '<{}>'.format(n_state)\n",
        "      Sigma = self.terminals \n",
        "      V = {S}.union(self.variables)\n",
        "      R = {(S,(self.start,))}.union(self.rules)\n",
        " \n",
        "      target = {alpha for alpha in self.variables if (alpha,()) in R}\n",
        "      while (target):\n",
        "        for e in target:\n",
        "          rules = {(alpha,beta) for (alpha,beta) in R if e in beta}\n",
        "          for (a,b) in rules:\n",
        "            R.update({(a, beta) for beta in self.replace_eps(e,b)})\n",
        "          R.discard((e,()))\n",
        "        target = {alpha for alpha in self.variables if (alpha,()) in R}\n",
        "      \n",
        "      target = {(a,b) for (a,b) in R if len(b) == 1 and b[0] in V}\n",
        "      while (target):\n",
        "        for u,v in target:\n",
        "          rules = {b for (a,b) in R if a == v[0]}\n",
        "          R.update({(u,b) for b in rules})\n",
        "          R.discard((u,v))\n",
        "        target = {(a,b) for (a,b) in R if len(b) == 1 and b[0] in V}\n",
        "      \n",
        "      target = {(alpha,beta) for (alpha,beta) in R if len(beta) > 2}\n",
        "      while(target):\n",
        "        for u,v in target:\n",
        "          n_state += 1\n",
        "          state = '<{}>'.format(n_state)\n",
        "          V.update({state})\n",
        "          R.update({(u,(v[0],state)),(state, tuple(v[1:]))})\n",
        "          R.discard((u,v))\n",
        "        target = {(alpha,beta) for (alpha,beta) in R if len(beta) > 2}\n",
        " \n",
        "      target = {(alpha,beta) for (alpha,beta) in R if len(beta) == 2}\n",
        "      for u,v in target:\n",
        "        n = list(v)\n",
        "        for i in range(2):\n",
        "          if v[i] in Sigma:\n",
        "            R.discard((u,(n[0],n[1])))\n",
        "            n_state += 1\n",
        "            n[i] = '<{}>'.format(n_state)\n",
        "            V.update({n[i]})\n",
        "            R.update({(u,(n[0],n[1]))})\n",
        "            R.update({(n[i],(v[i],))})\n",
        " \n",
        "      return GLC(V,Sigma,R,S)"
      ],
      "execution_count": null,
      "outputs": []
    },
    {
      "cell_type": "markdown",
      "metadata": {
        "id": "NqAD4jnTWIIW"
      },
      "source": [
        "# Exemplos (Apague os exemplos abaixo antes de compartilhar com o professor)"
      ]
    },
    {
      "cell_type": "code",
      "metadata": {
        "id": "67b0Fux_WOdJ",
        "colab": {
          "base_uri": "https://localhost:8080/"
        },
        "cellView": "form",
        "outputId": "2cef4efa-e9f9-468a-a0aa-f366d9fc33f8"
      },
      "source": [
        "#@title 1. Construa um AFD para a seguinte linguagem sobre o alfabeto $\\Sigma = \\{0, 1\\}$: O conjunto das palavras que contem um ou dois 1’s, cujo tamanho é múltiplo de 3.\n",
        "Q = {'z1r0','z1r1','z1r2','u1r0','u1r1','u1r2','d1r0','d1r1','d1r2'}\n",
        "Sigma = {'0','1'}\n",
        "delta = {('z1r0','0'):'z1r1',\n",
        "         ('z1r1','0'):'z1r2',\n",
        "         ('z1r2','0'):'z1r0',\n",
        "         ('u1r0','0'):'u1r1',\n",
        "         ('u1r1','0'):'u1r2',\n",
        "         ('u1r2','0'):'u1r0',\n",
        "         ('d1r0','0'):'d1r1',\n",
        "         ('d1r1','0'):'d1r2',\n",
        "         ('d1r2','0'):'d1r0',\n",
        "         ('z1r0','1'):'u1r1',\n",
        "         ('z1r1','1'):'u1r2',\n",
        "         ('z1r2','1'):'u1r0',\n",
        "         ('u1r0','1'):'d1r1',\n",
        "         ('u1r1','1'):'d1r2',\n",
        "         ('u1r2','1'):'d1r0'}\n",
        "q0 = 'z1r0'\n",
        "F = {'u1r0','d1r0'}\n",
        " \n",
        "M = AFD(Q,Sigma,delta,q0,F)\n",
        "M.visualizar()\n",
        "M.aceita(\"100\")"
      ],
      "execution_count": null,
      "outputs": [
        {
          "output_type": "execute_result",
          "data": {
            "text/plain": [
              "True"
            ]
          },
          "metadata": {},
          "execution_count": 3
        }
      ]
    },
    {
      "cell_type": "code",
      "metadata": {
        "id": "cXNlEwZzSuFo",
        "colab": {
          "base_uri": "https://localhost:8080/",
          "height": 357
        },
        "cellView": "form",
        "outputId": "dfbc56fc-58dd-4691-b5b0-05a4caa04194"
      },
      "source": [
        "#@title 2. Construa um AFN sobre $\\Sigma = \\{a, b, c\\}$ que reconheça o conjunto das palavras em que o último símbolo não tenha ocorrido antes.\n",
        "Q = {'q0','ta','tb','tc','f'}\n",
        "Sigma = {'a','b','c'}\n",
        "delta = {('q0',''):{'ta','tb','tc'},\n",
        "         ('ta','b'):{'ta'},\n",
        "         ('ta','c'):{'ta'},\n",
        "         ('tb','a'):{'tb'},\n",
        "         ('tb','c'):{'tb'},\n",
        "         ('tc','a'):{'tc'},\n",
        "         ('tc','b'):{'tc'},\n",
        "         ('ta','a'):{'f'},\n",
        "         ('tb','b'):{'f'},\n",
        "         ('tc','c'):{'f'}}\n",
        "q0 = 'q0'\n",
        "F = {'q0','f'}\n",
        " \n",
        "M = AFN(Q,Sigma,delta,q0,F)\n",
        "M.visualizar()\n",
        "# M.aceita(\"aacacacacccacaccacaacab\")"
      ],
      "execution_count": null,
      "outputs": [
        {
          "output_type": "execute_result",
          "data": {
            "text/plain": [
              "<graphviz.dot.Digraph at 0x7fc7e2d3e290>"
            ],
            "image/svg+xml": "<?xml version=\"1.0\" encoding=\"UTF-8\" standalone=\"no\"?>\n<!DOCTYPE svg PUBLIC \"-//W3C//DTD SVG 1.1//EN\"\n \"http://www.w3.org/Graphics/SVG/1.1/DTD/svg11.dtd\">\n<!-- Generated by graphviz version 2.40.1 (20161225.0304)\n -->\n<!-- Title: finite_state_machine Pages: 1 -->\n<svg width=\"266pt\" height=\"251pt\"\n viewBox=\"0.00 0.00 265.59 251.20\" xmlns=\"http://www.w3.org/2000/svg\" xmlns:xlink=\"http://www.w3.org/1999/xlink\">\n<g id=\"graph0\" class=\"graph\" transform=\"scale(1 1) rotate(0) translate(4 247.1984)\">\n<title>finite_state_machine</title>\n<polygon fill=\"#ffffff\" stroke=\"transparent\" points=\"-4,4 -4,-247.1984 261.5931,-247.1984 261.5931,4 -4,4\"/>\n<g id=\"node1\" class=\"node\">\n<title></title>\n<ellipse fill=\"#000000\" stroke=\"#000000\" cx=\"1.8\" cy=\"-105.1984\" rx=\"1.8\" ry=\"1.8\"/>\n</g>\n<!-- q0 -->\n<g id=\"node3\" class=\"node\">\n<title>q0</title>\n<ellipse fill=\"none\" stroke=\"#000000\" cx=\"65.3982\" cy=\"-105.1984\" rx=\"20.6302\" ry=\"20.6302\"/>\n<ellipse fill=\"none\" stroke=\"#000000\" cx=\"65.3982\" cy=\"-105.1984\" rx=\"24.5979\" ry=\"24.5979\"/>\n<text text-anchor=\"middle\" x=\"65.3982\" y=\"-101.4984\" font-family=\"Times,serif\" font-size=\"14.00\" fill=\"#000000\">q0</text>\n</g>\n<!-- &#45;&gt;q0 -->\n<g id=\"edge1\" class=\"edge\">\n<title>&#45;&gt;q0</title>\n<path fill=\"none\" stroke=\"#000000\" d=\"M3.6348,-105.1984C7.8563,-105.1984 18.7828,-105.1984 30.2933,-105.1984\"/>\n<polygon fill=\"#000000\" stroke=\"#000000\" points=\"30.4051,-108.6985 40.4051,-105.1984 30.4051,-101.6985 30.4051,-108.6985\"/>\n</g>\n<!-- f -->\n<g id=\"node2\" class=\"node\">\n<title>f</title>\n<ellipse fill=\"none\" stroke=\"#000000\" cx=\"235.5931\" cy=\"-105.1984\" rx=\"18\" ry=\"18\"/>\n<ellipse fill=\"none\" stroke=\"#000000\" cx=\"235.5931\" cy=\"-105.1984\" rx=\"22\" ry=\"22\"/>\n<text text-anchor=\"middle\" x=\"235.5931\" y=\"-101.4984\" font-family=\"Times,serif\" font-size=\"14.00\" fill=\"#000000\">f</text>\n</g>\n<!-- ta -->\n<g id=\"node4\" class=\"node\">\n<title>ta</title>\n<ellipse fill=\"none\" stroke=\"#000000\" cx=\"151.3947\" cy=\"-192.1984\" rx=\"18\" ry=\"18\"/>\n<text text-anchor=\"middle\" x=\"151.3947\" y=\"-188.4984\" font-family=\"Times,serif\" font-size=\"14.00\" fill=\"#000000\">ta</text>\n</g>\n<!-- q0&#45;&gt;ta -->\n<g id=\"edge3\" class=\"edge\">\n<title>q0&#45;&gt;ta</title>\n<path fill=\"none\" stroke=\"#000000\" d=\"M83.2167,-123.2248C97.2932,-137.4656 116.9287,-157.3302 131.514,-172.0857\"/>\n<polygon fill=\"#000000\" stroke=\"#000000\" points=\"129.1054,-174.6278 138.6246,-179.2793 134.0838,-169.7068 129.1054,-174.6278\"/>\n<text text-anchor=\"middle\" x=\"111.6963\" y=\"-156.9984\" font-family=\"Times,serif\" font-size=\"14.00\" fill=\"#000000\">ε</text>\n</g>\n<!-- tc -->\n<g id=\"node5\" class=\"node\">\n<title>tc</title>\n<ellipse fill=\"none\" stroke=\"#000000\" cx=\"151.3947\" cy=\"-105.1984\" rx=\"18\" ry=\"18\"/>\n<text text-anchor=\"middle\" x=\"151.3947\" y=\"-101.4984\" font-family=\"Times,serif\" font-size=\"14.00\" fill=\"#000000\">tc</text>\n</g>\n<!-- q0&#45;&gt;tc -->\n<g id=\"edge2\" class=\"edge\">\n<title>q0&#45;&gt;tc</title>\n<path fill=\"none\" stroke=\"#000000\" d=\"M90.2719,-105.1984C100.5403,-105.1984 112.4966,-105.1984 123.0975,-105.1984\"/>\n<polygon fill=\"#000000\" stroke=\"#000000\" points=\"123.1341,-108.6985 133.134,-105.1984 123.134,-101.6985 123.1341,-108.6985\"/>\n<text text-anchor=\"middle\" x=\"111.6963\" y=\"-108.9984\" font-family=\"Times,serif\" font-size=\"14.00\" fill=\"#000000\">ε</text>\n</g>\n<!-- tb -->\n<g id=\"node6\" class=\"node\">\n<title>tb</title>\n<ellipse fill=\"none\" stroke=\"#000000\" cx=\"151.3947\" cy=\"-18.1984\" rx=\"18.399\" ry=\"18.399\"/>\n<text text-anchor=\"middle\" x=\"151.3947\" y=\"-14.4984\" font-family=\"Times,serif\" font-size=\"14.00\" fill=\"#000000\">tb</text>\n</g>\n<!-- q0&#45;&gt;tb -->\n<g id=\"edge4\" class=\"edge\">\n<title>q0&#45;&gt;tb</title>\n<path fill=\"none\" stroke=\"#000000\" d=\"M83.2167,-87.1719C97.2094,-73.0159 116.6952,-53.3028 131.253,-38.5751\"/>\n<polygon fill=\"#000000\" stroke=\"#000000\" points=\"133.8206,-40.9562 138.3614,-31.3837 128.8423,-36.0353 133.8206,-40.9562\"/>\n<text text-anchor=\"middle\" x=\"111.6963\" y=\"-64.9984\" font-family=\"Times,serif\" font-size=\"14.00\" fill=\"#000000\">ε</text>\n</g>\n<!-- ta&#45;&gt;f -->\n<g id=\"edge8\" class=\"edge\">\n<title>ta&#45;&gt;f</title>\n<path fill=\"none\" stroke=\"#000000\" d=\"M164.1826,-178.985C177.071,-165.6677 197.2356,-144.8322 212.8547,-128.6933\"/>\n<polygon fill=\"#000000\" stroke=\"#000000\" points=\"215.666,-130.8213 220.1054,-121.2014 210.6359,-125.9532 215.666,-130.8213\"/>\n<text text-anchor=\"middle\" x=\"191.5931\" y=\"-156.9984\" font-family=\"Times,serif\" font-size=\"14.00\" fill=\"#000000\">a</text>\n</g>\n<!-- ta&#45;&gt;ta -->\n<g id=\"edge5\" class=\"edge\">\n<title>ta&#45;&gt;ta</title>\n<path fill=\"none\" stroke=\"#000000\" d=\"M144.6611,-209.2357C143.2869,-219.0563 145.5314,-228.1984 151.3947,-228.1984 155.0592,-228.1984 157.3102,-224.6273 158.1476,-219.5513\"/>\n<polygon fill=\"#000000\" stroke=\"#000000\" points=\"161.6471,-219.2291 158.1283,-209.2357 154.6471,-219.2423 161.6471,-219.2291\"/>\n<text text-anchor=\"middle\" x=\"151.3947\" y=\"-231.9984\" font-family=\"Times,serif\" font-size=\"14.00\" fill=\"#000000\">b,c</text>\n</g>\n<!-- tc&#45;&gt;f -->\n<g id=\"edge10\" class=\"edge\">\n<title>tc&#45;&gt;f</title>\n<path fill=\"none\" stroke=\"#000000\" d=\"M169.6645,-105.1984C179.5145,-105.1984 191.9596,-105.1984 203.3769,-105.1984\"/>\n<polygon fill=\"#000000\" stroke=\"#000000\" points=\"203.4693,-108.6985 213.4692,-105.1984 203.4692,-101.6985 203.4693,-108.6985\"/>\n<text text-anchor=\"middle\" x=\"191.5931\" y=\"-108.9984\" font-family=\"Times,serif\" font-size=\"14.00\" fill=\"#000000\">c</text>\n</g>\n<!-- tc&#45;&gt;tc -->\n<g id=\"edge7\" class=\"edge\">\n<title>tc&#45;&gt;tc</title>\n<path fill=\"none\" stroke=\"#000000\" d=\"M144.6611,-122.2357C143.2869,-132.0563 145.5314,-141.1984 151.3947,-141.1984 155.0592,-141.1984 157.3102,-137.6273 158.1476,-132.5513\"/>\n<polygon fill=\"#000000\" stroke=\"#000000\" points=\"161.6471,-132.2291 158.1283,-122.2357 154.6471,-132.2423 161.6471,-132.2291\"/>\n<text text-anchor=\"middle\" x=\"151.3947\" y=\"-144.9984\" font-family=\"Times,serif\" font-size=\"14.00\" fill=\"#000000\">a,b</text>\n</g>\n<!-- tb&#45;&gt;f -->\n<g id=\"edge9\" class=\"edge\">\n<title>tb&#45;&gt;f</title>\n<path fill=\"none\" stroke=\"#000000\" d=\"M164.1826,-31.4118C177.071,-44.7291 197.2356,-65.5646 212.8547,-81.7034\"/>\n<polygon fill=\"#000000\" stroke=\"#000000\" points=\"210.6359,-84.4435 220.1054,-89.1953 215.666,-79.5754 210.6359,-84.4435\"/>\n<text text-anchor=\"middle\" x=\"191.5931\" y=\"-64.9984\" font-family=\"Times,serif\" font-size=\"14.00\" fill=\"#000000\">b</text>\n</g>\n<!-- tb&#45;&gt;tb -->\n<g id=\"edge6\" class=\"edge\">\n<title>tb&#45;&gt;tb</title>\n<path fill=\"none\" stroke=\"#000000\" d=\"M144.6611,-35.3296C143.2869,-45.2043 145.5314,-54.3968 151.3947,-54.3968 155.0592,-54.3968 157.3102,-50.806 158.1476,-45.702\"/>\n<polygon fill=\"#000000\" stroke=\"#000000\" points=\"161.647,-45.323 158.1283,-35.3296 154.647,-45.3361 161.647,-45.323\"/>\n<text text-anchor=\"middle\" x=\"151.3947\" y=\"-58.1968\" font-family=\"Times,serif\" font-size=\"14.00\" fill=\"#000000\">a,c</text>\n</g>\n</g>\n</svg>\n"
          },
          "metadata": {},
          "execution_count": 4
        }
      ]
    },
    {
      "cell_type": "markdown",
      "metadata": {
        "id": "UDIB4qHrmpy1"
      },
      "source": [
        "# Exercícios\n",
        "\n",
        "1. Construa um AFD para a seguinte linguagem sobre o alfabeto $\\Sigma = \\{0, 1\\}$: $\\{w \\in \\{0, 1\\}^* \\mid $ cada 0 de $w$ é imediatamente seguido de, no mínimo, dois 1's$\\}.$"
      ]
    },
    {
      "cell_type": "markdown",
      "metadata": {
        "id": "KtD1cERXTjzK"
      },
      "source": [
        "2. Construa um AFD para a seguinte linguagem sobre o alfabeto $\\Sigma = \\{0, 1\\}$: O conjunto das palavras com no maximo três 1’s."
      ]
    },
    {
      "cell_type": "markdown",
      "metadata": {
        "id": "r6vEMro0Csdk"
      },
      "source": [
        "3. Construa um AFN sobre $\\Sigma = \\{a, b, c\\}$ que reconheça o conjunto das palavras em que o último símbolo seja diferente do primeiro.\n"
      ]
    },
    {
      "cell_type": "markdown",
      "metadata": {
        "id": "jfDkYzQMUljV"
      },
      "source": [
        "4. Construa um AFN sobre $\\Sigma = \\{a, b, c\\}$ que reconheça o conjunto das palavras com sufixo $abc$ ou $bca$. "
      ]
    },
    {
      "cell_type": "markdown",
      "metadata": {
        "id": "haz4BKsH1af7"
      },
      "source": [
        "5. Para cada um dos problemas resolvidos URI, apresente:\n",
        "\n",
        "*   Uma **brevíssima** descrição do problema, em suas próprias palavras.\n",
        "*   A modelagem do problema utilizando um AFD. Utilize os recursos do Google Colab para visualizar o autômato.\n",
        "*   A solução em Python utilizando os conceitos expostos em aula.\n",
        "*   Utilize blocos de texto e código separados para cada atividade. \n",
        "\n"
      ]
    }
  ]
}