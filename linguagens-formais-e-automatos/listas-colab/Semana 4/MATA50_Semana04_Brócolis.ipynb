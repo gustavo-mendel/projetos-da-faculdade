{
  "nbformat": 4,
  "nbformat_minor": 0,
  "metadata": {
    "colab": {
      "name": "MATA50-Semana04-Brócolis.ipynb",
      "provenance": [],
      "collapsed_sections": []
    },
    "kernelspec": {
      "display_name": "Python 3",
      "name": "python3"
    },
    "language_info": {
      "name": "python"
    }
  },
  "cells": [
    {
      "cell_type": "markdown",
      "metadata": {
        "id": "EC51xd8L1WzV"
      },
      "source": [
        "# MATA50 - Exercícios da Semana 04\n",
        "\n",
        "*   Grupo: Brócolis\n",
        "*   Autores: Lucas Morais Barreto (Responsável), Gustavo Mendel Queiroz e Souza\n",
        "\n"
      ]
    },
    {
      "cell_type": "markdown",
      "metadata": {
        "id": "9_9I0TfW94ov"
      },
      "source": [
        "# Instruções (não apagar)\n",
        "1.   Após criar este notebook, altere o nome do notebook/documentação incluindo o nome do vegetal do seu grupo. Por exemplo, se você é do grupo Carambola, altere o nome do notebook para \"MATA50-Semana04-Carambola.ipynb\"\n",
        "1. Compartilhe este documento com todos os membros do grupo (para participarem da elaboração deste documento). É importante que o notebook utilizado seja o mesmo compartilhado para que os registros de participação e colaboração fiquem salvos no histórico.\n",
        "1.   Incluia o nome completo dos autores na lista de autores que auxiliaram na elaboração deste notebook. Destaque o responsável como sendo o(a) primeiro(a) autor(a).\n",
        "1. Utilize os recursos de blocos de texto e de código para adicionar as suas respostas, sem alterar os blocos de texto e código existente. Não economize, esses blocos são de graça.\n",
        "1. Ao concluir a atividade, compartilhe o notebook com januario.ufba@gmail.com (dando permisão para edição) e deixando o aviso de notificação marcado, para que eu receba o seu e-mail.\n",
        "\n"
      ]
    },
    {
      "cell_type": "code",
      "metadata": {
        "id": "TM_UtFZ-BmZ8"
      },
      "source": [
        "#@title Implementação dos modelos em Python\n",
        "#@markdown Esta célula contém a implementação em Python 3 dos principais modelos de computação vistos na disciplina de Linguagens Formais e Autômatos. \n",
        "#@markdown Não é necessário conhecer o código aqui implementado ou mesmo ter um conhecimento profundo da linguagem Python. Acompanhe os exemplos e experimente construir seus próprios modelos.\n",
        " \n",
        "#@markdown >*Execute esta célula (`ctrl+enter` ou clicando no botão ao lado) para que o ambiente seja carregado com as classes implementadas.*\n",
        " \n",
        "from graphviz import Digraph\n",
        "import re\n",
        " \n",
        "class AP: \n",
        "    def __init__(self, Q={}, Sigma={}, Gamma={}, delta={}, q0=0, F={}):\n",
        "        self.states = Q\n",
        "        self.inputAlphabet = Sigma\n",
        "        self.stackAlphabet = Gamma\n",
        "        self.transition = delta\n",
        "        self.startState = q0\n",
        "        self.acceptStates = F \n",
        " \n",
        "        self.initialize()\n",
        " \n",
        "    def initialize(self, input_string=\"\"):\n",
        "        self.traces = [[(self.startState,tuple(input_string),())]]\n",
        " \n",
        "    def check(self):\n",
        "        pass\n",
        "        \n",
        "    def hasNext(self):\n",
        "        return self.traces and (not self.acceptTraces())\n",
        "    \n",
        "    def acceptTraces(self):\n",
        "        return [t for t in self.traces if t[-1][1] == () and t[-1][0] in self.acceptStates]\n",
        " \n",
        "    def step(self):\n",
        "        updated_traces = []\n",
        "        for trace in self.traces:\n",
        "          s, string, stack = trace[-1]\n",
        "          A = {'', string[0]} if string else {''}\n",
        "          B = {'', stack[-1]} if stack else {''}\n",
        "          possible_transitions = [(s,a,b) for a in A for b in B if (s,a,b) in self.transition]          \n",
        "          for (s,a,b) in possible_transitions:  \n",
        "            for r,c in self.transition[s,a,b]:\n",
        "              nstring = string[1:] if a else string\n",
        "              nstack  = stack[:-1] if b else stack\n",
        "              nstack  = nstack+(c,) if c else nstack\n",
        "              if (not (r,nstring,nstack) in trace):\n",
        "                updated_traces.append(trace+[(r,nstring,nstack)])\n",
        "        self.traces = updated_traces\n",
        " \n",
        "    def run(self, input_string=0, max_steps=1000):        \n",
        "        while (self.hasNext()): \n",
        "          if max_steps == 0: \n",
        "            raise Exception(\"Timeout\")\n",
        "          self.step()\n",
        "          max_steps -= 1\n",
        "        return self.result()\n",
        " \n",
        "    def aceita(self, input_string=0):\n",
        "        self.initialize(input_string)\n",
        "        return self.run()\n",
        " \n",
        "    def result(self):\n",
        "        return True if self.acceptTraces() else (False if (not self.traces) else None)\n",
        "    \n",
        "    def visualizar(self):      \n",
        "        f = Digraph('finite_state_machine', filename='fsm.gv')\n",
        "        f.attr(rankdir='LR', size='8,5')\n",
        " \n",
        "        f.attr('node', shape='point')\n",
        "        f.node('')\n",
        "        \n",
        "        f.attr('node', shape='doublecircle')\n",
        "        for n in self.acceptStates:\n",
        "          f.node(str(n))\n",
        " \n",
        "        f.attr('node', shape='circle')\n",
        "        for n in self.states.difference(self.acceptStates):\n",
        "          f.node(str(n))\n",
        " \n",
        "        label = {}        \n",
        "        for (q,a,b) in self.transition:\n",
        "          for (r,c) in self.transition[q,a,b]:          \n",
        "            label[q,r] = label[q,r]+[(a,b,c)] if (q,r) in label else [(a,b,c)]\n",
        " \n",
        "        f.edge('', str(self.startState))\n",
        "        for (q,r) in label:\n",
        "          f.edge(str(q),str(r),label=self.graphviz_edge_label_format(label[q,r]))      \n",
        "          pass\n",
        "        \n",
        "        return f\n",
        "    \n",
        "    def graphviz_edge_label_format(self,labels=[]):\n",
        "        epsilon = \"\\u03BB\"\n",
        "        right_arrow = \"\\u2192\"\n",
        "        return '\\n'.join([(a if (a or a==0) else epsilon) + \",\" + (b if (b or b==0) else epsilon) + right_arrow + (c if (c or c==0) else epsilon) for (a,b,c) in labels])\n",
        "        # return '\\n'.join([(str(a) if a else epsilon) + \",\" + (str(b) if b else epsilon) + right_arrow + (str(c) if c else epsilon) for (a,b,c) in labels])\n",
        " \n",
        "class AFN(AP):\n",
        "  def __init__(self, Q={}, Sigma={}, delta={}, q0=0, F={}):\n",
        "        delta_pda = {}\n",
        "        for q,a in delta:\n",
        "          delta_pda[q,a,''] = {(r,'') for r in delta[q,a]}\n",
        "        super().__init__(Q,Sigma,{},delta_pda,q0,F)\n",
        "  \n",
        "  def graphviz_edge_label_format(self,labels):\n",
        "      epsilon = \"\\u03B5\"\n",
        "      return \",\".join([(str(a) if (a or a==0) else epsilon) for (a,b,c) in labels])\n",
        " \n",
        "class AFD(AFN):\n",
        "  def __init__(self, Q={}, Sigma={}, delta={}, q0=0, F={}):\n",
        "        delta_nfa = {}\n",
        "        for (q,a) in delta:\n",
        "          delta_nfa[q,a] = {delta[q,a]}\n",
        "        super().__init__(Q,Sigma,delta_nfa,q0,F)\n",
        " \n",
        "class ER:\n",
        "  def __init__(self,regex=None):  \n",
        "    if (regex == None):\n",
        "      self.regex = None\n",
        "    elif (re.match(\"^[a-zA-Z0-9\\(\\)\\|\\*]*$\", regex)):\n",
        "      self.regex = regex\n",
        "    else:\n",
        "      raise Exception(\"Invalid pattern\")\n",
        " \n",
        "  def gera(self, input_string):\n",
        "    if (self.regex == None):\n",
        "      return False\n",
        "    else:\n",
        "      return True if re.match(\"^\"+self.regex+\"$\",input_string) else False\n",
        " \n",
        "class GLC:\n",
        "  def __init__(self,V,Sigma,R,S):\n",
        "      self.variables = V\n",
        "      self.terminals = Sigma\n",
        "      # self.rules = R\n",
        "      self.rules = {(a, tuple(b)) for (a,b) in R}\n",
        "      self.start = S\n",
        " \n",
        "      self.derivation = []\n",
        "      self.chomsky = None\n",
        "  \n",
        "  def gera(self, string):\n",
        "      if (not self.chomsky):\n",
        "        self.chomsky = self.to_chomsky()        \n",
        "      G = self.chomsky\n",
        "      \n",
        "      if len(string) == 0: return (G.start,()) in G.rules\n",
        " \n",
        "      # CYK Algorithm\n",
        "      n = len(string)\n",
        "      P = [[[] for x in range(n - y)] for y in range(n)]\n",
        "      for i,c in enumerate(string):\n",
        "        for v in [a for (a,b) in G.rules if len(b) == 1 and c in b]:\n",
        "          P[0][i] += [v]\n",
        "      for l in range(2, n+1): # borda da iteração\n",
        "        for s in range(0, n+1-l): # coluna\n",
        "          for p in range(1, l): # linha\n",
        "            for u, v in [(a,b) for (a,b) in G.rules if len(b) == 2]:\n",
        "              if v[0] in P[p-1][s] and v[1] in P[l-p-1][s+p]:\n",
        "                P[l-1][s] += [u]\n",
        "      return G.start in P[-1][0]\n",
        " \n",
        "  def print(self):\n",
        "      rightarrow = \"\\u2192\"\n",
        "      print(self.start,rightarrow, '|'.join([''.join(y) for x,y in self.rules if x == S]))\n",
        "      for v in sorted(self.variables.difference(self.start)): \n",
        "        print(v,rightarrow, '|'.join([''.join(y) for x,y in self.rules if x == v]))\n",
        " \n",
        "  def replace_eps(self, v, l):\n",
        "    if not l: return {()}\n",
        "    result = {(l[0],) + s for s in self.replace_eps(v, tuple(l[1:]))}\n",
        "    if l[0] == v:\n",
        "      result.update({tuple(s[1:]) for s in result})\n",
        "    return result   \n",
        " \n",
        "  def to_chomsky(self):\n",
        "      n_state = 0\n",
        "      \n",
        "      S = '<{}>'.format(n_state)\n",
        "      Sigma = self.terminals \n",
        "      V = {S}.union(self.variables)\n",
        "      R = {(S,(self.start,))}.union(self.rules)\n",
        " \n",
        "      target = {alpha for alpha in self.variables if (alpha,()) in R}\n",
        "      while (target):\n",
        "        for e in target:\n",
        "          rules = {(alpha,beta) for (alpha,beta) in R if e in beta}\n",
        "          for (a,b) in rules:\n",
        "            R.update({(a, beta) for beta in self.replace_eps(e,b)})\n",
        "          R.discard((e,()))\n",
        "        target = {alpha for alpha in self.variables if (alpha,()) in R}\n",
        "      \n",
        "      target = {(a,b) for (a,b) in R if len(b) == 1 and b[0] in V}\n",
        "      while (target):\n",
        "        for u,v in target:\n",
        "          rules = {b for (a,b) in R if a == v[0]}\n",
        "          R.update({(u,b) for b in rules})\n",
        "          R.discard((u,v))\n",
        "        target = {(a,b) for (a,b) in R if len(b) == 1 and b[0] in V}\n",
        "      \n",
        "      target = {(alpha,beta) for (alpha,beta) in R if len(beta) > 2}\n",
        "      while(target):\n",
        "        for u,v in target:\n",
        "          n_state += 1\n",
        "          state = '<{}>'.format(n_state)\n",
        "          V.update({state})\n",
        "          R.update({(u,(v[0],state)),(state, tuple(v[1:]))})\n",
        "          R.discard((u,v))\n",
        "        target = {(alpha,beta) for (alpha,beta) in R if len(beta) > 2}\n",
        " \n",
        "      target = {(alpha,beta) for (alpha,beta) in R if len(beta) == 2}\n",
        "      for u,v in target:\n",
        "        n = list(v)\n",
        "        for i in range(2):\n",
        "          if v[i] in Sigma:\n",
        "            R.discard((u,(n[0],n[1])))\n",
        "            n_state += 1\n",
        "            n[i] = '<{}>'.format(n_state)\n",
        "            V.update({n[i]})\n",
        "            R.update({(u,(n[0],n[1]))})\n",
        "            R.update({(n[i],(v[i],))})\n",
        " \n",
        "      return GLC(V,Sigma,R,S)"
      ],
      "execution_count": null,
      "outputs": []
    },
    {
      "cell_type": "markdown",
      "metadata": {
        "id": "UDIB4qHrmpy1"
      },
      "source": [
        "# Exercícios\n",
        "\n",
        "1. Construa um AFD para a seguinte linguagem sobre o alfabeto $\\Sigma = \\{0, 1\\}$: $\\{w \\in \\{0, 1\\}^* \\mid $ cada 0 de $w$ é imediatamente seguido de, no mínimo, dois 1's$\\}.$"
      ]
    },
    {
      "cell_type": "code",
      "metadata": {
        "colab": {
          "base_uri": "https://localhost:8080/",
          "height": 202
        },
        "id": "sIfPDDfYpU_e",
        "outputId": "48b4e06d-2e92-497e-fcfb-bed2afd3d2b3"
      },
      "source": [
        "#@title Q.01\n",
        "\n",
        "#Q = Estados \n",
        "Q = { 'q0',  '0'  , '01' , '011', 'f'}     \n",
        "\n",
        "Sigma = {'0','1'} #Alfabeto\n",
        "delta = {         #Função de transição\n",
        "  ('q0','0'):'0',\n",
        "  ('q0','1'):'q0', \n",
        "  ('0','0'):'f',   #False\n",
        "  ('0','1'):'01',\n",
        "  ('01','0'):'f', #False\n",
        "  ('01','1'):'011', \n",
        "  ('011',''):'q0', \n",
        "}\n",
        "\n",
        "q0 = 'q0'           #Estado Inicial\n",
        "F = {'011', 'q0'}   #Estado Final\n",
        " \n",
        "M = AFD(Q,Sigma,delta,q0,F)\n",
        "print(M.aceita(\"110111011\"))\n",
        "M.visualizar()\n"
      ],
      "execution_count": null,
      "outputs": [
        {
          "name": "stdout",
          "output_type": "stream",
          "text": [
            "True\n"
          ]
        },
        {
          "data": {
            "image/svg+xml": "<?xml version=\"1.0\" encoding=\"UTF-8\" standalone=\"no\"?>\n<!DOCTYPE svg PUBLIC \"-//W3C//DTD SVG 1.1//EN\"\n \"http://www.w3.org/Graphics/SVG/1.1/DTD/svg11.dtd\">\n<!-- Generated by graphviz version 2.40.1 (20161225.0304)\n -->\n<!-- Title: finite_state_machine Pages: 1 -->\n<svg width=\"365pt\" height=\"123pt\"\n viewBox=\"0.00 0.00 365.19 122.80\" xmlns=\"http://www.w3.org/2000/svg\" xmlns:xlink=\"http://www.w3.org/1999/xlink\">\n<g id=\"graph0\" class=\"graph\" transform=\"scale(1 1) rotate(0) translate(4 118.7982)\">\n<title>finite_state_machine</title>\n<polygon fill=\"#ffffff\" stroke=\"transparent\" points=\"-4,4 -4,-118.7982 361.1882,-118.7982 361.1882,4 -4,4\"/>\n<g id=\"node1\" class=\"node\">\n<title></title>\n<ellipse fill=\"#000000\" stroke=\"#000000\" cx=\"1.8\" cy=\"-24.7982\" rx=\"1.8\" ry=\"1.8\"/>\n</g>\n<!-- q0 -->\n<g id=\"node2\" class=\"node\">\n<title>q0</title>\n<ellipse fill=\"none\" stroke=\"#000000\" cx=\"65.3982\" cy=\"-24.7982\" rx=\"20.6302\" ry=\"20.6302\"/>\n<ellipse fill=\"none\" stroke=\"#000000\" cx=\"65.3982\" cy=\"-24.7982\" rx=\"24.5979\" ry=\"24.5979\"/>\n<text text-anchor=\"middle\" x=\"65.3982\" y=\"-21.0982\" font-family=\"Times,serif\" font-size=\"14.00\" fill=\"#000000\">q0</text>\n</g>\n<!-- &#45;&gt;q0 -->\n<g id=\"edge1\" class=\"edge\">\n<title>&#45;&gt;q0</title>\n<path fill=\"none\" stroke=\"#000000\" d=\"M3.6348,-24.7982C7.8563,-24.7982 18.7828,-24.7982 30.2933,-24.7982\"/>\n<polygon fill=\"#000000\" stroke=\"#000000\" points=\"30.4051,-28.2983 40.4051,-24.7982 30.4051,-21.2983 30.4051,-28.2983\"/>\n</g>\n<!-- q0&#45;&gt;q0 -->\n<g id=\"edge3\" class=\"edge\">\n<title>q0&#45;&gt;q0</title>\n<path fill=\"none\" stroke=\"#000000\" d=\"M57.6174,-48.5643C56.9803,-58.8176 59.5739,-67.5963 65.3982,-67.5963 69.1293,-67.5963 71.5346,-63.9935 72.614,-58.7083\"/>\n<polygon fill=\"#000000\" stroke=\"#000000\" points=\"76.1174,-58.7435 73.1789,-48.5643 69.1282,-58.3542 76.1174,-58.7435\"/>\n<text text-anchor=\"middle\" x=\"65.3982\" y=\"-71.3963\" font-family=\"Times,serif\" font-size=\"14.00\" fill=\"#000000\">1</text>\n</g>\n<!-- 0 -->\n<g id=\"node5\" class=\"node\">\n<title>0</title>\n<ellipse fill=\"none\" stroke=\"#000000\" cx=\"152.1963\" cy=\"-57.7982\" rx=\"18\" ry=\"18\"/>\n<text text-anchor=\"middle\" x=\"152.1963\" y=\"-54.0982\" font-family=\"Times,serif\" font-size=\"14.00\" fill=\"#000000\">0</text>\n</g>\n<!-- q0&#45;&gt;0 -->\n<g id=\"edge2\" class=\"edge\">\n<title>q0&#45;&gt;0</title>\n<path fill=\"none\" stroke=\"#000000\" d=\"M88.6585,-33.6415C100.114,-37.9969 113.975,-43.2667 125.8236,-47.7715\"/>\n<polygon fill=\"#000000\" stroke=\"#000000\" points=\"124.6152,-51.0564 135.2063,-51.3387 127.1029,-44.5133 124.6152,-51.0564\"/>\n<text text-anchor=\"middle\" x=\"112.1963\" y=\"-47.5982\" font-family=\"Times,serif\" font-size=\"14.00\" fill=\"#000000\">0</text>\n</g>\n<!-- 011 -->\n<g id=\"node3\" class=\"node\">\n<title>011</title>\n<ellipse fill=\"none\" stroke=\"#000000\" cx=\"328.4904\" cy=\"-28.7982\" rx=\"24.8692\" ry=\"24.8692\"/>\n<ellipse fill=\"none\" stroke=\"#000000\" cx=\"328.4904\" cy=\"-28.7982\" rx=\"28.897\" ry=\"28.897\"/>\n<text text-anchor=\"middle\" x=\"328.4904\" y=\"-25.0982\" font-family=\"Times,serif\" font-size=\"14.00\" fill=\"#000000\">011</text>\n</g>\n<!-- 011&#45;&gt;q0 -->\n<g id=\"edge8\" class=\"edge\">\n<title>011&#45;&gt;q0</title>\n<path fill=\"none\" stroke=\"#000000\" d=\"M299.7752,-28.3616C251.3211,-27.6249 153.4716,-26.1372 100.8299,-25.3369\"/>\n<polygon fill=\"#000000\" stroke=\"#000000\" points=\"100.6766,-21.8342 90.6245,-25.1817 100.5702,-28.8334 100.6766,-21.8342\"/>\n<text text-anchor=\"middle\" x=\"192.1963\" y=\"-30.5982\" font-family=\"Times,serif\" font-size=\"14.00\" fill=\"#000000\">ε</text>\n</g>\n<!-- 01 -->\n<g id=\"node4\" class=\"node\">\n<title>01</title>\n<ellipse fill=\"none\" stroke=\"#000000\" cx=\"234.9945\" cy=\"-57.7982\" rx=\"20.5982\" ry=\"20.5982\"/>\n<text text-anchor=\"middle\" x=\"234.9945\" y=\"-54.0982\" font-family=\"Times,serif\" font-size=\"14.00\" fill=\"#000000\">01</text>\n</g>\n<!-- 01&#45;&gt;011 -->\n<g id=\"edge7\" class=\"edge\">\n<title>01&#45;&gt;011</title>\n<path fill=\"none\" stroke=\"#000000\" d=\"M255.2817,-51.5056C265.7915,-48.2457 278.9617,-44.1607 291.2236,-40.3574\"/>\n<polygon fill=\"#000000\" stroke=\"#000000\" points=\"292.2802,-43.6942 300.7944,-37.3887 290.2064,-37.0084 292.2802,-43.6942\"/>\n<text text-anchor=\"middle\" x=\"277.7926\" y=\"-49.5982\" font-family=\"Times,serif\" font-size=\"14.00\" fill=\"#000000\">1</text>\n</g>\n<!-- f -->\n<g id=\"node6\" class=\"node\">\n<title>f</title>\n<ellipse fill=\"none\" stroke=\"#000000\" cx=\"328.4904\" cy=\"-96.7982\" rx=\"18\" ry=\"18\"/>\n<text text-anchor=\"middle\" x=\"328.4904\" y=\"-93.0982\" font-family=\"Times,serif\" font-size=\"14.00\" fill=\"#000000\">f</text>\n</g>\n<!-- 01&#45;&gt;f -->\n<g id=\"edge6\" class=\"edge\">\n<title>01&#45;&gt;f</title>\n<path fill=\"none\" stroke=\"#000000\" d=\"M254.3669,-65.879C268.2318,-71.6625 287.0573,-79.5151 302.2665,-85.8593\"/>\n<polygon fill=\"#000000\" stroke=\"#000000\" points=\"301.0736,-89.154 311.6503,-89.7736 303.7685,-82.6935 301.0736,-89.154\"/>\n<text text-anchor=\"middle\" x=\"277.7926\" y=\"-81.5982\" font-family=\"Times,serif\" font-size=\"14.00\" fill=\"#000000\">0</text>\n</g>\n<!-- 0&#45;&gt;01 -->\n<g id=\"edge5\" class=\"edge\">\n<title>0&#45;&gt;01</title>\n<path fill=\"none\" stroke=\"#000000\" d=\"M170.5719,-57.7982C180.32,-57.7982 192.5653,-57.7982 203.7552,-57.7982\"/>\n<polygon fill=\"#000000\" stroke=\"#000000\" points=\"204.0442,-61.2983 214.0442,-57.7982 204.0441,-54.2983 204.0442,-61.2983\"/>\n<text text-anchor=\"middle\" x=\"192.1963\" y=\"-61.5982\" font-family=\"Times,serif\" font-size=\"14.00\" fill=\"#000000\">1</text>\n</g>\n<!-- 0&#45;&gt;f -->\n<g id=\"edge4\" class=\"edge\">\n<title>0&#45;&gt;f</title>\n<path fill=\"none\" stroke=\"#000000\" d=\"M168.1764,-66.6072C174.3693,-69.9218 181.5558,-73.6481 188.1963,-76.7982 199.5327,-82.1758 202.1208,-84.3903 214.1963,-87.7982 239.9769,-95.0738 247.0802,-94.7925 273.7926,-96.7982 282.3152,-97.438 291.6057,-97.628 300.071,-97.6053\"/>\n<polygon fill=\"#000000\" stroke=\"#000000\" points=\"300.2759,-101.1032 310.2322,-97.4807 300.19,-94.1037 300.2759,-101.1032\"/>\n<text text-anchor=\"middle\" x=\"234.9945\" y=\"-99.5982\" font-family=\"Times,serif\" font-size=\"14.00\" fill=\"#000000\">0</text>\n</g>\n</g>\n</svg>\n",
            "text/plain": [
              "<graphviz.dot.Digraph at 0x7f76df5ef410>"
            ]
          },
          "execution_count": 4,
          "metadata": {},
          "output_type": "execute_result"
        }
      ]
    },
    {
      "cell_type": "markdown",
      "metadata": {
        "id": "KtD1cERXTjzK"
      },
      "source": [
        "2. Construa um AFD para a seguinte linguagem sobre o alfabeto $\\Sigma = \\{0, 1\\}$: O conjunto das palavras com no maximo três 1’s."
      ]
    },
    {
      "cell_type": "code",
      "metadata": {
        "colab": {
          "base_uri": "https://localhost:8080/",
          "height": 169
        },
        "id": "Nj20-bB2ydph",
        "outputId": "9be25688-99e4-4eae-c8f6-1daeb8b1f3c7"
      },
      "source": [
        "#@title Q.02\n",
        "\n",
        "#Q = Estados \n",
        "Q = { '0', '1', '11', '111', '1111' }   \n",
        "Sigma = {'0','1'} #Alfabeto\n",
        "delta = {         #Função de transição\n",
        "  ('0','0'):{'0'},\n",
        "  ('0','1'):{'1'},\n",
        "  ('1','0'):{'1'},\n",
        "  ('1','1'):{'11'},\n",
        "  ('11','0'):{'11'},\n",
        "  ('11','1'):{'111'},\n",
        "  ('111','0'):{'111'},\n",
        "\n",
        "  ('111','1'):{'1111'},\n",
        "\n",
        "  ('1111',''):{'1111'}\n",
        "\n",
        "}\n",
        "\n",
        "q0 = '0'           #Estado Inicial\n",
        "F = {'111', '11', '1', '0'}   #Estado Final\n",
        " \n",
        "M = AFN(Q,Sigma,delta,q0,F)\n",
        "print(M.aceita(\"1100000100\"))\n",
        "M.visualizar()"
      ],
      "execution_count": null,
      "outputs": [
        {
          "name": "stdout",
          "output_type": "stream",
          "text": [
            "True\n"
          ]
        },
        {
          "data": {
            "image/svg+xml": "<?xml version=\"1.0\" encoding=\"UTF-8\" standalone=\"no\"?>\n<!DOCTYPE svg PUBLIC \"-//W3C//DTD SVG 1.1//EN\"\n \"http://www.w3.org/Graphics/SVG/1.1/DTD/svg11.dtd\">\n<!-- Generated by graphviz version 2.40.1 (20161225.0304)\n -->\n<!-- Title: finite_state_machine Pages: 1 -->\n<svg width=\"475pt\" height=\"98pt\"\n viewBox=\"0.00 0.00 475.49 98.40\" xmlns=\"http://www.w3.org/2000/svg\" xmlns:xlink=\"http://www.w3.org/1999/xlink\">\n<g id=\"graph0\" class=\"graph\" transform=\"scale(1 1) rotate(0) translate(4 94.3956)\">\n<title>finite_state_machine</title>\n<polygon fill=\"#ffffff\" stroke=\"transparent\" points=\"-4,4 -4,-94.3956 471.487,-94.3956 471.487,4 -4,4\"/>\n<g id=\"node1\" class=\"node\">\n<title></title>\n<ellipse fill=\"#000000\" stroke=\"#000000\" cx=\"1.8\" cy=\"-28.6978\" rx=\"1.8\" ry=\"1.8\"/>\n</g>\n<!-- 0 -->\n<g id=\"node3\" class=\"node\">\n<title>0</title>\n<ellipse fill=\"none\" stroke=\"#000000\" cx=\"62.6\" cy=\"-28.6978\" rx=\"18\" ry=\"18\"/>\n<ellipse fill=\"none\" stroke=\"#000000\" cx=\"62.6\" cy=\"-28.6978\" rx=\"22\" ry=\"22\"/>\n<text text-anchor=\"middle\" x=\"62.6\" y=\"-24.9978\" font-family=\"Times,serif\" font-size=\"14.00\" fill=\"#000000\">0</text>\n</g>\n<!-- &#45;&gt;0 -->\n<g id=\"edge1\" class=\"edge\">\n<title>&#45;&gt;0</title>\n<path fill=\"none\" stroke=\"#000000\" d=\"M3.8229,-28.6978C8.2086,-28.6978 19.1055,-28.6978 30.3421,-28.6978\"/>\n<polygon fill=\"#000000\" stroke=\"#000000\" points=\"30.58,-32.1979 40.58,-28.6978 30.5799,-25.1979 30.58,-32.1979\"/>\n</g>\n<!-- 11 -->\n<g id=\"node2\" class=\"node\">\n<title>11</title>\n<ellipse fill=\"none\" stroke=\"#000000\" cx=\"240.7482\" cy=\"-28.6978\" rx=\"20.2726\" ry=\"20.2726\"/>\n<ellipse fill=\"none\" stroke=\"#000000\" cx=\"240.7482\" cy=\"-28.6978\" rx=\"24.2973\" ry=\"24.2973\"/>\n<text text-anchor=\"middle\" x=\"240.7482\" y=\"-24.9978\" font-family=\"Times,serif\" font-size=\"14.00\" fill=\"#000000\">11</text>\n</g>\n<!-- 11&#45;&gt;11 -->\n<g id=\"edge6\" class=\"edge\">\n<title>11&#45;&gt;11</title>\n<path fill=\"none\" stroke=\"#000000\" d=\"M232.258,-51.6756C231.4494,-61.9554 234.2795,-70.846 240.7482,-70.846 244.8923,-70.846 247.543,-67.1973 248.7004,-61.8721\"/>\n<polygon fill=\"#000000\" stroke=\"#000000\" points=\"252.2066,-61.8462 249.2384,-51.6756 245.2163,-61.4772 252.2066,-61.8462\"/>\n<text text-anchor=\"middle\" x=\"240.7482\" y=\"-74.646\" font-family=\"Times,serif\" font-size=\"14.00\" fill=\"#000000\">0</text>\n</g>\n<!-- 111 -->\n<g id=\"node4\" class=\"node\">\n<title>111</title>\n<ellipse fill=\"none\" stroke=\"#000000\" cx=\"337.5942\" cy=\"-28.6978\" rx=\"24.8692\" ry=\"24.8692\"/>\n<ellipse fill=\"none\" stroke=\"#000000\" cx=\"337.5942\" cy=\"-28.6978\" rx=\"28.897\" ry=\"28.897\"/>\n<text text-anchor=\"middle\" x=\"337.5942\" y=\"-24.9978\" font-family=\"Times,serif\" font-size=\"14.00\" fill=\"#000000\">111</text>\n</g>\n<!-- 11&#45;&gt;111 -->\n<g id=\"edge7\" class=\"edge\">\n<title>11&#45;&gt;111</title>\n<path fill=\"none\" stroke=\"#000000\" d=\"M265.1866,-28.6978C275.3113,-28.6978 287.3078,-28.6978 298.5938,-28.6978\"/>\n<polygon fill=\"#000000\" stroke=\"#000000\" points=\"298.6848,-32.1979 308.6848,-28.6978 298.6848,-25.1979 298.6848,-32.1979\"/>\n<text text-anchor=\"middle\" x=\"286.8964\" y=\"-32.4978\" font-family=\"Times,serif\" font-size=\"14.00\" fill=\"#000000\">1</text>\n</g>\n<!-- 0&#45;&gt;0 -->\n<g id=\"edge2\" class=\"edge\">\n<title>0&#45;&gt;0</title>\n<path fill=\"none\" stroke=\"#000000\" d=\"M55.2831,-49.6886C54.3798,-59.785 56.8188,-68.6978 62.6,-68.6978 66.3036,-68.6978 68.6356,-65.04 69.5958,-59.7565\"/>\n<polygon fill=\"#000000\" stroke=\"#000000\" points=\"73.0963,-59.7951 69.9169,-49.6886 66.0998,-59.5719 73.0963,-59.7951\"/>\n<text text-anchor=\"middle\" x=\"62.6\" y=\"-72.4978\" font-family=\"Times,serif\" font-size=\"14.00\" fill=\"#000000\">0</text>\n</g>\n<!-- 1 -->\n<g id=\"node5\" class=\"node\">\n<title>1</title>\n<ellipse fill=\"none\" stroke=\"#000000\" cx=\"150.6\" cy=\"-28.6978\" rx=\"18\" ry=\"18\"/>\n<ellipse fill=\"none\" stroke=\"#000000\" cx=\"150.6\" cy=\"-28.6978\" rx=\"22\" ry=\"22\"/>\n<text text-anchor=\"middle\" x=\"150.6\" y=\"-24.9978\" font-family=\"Times,serif\" font-size=\"14.00\" fill=\"#000000\">1</text>\n</g>\n<!-- 0&#45;&gt;1 -->\n<g id=\"edge3\" class=\"edge\">\n<title>0&#45;&gt;1</title>\n<path fill=\"none\" stroke=\"#000000\" d=\"M84.8061,-28.6978C94.9154,-28.6978 107.0782,-28.6978 118.1817,-28.6978\"/>\n<polygon fill=\"#000000\" stroke=\"#000000\" points=\"118.401,-32.1979 128.401,-28.6978 118.401,-25.1979 118.401,-32.1979\"/>\n<text text-anchor=\"middle\" x=\"106.6\" y=\"-32.4978\" font-family=\"Times,serif\" font-size=\"14.00\" fill=\"#000000\">1</text>\n</g>\n<!-- 111&#45;&gt;111 -->\n<g id=\"edge8\" class=\"edge\">\n<title>111&#45;&gt;111</title>\n<path fill=\"none\" stroke=\"#000000\" d=\"M328.2559,-56.0384C327.8408,-66.6094 330.9536,-75.3956 337.5942,-75.3956 341.9521,-75.3956 344.7907,-71.6117 346.11,-66.0227\"/>\n<polygon fill=\"#000000\" stroke=\"#000000\" points=\"349.5996,-66.2921 346.9326,-56.0384 342.6232,-65.7172 349.5996,-66.2921\"/>\n<text text-anchor=\"middle\" x=\"337.5942\" y=\"-79.1956\" font-family=\"Times,serif\" font-size=\"14.00\" fill=\"#000000\">0</text>\n</g>\n<!-- 1111 -->\n<g id=\"node6\" class=\"node\">\n<title>1111</title>\n<ellipse fill=\"none\" stroke=\"#000000\" cx=\"438.8895\" cy=\"-28.6978\" rx=\"28.6953\" ry=\"28.6953\"/>\n<text text-anchor=\"middle\" x=\"438.8895\" y=\"-24.9978\" font-family=\"Times,serif\" font-size=\"14.00\" fill=\"#000000\">1111</text>\n</g>\n<!-- 111&#45;&gt;1111 -->\n<g id=\"edge9\" class=\"edge\">\n<title>111&#45;&gt;1111</title>\n<path fill=\"none\" stroke=\"#000000\" d=\"M366.3504,-28.6978C376.7225,-28.6978 388.6113,-28.6978 399.7221,-28.6978\"/>\n<polygon fill=\"#000000\" stroke=\"#000000\" points=\"400.0614,-32.1979 410.0614,-28.6978 400.0614,-25.1979 400.0614,-32.1979\"/>\n<text text-anchor=\"middle\" x=\"388.292\" y=\"-32.4978\" font-family=\"Times,serif\" font-size=\"14.00\" fill=\"#000000\">1</text>\n</g>\n<!-- 1&#45;&gt;11 -->\n<g id=\"edge5\" class=\"edge\">\n<title>1&#45;&gt;11</title>\n<path fill=\"none\" stroke=\"#000000\" d=\"M172.8838,-28.6978C182.9199,-28.6978 195.0016,-28.6978 206.1723,-28.6978\"/>\n<polygon fill=\"#000000\" stroke=\"#000000\" points=\"206.5068,-32.1979 216.5068,-28.6978 206.5067,-25.1979 206.5068,-32.1979\"/>\n<text text-anchor=\"middle\" x=\"194.6\" y=\"-32.4978\" font-family=\"Times,serif\" font-size=\"14.00\" fill=\"#000000\">1</text>\n</g>\n<!-- 1&#45;&gt;1 -->\n<g id=\"edge4\" class=\"edge\">\n<title>1&#45;&gt;1</title>\n<path fill=\"none\" stroke=\"#000000\" d=\"M142.5937,-49.2786C141.4859,-59.5425 144.1547,-68.6978 150.6,-68.6978 154.729,-68.6978 157.3082,-64.9405 158.3374,-59.5414\"/>\n<polygon fill=\"#000000\" stroke=\"#000000\" points=\"161.8431,-59.3669 158.6063,-49.2786 154.8455,-59.1835 161.8431,-59.3669\"/>\n<text text-anchor=\"middle\" x=\"150.6\" y=\"-72.4978\" font-family=\"Times,serif\" font-size=\"14.00\" fill=\"#000000\">0</text>\n</g>\n<!-- 1111&#45;&gt;1111 -->\n<g id=\"edge10\" class=\"edge\">\n<title>1111&#45;&gt;1111</title>\n<path fill=\"none\" stroke=\"#000000\" d=\"M429.5511,-55.9797C429.1361,-66.5279 432.2489,-75.2953 438.8895,-75.2953 443.1437,-75.2953 445.95,-71.6971 447.3085,-66.3377\"/>\n<polygon fill=\"#000000\" stroke=\"#000000\" points=\"450.8299,-66.25 448.2279,-55.9797 443.8574,-65.631 450.8299,-66.25\"/>\n<text text-anchor=\"middle\" x=\"438.8895\" y=\"-79.0953\" font-family=\"Times,serif\" font-size=\"14.00\" fill=\"#000000\">ε</text>\n</g>\n</g>\n</svg>\n",
            "text/plain": [
              "<graphviz.dot.Digraph at 0x7f6d7bcd3f50>"
            ]
          },
          "execution_count": 30,
          "metadata": {},
          "output_type": "execute_result"
        }
      ]
    },
    {
      "cell_type": "markdown",
      "metadata": {
        "id": "r6vEMro0Csdk"
      },
      "source": [
        "3. Construa um AFN sobre $\\Sigma = \\{a, b, c\\}$ que reconheça o conjunto das palavras em que o último símbolo seja diferente do primeiro.\n"
      ]
    },
    {
      "cell_type": "code",
      "metadata": {
        "colab": {
          "base_uri": "https://localhost:8080/",
          "height": 417
        },
        "id": "aiyxNWEvGsWt",
        "outputId": "38e92bf4-ca88-431c-8209-edc22185f38b"
      },
      "source": [
        "#@title Q.03\n",
        "\n",
        "#Q = Estados \n",
        "Q = { 'q0', 'fa', 'sa', 'fb', 'sb', 'fc', 'sc'}   \n",
        "\n",
        "Sigma = {'a','b', 'c'} #Alfabeto\n",
        "delta = {         #Função de transição\n",
        "\n",
        "  ('q0','a'):{'fa'},\n",
        "  ('q0','b'):{'fb'},\n",
        "  ('q0','c'):{'fc'},\n",
        "  \n",
        "  ('fa','a'):{'fa'}, \n",
        "  ('fa','b'):{'sa'}, \n",
        "  ('fa','c'):{'sa'},\n",
        "  ('sa','a'):{'fa'},\n",
        "  ('sa','b') :{'sa'},\n",
        "  ('sa','c') :{'sa'},\n",
        "  \n",
        "  ('fb','b'):{'fb'}, \n",
        "  ('fb','a'):{'sb'}, \n",
        "  ('fb','c'):{'sb'},\n",
        "  ('sb','b'):{'fb'},\n",
        "  ('sb','a') :{'sb'},\n",
        "  ('sb','c') :{'sb'},\n",
        "\n",
        "  \n",
        "  ('fc','c'):{'fc'}, \n",
        "  ('fc','a'):{'sc'}, \n",
        "  ('fc','b'):{'sc'},\n",
        "  ('sc','c'):{'fc'},\n",
        "  ('sc','a') :{'sc'},\n",
        "  ('sc','b') :{'sc'},\n",
        "  \n",
        "\n",
        "}\n",
        "\n",
        "q0 = 'q0'               #Estado Inicial\n",
        "F = {'sa', 'sb', 'sc'}   #Estado Final\n",
        " \n",
        "M = AFN(Q,Sigma,delta,q0,F)\n",
        "\n",
        "print(M.aceita(\"abaaabbbbba\"))\n",
        "M.visualizar()"
      ],
      "execution_count": null,
      "outputs": [
        {
          "name": "stdout",
          "output_type": "stream",
          "text": [
            "False\n"
          ]
        },
        {
          "data": {
            "image/svg+xml": "<?xml version=\"1.0\" encoding=\"UTF-8\" standalone=\"no\"?>\n<!DOCTYPE svg PUBLIC \"-//W3C//DTD SVG 1.1//EN\"\n \"http://www.w3.org/Graphics/SVG/1.1/DTD/svg11.dtd\">\n<!-- Generated by graphviz version 2.40.1 (20161225.0304)\n -->\n<!-- Title: finite_state_machine Pages: 1 -->\n<svg width=\"272pt\" height=\"284pt\"\n viewBox=\"0.00 0.00 271.59 284.05\" xmlns=\"http://www.w3.org/2000/svg\" xmlns:xlink=\"http://www.w3.org/1999/xlink\">\n<g id=\"graph0\" class=\"graph\" transform=\"scale(1 1) rotate(0) translate(4 280.0467)\">\n<title>finite_state_machine</title>\n<polygon fill=\"#ffffff\" stroke=\"transparent\" points=\"-4,4 -4,-280.0467 267.5896,-280.0467 267.5896,4 -4,4\"/>\n<g id=\"node1\" class=\"node\">\n<title></title>\n<ellipse fill=\"#000000\" stroke=\"#000000\" cx=\"1.8\" cy=\"-109.8483\" rx=\"1.8\" ry=\"1.8\"/>\n</g>\n<!-- q0 -->\n<g id=\"node6\" class=\"node\">\n<title>q0</title>\n<ellipse fill=\"none\" stroke=\"#000000\" cx=\"61.3982\" cy=\"-109.8483\" rx=\"20.5982\" ry=\"20.5982\"/>\n<text text-anchor=\"middle\" x=\"61.3982\" y=\"-106.1483\" font-family=\"Times,serif\" font-size=\"14.00\" fill=\"#000000\">q0</text>\n</g>\n<!-- &#45;&gt;q0 -->\n<g id=\"edge1\" class=\"edge\">\n<title>&#45;&gt;q0</title>\n<path fill=\"none\" stroke=\"#000000\" d=\"M3.7829,-109.8483C8.1437,-109.8483 19.0721,-109.8483 30.2536,-109.8483\"/>\n<polygon fill=\"#000000\" stroke=\"#000000\" points=\"30.4123,-113.3484 40.4123,-109.8483 30.4122,-106.3484 30.4123,-113.3484\"/>\n</g>\n<!-- sa -->\n<g id=\"node2\" class=\"node\">\n<title>sa</title>\n<ellipse fill=\"none\" stroke=\"#000000\" cx=\"240.7413\" cy=\"-220.8483\" rx=\"18.3625\" ry=\"18.3625\"/>\n<ellipse fill=\"none\" stroke=\"#000000\" cx=\"240.7413\" cy=\"-220.8483\" rx=\"22.3986\" ry=\"22.3986\"/>\n<text text-anchor=\"middle\" x=\"240.7413\" y=\"-217.1483\" font-family=\"Times,serif\" font-size=\"14.00\" fill=\"#000000\">sa</text>\n</g>\n<!-- sa&#45;&gt;sa -->\n<g id=\"edge8\" class=\"edge\">\n<title>sa&#45;&gt;sa</title>\n<path fill=\"none\" stroke=\"#000000\" d=\"M232.0072,-241.5312C230.7987,-251.846 233.71,-261.0467 240.7413,-261.0467 245.2457,-261.0467 248.0593,-257.2708 249.1821,-251.8449\"/>\n<polygon fill=\"#000000\" stroke=\"#000000\" points=\"252.6896,-251.6267 249.4754,-241.5312 245.6924,-251.4276 252.6896,-251.6267\"/>\n<text text-anchor=\"middle\" x=\"240.7413\" y=\"-264.8467\" font-family=\"Times,serif\" font-size=\"14.00\" fill=\"#000000\">b,c</text>\n</g>\n<!-- fa -->\n<g id=\"node5\" class=\"node\">\n<title>fa</title>\n<ellipse fill=\"none\" stroke=\"#000000\" cx=\"145.0446\" cy=\"-196.8483\" rx=\"18\" ry=\"18\"/>\n<text text-anchor=\"middle\" x=\"145.0446\" y=\"-193.1483\" font-family=\"Times,serif\" font-size=\"14.00\" fill=\"#000000\">fa</text>\n</g>\n<!-- sa&#45;&gt;fa -->\n<g id=\"edge7\" class=\"edge\">\n<title>sa&#45;&gt;fa</title>\n<path fill=\"none\" stroke=\"#000000\" d=\"M225.7319,-204.0141C218.6442,-197.3107 209.6109,-190.3635 199.893,-186.8483 190.899,-183.595 180.6765,-184.343 171.5139,-186.4881\"/>\n<polygon fill=\"#000000\" stroke=\"#000000\" points=\"170.3459,-183.1834 161.7413,-189.3649 172.3226,-189.8985 170.3459,-183.1834\"/>\n<text text-anchor=\"middle\" x=\"190.893\" y=\"-190.6483\" font-family=\"Times,serif\" font-size=\"14.00\" fill=\"#000000\">a</text>\n</g>\n<!-- sb -->\n<g id=\"node3\" class=\"node\">\n<title>sb</title>\n<ellipse fill=\"none\" stroke=\"#000000\" cx=\"240.7413\" cy=\"-22.8483\" rx=\"18.724\" ry=\"18.724\"/>\n<ellipse fill=\"none\" stroke=\"#000000\" cx=\"240.7413\" cy=\"-22.8483\" rx=\"22.6977\" ry=\"22.6977\"/>\n<text text-anchor=\"middle\" x=\"240.7413\" y=\"-19.1483\" font-family=\"Times,serif\" font-size=\"14.00\" fill=\"#000000\">sb</text>\n</g>\n<!-- sb&#45;&gt;sb -->\n<g id=\"edge12\" class=\"edge\">\n<title>sb&#45;&gt;sb</title>\n<path fill=\"none\" stroke=\"#000000\" d=\"M231.961,-44.2843C230.877,-54.5949 233.8038,-63.6967 240.7413,-63.6967 245.1856,-63.6967 247.984,-59.9613 249.1363,-54.5657\"/>\n<polygon fill=\"#000000\" stroke=\"#000000\" points=\"252.6445,-54.4083 249.5216,-44.2843 245.6494,-54.1461 252.6445,-54.4083\"/>\n<text text-anchor=\"middle\" x=\"240.7413\" y=\"-67.4967\" font-family=\"Times,serif\" font-size=\"14.00\" fill=\"#000000\">a,c</text>\n</g>\n<!-- fb -->\n<g id=\"node8\" class=\"node\">\n<title>fb</title>\n<ellipse fill=\"none\" stroke=\"#000000\" cx=\"145.0446\" cy=\"-21.8483\" rx=\"18.6979\" ry=\"18.6979\"/>\n<text text-anchor=\"middle\" x=\"145.0446\" y=\"-18.1483\" font-family=\"Times,serif\" font-size=\"14.00\" fill=\"#000000\">fb</text>\n</g>\n<!-- sb&#45;&gt;fb -->\n<g id=\"edge11\" class=\"edge\">\n<title>sb&#45;&gt;fb</title>\n<path fill=\"none\" stroke=\"#000000\" d=\"M219.321,-14.8352C208.2068,-11.6058 194.3771,-9.0247 181.893,-10.8483 178.8211,-11.2971 175.6495,-11.9457 172.5156,-12.7068\"/>\n<polygon fill=\"#000000\" stroke=\"#000000\" points=\"171.495,-9.3578 162.802,-15.4144 173.3746,-16.1007 171.495,-9.3578\"/>\n<text text-anchor=\"middle\" x=\"190.893\" y=\"-14.6483\" font-family=\"Times,serif\" font-size=\"14.00\" fill=\"#000000\">b</text>\n</g>\n<!-- sc -->\n<g id=\"node4\" class=\"node\">\n<title>sc</title>\n<ellipse fill=\"none\" stroke=\"#000000\" cx=\"240.7413\" cy=\"-123.8483\" rx=\"18.3625\" ry=\"18.3625\"/>\n<ellipse fill=\"none\" stroke=\"#000000\" cx=\"240.7413\" cy=\"-123.8483\" rx=\"22.3986\" ry=\"22.3986\"/>\n<text text-anchor=\"middle\" x=\"240.7413\" y=\"-120.1483\" font-family=\"Times,serif\" font-size=\"14.00\" fill=\"#000000\">sc</text>\n</g>\n<!-- sc&#45;&gt;sc -->\n<g id=\"edge16\" class=\"edge\">\n<title>sc&#45;&gt;sc</title>\n<path fill=\"none\" stroke=\"#000000\" d=\"M232.0072,-144.5312C230.7987,-154.846 233.71,-164.0467 240.7413,-164.0467 245.2457,-164.0467 248.0593,-160.2708 249.1821,-154.8449\"/>\n<polygon fill=\"#000000\" stroke=\"#000000\" points=\"252.6896,-154.6267 249.4754,-144.5312 245.6924,-154.4276 252.6896,-154.6267\"/>\n<text text-anchor=\"middle\" x=\"240.7413\" y=\"-167.8467\" font-family=\"Times,serif\" font-size=\"14.00\" fill=\"#000000\">a,b</text>\n</g>\n<!-- fc -->\n<g id=\"node7\" class=\"node\">\n<title>fc</title>\n<ellipse fill=\"none\" stroke=\"#000000\" cx=\"145.0446\" cy=\"-109.8483\" rx=\"18\" ry=\"18\"/>\n<text text-anchor=\"middle\" x=\"145.0446\" y=\"-106.1483\" font-family=\"Times,serif\" font-size=\"14.00\" fill=\"#000000\">fc</text>\n</g>\n<!-- sc&#45;&gt;fc -->\n<g id=\"edge15\" class=\"edge\">\n<title>sc&#45;&gt;fc</title>\n<path fill=\"none\" stroke=\"#000000\" d=\"M221.409,-112.7604C214.8014,-109.5472 207.2243,-106.4699 199.893,-104.8483 191.2644,-102.9398 181.7172,-103.061 173.0394,-103.9951\"/>\n<polygon fill=\"#000000\" stroke=\"#000000\" points=\"172.397,-100.5516 163.0056,-105.4559 173.4056,-107.4786 172.397,-100.5516\"/>\n<text text-anchor=\"middle\" x=\"190.893\" y=\"-108.6483\" font-family=\"Times,serif\" font-size=\"14.00\" fill=\"#000000\">c</text>\n</g>\n<!-- fa&#45;&gt;sa -->\n<g id=\"edge6\" class=\"edge\">\n<title>fa&#45;&gt;sa</title>\n<path fill=\"none\" stroke=\"#000000\" d=\"M162.5969,-201.2503C175.6102,-204.5139 193.7024,-209.0513 209.2015,-212.9384\"/>\n<polygon fill=\"#000000\" stroke=\"#000000\" points=\"208.3817,-216.3411 218.9327,-215.3789 210.0845,-209.5514 208.3817,-216.3411\"/>\n<text text-anchor=\"middle\" x=\"190.893\" y=\"-213.6483\" font-family=\"Times,serif\" font-size=\"14.00\" fill=\"#000000\">b,c</text>\n</g>\n<!-- fa&#45;&gt;fa -->\n<g id=\"edge5\" class=\"edge\">\n<title>fa&#45;&gt;fa</title>\n<path fill=\"none\" stroke=\"#000000\" d=\"M138.0134,-213.5124C136.4509,-223.4733 138.7946,-232.8483 145.0446,-232.8483 149.0485,-232.8483 151.4493,-229.0008 152.247,-223.6166\"/>\n<polygon fill=\"#000000\" stroke=\"#000000\" points=\"155.7448,-223.4517 152.0759,-213.5124 148.7458,-223.5702 155.7448,-223.4517\"/>\n<text text-anchor=\"middle\" x=\"145.0446\" y=\"-236.6483\" font-family=\"Times,serif\" font-size=\"14.00\" fill=\"#000000\">a</text>\n</g>\n<!-- q0&#45;&gt;fa -->\n<g id=\"edge2\" class=\"edge\">\n<title>q0&#45;&gt;fa</title>\n<path fill=\"none\" stroke=\"#000000\" d=\"M75.9683,-125.0026C89.7252,-139.311 110.45,-160.8667 125.61,-176.6345\"/>\n<polygon fill=\"#000000\" stroke=\"#000000\" points=\"123.0963,-179.07 132.5502,-183.8529 128.1424,-174.2185 123.0963,-179.07\"/>\n<text text-anchor=\"middle\" x=\"104.1963\" y=\"-159.6483\" font-family=\"Times,serif\" font-size=\"14.00\" fill=\"#000000\">a</text>\n</g>\n<!-- q0&#45;&gt;fc -->\n<g id=\"edge4\" class=\"edge\">\n<title>q0&#45;&gt;fc</title>\n<path fill=\"none\" stroke=\"#000000\" d=\"M82.5057,-109.8483C92.8484,-109.8483 105.4524,-109.8483 116.6281,-109.8483\"/>\n<polygon fill=\"#000000\" stroke=\"#000000\" points=\"116.785,-113.3484 126.785,-109.8483 116.7849,-106.3484 116.785,-113.3484\"/>\n<text text-anchor=\"middle\" x=\"104.1963\" y=\"-113.6483\" font-family=\"Times,serif\" font-size=\"14.00\" fill=\"#000000\">c</text>\n</g>\n<!-- q0&#45;&gt;fb -->\n<g id=\"edge3\" class=\"edge\">\n<title>q0&#45;&gt;fb</title>\n<path fill=\"none\" stroke=\"#000000\" d=\"M75.9683,-94.5199C89.5643,-80.2162 109.9662,-58.7525 125.0758,-42.8565\"/>\n<polygon fill=\"#000000\" stroke=\"#000000\" points=\"127.6624,-45.2155 132.0151,-35.5561 122.5887,-40.3928 127.6624,-45.2155\"/>\n<text text-anchor=\"middle\" x=\"104.1963\" y=\"-72.6483\" font-family=\"Times,serif\" font-size=\"14.00\" fill=\"#000000\">b</text>\n</g>\n<!-- fc&#45;&gt;sc -->\n<g id=\"edge14\" class=\"edge\">\n<title>fc&#45;&gt;sc</title>\n<path fill=\"none\" stroke=\"#000000\" d=\"M161.5517,-117.5836C167.783,-120.1095 175.0274,-122.588 181.893,-123.8483 190.3944,-125.4089 199.7039,-125.938 208.3588,-125.947\"/>\n<polygon fill=\"#000000\" stroke=\"#000000\" points=\"208.5687,-129.4435 218.493,-125.7343 208.4218,-122.445 208.5687,-129.4435\"/>\n<text text-anchor=\"middle\" x=\"190.893\" y=\"-128.6483\" font-family=\"Times,serif\" font-size=\"14.00\" fill=\"#000000\">a,b</text>\n</g>\n<!-- fc&#45;&gt;fc -->\n<g id=\"edge13\" class=\"edge\">\n<title>fc&#45;&gt;fc</title>\n<path fill=\"none\" stroke=\"#000000\" d=\"M138.0134,-126.5124C136.4509,-136.4733 138.7946,-145.8483 145.0446,-145.8483 149.0485,-145.8483 151.4493,-142.0008 152.247,-136.6166\"/>\n<polygon fill=\"#000000\" stroke=\"#000000\" points=\"155.7448,-136.4517 152.0759,-126.5124 148.7458,-136.5702 155.7448,-136.4517\"/>\n<text text-anchor=\"middle\" x=\"145.0446\" y=\"-149.6483\" font-family=\"Times,serif\" font-size=\"14.00\" fill=\"#000000\">c</text>\n</g>\n<!-- fb&#45;&gt;sb -->\n<g id=\"edge10\" class=\"edge\">\n<title>fb&#45;&gt;sb</title>\n<path fill=\"none\" stroke=\"#000000\" d=\"M163.2866,-26.6159C169.1812,-27.9388 175.7746,-29.1918 181.893,-29.8483 190.475,-30.7692 199.7519,-30.3348 208.3466,-29.3346\"/>\n<polygon fill=\"#000000\" stroke=\"#000000\" points=\"209.0005,-32.7766 218.3994,-27.8868 208.0026,-25.8481 209.0005,-32.7766\"/>\n<text text-anchor=\"middle\" x=\"190.893\" y=\"-34.6483\" font-family=\"Times,serif\" font-size=\"14.00\" fill=\"#000000\">a,c</text>\n</g>\n<!-- fb&#45;&gt;fb -->\n<g id=\"edge9\" class=\"edge\">\n<title>fb&#45;&gt;fb</title>\n<path fill=\"none\" stroke=\"#000000\" d=\"M137.9035,-39.6685C136.5705,-49.5745 138.9509,-58.6967 145.0446,-58.6967 148.8532,-58.6967 151.2113,-55.1333 152.1188,-50.0424\"/>\n<polygon fill=\"#000000\" stroke=\"#000000\" points=\"155.621,-49.6909 152.1857,-39.6685 148.6212,-49.6457 155.621,-49.6909\"/>\n<text text-anchor=\"middle\" x=\"145.0446\" y=\"-62.4967\" font-family=\"Times,serif\" font-size=\"14.00\" fill=\"#000000\">b</text>\n</g>\n</g>\n</svg>\n",
            "text/plain": [
              "<graphviz.dot.Digraph at 0x7f6d7fdbb610>"
            ]
          },
          "execution_count": 23,
          "metadata": {},
          "output_type": "execute_result"
        }
      ]
    },
    {
      "cell_type": "markdown",
      "metadata": {
        "id": "jfDkYzQMUljV"
      },
      "source": [
        "4. Construa um AFN sobre $\\Sigma = \\{a, b, c\\}$ que reconheça o conjunto das palavras com sufixo $abc$ ou $bca$. "
      ]
    },
    {
      "cell_type": "code",
      "metadata": {
        "colab": {
          "base_uri": "https://localhost:8080/",
          "height": 185
        },
        "id": "sp3jLi9Y9-AE",
        "outputId": "05413bb8-6857-49b7-9498-88d127fd1310"
      },
      "source": [
        "#@title Q.04\n",
        "\n",
        "#Q = Estados \n",
        "Q = { 'q0', 'a', 'b', 'bc', 'ab', 'S'}   \n",
        "\n",
        "Sigma = {'a','b', 'c'} #Alfabeto\n",
        "delta = {         #Função de transição\n",
        "\n",
        "\n",
        "  ('q0','a'):{'a', 'q0'},\n",
        "  ('a', 'b'):{'ab'},\n",
        "  ('ab', 'c'):{'S'},\n",
        "\n",
        "  ('q0','b'):{'b', 'q0'},\n",
        "  ('b', 'c'):{'bc'},\n",
        "  ('bc', 'a'):{'S'},\n",
        "\n",
        "  ('q0','c'):{'q0'}\n",
        "}\n",
        "\n",
        "q0 = 'q0'           #Estado Inicial\n",
        "F = {'S'}   #Estado Final\n",
        " \n",
        "M = AFN(Q,Sigma,delta,q0,F)\n",
        "\n",
        "print(M.aceita(\"abcb\"))\n",
        "M.visualizar()\n"
      ],
      "execution_count": null,
      "outputs": [
        {
          "name": "stdout",
          "output_type": "stream",
          "text": [
            "False\n"
          ]
        },
        {
          "data": {
            "image/svg+xml": "<?xml version=\"1.0\" encoding=\"UTF-8\" standalone=\"no\"?>\n<!DOCTYPE svg PUBLIC \"-//W3C//DTD SVG 1.1//EN\"\n \"http://www.w3.org/Graphics/SVG/1.1/DTD/svg11.dtd\">\n<!-- Generated by graphviz version 2.40.1 (20161225.0304)\n -->\n<!-- Title: finite_state_machine Pages: 1 -->\n<svg width=\"340pt\" height=\"110pt\"\n viewBox=\"0.00 0.00 340.19 110.30\" xmlns=\"http://www.w3.org/2000/svg\" xmlns:xlink=\"http://www.w3.org/1999/xlink\">\n<g id=\"graph0\" class=\"graph\" transform=\"scale(1 1) rotate(0) translate(4 106.2964)\">\n<title>finite_state_machine</title>\n<polygon fill=\"#ffffff\" stroke=\"transparent\" points=\"-4,4 -4,-106.2964 336.1928,-106.2964 336.1928,4 -4,4\"/>\n<g id=\"node1\" class=\"node\">\n<title></title>\n<ellipse fill=\"#000000\" stroke=\"#000000\" cx=\"1.8\" cy=\"-48.4983\" rx=\"1.8\" ry=\"1.8\"/>\n</g>\n<!-- q0 -->\n<g id=\"node3\" class=\"node\">\n<title>q0</title>\n<ellipse fill=\"none\" stroke=\"#000000\" cx=\"61.3982\" cy=\"-48.4983\" rx=\"20.5982\" ry=\"20.5982\"/>\n<text text-anchor=\"middle\" x=\"61.3982\" y=\"-44.7983\" font-family=\"Times,serif\" font-size=\"14.00\" fill=\"#000000\">q0</text>\n</g>\n<!-- &#45;&gt;q0 -->\n<g id=\"edge1\" class=\"edge\">\n<title>&#45;&gt;q0</title>\n<path fill=\"none\" stroke=\"#000000\" d=\"M3.7829,-48.4983C8.1437,-48.4983 19.0721,-48.4983 30.2536,-48.4983\"/>\n<polygon fill=\"#000000\" stroke=\"#000000\" points=\"30.4123,-51.9984 40.4123,-48.4983 30.4122,-44.9984 30.4123,-51.9984\"/>\n</g>\n<!-- S -->\n<g id=\"node2\" class=\"node\">\n<title>S</title>\n<ellipse fill=\"none\" stroke=\"#000000\" cx=\"310.1928\" cy=\"-47.4983\" rx=\"18\" ry=\"18\"/>\n<ellipse fill=\"none\" stroke=\"#000000\" cx=\"310.1928\" cy=\"-47.4983\" rx=\"22\" ry=\"22\"/>\n<text text-anchor=\"middle\" x=\"310.1928\" y=\"-43.7983\" font-family=\"Times,serif\" font-size=\"14.00\" fill=\"#000000\">S</text>\n</g>\n<!-- q0&#45;&gt;q0 -->\n<g id=\"edge2\" class=\"edge\">\n<title>q0&#45;&gt;q0</title>\n<path fill=\"none\" stroke=\"#000000\" d=\"M54.4836,-68.4607C53.5269,-78.4162 55.8317,-87.2964 61.3982,-87.2964 64.8772,-87.2964 67.0821,-83.8276 68.013,-78.7954\"/>\n<polygon fill=\"#000000\" stroke=\"#000000\" points=\"71.5213,-78.558 68.3127,-68.4607 64.5242,-78.355 71.5213,-78.558\"/>\n<text text-anchor=\"middle\" x=\"61.3982\" y=\"-91.0964\" font-family=\"Times,serif\" font-size=\"14.00\" fill=\"#000000\">a,b,c</text>\n</g>\n<!-- b -->\n<g id=\"node5\" class=\"node\">\n<title>b</title>\n<ellipse fill=\"none\" stroke=\"#000000\" cx=\"144.1963\" cy=\"-75.4983\" rx=\"18\" ry=\"18\"/>\n<text text-anchor=\"middle\" x=\"144.1963\" y=\"-71.7983\" font-family=\"Times,serif\" font-size=\"14.00\" fill=\"#000000\">b</text>\n</g>\n<!-- q0&#45;&gt;b -->\n<g id=\"edge6\" class=\"edge\">\n<title>q0&#45;&gt;b</title>\n<path fill=\"none\" stroke=\"#000000\" d=\"M81.4413,-55.0342C92.1761,-58.5348 105.5491,-62.8956 117.1886,-66.6912\"/>\n<polygon fill=\"#000000\" stroke=\"#000000\" points=\"116.2688,-70.0726 126.8612,-69.8454 118.439,-63.4175 116.2688,-70.0726\"/>\n<text text-anchor=\"middle\" x=\"104.1963\" y=\"-67.2983\" font-family=\"Times,serif\" font-size=\"14.00\" fill=\"#000000\">b</text>\n</g>\n<!-- a -->\n<g id=\"node7\" class=\"node\">\n<title>a</title>\n<ellipse fill=\"none\" stroke=\"#000000\" cx=\"144.1963\" cy=\"-21.4983\" rx=\"18\" ry=\"18\"/>\n<text text-anchor=\"middle\" x=\"144.1963\" y=\"-17.7983\" font-family=\"Times,serif\" font-size=\"14.00\" fill=\"#000000\">a</text>\n</g>\n<!-- q0&#45;&gt;a -->\n<g id=\"edge3\" class=\"edge\">\n<title>q0&#45;&gt;a</title>\n<path fill=\"none\" stroke=\"#000000\" d=\"M81.0579,-41.1498C87.1646,-38.9359 93.9361,-36.5506 100.1963,-34.4983 105.5892,-32.7303 111.3885,-30.9395 116.9503,-29.2754\"/>\n<polygon fill=\"#000000\" stroke=\"#000000\" points=\"117.9586,-32.6272 126.5658,-26.4494 115.9847,-25.9112 117.9586,-32.6272\"/>\n<text text-anchor=\"middle\" x=\"104.1963\" y=\"-38.2983\" font-family=\"Times,serif\" font-size=\"14.00\" fill=\"#000000\">a</text>\n</g>\n<!-- bc -->\n<g id=\"node4\" class=\"node\">\n<title>bc</title>\n<ellipse fill=\"none\" stroke=\"#000000\" cx=\"225.6946\" cy=\"-76.4983\" rx=\"19.4965\" ry=\"19.4965\"/>\n<text text-anchor=\"middle\" x=\"225.6946\" y=\"-72.7983\" font-family=\"Times,serif\" font-size=\"14.00\" fill=\"#000000\">bc</text>\n</g>\n<!-- bc&#45;&gt;S -->\n<g id=\"edge8\" class=\"edge\">\n<title>bc&#45;&gt;S</title>\n<path fill=\"none\" stroke=\"#000000\" d=\"M244.4475,-70.0622C254.7794,-66.5163 267.8602,-62.0269 279.6282,-57.9881\"/>\n<polygon fill=\"#000000\" stroke=\"#000000\" points=\"280.7933,-61.2887 289.1155,-54.7321 278.5209,-54.6678 280.7933,-61.2887\"/>\n<text text-anchor=\"middle\" x=\"266.6928\" y=\"-66.2983\" font-family=\"Times,serif\" font-size=\"14.00\" fill=\"#000000\">a</text>\n</g>\n<!-- b&#45;&gt;bc -->\n<g id=\"edge7\" class=\"edge\">\n<title>b&#45;&gt;bc</title>\n<path fill=\"none\" stroke=\"#000000\" d=\"M162.2834,-75.7202C172.0917,-75.8406 184.4685,-75.9924 195.6784,-76.13\"/>\n<polygon fill=\"#000000\" stroke=\"#000000\" points=\"195.9044,-79.6329 205.9466,-76.256 195.9904,-72.6334 195.9044,-79.6329\"/>\n<text text-anchor=\"middle\" x=\"184.1963\" y=\"-79.2983\" font-family=\"Times,serif\" font-size=\"14.00\" fill=\"#000000\">c</text>\n</g>\n<!-- ab -->\n<g id=\"node6\" class=\"node\">\n<title>ab</title>\n<ellipse fill=\"none\" stroke=\"#000000\" cx=\"225.6946\" cy=\"-19.4983\" rx=\"19.4965\" ry=\"19.4965\"/>\n<text text-anchor=\"middle\" x=\"225.6946\" y=\"-15.7983\" font-family=\"Times,serif\" font-size=\"14.00\" fill=\"#000000\">ab</text>\n</g>\n<!-- ab&#45;&gt;S -->\n<g id=\"edge5\" class=\"edge\">\n<title>ab&#45;&gt;S</title>\n<path fill=\"none\" stroke=\"#000000\" d=\"M244.4475,-25.7124C254.6761,-29.1018 267.5988,-33.384 279.2748,-37.253\"/>\n<polygon fill=\"#000000\" stroke=\"#000000\" points=\"278.5222,-40.6907 289.1155,-40.5139 280.7241,-34.046 278.5222,-40.6907\"/>\n<text text-anchor=\"middle\" x=\"266.6928\" y=\"-37.2983\" font-family=\"Times,serif\" font-size=\"14.00\" fill=\"#000000\">c</text>\n</g>\n<!-- a&#45;&gt;ab -->\n<g id=\"edge4\" class=\"edge\">\n<title>a&#45;&gt;ab</title>\n<path fill=\"none\" stroke=\"#000000\" d=\"M162.2834,-21.0544C172.0917,-20.8137 184.4685,-20.51 195.6784,-20.2349\"/>\n<polygon fill=\"#000000\" stroke=\"#000000\" points=\"196.0355,-23.7273 205.9466,-19.9829 195.8637,-16.7294 196.0355,-23.7273\"/>\n<text text-anchor=\"middle\" x=\"184.1963\" y=\"-25.2983\" font-family=\"Times,serif\" font-size=\"14.00\" fill=\"#000000\">b</text>\n</g>\n</g>\n</svg>\n",
            "text/plain": [
              "<graphviz.dot.Digraph at 0x7f6d7bc81ed0>"
            ]
          },
          "execution_count": 36,
          "metadata": {},
          "output_type": "execute_result"
        }
      ]
    },
    {
      "cell_type": "markdown",
      "metadata": {
        "id": "haz4BKsH1af7"
      },
      "source": [
        "5. Para cada um dos problemas resolvidos URI, apresente:\n",
        "\n",
        "*   Uma **brevíssima** descrição do problema, em suas próprias palavras.\n",
        "*   A modelagem do problema utilizando um AFD. Utilize os recursos do Google Colab para visualizar o autômato.\n",
        "*   A solução em Python utilizando os conceitos expostos em aula.\n",
        "*   Utilize blocos de texto e código separados para cada atividade. \n",
        "\n"
      ]
    },
    {
      "cell_type": "markdown",
      "metadata": {
        "id": "PAMTpNS8nXLE"
      },
      "source": [
        "**1º) Questão URI: 2557 -  R+L=J**\n",
        "\n",
        "1.   Item da lista\n",
        "2.   Item da lista\n",
        "\n",
        "\n",
        "\n",
        "*Dado uma certa equação com 1 incógnita e 2 valores definidos, achar o resultado dessa incógnita. A equação tem formato*\n",
        "\n",
        "$$ R + L = J $$"
      ]
    },
    {
      "cell_type": "code",
      "metadata": {
        "colab": {
          "base_uri": "https://localhost:8080/",
          "height": 259
        },
        "id": "UPEPJMhcvIHn",
        "outputId": "e56e35e8-d254-4188-b387-c9b310b16c56"
      },
      "source": [
        "#@title R+L=J\n",
        "\n",
        "#Q = Estados \n",
        "Q = {'R', 'Rn', 'Rx', 'L', 'Ln', 'Lx', 'J', 'Jn', 'Jx'}   \n",
        "#Alfabeto\n",
        "Sigma = { '+', '=', 'R', 'L', 'J', '0', '1' } #os número estão sendo aqui representados por 0 ou 1  \n",
        "delta = {         #Função de transição\n",
        "\n",
        "  #R incognita\n",
        "  ('R','R'):{'Rx'}, \n",
        "  ('R','0'):{'Rn'}, \n",
        "  ('R','1'):{'Rn'},\n",
        "\n",
        "  ('Rn','0'):{'Rn'},\n",
        "  ('Rn','1'):{'Rn'},\n",
        "  \n",
        "  ('Rn','+'):{'L'},\n",
        "  ('Rx','+'):{'L'},\n",
        "\n",
        "\n",
        "  ('L','L'):{'Lx'},  #L incognita\n",
        "  ('L','0'):{'Ln'}, \n",
        "  ('L','1'):{'Ln'}, \n",
        "\n",
        "  ('Ln','0'):{'Ln'}, \n",
        "  ('Ln','1'):{'Ln'}, \n",
        "\n",
        "\n",
        "  ('Ln','='):{'J'}, \n",
        "  ('Lx','='):{'J'},  #L incognita\n",
        "\n",
        "\n",
        "  ('J','J'):{'Jx'},\n",
        "  ('J','0'):{'Jn'},\n",
        "  ('J','1'):{'Jn'},\n",
        "  ('Jn','0'):{'Jn'},\n",
        "  ('Jn','1'):{'Jn'}  \n",
        "  \n",
        "}\n",
        "\n",
        "q0 = 'R'           #Estado Inicial\n",
        "F = {'Jn', 'Jx'}   #Estado Final\n",
        " \n",
        "M = AFN(Q,Sigma,delta,q0,F)\n",
        "\n",
        "print(M.aceita(\"R+1=J\"))\n",
        "M.visualizar()\n"
      ],
      "execution_count": null,
      "outputs": [
        {
          "output_type": "stream",
          "name": "stdout",
          "text": [
            "True\n"
          ]
        },
        {
          "output_type": "execute_result",
          "data": {
            "text/plain": [
              "<graphviz.dot.Digraph at 0x7f76df5fedd0>"
            ],
            "image/svg+xml": "<?xml version=\"1.0\" encoding=\"UTF-8\" standalone=\"no\"?>\n<!DOCTYPE svg PUBLIC \"-//W3C//DTD SVG 1.1//EN\"\n \"http://www.w3.org/Graphics/SVG/1.1/DTD/svg11.dtd\">\n<!-- Generated by graphviz version 2.40.1 (20161225.0304)\n -->\n<!-- Title: finite_state_machine Pages: 1 -->\n<svg width=\"544pt\" height=\"166pt\"\n viewBox=\"0.00 0.00 544.39 165.95\" xmlns=\"http://www.w3.org/2000/svg\" xmlns:xlink=\"http://www.w3.org/1999/xlink\">\n<g id=\"graph0\" class=\"graph\" transform=\"scale(1 1) rotate(0) translate(4 161.9464)\">\n<title>finite_state_machine</title>\n<polygon fill=\"#ffffff\" stroke=\"transparent\" points=\"-4,4 -4,-161.9464 540.3889,-161.9464 540.3889,4 -4,4\"/>\n<g id=\"node1\" class=\"node\">\n<title></title>\n<ellipse fill=\"#000000\" stroke=\"#000000\" cx=\"1.8\" cy=\"-71.8483\" rx=\"1.8\" ry=\"1.8\"/>\n</g>\n<!-- R -->\n<g id=\"node10\" class=\"node\">\n<title>R</title>\n<ellipse fill=\"none\" stroke=\"#000000\" cx=\"58.6\" cy=\"-71.8483\" rx=\"18\" ry=\"18\"/>\n<text text-anchor=\"middle\" x=\"58.6\" y=\"-68.1483\" font-family=\"Times,serif\" font-size=\"14.00\" fill=\"#000000\">R</text>\n</g>\n<!-- &#45;&gt;R -->\n<g id=\"edge1\" class=\"edge\">\n<title>&#45;&gt;R</title>\n<path fill=\"none\" stroke=\"#000000\" d=\"M3.6898,-71.8483C8.0522,-71.8483 19.3107,-71.8483 30.5058,-71.8483\"/>\n<polygon fill=\"#000000\" stroke=\"#000000\" points=\"30.5696,-75.3484 40.5696,-71.8483 30.5696,-68.3484 30.5696,-75.3484\"/>\n</g>\n<!-- Jx -->\n<g id=\"node2\" class=\"node\">\n<title>Jx</title>\n<ellipse fill=\"none\" stroke=\"#000000\" cx=\"513.5406\" cy=\"-119.8483\" rx=\"18.724\" ry=\"18.724\"/>\n<ellipse fill=\"none\" stroke=\"#000000\" cx=\"513.5406\" cy=\"-119.8483\" rx=\"22.6977\" ry=\"22.6977\"/>\n<text text-anchor=\"middle\" x=\"513.5406\" y=\"-116.1483\" font-family=\"Times,serif\" font-size=\"14.00\" fill=\"#000000\">Jx</text>\n</g>\n<!-- Jn -->\n<g id=\"node3\" class=\"node\">\n<title>Jn</title>\n<ellipse fill=\"none\" stroke=\"#000000\" cx=\"513.5406\" cy=\"-22.8483\" rx=\"18.724\" ry=\"18.724\"/>\n<ellipse fill=\"none\" stroke=\"#000000\" cx=\"513.5406\" cy=\"-22.8483\" rx=\"22.6977\" ry=\"22.6977\"/>\n<text text-anchor=\"middle\" x=\"513.5406\" y=\"-19.1483\" font-family=\"Times,serif\" font-size=\"14.00\" fill=\"#000000\">Jn</text>\n</g>\n<!-- Jn&#45;&gt;Jn -->\n<g id=\"edge14\" class=\"edge\">\n<title>Jn&#45;&gt;Jn</title>\n<path fill=\"none\" stroke=\"#000000\" d=\"M504.4425,-43.8656C503.1837,-54.3472 506.2164,-63.6967 513.5406,-63.6967 518.3471,-63.6967 521.3054,-59.6702 522.4155,-53.9396\"/>\n<polygon fill=\"#000000\" stroke=\"#000000\" points=\"525.9163,-53.9407 522.6387,-43.8656 518.918,-53.7856 525.9163,-53.9407\"/>\n<text text-anchor=\"middle\" x=\"513.5406\" y=\"-67.4967\" font-family=\"Times,serif\" font-size=\"14.00\" fill=\"#000000\">0,1</text>\n</g>\n<!-- Ln -->\n<g id=\"node4\" class=\"node\">\n<title>Ln</title>\n<ellipse fill=\"none\" stroke=\"#000000\" cx=\"333.2442\" cy=\"-102.8483\" rx=\"21.3963\" ry=\"21.3963\"/>\n<text text-anchor=\"middle\" x=\"333.2442\" y=\"-99.1483\" font-family=\"Times,serif\" font-size=\"14.00\" fill=\"#000000\">Ln</text>\n</g>\n<!-- Ln&#45;&gt;Ln -->\n<g id=\"edge9\" class=\"edge\">\n<title>Ln&#45;&gt;Ln</title>\n<path fill=\"none\" stroke=\"#000000\" d=\"M325.6018,-123.1452C324.5444,-133.2675 327.0918,-142.2964 333.2442,-142.2964 337.1855,-142.2964 339.6474,-138.5909 340.6299,-133.2663\"/>\n<polygon fill=\"#000000\" stroke=\"#000000\" points=\"344.1318,-133.2307 340.8865,-123.1452 337.1341,-133.0532 344.1318,-133.2307\"/>\n<text text-anchor=\"middle\" x=\"333.2442\" y=\"-146.0964\" font-family=\"Times,serif\" font-size=\"14.00\" fill=\"#000000\">0,1</text>\n</g>\n<!-- J -->\n<g id=\"node9\" class=\"node\">\n<title>J</title>\n<ellipse fill=\"none\" stroke=\"#000000\" cx=\"417.6923\" cy=\"-71.8483\" rx=\"18\" ry=\"18\"/>\n<text text-anchor=\"middle\" x=\"417.6923\" y=\"-68.1483\" font-family=\"Times,serif\" font-size=\"14.00\" fill=\"#000000\">J</text>\n</g>\n<!-- Ln&#45;&gt;J -->\n<g id=\"edge10\" class=\"edge\">\n<title>Ln&#45;&gt;J</title>\n<path fill=\"none\" stroke=\"#000000\" d=\"M353.6867,-95.3441C364.8986,-91.2283 378.9321,-86.0768 390.9992,-81.6471\"/>\n<polygon fill=\"#000000\" stroke=\"#000000\" points=\"392.3866,-84.8662 400.568,-78.1345 389.9743,-78.295 392.3866,-84.8662\"/>\n<text text-anchor=\"middle\" x=\"377.1923\" y=\"-91.6483\" font-family=\"Times,serif\" font-size=\"14.00\" fill=\"#000000\">=</text>\n</g>\n<!-- Lx -->\n<g id=\"node5\" class=\"node\">\n<title>Lx</title>\n<ellipse fill=\"none\" stroke=\"#000000\" cx=\"333.2442\" cy=\"-41.8483\" rx=\"21.3963\" ry=\"21.3963\"/>\n<text text-anchor=\"middle\" x=\"333.2442\" y=\"-38.1483\" font-family=\"Times,serif\" font-size=\"14.00\" fill=\"#000000\">Lx</text>\n</g>\n<!-- Lx&#45;&gt;J -->\n<g id=\"edge11\" class=\"edge\">\n<title>Lx&#45;&gt;J</title>\n<path fill=\"none\" stroke=\"#000000\" d=\"M353.6867,-49.1105C364.8986,-53.0935 378.9321,-58.0789 390.9992,-62.3657\"/>\n<polygon fill=\"#000000\" stroke=\"#000000\" points=\"389.9732,-65.7154 400.568,-65.765 392.3166,-59.1193 389.9732,-65.7154\"/>\n<text text-anchor=\"middle\" x=\"377.1923\" y=\"-62.6483\" font-family=\"Times,serif\" font-size=\"14.00\" fill=\"#000000\">=</text>\n</g>\n<!-- Rn -->\n<g id=\"node6\" class=\"node\">\n<title>Rn</title>\n<ellipse fill=\"none\" stroke=\"#000000\" cx=\"153.698\" cy=\"-102.8483\" rx=\"22.1965\" ry=\"22.1965\"/>\n<text text-anchor=\"middle\" x=\"153.698\" y=\"-99.1483\" font-family=\"Times,serif\" font-size=\"14.00\" fill=\"#000000\">Rn</text>\n</g>\n<!-- Rn&#45;&gt;Rn -->\n<g id=\"edge4\" class=\"edge\">\n<title>Rn&#45;&gt;Rn</title>\n<path fill=\"none\" stroke=\"#000000\" d=\"M145.6918,-123.4796C144.584,-133.7687 147.2527,-142.9464 153.698,-142.9464 157.8271,-142.9464 160.4062,-139.1798 161.4354,-133.7675\"/>\n<polygon fill=\"#000000\" stroke=\"#000000\" points=\"164.9418,-133.5676 161.7043,-123.4796 157.9441,-133.3847 164.9418,-133.5676\"/>\n<text text-anchor=\"middle\" x=\"153.698\" y=\"-146.7464\" font-family=\"Times,serif\" font-size=\"14.00\" fill=\"#000000\">0,1</text>\n</g>\n<!-- L -->\n<g id=\"node8\" class=\"node\">\n<title>L</title>\n<ellipse fill=\"none\" stroke=\"#000000\" cx=\"238.7961\" cy=\"-71.8483\" rx=\"18\" ry=\"18\"/>\n<text text-anchor=\"middle\" x=\"238.7961\" y=\"-68.1483\" font-family=\"Times,serif\" font-size=\"14.00\" fill=\"#000000\">L</text>\n</g>\n<!-- Rn&#45;&gt;L -->\n<g id=\"edge5\" class=\"edge\">\n<title>Rn&#45;&gt;L</title>\n<path fill=\"none\" stroke=\"#000000\" d=\"M174.7335,-95.1854C186.0384,-91.0672 200.0929,-85.9473 212.155,-81.5533\"/>\n<polygon fill=\"#000000\" stroke=\"#000000\" points=\"213.5164,-84.7824 221.7143,-78.071 211.1203,-78.2053 213.5164,-84.7824\"/>\n<text text-anchor=\"middle\" x=\"198.2961\" y=\"-90.6483\" font-family=\"Times,serif\" font-size=\"14.00\" fill=\"#000000\">+</text>\n</g>\n<!-- Rx -->\n<g id=\"node7\" class=\"node\">\n<title>Rx</title>\n<ellipse fill=\"none\" stroke=\"#000000\" cx=\"153.698\" cy=\"-40.8483\" rx=\"22.1965\" ry=\"22.1965\"/>\n<text text-anchor=\"middle\" x=\"153.698\" y=\"-37.1483\" font-family=\"Times,serif\" font-size=\"14.00\" fill=\"#000000\">Rx</text>\n</g>\n<!-- Rx&#45;&gt;L -->\n<g id=\"edge6\" class=\"edge\">\n<title>Rx&#45;&gt;L</title>\n<path fill=\"none\" stroke=\"#000000\" d=\"M174.7335,-48.5113C186.0384,-52.6295 200.0929,-57.7493 212.155,-62.1433\"/>\n<polygon fill=\"#000000\" stroke=\"#000000\" points=\"211.1203,-65.4914 221.7143,-65.6257 213.5164,-58.9142 211.1203,-65.4914\"/>\n<text text-anchor=\"middle\" x=\"198.2961\" y=\"-62.6483\" font-family=\"Times,serif\" font-size=\"14.00\" fill=\"#000000\">+</text>\n</g>\n<!-- L&#45;&gt;Ln -->\n<g id=\"edge8\" class=\"edge\">\n<title>L&#45;&gt;Ln</title>\n<path fill=\"none\" stroke=\"#000000\" d=\"M256.1193,-77.5342C269.2249,-81.8358 287.5499,-87.8504 303.0492,-92.9376\"/>\n<polygon fill=\"#000000\" stroke=\"#000000\" points=\"302.1503,-96.3262 312.7431,-96.1194 304.3333,-89.6753 302.1503,-96.3262\"/>\n<text text-anchor=\"middle\" x=\"284.2961\" y=\"-92.6483\" font-family=\"Times,serif\" font-size=\"14.00\" fill=\"#000000\">0,1</text>\n</g>\n<!-- L&#45;&gt;Lx -->\n<g id=\"edge7\" class=\"edge\">\n<title>L&#45;&gt;Lx</title>\n<path fill=\"none\" stroke=\"#000000\" d=\"M255.9825,-66.0301C261.9314,-64.0399 268.648,-61.8194 274.7961,-59.8483 283.9051,-56.9279 293.8417,-53.8337 302.8952,-51.0497\"/>\n<polygon fill=\"#000000\" stroke=\"#000000\" points=\"304.1126,-54.3375 312.6504,-48.0641 302.0639,-47.6439 304.1126,-54.3375\"/>\n<text text-anchor=\"middle\" x=\"284.2961\" y=\"-63.6483\" font-family=\"Times,serif\" font-size=\"14.00\" fill=\"#000000\">L</text>\n</g>\n<!-- J&#45;&gt;Jx -->\n<g id=\"edge12\" class=\"edge\">\n<title>J&#45;&gt;Jx</title>\n<path fill=\"none\" stroke=\"#000000\" d=\"M433.9516,-79.9909C447.5245,-86.788 467.2307,-96.6567 483.6382,-104.8735\"/>\n<polygon fill=\"#000000\" stroke=\"#000000\" points=\"482.3375,-108.1364 492.8462,-109.4848 485.472,-101.8774 482.3375,-108.1364\"/>\n<text text-anchor=\"middle\" x=\"463.1923\" y=\"-101.6483\" font-family=\"Times,serif\" font-size=\"14.00\" fill=\"#000000\">J</text>\n</g>\n<!-- J&#45;&gt;Jn -->\n<g id=\"edge13\" class=\"edge\">\n<title>J&#45;&gt;Jn</title>\n<path fill=\"none\" stroke=\"#000000\" d=\"M433.9516,-63.5361C447.6138,-56.5517 467.4903,-46.3904 483.9616,-37.9698\"/>\n<polygon fill=\"#000000\" stroke=\"#000000\" points=\"485.8827,-40.9186 493.1935,-33.2503 482.6963,-34.6859 485.8827,-40.9186\"/>\n<text text-anchor=\"middle\" x=\"463.1923\" y=\"-57.6483\" font-family=\"Times,serif\" font-size=\"14.00\" fill=\"#000000\">0,1</text>\n</g>\n<!-- R&#45;&gt;Rn -->\n<g id=\"edge3\" class=\"edge\">\n<title>R&#45;&gt;Rn</title>\n<path fill=\"none\" stroke=\"#000000\" d=\"M76.0424,-77.5342C89.0623,-81.7784 107.1983,-87.6904 122.6695,-92.7337\"/>\n<polygon fill=\"#000000\" stroke=\"#000000\" points=\"121.7786,-96.1245 132.371,-95.8961 123.9482,-89.4691 121.7786,-96.1245\"/>\n<text text-anchor=\"middle\" x=\"104.1\" y=\"-92.6483\" font-family=\"Times,serif\" font-size=\"14.00\" fill=\"#000000\">0,1</text>\n</g>\n<!-- R&#45;&gt;Rx -->\n<g id=\"edge2\" class=\"edge\">\n<title>R&#45;&gt;Rx</title>\n<path fill=\"none\" stroke=\"#000000\" d=\"M75.8005,-66.0733C81.7505,-64.0866 88.4642,-61.8572 94.6,-59.8483 103.7533,-56.8515 113.7178,-53.6316 122.8118,-50.7095\"/>\n<polygon fill=\"#000000\" stroke=\"#000000\" points=\"124.1658,-53.951 132.6196,-47.5648 122.0285,-47.2852 124.1658,-53.951\"/>\n<text text-anchor=\"middle\" x=\"104.1\" y=\"-63.6483\" font-family=\"Times,serif\" font-size=\"14.00\" fill=\"#000000\">R</text>\n</g>\n</g>\n</svg>\n"
          },
          "metadata": {},
          "execution_count": 16
        }
      ]
    },
    {
      "cell_type": "code",
      "metadata": {
        "colab": {
          "background_save": true,
          "base_uri": "https://localhost:8080/"
        },
        "id": "GkQP9ic7nVTc",
        "outputId": "a407aa0c-ad9c-4914-804d-5ee0ebc1da10"
      },
      "source": [
        "\"\"\" Solução\n",
        "A solução se baseia em achar a posição dos caracteres '+' e '=', e então a partir destas posições, achar os valores relacionados às incógnitas R, L e J. E após descobrir qual dos 3 é a incógnita da equação e tendo os outros 2 valores, resolvemos de forma simples e trivial o problema.\n",
        "\"\"\"\n",
        "\n",
        "# Loop para os casos de teste, até o EOF\n",
        "while True:\n",
        "\n",
        "    try:\n",
        "        # Entrada da equação\n",
        "        str = input()\n",
        "        \n",
        "        # Achar a posição dos caracteres '+' e '='\n",
        "        pos_plus =  str.find('+')\n",
        "        pos_equal = str.find('=')\n",
        "\n",
        "        # Separa a equação em R, L e J, de acordo com a posição dos caracteres '+' e '='\n",
        "        # Tudo atrás do '+' será a variável R, atrás do '=' será o L e após isso o J\n",
        "        R = str[0:pos_plus]\n",
        "        L = str[pos_plus+1:pos_equal]\n",
        "        J = str[pos_equal+1:]\n",
        "\n",
        "        # Verificações de qual parte da equação está indefinida, portante é a incógnita da equação\n",
        "        # E para cada incógnita, é achado o valor dela de maneira diferente, em relação aos outros 2 valores\n",
        "        if R == 'R':\n",
        "            \n",
        "            # R = J - L \n",
        "            print(int(J) - int(L))\n",
        "\n",
        "        elif L == 'L':\n",
        "            \n",
        "            # L = J - R\n",
        "            print(int(J) - int(R))\n",
        "\n",
        "        elif J == 'J':\n",
        "            \n",
        "            # J = R + L\n",
        "            print(int(R) + int(L))\n",
        "\n",
        "    # Capta o EOF e finaliza os casos de teste\n",
        "    except EOFError:\n",
        "        break\n"
      ],
      "execution_count": null,
      "outputs": [
        {
          "name": "stdout",
          "output_type": "stream",
          "text": [
            "42\n"
          ]
        }
      ]
    }
  ]
}