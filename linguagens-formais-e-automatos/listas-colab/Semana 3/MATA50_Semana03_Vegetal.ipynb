{
  "nbformat": 4,
  "nbformat_minor": 0,
  "metadata": {
    "colab": {
      "name": "Copy of MATA50-Semana03-Vegetal.ipynb",
      "provenance": [],
      "collapsed_sections": []
    },
    "kernelspec": {
      "name": "python3",
      "display_name": "Python 3"
    },
    "language_info": {
      "name": "python"
    }
  },
  "cells": [
    {
      "cell_type": "markdown",
      "metadata": {
        "id": "EC51xd8L1WzV"
      },
      "source": [
        "# MATA50 - Exercícios da Semana 03\n",
        "\n",
        "*   Grupo: Manga\n",
        "*   Autores: Freddie Mercury (Responsável), Tiago de Oliveira Januario\n",
        "\n"
      ]
    },
    {
      "cell_type": "markdown",
      "metadata": {
        "id": "9_9I0TfW94ov"
      },
      "source": [
        "# Instruções (não apagar)\n",
        "1.   Altere o nome do notebook/documentação para o nome do vegetal do seu grupo. Por exemplo, se você é do grupo Carambola, altere o nome do notebook para \"MATA50-Semana03-Carambola.ipynb\"\n",
        "1. Compartilhe este documento com todos os membros do grupo (para participarem da elaboração deste documento). É importante que o notebook utilizado seja o mesmo compartilhado para que os registros de participação e colaboração fiquem salvos no histórico.\n",
        "1.   Incluia o nome completo dos autores na lista de autores que auxiliaram na elaboração deste notebook. Destaque o responsável como sendo o(a) primeiro(a) autor(a).\n",
        "1. Utilize os recursos de blocos de texto e de código para adicionar as suas respostas, sem alterar os blocos de texto e código existente. Não economize, esses blocos são de graça.\n",
        "1. Ao concluir a atividade, compartilhe o notebook com januario.ufba@gmail.com (dando permisão para edição) e deixando o aviso de notificação marcado, para que eu receba o seu e-mail.\n",
        "\n"
      ]
    },
    {
      "cell_type": "code",
      "metadata": {
        "id": "TM_UtFZ-BmZ8",
        "cellView": "form"
      },
      "source": [
        "#@title Execute esta célula para carregar a classe para análise de gramáticas\n",
        "class GLC:\n",
        "  def __init__(self,V,Sigma,R,S):\n",
        "      self.variables = V\n",
        "      self.terminals = Sigma\n",
        "      # self.rules = R\n",
        "      self.rules = {(a, tuple(b)) for (a,b) in R}\n",
        "      self.start = S\n",
        " \n",
        "      self.derivation = []\n",
        "      self.chomsky = None\n",
        "  \n",
        "  def gera(self, string):\n",
        "      if (not self.chomsky):\n",
        "        self.chomsky = self.to_chomsky()        \n",
        "      G = self.chomsky\n",
        "      \n",
        "      if len(string) == 0: return (G.start,()) in G.rules\n",
        " \n",
        "      # CYK Algorithm\n",
        "      n = len(string)\n",
        "      P = [[[] for x in range(n - y)] for y in range(n)]\n",
        "      for i,c in enumerate(string):\n",
        "        for v in [a for (a,b) in G.rules if len(b) == 1 and c in b]:\n",
        "          P[0][i] += [v]\n",
        "      for l in range(2, n+1): # borda da iteração\n",
        "        for s in range(0, n+1-l): # coluna\n",
        "          for p in range(1, l): # linha\n",
        "            for u, v in [(a,b) for (a,b) in G.rules if len(b) == 2]:\n",
        "              if v[0] in P[p-1][s] and v[1] in P[l-p-1][s+p]:\n",
        "                P[l-1][s] += [u]\n",
        "      return G.start in P[-1][0]\n",
        " \n",
        "  def print(self):\n",
        "      rightarrow = \"\\u2192\"\n",
        "      print(self.start,rightarrow, '|'.join([''.join(y) for x,y in self.rules if x == S]))\n",
        "      for v in sorted(self.variables.difference(self.start)): \n",
        "        print(v,rightarrow, '|'.join([''.join(y) for x,y in self.rules if x == v]))\n",
        " \n",
        "  def replace_eps(self, v, l):\n",
        "    if not l: return {()}\n",
        "    result = {(l[0],) + s for s in self.replace_eps(v, tuple(l[1:]))}\n",
        "    if l[0] == v:\n",
        "      result.update({tuple(s[1:]) for s in result})\n",
        "    return result   \n",
        " \n",
        "  def to_chomsky(self):\n",
        "      n_state = 0\n",
        "      \n",
        "      S = '<{}>'.format(n_state)\n",
        "      Sigma = self.terminals \n",
        "      V = {S}.union(self.variables)\n",
        "      R = {(S,(self.start,))}.union(self.rules)\n",
        " \n",
        "      target = {alpha for alpha in self.variables if (alpha,()) in R}\n",
        "      while (target):\n",
        "        for e in target:\n",
        "          rules = {(alpha,beta) for (alpha,beta) in R if e in beta}\n",
        "          for (a,b) in rules:\n",
        "            R.update({(a, beta) for beta in self.replace_eps(e,b)})\n",
        "          R.discard((e,()))\n",
        "        target = {alpha for alpha in self.variables if (alpha,()) in R}\n",
        "      \n",
        "      target = {(a,b) for (a,b) in R if len(b) == 1 and b[0] in V}\n",
        "      while (target):\n",
        "        for u,v in target:\n",
        "          rules = {b for (a,b) in R if a == v[0]}\n",
        "          R.update({(u,b) for b in rules})\n",
        "          R.discard((u,v))\n",
        "        target = {(a,b) for (a,b) in R if len(b) == 1 and b[0] in V}\n",
        "      \n",
        "      target = {(alpha,beta) for (alpha,beta) in R if len(beta) > 2}\n",
        "      while(target):\n",
        "        for u,v in target:\n",
        "          n_state += 1\n",
        "          state = '<{}>'.format(n_state)\n",
        "          V.update({state})\n",
        "          R.update({(u,(v[0],state)),(state, tuple(v[1:]))})\n",
        "          R.discard((u,v))\n",
        "        target = {(alpha,beta) for (alpha,beta) in R if len(beta) > 2}\n",
        " \n",
        "      target = {(alpha,beta) for (alpha,beta) in R if len(beta) == 2}\n",
        "      for u,v in target:\n",
        "        n = list(v)\n",
        "        for i in range(2):\n",
        "          if v[i] in Sigma:\n",
        "            R.discard((u,(n[0],n[1])))\n",
        "            n_state += 1\n",
        "            n[i] = '<{}>'.format(n_state)\n",
        "            V.update({n[i]})\n",
        "            R.update({(u,(n[0],n[1]))})\n",
        "            R.update({(n[i],(v[i],))})\n",
        " \n",
        "      return GLC(V,Sigma,R,S)"
      ],
      "execution_count": null,
      "outputs": []
    },
    {
      "cell_type": "markdown",
      "metadata": {
        "id": "UDIB4qHrmpy1"
      },
      "source": [
        "# Exercícios\n",
        "\n",
        "1. Construa uma gramática para a linguagem: $L = \\{ w \\in \\{ a , b \\}^* ~|~ \\mbox{ o número de a's em $w$ é par} \\}$. Teste a validade da sua gramática para 3 palavras de sua escolha."
      ]
    },
    {
      "cell_type": "markdown",
      "metadata": {
        "id": "r6vEMro0Csdk"
      },
      "source": [
        "2. Construa uma gramática para a linguagem: $L = \\{w \\in \\{a,b\\}^* \\mid w=w^R\\}$. Teste a validade da sua gramática para 3 palavras de sua escolha.\n"
      ]
    },
    {
      "cell_type": "markdown",
      "metadata": {
        "id": "haz4BKsH1af7"
      },
      "source": [
        "3. Para cada um dos problemas resolvidos URI, apresente:\n",
        "\n",
        "*   Uma **brevíssima** descrição do problema, em suas próprias palavras.\n",
        "*   A solução comentada e documentadas.\n",
        "*   Utilize blocos de texto e código separados para cada atividade. \n",
        "\n"
      ]
    }
  ]
}