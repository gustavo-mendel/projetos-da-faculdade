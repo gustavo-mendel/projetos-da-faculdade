{
  "nbformat": 4,
  "nbformat_minor": 0,
  "metadata": {
    "colab": {
      "name": "MATA50-Semana03-Brócolis.ipynb",
      "provenance": [],
      "collapsed_sections": []
    },
    "kernelspec": {
      "display_name": "Python 3",
      "name": "python3"
    },
    "language_info": {
      "name": "python"
    }
  },
  "cells": [
    {
      "cell_type": "markdown",
      "metadata": {
        "id": "EC51xd8L1WzV"
      },
      "source": [
        "# MATA50 - Exercícios da Semana 03\n",
        "\n",
        "*   Grupo: Brócolis\n",
        "*   Autores: Gustavo Mendel Queiroz e Souza (Responsável), Lucas Barreto\n",
        "\n"
      ]
    },
    {
      "cell_type": "markdown",
      "metadata": {
        "id": "9_9I0TfW94ov"
      },
      "source": [
        "# Instruções (não apagar)\n",
        "1.   Altere o nome do notebook/documentação para o nome do vegetal do seu grupo. Por exemplo, se você é do grupo Carambola, altere o nome do notebook para \"MATA50-Semana03-Carambola.ipynb\"\n",
        "1. Compartilhe este documento com todos os membros do grupo (para participarem da elaboração deste documento). É importante que o notebook utilizado seja o mesmo compartilhado para que os registros de participação e colaboração fiquem salvos no histórico.\n",
        "1.   Incluia o nome completo dos autores na lista de autores que auxiliaram na elaboração deste notebook. Destaque o responsável como sendo o(a) primeiro(a) autor(a).\n",
        "1. Utilize os recursos de blocos de texto e de código para adicionar as suas respostas, sem alterar os blocos de texto e código existente. Não economize, esses blocos são de graça.\n",
        "1. Ao concluir a atividade, compartilhe o notebook com januario.ufba@gmail.com (dando permisão para edição) e deixando o aviso de notificação marcado, para que eu receba o seu e-mail.\n",
        "\n"
      ]
    },
    {
      "cell_type": "code",
      "metadata": {
        "id": "TM_UtFZ-BmZ8"
      },
      "source": [
        "#@title Execute esta célula para carregar a classe para análise de gramáticas\n",
        "class GLC:\n",
        "  def __init__(self,V,Sigma,R,S):\n",
        "      self.variables = V\n",
        "      self.terminals = Sigma\n",
        "      # self.rules = R\n",
        "      self.rules = {(a, tuple(b)) for (a,b) in R}\n",
        "      self.start = S\n",
        " \n",
        "      self.derivation = []\n",
        "      self.chomsky = None\n",
        "  \n",
        "  def gera(self, string):\n",
        "      if (not self.chomsky):\n",
        "        self.chomsky = self.to_chomsky()        \n",
        "      G = self.chomsky\n",
        "      \n",
        "      if len(string) == 0: return (G.start,()) in G.rules\n",
        " \n",
        "      # CYK Algorithm\n",
        "      n = len(string)\n",
        "      P = [[[] for x in range(n - y)] for y in range(n)]\n",
        "      for i,c in enumerate(string):\n",
        "        for v in [a for (a,b) in G.rules if len(b) == 1 and c in b]:\n",
        "          P[0][i] += [v]\n",
        "      for l in range(2, n+1): # borda da iteração\n",
        "        for s in range(0, n+1-l): # coluna\n",
        "          for p in range(1, l): # linha\n",
        "            for u, v in [(a,b) for (a,b) in G.rules if len(b) == 2]:\n",
        "              if v[0] in P[p-1][s] and v[1] in P[l-p-1][s+p]:\n",
        "                P[l-1][s] += [u]\n",
        "      return G.start in P[-1][0]\n",
        " \n",
        "  def print(self):\n",
        "      rightarrow = \"\\u2192\"\n",
        "      print(self.start,rightarrow, '|'.join([''.join(y) for x,y in self.rules if x == S]))\n",
        "      for v in sorted(self.variables.difference(self.start)): \n",
        "        print(v,rightarrow, '|'.join([''.join(y) for x,y in self.rules if x == v]))\n",
        " \n",
        "  def replace_eps(self, v, l):\n",
        "    if not l: return {()}\n",
        "    result = {(l[0],) + s for s in self.replace_eps(v, tuple(l[1:]))}\n",
        "    if l[0] == v:\n",
        "      result.update({tuple(s[1:]) for s in result})\n",
        "    return result   \n",
        " \n",
        "  def to_chomsky(self):\n",
        "      n_state = 0\n",
        "      \n",
        "      S = '<{}>'.format(n_state)\n",
        "      Sigma = self.terminals \n",
        "      V = {S}.union(self.variables)\n",
        "      R = {(S,(self.start,))}.union(self.rules)\n",
        " \n",
        "      target = {alpha for alpha in self.variables if (alpha,()) in R}\n",
        "      while (target):\n",
        "        for e in target:\n",
        "          rules = {(alpha,beta) for (alpha,beta) in R if e in beta}\n",
        "          for (a,b) in rules:\n",
        "            R.update({(a, beta) for beta in self.replace_eps(e,b)})\n",
        "          R.discard((e,()))\n",
        "        target = {alpha for alpha in self.variables if (alpha,()) in R}\n",
        "      \n",
        "      target = {(a,b) for (a,b) in R if len(b) == 1 and b[0] in V}\n",
        "      while (target):\n",
        "        for u,v in target:\n",
        "          rules = {b for (a,b) in R if a == v[0]}\n",
        "          R.update({(u,b) for b in rules})\n",
        "          R.discard((u,v))\n",
        "        target = {(a,b) for (a,b) in R if len(b) == 1 and b[0] in V}\n",
        "      \n",
        "      target = {(alpha,beta) for (alpha,beta) in R if len(beta) > 2}\n",
        "      while(target):\n",
        "        for u,v in target:\n",
        "          n_state += 1\n",
        "          state = '<{}>'.format(n_state)\n",
        "          V.update({state})\n",
        "          R.update({(u,(v[0],state)),(state, tuple(v[1:]))})\n",
        "          R.discard((u,v))\n",
        "        target = {(alpha,beta) for (alpha,beta) in R if len(beta) > 2}\n",
        " \n",
        "      target = {(alpha,beta) for (alpha,beta) in R if len(beta) == 2}\n",
        "      for u,v in target:\n",
        "        n = list(v)\n",
        "        for i in range(2):\n",
        "          if v[i] in Sigma:\n",
        "            R.discard((u,(n[0],n[1])))\n",
        "            n_state += 1\n",
        "            n[i] = '<{}>'.format(n_state)\n",
        "            V.update({n[i]})\n",
        "            R.update({(u,(n[0],n[1]))})\n",
        "            R.update({(n[i],(v[i],))})\n",
        " \n",
        "      return GLC(V,Sigma,R,S)"
      ],
      "execution_count": null,
      "outputs": []
    },
    {
      "cell_type": "markdown",
      "metadata": {
        "id": "UDIB4qHrmpy1"
      },
      "source": [
        "# Exercícios\n",
        "\n",
        "1. Construa uma gramática para a linguagem: $L = \\{ w \\in \\{ a , b \\}^* ~|~ \\mbox{ o número de a's em $w$ é par} \\}$. Teste a validade da sua gramática para 3 palavras de sua escolha."
      ]
    },
    {
      "cell_type": "code",
      "metadata": {
        "colab": {
          "base_uri": "https://localhost:8080/"
        },
        "id": "rmJBOX3_t30W",
        "outputId": "0f3863f1-e502-47ec-ee2f-ba3037087a27"
      },
      "source": [
        "V     = {'P' }    # variáveis\n",
        "Sigma = {'a', 'b'}          # terminais \n",
        "\n",
        "R     = {                   # regras\n",
        "         ('P', 'PP'),\n",
        "         ('P', 'aPa'),\n",
        "         ('P', 'aa'),\n",
        "         ('P', 'b'),\n",
        "         ('P', '')         \n",
        "        }     \n",
        "\n",
        "S     = 'P'                 # partida\n",
        "\n",
        "G = GLC(V, Sigma, R, S)\n",
        "G.print()\n",
        "\n",
        "print(G.gera(\"aaaa\"))\n",
        "print(G.gera(\"aba\"))\n",
        "print(G.gera(\"aaba\"))"
      ],
      "execution_count": null,
      "outputs": [
        {
          "output_type": "stream",
          "name": "stdout",
          "text": [
            "P → PP||aa|b|aPa\n",
            "True\n",
            "True\n",
            "False\n"
          ]
        }
      ]
    },
    {
      "cell_type": "markdown",
      "metadata": {
        "id": "r6vEMro0Csdk"
      },
      "source": [
        "2. Construa uma gramática para a linguagem: $L = \\{w \\in \\{a,b\\}^* \\mid w=w^R\\}$. Teste a validade da sua gramática para 3 palavras de sua escolha.\n"
      ]
    },
    {
      "cell_type": "code",
      "metadata": {
        "colab": {
          "base_uri": "https://localhost:8080/"
        },
        "id": "YqUXPgKCPYr_",
        "outputId": "c9c0e70e-3964-48b1-a97b-c9c5eecca1bc"
      },
      "source": [
        "V     = {'P' }    # variáveis\n",
        "Sigma = {'a', 'b'}          # terminais \n",
        "\n",
        "R     = {                   # regras\n",
        "         ('P' , 'aPa'),\n",
        "         ('P' , 'bPb'),\n",
        "         ('P' , 'a'),\n",
        "         ('P' , 'b'),\n",
        "         ('P' , '')\n",
        "        }     \n",
        "\n",
        "S     = 'P'                 # partida\n",
        "\n",
        "G = GLC(V, Sigma, R, S)\n",
        "G.print()\n",
        "\n",
        "\n",
        "print(G.gera(\"baab\"))\n",
        "print(G.gera(\"aaba\"))\n",
        "print(G.gera(\"ababa\"))"
      ],
      "execution_count": null,
      "outputs": [
        {
          "output_type": "stream",
          "name": "stdout",
          "text": [
            "P → |b|bPb|aPa|a\n",
            "True\n",
            "False\n",
            "True\n"
          ]
        }
      ]
    },
    {
      "cell_type": "markdown",
      "metadata": {
        "id": "haz4BKsH1af7"
      },
      "source": [
        "3. Para cada um dos problemas resolvidos URI, apresente:\n",
        "\n",
        "*   Uma **brevíssima** descrição do problema, em suas próprias palavras.\n",
        "*   A solução comentada e documentadas.\n",
        "*   Utilize blocos de texto e código separados para cada atividade. \n",
        "\n"
      ]
    },
    {
      "cell_type": "markdown",
      "metadata": {
        "id": "J-5WmE7M3r9D"
      },
      "source": [
        "**1º) Questão URI: 1120 - Revisão de Contrato**\n",
        "\n",
        "*Ao registrar alguns valores de contrato, um contador percebe que houveram dígitos que não foram impressos, resultando em valores diferentes dos originais.\n",
        "Assim, o programa recebe como entradas o dígito faltante e o valor original do contrato, e deve simular a impressão do contador com o dígito faltante.*"
      ]
    },
    {
      "cell_type": "code",
      "metadata": {
        "colab": {
          "base_uri": "https://localhost:8080/"
        },
        "id": "h2X_ZORr6uPm",
        "outputId": "a30938ad-6387-4620-c290-371ab1711cec"
      },
      "source": [
        "''' Solução\n",
        "O pyhton tem uma função bem prática para strings\n",
        "Que localiza determinada sub-string e substitui ela por outra string, a função \"replace\"\n",
        "A solução se baseia nessa função. Onde há os valores da tecla quebrada, ele substitui por uma string vazia,\n",
        "Ou seja, praticamente remove o valor da string. E no final, transformo para inteiro, para remover zeros redundantes\n",
        "'''\n",
        "\n",
        "# Entrada dos dados inicial\n",
        "a, b = input().split()\n",
        "\n",
        "# Estudo dos casos de testes até receber a ordem de parada 0 e 0.\n",
        "while a != \"0\" or b != \"0\":\n",
        "\n",
        "  # Função em python para substituir strings por outra string, detro de uma string\n",
        "  # Faz a substituição dos caracteres indicados por uma string vazia\n",
        "  # Desse jeito, conseguimos remover da string os valores da tecla falha\n",
        "\tb = b.replace(a, \"\")\n",
        " \n",
        "  # Após a remoção, se sobrar uma string vazia, é considerado o valor zero (0)\n",
        "\tif b == \"\":\n",
        "\t\tb = 0\n",
        "\n",
        "  # Transforma a string em inteiro, para remoção de zeros redundantes  \n",
        "\tb = int(b)\n",
        " \n",
        "  # Saída da solução\n",
        "\tprint(b)\n",
        "\n",
        "  # Nova entrada de dados para o próximo caso de teste\n",
        "\ta, b = input().split()\n",
        "\n"
      ],
      "execution_count": null,
      "outputs": [
        {
          "name": "stdout",
          "output_type": "stream",
          "text": [
            "5 500000\n",
            "0\n",
            "7 7777711177777\n",
            "111\n",
            "0 0\n"
          ]
        }
      ]
    },
    {
      "cell_type": "markdown",
      "metadata": {
        "id": "TRr1KABC-Mra"
      },
      "source": [
        "**2º) Questão URI: 1234 - Sentença Dançante**\n",
        "\n",
        "*O problema pede para converter uma sentença para o formato “AaAaAa”, chamada de “sentença dançante”. Isto é, alternando entre letras maiúsculas e minúsculas, começando sempre por uma letra maiúscula e ignorando espaços.*"
      ]
    },
    {
      "cell_type": "code",
      "metadata": {
        "id": "3PKFNA3v-MDW"
      },
      "source": [
        "''' Solução\n",
        "Para cada caso de teste, foi usado uma variável de controle para determinar se o caractere anterior estava Maiúsculo ou não\n",
        "Passando pela string, caso o caractere não fosse um espaço, ele adicionava a uma string solução (ans) os caracteres alterados, de acordo com a variável de controle\n",
        "E após isso, inverte a variável de controle, para o próximo caractere ser alternado\n",
        "'''\n",
        "\n",
        "# Pega casos de teste até EOF, caso capture a excessão de erro EOF, quebra o loop\n",
        "while True:\n",
        "\n",
        "\ttry:\n",
        "\n",
        "    # Entrada de dados\n",
        "\t\tstr = input()\n",
        "\n",
        "    # Variável para solução (ANSwer)\n",
        "\t\tans = ''\n",
        "\n",
        "    # Variável de controle para alternância de maiúsculo e minúsculo\n",
        "\t\tcontrol = True\n",
        "\n",
        "    # Passear pela string através do loop, analisando os caracteres\n",
        "    # Caso não for um espaço, ele vai analisar a variável de controle\n",
        "    # E modificando o caractere, já adicionando na resposta final deste caso de teste\n",
        "\t\tfor n in str:\n",
        "\t\t\tif n != ' ':\n",
        "\t\t\t\tif control:\n",
        "\t\t\t\t\tans += n.upper()\n",
        "\t\t\t\telse:\n",
        "\t\t\t\t\tans += n.lower()\n",
        "\n",
        "        # Variação da variável de controle\n",
        "\t\t\t\tcontrol = not control\n",
        "\t\t\t\n",
        "      # Adicionando o espaço a resposta final, pois espaços ainda contam para a resposta\n",
        "      # Espaços não contam apenas para a variação de Case.\n",
        "\t\t\telse:\n",
        "\t\t\t\tans += n\t\n",
        "\n",
        "    # Saída da solução do caso de teste\n",
        "\t\tprint(ans)\n",
        "\n",
        "  # Caso a entrada seja um EOF, quebra o Loop e encerra os casos de teste\n",
        "\texcept EOFError:\n",
        "\t\tbreak\n"
      ],
      "execution_count": null,
      "outputs": []
    },
    {
      "cell_type": "markdown",
      "metadata": {
        "id": "cakI2qao-xyN"
      },
      "source": [
        "**3º) Questão URI: 1241 - Encaixa ou não II**\n",
        "\n",
        "*Verificar, a partir de dois valores A e B, se os dígitos de B são iguais aos últimos dígitos de A. Caso sejam, significa que B encaixa em A.*"
      ]
    },
    {
      "cell_type": "code",
      "metadata": {
        "id": "RqIS0x3X-xka"
      },
      "source": [
        "''' Solução\n",
        "A solução se baseia em pegar o tamanho das strings, fazer um cálculo a partir desses valores\n",
        "Pegar a sub-string da string maior de mesmo tamanho da string analisada, e verificar igualdade\n",
        "'''\n",
        "\n",
        "# Entrada da quantidade dos casos de teste\n",
        "n = int(input())\n",
        "\n",
        "# Casos de teste\n",
        "while n:\n",
        "\tn -= 1\n",
        "\n",
        "  # Entrada das strings a serem analisadas\n",
        "\tn1, n2 = input().split()\n",
        "\n",
        "  # Pegar tamanhos das strings\n",
        "\tlen1 = len(n1)\n",
        "\tlen2 = len(n2)\n",
        "\n",
        "  # Se a segunda string for maior que a primeira, ela automaticamente não encaixa\n",
        "\tif len2 > len1:\n",
        "\t\tprint(\"nao encaixa\")\n",
        "\t\tcontinue\n",
        "\n",
        "  # Variável auxiliar para pegar a sub-string final a ser analisada\n",
        "\taux = ''\n",
        "\n",
        "  # Loop entre a primeira string para analisar apenas os últimos caracteres\n",
        "  # Adicionando à variável auxiliar\n",
        "\tfor i in range(len1-len2, len1):\n",
        "\t\taux += n1[i]\n",
        "\n",
        "  # Verificação de igualdade e resultado final do caso de teste\n",
        "\tif aux == n2:\n",
        "\t\tprint(\"encaixa\")\n",
        "\telse:\n",
        "\t\tprint(\"nao encaixa\")\n"
      ],
      "execution_count": null,
      "outputs": []
    }
  ]
}