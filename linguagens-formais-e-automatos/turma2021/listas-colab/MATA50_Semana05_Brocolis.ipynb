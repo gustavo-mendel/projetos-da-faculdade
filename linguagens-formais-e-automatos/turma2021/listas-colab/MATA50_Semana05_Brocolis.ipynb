{
  "nbformat": 4,
  "nbformat_minor": 0,
  "metadata": {
    "colab": {
      "name": "MATA50-Semana05-Brocolis.ipynb",
      "provenance": [],
      "collapsed_sections": []
    },
    "kernelspec": {
      "name": "python3",
      "display_name": "Python 3"
    },
    "language_info": {
      "name": "python"
    }
  },
  "cells": [
    {
      "cell_type": "markdown",
      "metadata": {
        "id": "EC51xd8L1WzV"
      },
      "source": [
        "# MATA50 - Exercícios da Semana 05\n",
        "\n",
        "*   Grupo: Brócolis\n",
        "*   Autores: Bruno do Amor Divino da Paixao (Responsável), Lucas Morais Barreto, Gustavo Mendel Queiroz e Souza\n",
        "\n"
      ]
    },
    {
      "cell_type": "markdown",
      "metadata": {
        "id": "9_9I0TfW94ov"
      },
      "source": [
        "# Instruções (não apagar)\n",
        "1.   Após criar este notebook, altere o nome do notebook/documentação incluindo o nome do vegetal do seu grupo. Por exemplo, se você é do grupo Carambola, altere o nome do notebook para \"MATA50-Semana05-Carambola.ipynb\"\n",
        "1. Compartilhe este documento com todos os membros do grupo (para participarem da elaboração deste documento). É importante que o notebook utilizado seja o mesmo compartilhado para que os registros de participação e colaboração fiquem salvos no histórico.\n",
        "1.   Incluia o nome completo dos autores na lista de autores que auxiliaram na elaboração deste notebook. Destaque o responsável como sendo o(a) primeiro(a) autor(a).\n",
        "1. Utilize os recursos de blocos de texto e de código para adicionar as suas respostas, sem alterar os blocos de texto e código existente. Não economize, esses blocos são de graça.\n",
        "1. Ao concluir a atividade, compartilhe o notebook com januario.ufba@gmail.com (dando permisão para edição) e deixando o aviso de notificação marcado, para que eu receba o seu e-mail.\n",
        "\n"
      ]
    },
    {
      "cell_type": "code",
      "metadata": {
        "id": "TM_UtFZ-BmZ8",
        "cellView": "form"
      },
      "source": [
        "#@title Implementação dos modelos em Python\n",
        "#@markdown Esta célula contém a implementação em Python 3 dos principais modelos de computação vistos na disciplina de Linguagens Formais e Autômatos. \n",
        "#@markdown Não é necessário conhecer o código aqui implementado ou mesmo ter um conhecimento profundo da linguagem Python. Acompanhe os exemplos e experimente construir seus próprios modelos.\n",
        " \n",
        "#@markdown >*Execute esta célula (`ctrl+enter` ou clicando no botão ao lado) para que o ambiente seja carregado com as classes implementadas.*\n",
        " \n",
        "from graphviz import Digraph\n",
        "import re\n",
        " \n",
        "class AP: \n",
        "    def __init__(self, Q={}, Sigma={}, Gamma={}, delta={}, q0=0, F={}):\n",
        "        self.states = Q\n",
        "        self.inputAlphabet = Sigma\n",
        "        self.stackAlphabet = Gamma\n",
        "        self.transition = delta\n",
        "        self.startState = q0\n",
        "        self.acceptStates = F \n",
        " \n",
        "        self.initialize()\n",
        " \n",
        "    def initialize(self, input_string=\"\"):\n",
        "        self.traces = [[(self.startState,tuple(input_string),())]]\n",
        " \n",
        "    def check(self):\n",
        "        pass\n",
        "        \n",
        "    def hasNext(self):\n",
        "        return self.traces and (not self.acceptTraces())\n",
        "    \n",
        "    def acceptTraces(self):\n",
        "        return [t for t in self.traces if t[-1][1] == () and t[-1][0] in self.acceptStates]\n",
        " \n",
        "    def step(self):\n",
        "        updated_traces = []\n",
        "        for trace in self.traces:\n",
        "          s, string, stack = trace[-1]\n",
        "          A = {'', string[0]} if string else {''}\n",
        "          B = {'', stack[-1]} if stack else {''}\n",
        "          possible_transitions = [(s,a,b) for a in A for b in B if (s,a,b) in self.transition]          \n",
        "          for (s,a,b) in possible_transitions:  \n",
        "            for r,c in self.transition[s,a,b]:\n",
        "              nstring = string[1:] if a else string\n",
        "              nstack  = stack[:-1] if b else stack\n",
        "              nstack  = nstack+(c,) if c else nstack\n",
        "              if (not (r,nstring,nstack) in trace):\n",
        "                updated_traces.append(trace+[(r,nstring,nstack)])\n",
        "        self.traces = updated_traces\n",
        " \n",
        "    def run(self, input_string=0, max_steps=1000):        \n",
        "        while (self.hasNext()): \n",
        "          if max_steps == 0: \n",
        "            raise Exception(\"Timeout\")\n",
        "          self.step()\n",
        "          max_steps -= 1\n",
        "        return self.result()\n",
        " \n",
        "    def aceita(self, input_string=0):\n",
        "        self.initialize(input_string)\n",
        "        return self.run()\n",
        " \n",
        "    def result(self):\n",
        "        return True if self.acceptTraces() else (False if (not self.traces) else None)\n",
        "    \n",
        "    def visualizar(self):      \n",
        "        f = Digraph('finite_state_machine', filename='fsm.gv')\n",
        "        f.attr(rankdir='LR', size='8,5')\n",
        " \n",
        "        f.attr('node', shape='point')\n",
        "        f.node('')\n",
        "        \n",
        "        f.attr('node', shape='doublecircle')\n",
        "        for n in self.acceptStates:\n",
        "          f.node(str(n))\n",
        " \n",
        "        f.attr('node', shape='circle')\n",
        "        for n in self.states.difference(self.acceptStates):\n",
        "          f.node(str(n))\n",
        " \n",
        "        label = {}        \n",
        "        for (q,a,b) in self.transition:\n",
        "          for (r,c) in self.transition[q,a,b]:          \n",
        "            label[q,r] = label[q,r]+[(a,b,c)] if (q,r) in label else [(a,b,c)]\n",
        " \n",
        "        f.edge('', str(self.startState))\n",
        "        for (q,r) in label:\n",
        "          f.edge(str(q),str(r),label=self.graphviz_edge_label_format(label[q,r]))      \n",
        "          pass\n",
        "        \n",
        "        return f\n",
        "    \n",
        "    def graphviz_edge_label_format(self,labels=[]):\n",
        "        epsilon = \"\\u03BB\"\n",
        "        right_arrow = \"\\u2192\"\n",
        "        return '\\n'.join([(a if (a or a==0) else epsilon) + \",\" + (b if (b or b==0) else epsilon) + right_arrow + (c if (c or c==0) else epsilon) for (a,b,c) in labels])\n",
        "        # return '\\n'.join([(str(a) if a else epsilon) + \",\" + (str(b) if b else epsilon) + right_arrow + (str(c) if c else epsilon) for (a,b,c) in labels])\n",
        " \n",
        "class AFN(AP):\n",
        "  def __init__(self, Q={}, Sigma={}, delta={}, q0=0, F={}):\n",
        "        delta_pda = {}\n",
        "        for q,a in delta:\n",
        "          delta_pda[q,a,''] = {(r,'') for r in delta[q,a]}\n",
        "        super().__init__(Q,Sigma,{},delta_pda,q0,F)\n",
        "  \n",
        "  def graphviz_edge_label_format(self,labels):\n",
        "      epsilon = \"\\u03B5\"\n",
        "      return \",\".join([(str(a) if (a or a==0) else epsilon) for (a,b,c) in labels])\n",
        " \n",
        "class AFD(AFN):\n",
        "  def __init__(self, Q={}, Sigma={}, delta={}, q0=0, F={}):\n",
        "        delta_nfa = {}\n",
        "        for (q,a) in delta:\n",
        "          delta_nfa[q,a] = {delta[q,a]}\n",
        "        super().__init__(Q,Sigma,delta_nfa,q0,F)\n",
        " \n",
        "class ER:\n",
        "  def __init__(self,regex=None):  \n",
        "    if (regex == None):\n",
        "      self.regex = None\n",
        "    elif (re.match(\"^[a-zA-Z0-9\\(\\)\\|\\*]*$\", regex)):\n",
        "      self.regex = regex\n",
        "    else:\n",
        "      raise Exception(\"Invalid pattern\")\n",
        " \n",
        "  def gera(self, input_string):\n",
        "    if (self.regex == None):\n",
        "      return False\n",
        "    else:\n",
        "      return True if re.match(\"^\"+self.regex+\"$\",input_string) else False\n",
        " \n",
        "class GLC:\n",
        "  def __init__(self,V,Sigma,R,S):\n",
        "      self.variables = V\n",
        "      self.terminals = Sigma\n",
        "      # self.rules = R\n",
        "      self.rules = {(a, tuple(b)) for (a,b) in R}\n",
        "      self.start = S\n",
        " \n",
        "      self.derivation = []\n",
        "      self.chomsky = None\n",
        "  \n",
        "  def gera(self, string):\n",
        "      if (not self.chomsky):\n",
        "        self.chomsky = self.to_chomsky()        \n",
        "      G = self.chomsky\n",
        "      \n",
        "      if len(string) == 0: return (G.start,()) in G.rules\n",
        " \n",
        "      # CYK Algorithm\n",
        "      n = len(string)\n",
        "      P = [[[] for x in range(n - y)] for y in range(n)]\n",
        "      for i,c in enumerate(string):\n",
        "        for v in [a for (a,b) in G.rules if len(b) == 1 and c in b]:\n",
        "          P[0][i] += [v]\n",
        "      for l in range(2, n+1): # borda da iteração\n",
        "        for s in range(0, n+1-l): # coluna\n",
        "          for p in range(1, l): # linha\n",
        "            for u, v in [(a,b) for (a,b) in G.rules if len(b) == 2]:\n",
        "              if v[0] in P[p-1][s] and v[1] in P[l-p-1][s+p]:\n",
        "                P[l-1][s] += [u]\n",
        "      return G.start in P[-1][0]\n",
        " \n",
        "  def print(self):\n",
        "      rightarrow = \"\\u2192\"\n",
        "      print(self.start,rightarrow, '|'.join([''.join(y) for x,y in self.rules if x == S]))\n",
        "      for v in sorted(self.variables.difference(self.start)): \n",
        "        print(v,rightarrow, '|'.join([''.join(y) for x,y in self.rules if x == v]))\n",
        " \n",
        "  def replace_eps(self, v, l):\n",
        "    if not l: return {()}\n",
        "    result = {(l[0],) + s for s in self.replace_eps(v, tuple(l[1:]))}\n",
        "    if l[0] == v:\n",
        "      result.update({tuple(s[1:]) for s in result})\n",
        "    return result   \n",
        " \n",
        "  def to_chomsky(self):\n",
        "      n_state = 0\n",
        "      \n",
        "      S = '<{}>'.format(n_state)\n",
        "      Sigma = self.terminals \n",
        "      V = {S}.union(self.variables)\n",
        "      R = {(S,(self.start,))}.union(self.rules)\n",
        " \n",
        "      target = {alpha for alpha in self.variables if (alpha,()) in R}\n",
        "      while (target):\n",
        "        for e in target:\n",
        "          rules = {(alpha,beta) for (alpha,beta) in R if e in beta}\n",
        "          for (a,b) in rules:\n",
        "            R.update({(a, beta) for beta in self.replace_eps(e,b)})\n",
        "          R.discard((e,()))\n",
        "        target = {alpha for alpha in self.variables if (alpha,()) in R}\n",
        "      \n",
        "      target = {(a,b) for (a,b) in R if len(b) == 1 and b[0] in V}\n",
        "      while (target):\n",
        "        for u,v in target:\n",
        "          rules = {b for (a,b) in R if a == v[0]}\n",
        "          R.update({(u,b) for b in rules})\n",
        "          R.discard((u,v))\n",
        "        target = {(a,b) for (a,b) in R if len(b) == 1 and b[0] in V}\n",
        "      \n",
        "      target = {(alpha,beta) for (alpha,beta) in R if len(beta) > 2}\n",
        "      while(target):\n",
        "        for u,v in target:\n",
        "          n_state += 1\n",
        "          state = '<{}>'.format(n_state)\n",
        "          V.update({state})\n",
        "          R.update({(u,(v[0],state)),(state, tuple(v[1:]))})\n",
        "          R.discard((u,v))\n",
        "        target = {(alpha,beta) for (alpha,beta) in R if len(beta) > 2}\n",
        " \n",
        "      target = {(alpha,beta) for (alpha,beta) in R if len(beta) == 2}\n",
        "      for u,v in target:\n",
        "        n = list(v)\n",
        "        for i in range(2):\n",
        "          if v[i] in Sigma:\n",
        "            R.discard((u,(n[0],n[1])))\n",
        "            n_state += 1\n",
        "            n[i] = '<{}>'.format(n_state)\n",
        "            V.update({n[i]})\n",
        "            R.update({(u,(n[0],n[1]))})\n",
        "            R.update({(n[i],(v[i],))})\n",
        " \n",
        "      return GLC(V,Sigma,R,S)"
      ],
      "execution_count": null,
      "outputs": []
    },
    {
      "cell_type": "markdown",
      "metadata": {
        "id": "UDIB4qHrmpy1"
      },
      "source": [
        "# Exercícios"
      ]
    },
    {
      "cell_type": "markdown",
      "metadata": {
        "id": "KsJcO7LUSQKs"
      },
      "source": [
        "Construa autômatos com a menor quantidade de estados possíveis. Considere que o símbolo na posicao 1 de uma palavra e o primeiro símbolo desta, o símbolo na posicao 2 e o segundo, e assim por diante."
      ]
    },
    {
      "cell_type": "markdown",
      "metadata": {
        "id": "n2thSPkMSTwS"
      },
      "source": [
        "1. Construa um AFD para a seguinte linguagem sobre o alfabeto $\\Sigma = \\{0, 1\\}$: O conjunto das palavras em que o símbolo na posicao $2i$ difere do símbolo na posicao $2 i + 2$ , para $i  \\geq  1$."
      ]
    },
    {
      "cell_type": "code",
      "metadata": {
        "colab": {
          "base_uri": "https://localhost:8080/",
          "height": 231
        },
        "id": "ThmbgauXZudv",
        "outputId": "8088cb38-d048-4453-bc3a-f99dae02e295"
      },
      "source": [
        "#@title Q.01\n",
        "\n",
        "#Q = Estados \n",
        "Q = { 'q0', 'p1', 'p2z', 'p2u', 'p3z', 'p3u', 'F'}   \n",
        "\n",
        "Sigma = {'0','1'}    #Alfabeto\n",
        "delta = {            #Função de transição\n",
        "  #1 letra\n",
        "  ('q0', '0'):'p1',\n",
        "  ('q0', '1'):'p1',\n",
        "\n",
        "  #2 letra\n",
        "  ('p1', '0'):'p2z',\n",
        "  ('p1', '1'):'p2u',\n",
        "\n",
        "  #3 letra\n",
        "  ('p2z', '0'):'p3z',\n",
        "  ('p2z', '1'):'p3z',\n",
        "\n",
        "  ('p2u', '0'):'p3u',\n",
        "  ('p2u', '1'):'p3u',\n",
        "  \n",
        "  #4 letra: validação\n",
        "  ('p3z', '1'):'p2u',\n",
        "  ('p3u', '0'):'p2z',\n",
        "\n",
        "  #caso de falha:\n",
        "  ('p3z', '0'):'F',\n",
        "  ('p3u', '1'):'F',\n",
        "  \n",
        "}\n",
        "\n",
        "q0 = 'q0'           #Estado Inicial\n",
        "F = {'p2u','p2z', 'q0', 'p1', 'p3z', 'p3u'}           #Estado Final\n",
        " \n",
        "M = AFD(Q,Sigma,delta,q0,F)\n",
        "\n",
        "print(M.aceita(\"00\"))\n",
        "M.visualizar()\n"
      ],
      "execution_count": null,
      "outputs": [
        {
          "output_type": "stream",
          "name": "stdout",
          "text": [
            "True\n"
          ]
        },
        {
          "output_type": "execute_result",
          "data": {
            "text/plain": [
              "<graphviz.dot.Digraph at 0x7ff419152990>"
            ],
            "image/svg+xml": "<?xml version=\"1.0\" encoding=\"UTF-8\" standalone=\"no\"?>\n<!DOCTYPE svg PUBLIC \"-//W3C//DTD SVG 1.1//EN\"\n \"http://www.w3.org/Graphics/SVG/1.1/DTD/svg11.dtd\">\n<!-- Generated by graphviz version 2.40.1 (20161225.0304)\n -->\n<!-- Title: finite_state_machine Pages: 1 -->\n<svg width=\"576pt\" height=\"145pt\"\n viewBox=\"0.00 0.00 576.00 145.46\" xmlns=\"http://www.w3.org/2000/svg\" xmlns:xlink=\"http://www.w3.org/1999/xlink\">\n<g id=\"graph0\" class=\"graph\" transform=\"scale(.8079 .8079) rotate(0) translate(4 176.0456)\">\n<title>finite_state_machine</title>\n<polygon fill=\"#ffffff\" stroke=\"transparent\" points=\"-4,4 -4,-176.0456 708.9749,-176.0456 708.9749,4 -4,4\"/>\n<g id=\"node1\" class=\"node\">\n<title></title>\n<ellipse fill=\"#000000\" stroke=\"#000000\" cx=\"1.8\" cy=\"-45.3478\" rx=\"1.8\" ry=\"1.8\"/>\n</g>\n<!-- q0 -->\n<g id=\"node5\" class=\"node\">\n<title>q0</title>\n<ellipse fill=\"none\" stroke=\"#000000\" cx=\"65.3982\" cy=\"-45.3478\" rx=\"20.6302\" ry=\"20.6302\"/>\n<ellipse fill=\"none\" stroke=\"#000000\" cx=\"65.3982\" cy=\"-45.3478\" rx=\"24.5979\" ry=\"24.5979\"/>\n<text text-anchor=\"middle\" x=\"65.3982\" y=\"-41.6478\" font-family=\"Times,serif\" font-size=\"14.00\" fill=\"#000000\">q0</text>\n</g>\n<!-- &#45;&gt;q0 -->\n<g id=\"edge1\" class=\"edge\">\n<title>&#45;&gt;q0</title>\n<path fill=\"none\" stroke=\"#000000\" d=\"M3.6348,-45.3478C7.8563,-45.3478 18.7828,-45.3478 30.2933,-45.3478\"/>\n<polygon fill=\"#000000\" stroke=\"#000000\" points=\"30.4051,-48.8478 40.4051,-45.3478 30.4051,-41.8478 30.4051,-48.8478\"/>\n</g>\n<!-- p1 -->\n<g id=\"node2\" class=\"node\">\n<title>p1</title>\n<ellipse fill=\"none\" stroke=\"#000000\" cx=\"169.9945\" cy=\"-45.3478\" rx=\"20.6302\" ry=\"20.6302\"/>\n<ellipse fill=\"none\" stroke=\"#000000\" cx=\"169.9945\" cy=\"-45.3478\" rx=\"24.5979\" ry=\"24.5979\"/>\n<text text-anchor=\"middle\" x=\"169.9945\" y=\"-41.6478\" font-family=\"Times,serif\" font-size=\"14.00\" fill=\"#000000\">p1</text>\n</g>\n<!-- p2z -->\n<g id=\"node3\" class=\"node\">\n<title>p2z</title>\n<ellipse fill=\"none\" stroke=\"#000000\" cx=\"267.4904\" cy=\"-86.3478\" rx=\"24.8692\" ry=\"24.8692\"/>\n<ellipse fill=\"none\" stroke=\"#000000\" cx=\"267.4904\" cy=\"-86.3478\" rx=\"28.897\" ry=\"28.897\"/>\n<text text-anchor=\"middle\" x=\"267.4904\" y=\"-82.6478\" font-family=\"Times,serif\" font-size=\"14.00\" fill=\"#000000\">p2z</text>\n</g>\n<!-- p1&#45;&gt;p2z -->\n<g id=\"edge3\" class=\"edge\">\n<title>p1&#45;&gt;p2z</title>\n<path fill=\"none\" stroke=\"#000000\" d=\"M193.0996,-55.0642C204.4972,-59.8572 218.5092,-65.7497 231.2873,-71.1232\"/>\n<polygon fill=\"#000000\" stroke=\"#000000\" points=\"230.1797,-74.4543 240.7545,-75.1045 232.8932,-68.0016 230.1797,-74.4543\"/>\n<text text-anchor=\"middle\" x=\"216.7926\" y=\"-69.1478\" font-family=\"Times,serif\" font-size=\"14.00\" fill=\"#000000\">0</text>\n</g>\n<!-- p2u -->\n<g id=\"node7\" class=\"node\">\n<title>p2u</title>\n<ellipse fill=\"none\" stroke=\"#000000\" cx=\"481.9316\" cy=\"-29.3478\" rx=\"25.2169\" ry=\"25.2169\"/>\n<ellipse fill=\"none\" stroke=\"#000000\" cx=\"481.9316\" cy=\"-29.3478\" rx=\"29.1963\" ry=\"29.1963\"/>\n<text text-anchor=\"middle\" x=\"481.9316\" y=\"-25.6478\" font-family=\"Times,serif\" font-size=\"14.00\" fill=\"#000000\">p2u</text>\n</g>\n<!-- p1&#45;&gt;p2u -->\n<g id=\"edge4\" class=\"edge\">\n<title>p1&#45;&gt;p2u</title>\n<path fill=\"none\" stroke=\"#000000\" d=\"M194.9943,-44.0655C248.9523,-41.2978 376.7144,-34.7446 442.01,-31.3954\"/>\n<polygon fill=\"#000000\" stroke=\"#000000\" points=\"442.5031,-34.8748 452.3107,-30.8671 442.1445,-27.884 442.5031,-34.8748\"/>\n<text text-anchor=\"middle\" x=\"323.6882\" y=\"-42.1478\" font-family=\"Times,serif\" font-size=\"14.00\" fill=\"#000000\">1</text>\n</g>\n<!-- p3z -->\n<g id=\"node4\" class=\"node\">\n<title>p3z</title>\n<ellipse fill=\"none\" stroke=\"#000000\" cx=\"379.886\" cy=\"-143.3478\" rx=\"24.8692\" ry=\"24.8692\"/>\n<ellipse fill=\"none\" stroke=\"#000000\" cx=\"379.886\" cy=\"-143.3478\" rx=\"28.897\" ry=\"28.897\"/>\n<text text-anchor=\"middle\" x=\"379.886\" y=\"-139.6478\" font-family=\"Times,serif\" font-size=\"14.00\" fill=\"#000000\">p3z</text>\n</g>\n<!-- p2z&#45;&gt;p3z -->\n<g id=\"edge5\" class=\"edge\">\n<title>p2z&#45;&gt;p3z</title>\n<path fill=\"none\" stroke=\"#000000\" d=\"M293.2763,-99.4247C308.6971,-107.2452 328.49,-117.2829 345.2609,-125.788\"/>\n<polygon fill=\"#000000\" stroke=\"#000000\" points=\"343.7185,-128.9301 354.2202,-130.3316 346.8846,-122.6871 343.7185,-128.9301\"/>\n<text text-anchor=\"middle\" x=\"323.6882\" y=\"-121.1478\" font-family=\"Times,serif\" font-size=\"14.00\" fill=\"#000000\">0,1</text>\n</g>\n<!-- p3z&#45;&gt;p2u -->\n<g id=\"edge7\" class=\"edge\">\n<title>p3z&#45;&gt;p2u</title>\n<path fill=\"none\" stroke=\"#000000\" d=\"M404.2692,-127.8596C414.319,-120.7977 425.6713,-111.8864 434.5839,-102.3478 445.1234,-91.0678 454.7936,-77.1604 462.6088,-64.5209\"/>\n<polygon fill=\"#000000\" stroke=\"#000000\" points=\"465.8185,-65.9739 467.9577,-55.5972 459.8145,-62.375 465.8185,-65.9739\"/>\n<text text-anchor=\"middle\" x=\"430.5839\" y=\"-113.1478\" font-family=\"Times,serif\" font-size=\"14.00\" fill=\"#000000\">1</text>\n</g>\n<!-- F -->\n<g id=\"node8\" class=\"node\">\n<title>F</title>\n<ellipse fill=\"none\" stroke=\"#000000\" cx=\"686.9749\" cy=\"-120.3478\" rx=\"18\" ry=\"18\"/>\n<text text-anchor=\"middle\" x=\"686.9749\" y=\"-116.6478\" font-family=\"Times,serif\" font-size=\"14.00\" fill=\"#000000\">F</text>\n</g>\n<!-- p3z&#45;&gt;F -->\n<g id=\"edge9\" class=\"edge\">\n<title>p3z&#45;&gt;F</title>\n<path fill=\"none\" stroke=\"#000000\" d=\"M408.83,-142.1083C458.4693,-139.8301 562.9965,-134.3665 650.9749,-125.3478 653.5563,-125.0831 656.2374,-124.7745 658.9195,-124.4428\"/>\n<polygon fill=\"#000000\" stroke=\"#000000\" points=\"659.6091,-127.882 669.0602,-123.0938 658.686,-120.9431 659.6091,-127.882\"/>\n<text text-anchor=\"middle\" x=\"538.7794\" y=\"-138.1478\" font-family=\"Times,serif\" font-size=\"14.00\" fill=\"#000000\">0</text>\n</g>\n<!-- q0&#45;&gt;p1 -->\n<g id=\"edge2\" class=\"edge\">\n<title>q0&#45;&gt;p1</title>\n<path fill=\"none\" stroke=\"#000000\" d=\"M90.4516,-45.3478C103.7771,-45.3478 120.3766,-45.3478 134.9592,-45.3478\"/>\n<polygon fill=\"#000000\" stroke=\"#000000\" points=\"135.1455,-48.8478 145.1455,-45.3478 135.1454,-41.8478 135.1455,-48.8478\"/>\n<text text-anchor=\"middle\" x=\"117.6963\" y=\"-49.1478\" font-family=\"Times,serif\" font-size=\"14.00\" fill=\"#000000\">0,1</text>\n</g>\n<!-- p3u -->\n<g id=\"node6\" class=\"node\">\n<title>p3u</title>\n<ellipse fill=\"none\" stroke=\"#000000\" cx=\"595.6271\" cy=\"-86.3478\" rx=\"25.2169\" ry=\"25.2169\"/>\n<ellipse fill=\"none\" stroke=\"#000000\" cx=\"595.6271\" cy=\"-86.3478\" rx=\"29.1963\" ry=\"29.1963\"/>\n<text text-anchor=\"middle\" x=\"595.6271\" y=\"-82.6478\" font-family=\"Times,serif\" font-size=\"14.00\" fill=\"#000000\">p3u</text>\n</g>\n<!-- p3u&#45;&gt;p2z -->\n<g id=\"edge8\" class=\"edge\">\n<title>p3u&#45;&gt;p2z</title>\n<path fill=\"none\" stroke=\"#000000\" d=\"M566.0088,-85.3352C532.261,-84.2946 475.4534,-82.887 426.5839,-83.3478 385.6333,-83.7338 338.7616,-84.6787 306.5579,-85.4058\"/>\n<polygon fill=\"#000000\" stroke=\"#000000\" points=\"306.1458,-81.9143 296.2287,-85.6429 306.3065,-88.9124 306.1458,-81.9143\"/>\n<text text-anchor=\"middle\" x=\"430.5839\" y=\"-87.1478\" font-family=\"Times,serif\" font-size=\"14.00\" fill=\"#000000\">0</text>\n</g>\n<!-- p3u&#45;&gt;F -->\n<g id=\"edge10\" class=\"edge\">\n<title>p3u&#45;&gt;F</title>\n<path fill=\"none\" stroke=\"#000000\" d=\"M623.5308,-96.7336C635.2181,-101.0837 648.7445,-106.1183 660.2977,-110.4184\"/>\n<polygon fill=\"#000000\" stroke=\"#000000\" points=\"659.2539,-113.7644 669.8467,-113.9726 661.6957,-107.2041 659.2539,-113.7644\"/>\n<text text-anchor=\"middle\" x=\"646.9749\" y=\"-110.1478\" font-family=\"Times,serif\" font-size=\"14.00\" fill=\"#000000\">1</text>\n</g>\n<!-- p2u&#45;&gt;p3u -->\n<g id=\"edge6\" class=\"edge\">\n<title>p2u&#45;&gt;p3u</title>\n<path fill=\"none\" stroke=\"#000000\" d=\"M509.4697,-39.8868C521.5669,-44.7916 535.8233,-50.9506 548.2794,-57.3478 552.8775,-59.7093 557.6269,-62.3539 562.2623,-65.0595\"/>\n<polygon fill=\"#000000\" stroke=\"#000000\" points=\"560.5901,-68.1377 570.9664,-70.279 564.1902,-62.1344 560.5901,-68.1377\"/>\n<text text-anchor=\"middle\" x=\"538.7794\" y=\"-61.1478\" font-family=\"Times,serif\" font-size=\"14.00\" fill=\"#000000\">0,1</text>\n</g>\n</g>\n</svg>\n"
          },
          "metadata": {},
          "execution_count": 74
        }
      ]
    },
    {
      "cell_type": "markdown",
      "metadata": {
        "id": "KtD1cERXTjzK"
      },
      "source": [
        "2. Construa um AFD para a seguinte linguagem sobre o alfabeto $\\Sigma = \\{0, 1\\}$: O conjunto das palavras em que o símbolo na posicao $2i  -  1$ difere do símbolo na posicao $2i$, para $i  \\geq  1$."
      ]
    },
    {
      "cell_type": "code",
      "metadata": {
        "colab": {
          "base_uri": "https://localhost:8080/",
          "height": 215
        },
        "id": "sEYjkvgeeo7W",
        "outputId": "c8277894-b13c-4c13-b5a7-7697b76d2167"
      },
      "source": [
        "#@title Q.02\n",
        "\n",
        "#Q = Estados \n",
        "Q = { 'q0', 'p0', 'p1', 's0', 's1'}   \n",
        "\n",
        "Sigma = {'0','1'}    #Alfabeto\n",
        "delta = {            #Função de transição\n",
        "  \n",
        "  ('q0', '0'): 'p0',\n",
        "  ('q0', '1'): 'p1',\n",
        "\n",
        "  ('p0', '1'): 's0',\n",
        "  ('p1', '0'): 's1',\n",
        "\n",
        "  ('s1', '1'): 'p1',\n",
        "  ('s0', '0'): 'p0',\n",
        "\n",
        "  ('s0', '1'): 'p1',\n",
        "  ('s1', '0'): 'p0',\n",
        "  \n",
        "}\n",
        "\n",
        "q0 = 'q0'                               #Estado Inicial\n",
        "F = {'q0', 'p0', 's0', 'p1', 's1'}            #Estado Final\n",
        " \n",
        "M = AFD(Q,Sigma,delta,q0,F)\n",
        "\n",
        "print(M.aceita(\"011000\"))\n",
        "M.visualizar()"
      ],
      "execution_count": null,
      "outputs": [
        {
          "output_type": "stream",
          "name": "stdout",
          "text": [
            "False\n"
          ]
        },
        {
          "output_type": "execute_result",
          "data": {
            "text/plain": [
              "<graphviz.dot.Digraph at 0x7facb3626a10>"
            ],
            "image/svg+xml": "<?xml version=\"1.0\" encoding=\"UTF-8\" standalone=\"no\"?>\n<!DOCTYPE svg PUBLIC \"-//W3C//DTD SVG 1.1//EN\"\n \"http://www.w3.org/Graphics/SVG/1.1/DTD/svg11.dtd\">\n<!-- Generated by graphviz version 2.40.1 (20161225.0304)\n -->\n<!-- Title: finite_state_machine Pages: 1 -->\n<svg width=\"465pt\" height=\"118pt\"\n viewBox=\"0.00 0.00 464.78 117.80\" xmlns=\"http://www.w3.org/2000/svg\" xmlns:xlink=\"http://www.w3.org/1999/xlink\">\n<g id=\"graph0\" class=\"graph\" transform=\"scale(1 1) rotate(0) translate(4 113.7982)\">\n<title>finite_state_machine</title>\n<polygon fill=\"#ffffff\" stroke=\"transparent\" points=\"-4,4 -4,-113.7982 460.7822,-113.7982 460.7822,4 -4,4\"/>\n<g id=\"node1\" class=\"node\">\n<title></title>\n<ellipse fill=\"#000000\" stroke=\"#000000\" cx=\"1.8\" cy=\"-24.7982\" rx=\"1.8\" ry=\"1.8\"/>\n</g>\n<!-- q0 -->\n<g id=\"node2\" class=\"node\">\n<title>q0</title>\n<ellipse fill=\"none\" stroke=\"#000000\" cx=\"65.3982\" cy=\"-24.7982\" rx=\"20.6302\" ry=\"20.6302\"/>\n<ellipse fill=\"none\" stroke=\"#000000\" cx=\"65.3982\" cy=\"-24.7982\" rx=\"24.5979\" ry=\"24.5979\"/>\n<text text-anchor=\"middle\" x=\"65.3982\" y=\"-21.0982\" font-family=\"Times,serif\" font-size=\"14.00\" fill=\"#000000\">q0</text>\n</g>\n<!-- &#45;&gt;q0 -->\n<g id=\"edge1\" class=\"edge\">\n<title>&#45;&gt;q0</title>\n<path fill=\"none\" stroke=\"#000000\" d=\"M3.6348,-24.7982C7.8563,-24.7982 18.7828,-24.7982 30.2933,-24.7982\"/>\n<polygon fill=\"#000000\" stroke=\"#000000\" points=\"30.4051,-28.2983 40.4051,-24.7982 30.4051,-21.2983 30.4051,-28.2983\"/>\n</g>\n<!-- p1 -->\n<g id=\"node3\" class=\"node\">\n<title>p1</title>\n<ellipse fill=\"none\" stroke=\"#000000\" cx=\"158.9945\" cy=\"-72.7982\" rx=\"20.6302\" ry=\"20.6302\"/>\n<ellipse fill=\"none\" stroke=\"#000000\" cx=\"158.9945\" cy=\"-72.7982\" rx=\"24.5979\" ry=\"24.5979\"/>\n<text text-anchor=\"middle\" x=\"158.9945\" y=\"-69.0982\" font-family=\"Times,serif\" font-size=\"14.00\" fill=\"#000000\">p1</text>\n</g>\n<!-- q0&#45;&gt;p1 -->\n<g id=\"edge3\" class=\"edge\">\n<title>q0&#45;&gt;p1</title>\n<path fill=\"none\" stroke=\"#000000\" d=\"M87.5792,-36.1735C99.4981,-42.286 114.3953,-49.9259 127.4953,-56.6441\"/>\n<polygon fill=\"#000000\" stroke=\"#000000\" points=\"126.153,-59.8891 136.6483,-61.3381 129.3474,-53.6604 126.153,-59.8891\"/>\n<text text-anchor=\"middle\" x=\"112.1963\" y=\"-53.5982\" font-family=\"Times,serif\" font-size=\"14.00\" fill=\"#000000\">1</text>\n</g>\n<!-- p0 -->\n<g id=\"node5\" class=\"node\">\n<title>p0</title>\n<ellipse fill=\"none\" stroke=\"#000000\" cx=\"342.2874\" cy=\"-52.7982\" rx=\"20.6302\" ry=\"20.6302\"/>\n<ellipse fill=\"none\" stroke=\"#000000\" cx=\"342.2874\" cy=\"-52.7982\" rx=\"24.5979\" ry=\"24.5979\"/>\n<text text-anchor=\"middle\" x=\"342.2874\" y=\"-49.0982\" font-family=\"Times,serif\" font-size=\"14.00\" fill=\"#000000\">p0</text>\n</g>\n<!-- q0&#45;&gt;p0 -->\n<g id=\"edge2\" class=\"edge\">\n<title>q0&#45;&gt;p0</title>\n<path fill=\"none\" stroke=\"#000000\" d=\"M90.3487,-22.3714C129.6955,-19.1658 208.3822,-15.279 273.4893,-27.7982 285.7476,-30.1553 298.7277,-34.3841 310.0709,-38.7014\"/>\n<polygon fill=\"#000000\" stroke=\"#000000\" points=\"308.973,-42.0313 319.5586,-42.4732 311.559,-35.5264 308.973,-42.0313\"/>\n<text text-anchor=\"middle\" x=\"205.7926\" y=\"-23.5982\" font-family=\"Times,serif\" font-size=\"14.00\" fill=\"#000000\">0</text>\n</g>\n<!-- s1 -->\n<g id=\"node4\" class=\"node\">\n<title>s1</title>\n<ellipse fill=\"none\" stroke=\"#000000\" cx=\"250.6409\" cy=\"-59.7982\" rx=\"18.724\" ry=\"18.724\"/>\n<ellipse fill=\"none\" stroke=\"#000000\" cx=\"250.6409\" cy=\"-59.7982\" rx=\"22.6977\" ry=\"22.6977\"/>\n<text text-anchor=\"middle\" x=\"250.6409\" y=\"-56.0982\" font-family=\"Times,serif\" font-size=\"14.00\" fill=\"#000000\">s1</text>\n</g>\n<!-- p1&#45;&gt;s1 -->\n<g id=\"edge5\" class=\"edge\">\n<title>p1&#45;&gt;s1</title>\n<path fill=\"none\" stroke=\"#000000\" d=\"M183.554,-69.3144C194.1085,-67.8172 206.5969,-66.0458 217.9199,-64.4396\"/>\n<polygon fill=\"#000000\" stroke=\"#000000\" points=\"218.4928,-67.8935 227.9021,-63.0236 217.5097,-60.9629 218.4928,-67.8935\"/>\n<text text-anchor=\"middle\" x=\"205.7926\" y=\"-69.5982\" font-family=\"Times,serif\" font-size=\"14.00\" fill=\"#000000\">0</text>\n</g>\n<!-- s1&#45;&gt;p1 -->\n<g id=\"edge6\" class=\"edge\">\n<title>s1&#45;&gt;p1</title>\n<path fill=\"none\" stroke=\"#000000\" d=\"M230.1695,-49.3968C221.4148,-46.23 211.0886,-44.1958 201.7926,-46.7982 197.0206,-48.1341 192.2518,-50.1641 187.7215,-52.5128\"/>\n<polygon fill=\"#000000\" stroke=\"#000000\" points=\"185.7316,-49.6206 178.8325,-57.6614 189.24,-55.6779 185.7316,-49.6206\"/>\n<text text-anchor=\"middle\" x=\"205.7926\" y=\"-50.5982\" font-family=\"Times,serif\" font-size=\"14.00\" fill=\"#000000\">1</text>\n</g>\n<!-- s1&#45;&gt;p0 -->\n<g id=\"edge9\" class=\"edge\">\n<title>s1&#45;&gt;p0</title>\n<path fill=\"none\" stroke=\"#000000\" d=\"M273.7672,-58.0318C283.8132,-57.2644 295.8064,-56.3484 306.9302,-55.4988\"/>\n<polygon fill=\"#000000\" stroke=\"#000000\" points=\"307.5327,-58.963 317.2371,-54.7115 306.9995,-51.9834 307.5327,-58.963\"/>\n<text text-anchor=\"middle\" x=\"295.4893\" y=\"-59.5982\" font-family=\"Times,serif\" font-size=\"14.00\" fill=\"#000000\">0</text>\n</g>\n<!-- s0 -->\n<g id=\"node6\" class=\"node\">\n<title>s0</title>\n<ellipse fill=\"none\" stroke=\"#000000\" cx=\"433.9339\" cy=\"-84.7982\" rx=\"18.724\" ry=\"18.724\"/>\n<ellipse fill=\"none\" stroke=\"#000000\" cx=\"433.9339\" cy=\"-84.7982\" rx=\"22.6977\" ry=\"22.6977\"/>\n<text text-anchor=\"middle\" x=\"433.9339\" y=\"-81.0982\" font-family=\"Times,serif\" font-size=\"14.00\" fill=\"#000000\">s0</text>\n</g>\n<!-- p0&#45;&gt;s0 -->\n<g id=\"edge4\" class=\"edge\">\n<title>p0&#45;&gt;s0</title>\n<path fill=\"none\" stroke=\"#000000\" d=\"M365.8887,-61.0389C377.0759,-64.9452 390.5946,-69.6655 402.625,-73.8661\"/>\n<polygon fill=\"#000000\" stroke=\"#000000\" points=\"401.7018,-77.2509 412.2966,-77.2431 404.0094,-70.6422 401.7018,-77.2509\"/>\n<text text-anchor=\"middle\" x=\"389.0856\" y=\"-72.5982\" font-family=\"Times,serif\" font-size=\"14.00\" fill=\"#000000\">1</text>\n</g>\n<!-- s0&#45;&gt;p1 -->\n<g id=\"edge8\" class=\"edge\">\n<title>s0&#45;&gt;p1</title>\n<path fill=\"none\" stroke=\"#000000\" d=\"M411.2425,-88.002C373.1475,-92.8376 293.9999,-100.5548 227.7926,-91.7982 216.0362,-90.2432 203.4548,-87.1955 192.3083,-83.9885\"/>\n<polygon fill=\"#000000\" stroke=\"#000000\" points=\"193.1249,-80.579 182.54,-81.0367 191.1001,-87.2797 193.1249,-80.579\"/>\n<text text-anchor=\"middle\" x=\"295.4893\" y=\"-98.5982\" font-family=\"Times,serif\" font-size=\"14.00\" fill=\"#000000\">1</text>\n</g>\n<!-- s0&#45;&gt;p0 -->\n<g id=\"edge7\" class=\"edge\">\n<title>s0&#45;&gt;p0</title>\n<path fill=\"none\" stroke=\"#000000\" d=\"M419.1012,-66.9922C412.0462,-59.8979 402.9896,-52.5396 393.0856,-48.7982 387.8616,-46.8247 382.1252,-46.0677 376.4468,-46.0472\"/>\n<polygon fill=\"#000000\" stroke=\"#000000\" points=\"376.1622,-42.5582 366.4114,-46.7021 376.6181,-49.5434 376.1622,-42.5582\"/>\n<text text-anchor=\"middle\" x=\"389.0856\" y=\"-52.5982\" font-family=\"Times,serif\" font-size=\"14.00\" fill=\"#000000\">0</text>\n</g>\n</g>\n</svg>\n"
          },
          "metadata": {},
          "execution_count": 7
        }
      ]
    },
    {
      "cell_type": "markdown",
      "metadata": {
        "id": "Wh0on_vFQ0iu"
      },
      "source": [
        "3. Construa um AFD para a seguinte linguagem sobre o alfabeto $\\Sigma = \\{0, 1\\}$: O conjunto das palavras em que o símbolo na posicao $i$ difere do símbolo na posicao $i + 2$ , para $i  \\geq  1$."
      ]
    },
    {
      "cell_type": "code",
      "metadata": {
        "colab": {
          "base_uri": "https://localhost:8080/",
          "height": 270
        },
        "id": "b0PDAh13eN5I",
        "cellView": "form",
        "outputId": "da058339-71f6-4e8e-9930-25a84f7048ba"
      },
      "source": [
        "#@title Q.03\n",
        "\n",
        "Q={'P0', 'P1Z', 'P1U','P2Z', 'P2U'}\n",
        "Sigma={'0', '1'}\n",
        "delta={\n",
        "    ('P0', '0'): 'P1Z',\n",
        "    ('P0', '1'): 'P1U',\n",
        "\n",
        "    ('P1U', '0'): 'P2U',\n",
        "    ('P1U', '1'): 'P2U',\n",
        "    \n",
        "    ('P1Z', '0'): 'P2Z',\n",
        "    ('P1Z', '1'): 'P2Z',\n",
        "\n",
        "    ('P2Z', '1'): 'P1U',\n",
        "    ('P2U', '0'): 'P1Z',\n",
        "\n",
        "    ('P2Z', '0'): 'F',\n",
        "    ('P2U', '1'): 'F',\n",
        "    }\n",
        "\n",
        "q0='P0'\n",
        "F={'P0', 'P1U', 'P1Z', 'P2U', 'P2Z'}\n",
        "\n",
        "M = AFD(Q,Sigma,delta,q0,F)\n",
        "\n",
        "print(M.aceita('01101'))\n",
        "M.visualizar()"
      ],
      "execution_count": null,
      "outputs": [
        {
          "output_type": "stream",
          "name": "stdout",
          "text": [
            "False\n"
          ]
        },
        {
          "output_type": "execute_result",
          "data": {
            "text/plain": [
              "<graphviz.dot.Digraph at 0x7ff419180e50>"
            ],
            "image/svg+xml": "<?xml version=\"1.0\" encoding=\"UTF-8\" standalone=\"no\"?>\n<!DOCTYPE svg PUBLIC \"-//W3C//DTD SVG 1.1//EN\"\n \"http://www.w3.org/Graphics/SVG/1.1/DTD/svg11.dtd\">\n<!-- Generated by graphviz version 2.40.1 (20161225.0304)\n -->\n<!-- Title: finite_state_machine Pages: 1 -->\n<svg width=\"576pt\" height=\"174pt\"\n viewBox=\"0.00 0.00 576.00 174.29\" xmlns=\"http://www.w3.org/2000/svg\" xmlns:xlink=\"http://www.w3.org/1999/xlink\">\n<g id=\"graph0\" class=\"graph\" transform=\"scale(.9193 .9193) rotate(0) translate(4 185.5952)\">\n<title>finite_state_machine</title>\n<polygon fill=\"#ffffff\" stroke=\"transparent\" points=\"-4,4 -4,-185.5952 622.5769,-185.5952 622.5769,4 -4,4\"/>\n<g id=\"node1\" class=\"node\">\n<title></title>\n<ellipse fill=\"#000000\" stroke=\"#000000\" cx=\"1.8\" cy=\"-46.6476\" rx=\"1.8\" ry=\"1.8\"/>\n</g>\n<!-- P0 -->\n<g id=\"node2\" class=\"node\">\n<title>P0</title>\n<ellipse fill=\"none\" stroke=\"#000000\" cx=\"65.3982\" cy=\"-46.6476\" rx=\"20.6302\" ry=\"20.6302\"/>\n<ellipse fill=\"none\" stroke=\"#000000\" cx=\"65.3982\" cy=\"-46.6476\" rx=\"24.5979\" ry=\"24.5979\"/>\n<text text-anchor=\"middle\" x=\"65.3982\" y=\"-42.9476\" font-family=\"Times,serif\" font-size=\"14.00\" fill=\"#000000\">P0</text>\n</g>\n<!-- &#45;&gt;P0 -->\n<g id=\"edge1\" class=\"edge\">\n<title>&#45;&gt;P0</title>\n<path fill=\"none\" stroke=\"#000000\" d=\"M3.6348,-46.6476C7.8563,-46.6476 18.7828,-46.6476 30.2933,-46.6476\"/>\n<polygon fill=\"#000000\" stroke=\"#000000\" points=\"30.4051,-50.1477 40.4051,-46.6476 30.4051,-43.1477 30.4051,-50.1477\"/>\n</g>\n<!-- P1U -->\n<g id=\"node4\" class=\"node\">\n<title>P1U</title>\n<ellipse fill=\"none\" stroke=\"#000000\" cx=\"166.1438\" cy=\"-90.6476\" rx=\"27.9017\" ry=\"27.9017\"/>\n<ellipse fill=\"none\" stroke=\"#000000\" cx=\"166.1438\" cy=\"-90.6476\" rx=\"31.8951\" ry=\"31.8951\"/>\n<text text-anchor=\"middle\" x=\"166.1438\" y=\"-86.9476\" font-family=\"Times,serif\" font-size=\"14.00\" fill=\"#000000\">P1U</text>\n</g>\n<!-- P0&#45;&gt;P1U -->\n<g id=\"edge3\" class=\"edge\">\n<title>P0&#45;&gt;P1U</title>\n<path fill=\"none\" stroke=\"#000000\" d=\"M88.2589,-56.6319C99.8445,-61.6919 114.231,-67.9751 127.4749,-73.7593\"/>\n<polygon fill=\"#000000\" stroke=\"#000000\" points=\"126.2952,-77.0632 136.8602,-77.8582 129.0969,-70.6483 126.2952,-77.0632\"/>\n<text text-anchor=\"middle\" x=\"112.1963\" y=\"-72.4476\" font-family=\"Times,serif\" font-size=\"14.00\" fill=\"#000000\">1</text>\n</g>\n<!-- P1Z -->\n<g id=\"node6\" class=\"node\">\n<title>P1Z</title>\n<ellipse fill=\"none\" stroke=\"#000000\" cx=\"391.634\" cy=\"-30.6476\" rx=\"26.7766\" ry=\"26.7766\"/>\n<ellipse fill=\"none\" stroke=\"#000000\" cx=\"391.634\" cy=\"-30.6476\" rx=\"30.796\" ry=\"30.796\"/>\n<text text-anchor=\"middle\" x=\"391.634\" y=\"-26.9476\" font-family=\"Times,serif\" font-size=\"14.00\" fill=\"#000000\">P1Z</text>\n</g>\n<!-- P0&#45;&gt;P1Z -->\n<g id=\"edge2\" class=\"edge\">\n<title>P0&#45;&gt;P1Z</title>\n<path fill=\"none\" stroke=\"#000000\" d=\"M90.1866,-45.4319C146.0534,-42.692 282.2529,-36.0122 350.8032,-32.6502\"/>\n<polygon fill=\"#000000\" stroke=\"#000000\" points=\"350.9889,-36.1454 360.8054,-32.1596 350.6459,-29.1538 350.9889,-36.1454\"/>\n<text text-anchor=\"middle\" x=\"225.5913\" y=\"-43.4476\" font-family=\"Times,serif\" font-size=\"14.00\" fill=\"#000000\">0</text>\n</g>\n<!-- P2Z -->\n<g id=\"node3\" class=\"node\">\n<title>P2Z</title>\n<ellipse fill=\"none\" stroke=\"#000000\" cx=\"507.9293\" cy=\"-89.6476\" rx=\"26.7766\" ry=\"26.7766\"/>\n<ellipse fill=\"none\" stroke=\"#000000\" cx=\"507.9293\" cy=\"-89.6476\" rx=\"30.796\" ry=\"30.796\"/>\n<text text-anchor=\"middle\" x=\"507.9293\" y=\"-85.9476\" font-family=\"Times,serif\" font-size=\"14.00\" fill=\"#000000\">P2Z</text>\n</g>\n<!-- P2Z&#45;&gt;P1U -->\n<g id=\"edge6\" class=\"edge\">\n<title>P2Z&#45;&gt;P1U</title>\n<path fill=\"none\" stroke=\"#000000\" d=\"M477.2279,-88.9224C444.1057,-88.179 389.8119,-87.0734 342.9864,-86.6476 296.8698,-86.2283 244.003,-87.6774 208.1756,-88.9472\"/>\n<polygon fill=\"#000000\" stroke=\"#000000\" points=\"207.9522,-85.4529 198.0868,-89.316 208.208,-92.4483 207.9522,-85.4529\"/>\n<text text-anchor=\"middle\" x=\"338.9864\" y=\"-90.4476\" font-family=\"Times,serif\" font-size=\"14.00\" fill=\"#000000\">1</text>\n</g>\n<!-- F -->\n<g id=\"node7\" class=\"node\">\n<title>F</title>\n<ellipse fill=\"none\" stroke=\"#000000\" cx=\"600.5769\" cy=\"-123.6476\" rx=\"18\" ry=\"18\"/>\n<text text-anchor=\"middle\" x=\"600.5769\" y=\"-119.9476\" font-family=\"Times,serif\" font-size=\"14.00\" fill=\"#000000\">F</text>\n</g>\n<!-- P2Z&#45;&gt;F -->\n<g id=\"edge8\" class=\"edge\">\n<title>P2Z&#45;&gt;F</title>\n<path fill=\"none\" stroke=\"#000000\" d=\"M536.7357,-100.2191C548.6502,-104.5915 562.3777,-109.6292 574.0431,-113.9102\"/>\n<polygon fill=\"#000000\" stroke=\"#000000\" points=\"573.0728,-117.2823 583.6664,-117.4418 575.4844,-110.7108 573.0728,-117.2823\"/>\n<text text-anchor=\"middle\" x=\"560.5769\" y=\"-113.4476\" font-family=\"Times,serif\" font-size=\"14.00\" fill=\"#000000\">0</text>\n</g>\n<!-- P2U -->\n<g id=\"node5\" class=\"node\">\n<title>P2U</title>\n<ellipse fill=\"none\" stroke=\"#000000\" cx=\"285.0389\" cy=\"-149.6476\" rx=\"27.9017\" ry=\"27.9017\"/>\n<ellipse fill=\"none\" stroke=\"#000000\" cx=\"285.0389\" cy=\"-149.6476\" rx=\"31.8951\" ry=\"31.8951\"/>\n<text text-anchor=\"middle\" x=\"285.0389\" y=\"-145.9476\" font-family=\"Times,serif\" font-size=\"14.00\" fill=\"#000000\">P2U</text>\n</g>\n<!-- P1U&#45;&gt;P2U -->\n<g id=\"edge4\" class=\"edge\">\n<title>P1U&#45;&gt;P2U</title>\n<path fill=\"none\" stroke=\"#000000\" d=\"M194.925,-104.9299C210.5815,-112.6992 230.1459,-122.4077 247.0409,-130.7917\"/>\n<polygon fill=\"#000000\" stroke=\"#000000\" points=\"245.5971,-133.9824 256.1107,-135.2924 248.7087,-127.712 245.5971,-133.9824\"/>\n<text text-anchor=\"middle\" x=\"225.5913\" y=\"-127.4476\" font-family=\"Times,serif\" font-size=\"14.00\" fill=\"#000000\">0,1</text>\n</g>\n<!-- P2U&#45;&gt;P1Z -->\n<g id=\"edge7\" class=\"edge\">\n<title>P2U&#45;&gt;P1Z</title>\n<path fill=\"none\" stroke=\"#000000\" d=\"M312.0247,-132.1375C322.3743,-124.6895 333.8752,-115.4594 342.9864,-105.6476 353.798,-94.0046 363.7423,-79.6796 371.7839,-66.6796\"/>\n<polygon fill=\"#000000\" stroke=\"#000000\" points=\"374.8844,-68.315 377.0344,-57.9406 368.8841,-64.7099 374.8844,-68.315\"/>\n<text text-anchor=\"middle\" x=\"338.9864\" y=\"-115.4476\" font-family=\"Times,serif\" font-size=\"14.00\" fill=\"#000000\">0</text>\n</g>\n<!-- P2U&#45;&gt;F -->\n<g id=\"edge9\" class=\"edge\">\n<title>P2U&#45;&gt;F</title>\n<path fill=\"none\" stroke=\"#000000\" d=\"M316.9591,-147.9061C368.9347,-144.9229 475.0518,-138.2178 564.5769,-128.6476 567.1572,-128.3718 569.8375,-128.0556 572.5191,-127.719\"/>\n<polygon fill=\"#000000\" stroke=\"#000000\" points=\"573.2113,-131.1577 582.6591,-126.3629 572.2833,-124.2195 573.2113,-131.1577\"/>\n<text text-anchor=\"middle\" x=\"449.7817\" y=\"-143.4476\" font-family=\"Times,serif\" font-size=\"14.00\" fill=\"#000000\">1</text>\n</g>\n<!-- P1Z&#45;&gt;P2Z -->\n<g id=\"edge5\" class=\"edge\">\n<title>P1Z&#45;&gt;P2Z</title>\n<path fill=\"none\" stroke=\"#000000\" d=\"M420.2981,-42.4537C432.4752,-47.7009 446.7301,-54.1532 459.2817,-60.6476 463.805,-62.9881 468.4894,-65.5687 473.0846,-68.1964\"/>\n<polygon fill=\"#000000\" stroke=\"#000000\" points=\"471.3456,-71.2339 481.7455,-73.2569 474.8771,-65.19 471.3456,-71.2339\"/>\n<text text-anchor=\"middle\" x=\"449.7817\" y=\"-64.4476\" font-family=\"Times,serif\" font-size=\"14.00\" fill=\"#000000\">0,1</text>\n</g>\n</g>\n</svg>\n"
          },
          "metadata": {},
          "execution_count": 118
        }
      ]
    },
    {
      "cell_type": "markdown",
      "metadata": {
        "id": "IgRItL6aQ1Zp"
      },
      "source": [
        "4. Construa um AFD para a seguinte linguagem sobre o alfabeto $\\Sigma = \\{0, 1\\}$: O conjunto das palavras com numero ímpar de 0’s nas posicoes ímpares e numero par de 0’s nas posicoes pares."
      ]
    },
    {
      "cell_type": "code",
      "metadata": {
        "colab": {
          "base_uri": "https://localhost:8080/",
          "height": 273
        },
        "id": "ra-z3IVvEGL0",
        "cellView": "form",
        "outputId": "346d2515-3518-4bfd-a5d7-4c19e31a05c8"
      },
      "source": [
        "#@title Q.04 INCOMPLETA\n",
        "\n",
        "#P ou I no inicio do Estado significa posição Par ou Impar, respectivamente\n",
        "#ZI = ZERO IMPAR #ZP = ZERO PAR\n",
        "\n",
        "Q={'Q0', } \n",
        "Sigma={'0', '1'}\n",
        "delta={\n",
        "    #1 LETRA\n",
        "    ('Q0', '0'): 'IZI',   #1 letra\n",
        "    ('Q0', '1'): 'IZP',   #1 letra\n",
        "\n",
        "    #2 letra\n",
        "    ('IZI', '0'): 'PZI', #deve ter outro zero em outra posição par\n",
        "    ('IZI', '1'): 'PZP',\n",
        "\n",
        "    ('PZI', '1'): 'W1',   #a palavra ainda é válida, continua\n",
        "\n",
        "    ('PZI', '0'): 'W1',   #deve receber outro zero em outra posição impar\n",
        "\n",
        "    ('W1', '0'): 'PZP',    \n",
        "    #----\n",
        "\n",
        "    ('PZP', '0'): 'IZP',  #Pos Impar, Zero Par\n",
        "    ('PZP', '1'): 'IZI',  #Continua tendo zeros impares nas posições impares\n",
        "\n",
        "    ('IZP', '0'): 'W2',  #indifere   \n",
        "    ('IZP', '1'): 'W2',  #indifere   \n",
        "\n",
        "    \n",
        "    ('W2', '0'): 'IZI', \n",
        "\n",
        "\n",
        "\n",
        "    }\n",
        "\n",
        "q0='Q0'\n",
        "F={'IZI', 'PZP'}\n",
        "\n",
        "M = AFD(Q,Sigma,delta,q0,F)\n",
        "\n",
        "print(M.aceita('01'))\n",
        "M.visualizar()"
      ],
      "execution_count": null,
      "outputs": [
        {
          "output_type": "stream",
          "name": "stdout",
          "text": [
            "True\n"
          ]
        },
        {
          "output_type": "execute_result",
          "data": {
            "text/plain": [
              "<graphviz.dot.Digraph at 0x7f804a8d59d0>"
            ],
            "image/svg+xml": "<?xml version=\"1.0\" encoding=\"UTF-8\" standalone=\"no\"?>\n<!DOCTYPE svg PUBLIC \"-//W3C//DTD SVG 1.1//EN\"\n \"http://www.w3.org/Graphics/SVG/1.1/DTD/svg11.dtd\">\n<!-- Generated by graphviz version 2.40.1 (20161225.0304)\n -->\n<!-- Title: finite_state_machine Pages: 1 -->\n<svg width=\"576pt\" height=\"176pt\"\n viewBox=\"0.00 0.00 576.00 175.80\" xmlns=\"http://www.w3.org/2000/svg\" xmlns:xlink=\"http://www.w3.org/1999/xlink\">\n<g id=\"graph0\" class=\"graph\" transform=\"scale(.8302 .8302) rotate(0) translate(4 207.748)\">\n<title>finite_state_machine</title>\n<polygon fill=\"#ffffff\" stroke=\"transparent\" points=\"-4,4 -4,-207.748 689.7696,-207.748 689.7696,4 -4,4\"/>\n<g id=\"node1\" class=\"node\">\n<title></title>\n<ellipse fill=\"#000000\" stroke=\"#000000\" cx=\"1.8\" cy=\"-22.748\" rx=\"1.8\" ry=\"1.8\"/>\n</g>\n<!-- Q0 -->\n<g id=\"node4\" class=\"node\">\n<title>Q0</title>\n<ellipse fill=\"none\" stroke=\"#000000\" cx=\"63.348\" cy=\"-22.748\" rx=\"22.9987\" ry=\"22.9987\"/>\n<text text-anchor=\"middle\" x=\"63.348\" y=\"-19.048\" font-family=\"Times,serif\" font-size=\"14.00\" fill=\"#000000\">Q0</text>\n</g>\n<!-- &#45;&gt;Q0 -->\n<g id=\"edge1\" class=\"edge\">\n<title>&#45;&gt;Q0</title>\n<path fill=\"none\" stroke=\"#000000\" d=\"M3.8478,-22.748C8.2235,-22.748 19.0023,-22.748 30.2025,-22.748\"/>\n<polygon fill=\"#000000\" stroke=\"#000000\" points=\"30.4353,-26.2481 40.4353,-22.748 30.4352,-19.2481 30.4353,-26.2481\"/>\n</g>\n<!-- IZI -->\n<g id=\"node2\" class=\"node\">\n<title>IZI</title>\n<ellipse fill=\"none\" stroke=\"#000000\" cx=\"156.8439\" cy=\"-97.748\" rx=\"22.9609\" ry=\"22.9609\"/>\n<ellipse fill=\"none\" stroke=\"#000000\" cx=\"156.8439\" cy=\"-97.748\" rx=\"26.9983\" ry=\"26.9983\"/>\n<text text-anchor=\"middle\" x=\"156.8439\" y=\"-94.048\" font-family=\"Times,serif\" font-size=\"14.00\" fill=\"#000000\">IZI</text>\n</g>\n<!-- PZP -->\n<g id=\"node3\" class=\"node\">\n<title>PZP</title>\n<ellipse fill=\"none\" stroke=\"#000000\" cx=\"456.6807\" cy=\"-97.748\" rx=\"27.1222\" ry=\"27.1222\"/>\n<ellipse fill=\"none\" stroke=\"#000000\" cx=\"456.6807\" cy=\"-97.748\" rx=\"31.0965\" ry=\"31.0965\"/>\n<text text-anchor=\"middle\" x=\"456.6807\" y=\"-94.048\" font-family=\"Times,serif\" font-size=\"14.00\" fill=\"#000000\">PZP</text>\n</g>\n<!-- IZI&#45;&gt;PZP -->\n<g id=\"edge5\" class=\"edge\">\n<title>IZI&#45;&gt;PZP</title>\n<path fill=\"none\" stroke=\"#000000\" d=\"M179.7781,-112.0187C193.1739,-119.5059 210.7175,-127.9037 227.5919,-131.748 294.236,-146.9307 314.5627,-146.1348 381.3832,-131.748 394.5497,-128.9132 408.1877,-123.5837 420.1799,-117.971\"/>\n<polygon fill=\"#000000\" stroke=\"#000000\" points=\"421.9642,-120.9944 429.4042,-113.4513 418.8842,-114.7084 421.9642,-120.9944\"/>\n<text text-anchor=\"middle\" x=\"304.4875\" y=\"-146.548\" font-family=\"Times,serif\" font-size=\"14.00\" fill=\"#000000\">1</text>\n</g>\n<!-- PZI -->\n<g id=\"node6\" class=\"node\">\n<title>PZI</title>\n<ellipse fill=\"none\" stroke=\"#000000\" cx=\"252.2897\" cy=\"-97.748\" rx=\"24.8972\" ry=\"24.8972\"/>\n<text text-anchor=\"middle\" x=\"252.2897\" y=\"-94.048\" font-family=\"Times,serif\" font-size=\"14.00\" fill=\"#000000\">PZI</text>\n</g>\n<!-- IZI&#45;&gt;PZI -->\n<g id=\"edge4\" class=\"edge\">\n<title>IZI&#45;&gt;PZI</title>\n<path fill=\"none\" stroke=\"#000000\" d=\"M183.6849,-97.748C194.0474,-97.748 206.046,-97.748 217.0835,-97.748\"/>\n<polygon fill=\"#000000\" stroke=\"#000000\" points=\"217.2866,-101.2481 227.2865,-97.748 217.2865,-94.2481 217.2866,-101.2481\"/>\n<text text-anchor=\"middle\" x=\"205.5919\" y=\"-101.548\" font-family=\"Times,serif\" font-size=\"14.00\" fill=\"#000000\">0</text>\n</g>\n<!-- PZP&#45;&gt;IZI -->\n<g id=\"edge9\" class=\"edge\">\n<title>PZP&#45;&gt;IZI</title>\n<path fill=\"none\" stroke=\"#000000\" d=\"M429.4042,-82.0447C415.513,-74.9399 398.0694,-67.3406 381.3832,-63.748 314.5627,-49.3612 294.236,-48.5652 227.5919,-63.748 214.2769,-66.7814 200.5454,-72.6498 188.7636,-78.669\"/>\n<polygon fill=\"#000000\" stroke=\"#000000\" points=\"186.9438,-75.6731 179.7781,-83.4772 190.2465,-81.845 186.9438,-75.6731\"/>\n<text text-anchor=\"middle\" x=\"304.4875\" y=\"-57.548\" font-family=\"Times,serif\" font-size=\"14.00\" fill=\"#000000\">1</text>\n</g>\n<!-- IZP -->\n<g id=\"node5\" class=\"node\">\n<title>IZP</title>\n<ellipse fill=\"none\" stroke=\"#000000\" cx=\"556.6761\" cy=\"-97.748\" rx=\"24.8972\" ry=\"24.8972\"/>\n<text text-anchor=\"middle\" x=\"556.6761\" y=\"-94.048\" font-family=\"Times,serif\" font-size=\"14.00\" fill=\"#000000\">IZP</text>\n</g>\n<!-- PZP&#45;&gt;IZP -->\n<g id=\"edge8\" class=\"edge\">\n<title>PZP&#45;&gt;IZP</title>\n<path fill=\"none\" stroke=\"#000000\" d=\"M488.0455,-97.748C498.7231,-97.748 510.7236,-97.748 521.6683,-97.748\"/>\n<polygon fill=\"#000000\" stroke=\"#000000\" points=\"521.7604,-101.2481 531.7603,-97.748 521.7603,-94.2481 521.7604,-101.2481\"/>\n<text text-anchor=\"middle\" x=\"509.9783\" y=\"-101.548\" font-family=\"Times,serif\" font-size=\"14.00\" fill=\"#000000\">0</text>\n</g>\n<!-- Q0&#45;&gt;IZI -->\n<g id=\"edge2\" class=\"edge\">\n<title>Q0&#45;&gt;IZI</title>\n<path fill=\"none\" stroke=\"#000000\" d=\"M81.3749,-37.2087C94.5382,-47.7679 112.6617,-62.3061 127.8491,-74.4891\"/>\n<polygon fill=\"#000000\" stroke=\"#000000\" points=\"125.9439,-77.4477 135.9344,-80.9749 130.324,-71.9874 125.9439,-77.4477\"/>\n<text text-anchor=\"middle\" x=\"108.096\" y=\"-64.548\" font-family=\"Times,serif\" font-size=\"14.00\" fill=\"#000000\">0</text>\n</g>\n<!-- Q0&#45;&gt;IZP -->\n<g id=\"edge3\" class=\"edge\">\n<title>Q0&#45;&gt;IZP</title>\n<path fill=\"none\" stroke=\"#000000\" d=\"M85.4572,-16.7902C104.2884,-12.2411 132.1421,-6.748 156.8439,-6.748 156.8439,-6.748 156.8439,-6.748 456.6807,-6.748 493.3755,-6.748 522.5429,-40.682 539.6927,-67.106\"/>\n<polygon fill=\"#000000\" stroke=\"#000000\" points=\"536.7926,-69.0706 545.0415,-75.7194 542.7393,-65.3777 536.7926,-69.0706\"/>\n<text text-anchor=\"middle\" x=\"304.4875\" y=\"-10.548\" font-family=\"Times,serif\" font-size=\"14.00\" fill=\"#000000\">1</text>\n</g>\n<!-- W2 -->\n<g id=\"node8\" class=\"node\">\n<title>W2</title>\n<ellipse fill=\"none\" stroke=\"#000000\" cx=\"661.0717\" cy=\"-143.748\" rx=\"24.8972\" ry=\"24.8972\"/>\n<text text-anchor=\"middle\" x=\"661.0717\" y=\"-140.048\" font-family=\"Times,serif\" font-size=\"14.00\" fill=\"#000000\">W2</text>\n</g>\n<!-- IZP&#45;&gt;W2 -->\n<g id=\"edge10\" class=\"edge\">\n<title>IZP&#45;&gt;W2</title>\n<path fill=\"none\" stroke=\"#000000\" d=\"M579.3284,-107.7293C593.8294,-114.1189 612.8666,-122.5073 628.9205,-129.5811\"/>\n<polygon fill=\"#000000\" stroke=\"#000000\" points=\"627.9013,-132.9567 638.4637,-133.7861 630.7239,-126.551 627.9013,-132.9567\"/>\n<text text-anchor=\"middle\" x=\"608.8739\" y=\"-128.548\" font-family=\"Times,serif\" font-size=\"14.00\" fill=\"#000000\">0,1</text>\n</g>\n<!-- W1 -->\n<g id=\"node7\" class=\"node\">\n<title>W1</title>\n<ellipse fill=\"none\" stroke=\"#000000\" cx=\"356.6854\" cy=\"-97.748\" rx=\"24.8972\" ry=\"24.8972\"/>\n<text text-anchor=\"middle\" x=\"356.6854\" y=\"-94.048\" font-family=\"Times,serif\" font-size=\"14.00\" fill=\"#000000\">W1</text>\n</g>\n<!-- PZI&#45;&gt;W1 -->\n<g id=\"edge6\" class=\"edge\">\n<title>PZI&#45;&gt;W1</title>\n<path fill=\"none\" stroke=\"#000000\" d=\"M277.03,-97.748C290.3242,-97.748 306.9403,-97.748 321.5518,-97.748\"/>\n<polygon fill=\"#000000\" stroke=\"#000000\" points=\"321.7609,-101.2481 331.7608,-97.748 321.7608,-94.2481 321.7609,-101.2481\"/>\n<text text-anchor=\"middle\" x=\"304.4875\" y=\"-101.548\" font-family=\"Times,serif\" font-size=\"14.00\" fill=\"#000000\">1,0</text>\n</g>\n<!-- W1&#45;&gt;PZP -->\n<g id=\"edge7\" class=\"edge\">\n<title>W1&#45;&gt;PZP</title>\n<path fill=\"none\" stroke=\"#000000\" d=\"M381.4033,-97.748C391.4991,-97.748 403.4611,-97.748 414.8433,-97.748\"/>\n<polygon fill=\"#000000\" stroke=\"#000000\" points=\"415.0631,-101.2481 425.063,-97.748 415.063,-94.2481 415.0631,-101.2481\"/>\n<text text-anchor=\"middle\" x=\"403.3832\" y=\"-101.548\" font-family=\"Times,serif\" font-size=\"14.00\" fill=\"#000000\">0</text>\n</g>\n<!-- W2&#45;&gt;IZI -->\n<g id=\"edge11\" class=\"edge\">\n<title>W2&#45;&gt;IZI</title>\n<path fill=\"none\" stroke=\"#000000\" d=\"M640.9817,-158.234C620.7283,-171.3889 588.0569,-188.748 556.6761,-188.748 252.2897,-188.748 252.2897,-188.748 252.2897,-188.748 217.6782,-188.748 190.6606,-157.0139 174.3379,-131.0256\"/>\n<polygon fill=\"#000000\" stroke=\"#000000\" points=\"177.1548,-128.9168 169.0155,-122.1343 171.1486,-132.5122 177.1548,-128.9168\"/>\n<text text-anchor=\"middle\" x=\"403.3832\" y=\"-192.548\" font-family=\"Times,serif\" font-size=\"14.00\" fill=\"#000000\">0</text>\n</g>\n</g>\n</svg>\n"
          },
          "metadata": {},
          "execution_count": 163
        }
      ]
    },
    {
      "cell_type": "markdown",
      "metadata": {
        "id": "-sbE2EPAtjWP"
      },
      "source": [
        "5. Construa um AFD para a seguinte linguagem sobre o alfabeto $\\Sigma = \\{0, 1\\}$: O conjunto das palavras de tamanho par com 1’s nas posicoes pares, unido ao conjunto das palavras de tamanho ímpar com 1’s nas posicoes ímpares."
      ]
    },
    {
      "cell_type": "code",
      "metadata": {
        "colab": {
          "base_uri": "https://localhost:8080/",
          "height": 120
        },
        "id": "xH5QLmtZuQuP",
        "outputId": "0adabbcc-4c65-4aad-8cad-9eaf8e9fbb28"
      },
      "source": [
        "#@title Q.05\n",
        "\n",
        "Q={'Q0' } \n",
        "Sigma={'0', '1'}\n",
        "delta={\n",
        "\n",
        "    ('Q0', '1'): {'1'}\n",
        "    ('Q0', '1'): {'1'}\n",
        "\n",
        "\n",
        "    }\n",
        "\n",
        "q0='Q0'\n",
        "F={'Q0'}\n",
        "\n",
        "M = AFD(Q,Sigma,delta,q0,F)\n",
        "\n",
        "print(M.aceita('01'))\n",
        "M.visualizar()"
      ],
      "execution_count": null,
      "outputs": [
        {
          "output_type": "stream",
          "name": "stdout",
          "text": [
            "False\n"
          ]
        },
        {
          "output_type": "execute_result",
          "data": {
            "text/plain": [
              "<graphviz.dot.Digraph at 0x7f804a935ad0>"
            ],
            "image/svg+xml": "<?xml version=\"1.0\" encoding=\"UTF-8\" standalone=\"no\"?>\n<!DOCTYPE svg PUBLIC \"-//W3C//DTD SVG 1.1//EN\"\n \"http://www.w3.org/Graphics/SVG/1.1/DTD/svg11.dtd\">\n<!-- Generated by graphviz version 2.40.1 (20161225.0304)\n -->\n<!-- Title: finite_state_machine Pages: 1 -->\n<svg width=\"101pt\" height=\"61pt\"\n viewBox=\"0.00 0.00 101.10 61.50\" xmlns=\"http://www.w3.org/2000/svg\" xmlns:xlink=\"http://www.w3.org/1999/xlink\">\n<g id=\"graph0\" class=\"graph\" transform=\"scale(1 1) rotate(0) translate(4 57.496)\">\n<title>finite_state_machine</title>\n<polygon fill=\"#ffffff\" stroke=\"transparent\" points=\"-4,4 -4,-57.496 97.096,-57.496 97.096,4 -4,4\"/>\n<g id=\"node1\" class=\"node\">\n<title></title>\n<ellipse fill=\"#000000\" stroke=\"#000000\" cx=\"1.8\" cy=\"-26.748\" rx=\"1.8\" ry=\"1.8\"/>\n</g>\n<!-- Q0 -->\n<g id=\"node2\" class=\"node\">\n<title>Q0</title>\n<ellipse fill=\"none\" stroke=\"#000000\" cx=\"66.348\" cy=\"-26.748\" rx=\"22.9609\" ry=\"22.9609\"/>\n<ellipse fill=\"none\" stroke=\"#000000\" cx=\"66.348\" cy=\"-26.748\" rx=\"26.9983\" ry=\"26.9983\"/>\n<text text-anchor=\"middle\" x=\"66.348\" y=\"-23.048\" font-family=\"Times,serif\" font-size=\"14.00\" fill=\"#000000\">Q0</text>\n</g>\n<!-- &#45;&gt;Q0 -->\n<g id=\"edge1\" class=\"edge\">\n<title>&#45;&gt;Q0</title>\n<path fill=\"none\" stroke=\"#000000\" d=\"M3.6622,-26.748C7.7453,-26.748 18.0082,-26.748 29.0749,-26.748\"/>\n<polygon fill=\"#000000\" stroke=\"#000000\" points=\"29.3099,-30.2481 39.3099,-26.748 29.3098,-23.2481 29.3099,-30.2481\"/>\n</g>\n</g>\n</svg>\n"
          },
          "metadata": {},
          "execution_count": 164
        }
      ]
    },
    {
      "cell_type": "markdown",
      "metadata": {
        "id": "jdRXrfqkQ1uO"
      },
      "source": [
        "6. Construa um AFN para a seguinte linguagem sobre o alfabeto $\\Sigma = \\{a,b,c\\}$:  O conjunto das palavras em que existem duas ocorrencias de abc com um\n",
        "numero ímpar de símbolos entre elas."
      ]
    },
    {
      "cell_type": "code",
      "metadata": {
        "colab": {
          "base_uri": "https://localhost:8080/",
          "height": 124
        },
        "id": "8YzdkHbcHtSr",
        "cellView": "form",
        "outputId": "681a6732-47ee-4e1d-d156-7fa91ac22973"
      },
      "source": [
        "#@title Q.06\n",
        "Q={'Q0', 'A', 'AB', 'ABC', 'A2', 'AB2', 'ABC2', 'I'} \n",
        "Sigma={'a', 'b', 'c'}\n",
        "delta={\n",
        "    ('Q0', 'a'): {'A'},\n",
        "    ('A', 'b'): {'AB'},\n",
        "    ('AB', 'c'): {'ABC'},\n",
        "\n",
        "\n",
        "    ('ABC', 'a'): {'I'},\n",
        "    ('ABC', 'b'): {'I'},\n",
        "    ('ABC', 'c'): {'I'},\n",
        "\n",
        "    ('I', 'a'): {'ABC', 'A2'},\n",
        "    ('I', 'b'): {'ABC'},\n",
        "    ('I', 'c'): {'ABC'},\n",
        "\n",
        "\n",
        "    ('A2', 'b'): {'AB2'},\n",
        "    ('AB2', 'c'): {'ABC2'},\n",
        "\n",
        "\n",
        "    \n",
        "    }\n",
        "\n",
        "q0='Q0'\n",
        "F={'ABC2'}\n",
        "\n",
        "M = AFN(Q,Sigma,delta,q0,F)\n",
        "\n",
        "print(M.aceita('abcaabcaabc'))\n",
        "M.visualizar()"
      ],
      "execution_count": null,
      "outputs": [
        {
          "output_type": "stream",
          "name": "stdout",
          "text": [
            "True\n"
          ]
        },
        {
          "output_type": "execute_result",
          "data": {
            "text/plain": [
              "<graphviz.dot.Digraph at 0x7f804a9a1bd0>"
            ],
            "image/svg+xml": "<?xml version=\"1.0\" encoding=\"UTF-8\" standalone=\"no\"?>\n<!DOCTYPE svg PUBLIC \"-//W3C//DTD SVG 1.1//EN\"\n \"http://www.w3.org/Graphics/SVG/1.1/DTD/svg11.dtd\">\n<!-- Generated by graphviz version 2.40.1 (20161225.0304)\n -->\n<!-- Title: finite_state_machine Pages: 1 -->\n<svg width=\"576pt\" height=\"64pt\"\n viewBox=\"0.00 0.00 576.00 63.64\" xmlns=\"http://www.w3.org/2000/svg\" xmlns:xlink=\"http://www.w3.org/1999/xlink\">\n<g id=\"graph0\" class=\"graph\" transform=\"scale(.7383 .7383) rotate(0) translate(4 82.1938)\">\n<title>finite_state_machine</title>\n<polygon fill=\"#ffffff\" stroke=\"transparent\" points=\"-4,4 -4,-82.1938 776.1709,-82.1938 776.1709,4 -4,4\"/>\n<g id=\"node1\" class=\"node\">\n<title></title>\n<ellipse fill=\"#000000\" stroke=\"#000000\" cx=\"1.8\" cy=\"-39.0969\" rx=\"1.8\" ry=\"1.8\"/>\n</g>\n<!-- Q0 -->\n<g id=\"node8\" class=\"node\">\n<title>Q0</title>\n<ellipse fill=\"none\" stroke=\"#000000\" cx=\"63.348\" cy=\"-39.0969\" rx=\"22.9987\" ry=\"22.9987\"/>\n<text text-anchor=\"middle\" x=\"63.348\" y=\"-35.3969\" font-family=\"Times,serif\" font-size=\"14.00\" fill=\"#000000\">Q0</text>\n</g>\n<!-- &#45;&gt;Q0 -->\n<g id=\"edge1\" class=\"edge\">\n<title>&#45;&gt;Q0</title>\n<path fill=\"none\" stroke=\"#000000\" d=\"M3.8478,-39.0969C8.2235,-39.0969 19.0023,-39.0969 30.2025,-39.0969\"/>\n<polygon fill=\"#000000\" stroke=\"#000000\" points=\"30.4353,-42.597 40.4353,-39.0969 30.4352,-35.597 30.4353,-42.597\"/>\n</g>\n<!-- ABC2 -->\n<g id=\"node2\" class=\"node\">\n<title>ABC2</title>\n<ellipse fill=\"none\" stroke=\"#000000\" cx=\"733.074\" cy=\"-39.0969\" rx=\"35.1841\" ry=\"35.1841\"/>\n<ellipse fill=\"none\" stroke=\"#000000\" cx=\"733.074\" cy=\"-39.0969\" rx=\"39.194\" ry=\"39.194\"/>\n<text text-anchor=\"middle\" x=\"733.074\" y=\"-35.3969\" font-family=\"Times,serif\" font-size=\"14.00\" fill=\"#000000\">ABC2</text>\n</g>\n<!-- AB2 -->\n<g id=\"node3\" class=\"node\">\n<title>AB2</title>\n<ellipse fill=\"none\" stroke=\"#000000\" cx=\"622.3797\" cy=\"-39.0969\" rx=\"28.6953\" ry=\"28.6953\"/>\n<text text-anchor=\"middle\" x=\"622.3797\" y=\"-35.3969\" font-family=\"Times,serif\" font-size=\"14.00\" fill=\"#000000\">AB2</text>\n</g>\n<!-- AB2&#45;&gt;ABC2 -->\n<g id=\"edge9\" class=\"edge\">\n<title>AB2&#45;&gt;ABC2</title>\n<path fill=\"none\" stroke=\"#000000\" d=\"M651.1744,-39.0969C661.0815,-39.0969 672.4762,-39.0969 683.5558,-39.0969\"/>\n<polygon fill=\"#000000\" stroke=\"#000000\" points=\"683.5907,-42.597 693.5906,-39.0969 683.5906,-35.597 683.5907,-42.597\"/>\n<text text-anchor=\"middle\" x=\"672.4772\" y=\"-42.8969\" font-family=\"Times,serif\" font-size=\"14.00\" fill=\"#000000\">c</text>\n</g>\n<!-- ABC -->\n<g id=\"node4\" class=\"node\">\n<title>ABC</title>\n<ellipse fill=\"none\" stroke=\"#000000\" cx=\"330.739\" cy=\"-39.0969\" rx=\"30.5947\" ry=\"30.5947\"/>\n<text text-anchor=\"middle\" x=\"330.739\" y=\"-35.3969\" font-family=\"Times,serif\" font-size=\"14.00\" fill=\"#000000\">ABC</text>\n</g>\n<!-- I -->\n<g id=\"node5\" class=\"node\">\n<title>I</title>\n<ellipse fill=\"none\" stroke=\"#000000\" cx=\"443.2863\" cy=\"-39.0969\" rx=\"18\" ry=\"18\"/>\n<text text-anchor=\"middle\" x=\"443.2863\" y=\"-35.3969\" font-family=\"Times,serif\" font-size=\"14.00\" fill=\"#000000\">I</text>\n</g>\n<!-- ABC&#45;&gt;I -->\n<g id=\"edge5\" class=\"edge\">\n<title>ABC&#45;&gt;I</title>\n<path fill=\"none\" stroke=\"#000000\" d=\"M361.493,-39.0969C378.2573,-39.0969 398.8552,-39.0969 415.1865,-39.0969\"/>\n<polygon fill=\"#000000\" stroke=\"#000000\" points=\"415.2193,-42.597 425.2192,-39.0969 415.2192,-35.597 415.2193,-42.597\"/>\n<text text-anchor=\"middle\" x=\"393.2863\" y=\"-42.8969\" font-family=\"Times,serif\" font-size=\"14.00\" fill=\"#000000\">a,b,c</text>\n</g>\n<!-- I&#45;&gt;ABC -->\n<g id=\"edge6\" class=\"edge\">\n<title>I&#45;&gt;ABC</title>\n<path fill=\"none\" stroke=\"#000000\" d=\"M428.1806,-29.0269C421.9795,-25.4651 414.5576,-21.898 407.2863,-20.0969 394.4916,-16.9277 380.4953,-18.8286 368.0104,-22.4347\"/>\n<polygon fill=\"#000000\" stroke=\"#000000\" points=\"366.7651,-19.1602 358.3736,-25.628 368.967,-25.8048 366.7651,-19.1602\"/>\n<text text-anchor=\"middle\" x=\"393.2863\" y=\"-23.8969\" font-family=\"Times,serif\" font-size=\"14.00\" fill=\"#000000\">a,b,c</text>\n</g>\n<!-- A2 -->\n<g id=\"node7\" class=\"node\">\n<title>A2</title>\n<ellipse fill=\"none\" stroke=\"#000000\" cx=\"527.0343\" cy=\"-39.0969\" rx=\"22.9987\" ry=\"22.9987\"/>\n<text text-anchor=\"middle\" x=\"527.0343\" y=\"-35.3969\" font-family=\"Times,serif\" font-size=\"14.00\" fill=\"#000000\">A2</text>\n</g>\n<!-- I&#45;&gt;A2 -->\n<g id=\"edge7\" class=\"edge\">\n<title>I&#45;&gt;A2</title>\n<path fill=\"none\" stroke=\"#000000\" d=\"M461.4583,-39.0969C470.937,-39.0969 482.8316,-39.0969 493.879,-39.0969\"/>\n<polygon fill=\"#000000\" stroke=\"#000000\" points=\"494.1048,-42.597 504.1048,-39.0969 494.1047,-35.597 494.1048,-42.597\"/>\n<text text-anchor=\"middle\" x=\"482.7863\" y=\"-42.8969\" font-family=\"Times,serif\" font-size=\"14.00\" fill=\"#000000\">a</text>\n</g>\n<!-- A -->\n<g id=\"node6\" class=\"node\">\n<title>A</title>\n<ellipse fill=\"none\" stroke=\"#000000\" cx=\"147.096\" cy=\"-39.0969\" rx=\"18\" ry=\"18\"/>\n<text text-anchor=\"middle\" x=\"147.096\" y=\"-35.3969\" font-family=\"Times,serif\" font-size=\"14.00\" fill=\"#000000\">A</text>\n</g>\n<!-- AB -->\n<g id=\"node9\" class=\"node\">\n<title>AB</title>\n<ellipse fill=\"none\" stroke=\"#000000\" cx=\"233.1438\" cy=\"-39.0969\" rx=\"24.0958\" ry=\"24.0958\"/>\n<text text-anchor=\"middle\" x=\"233.1438\" y=\"-35.3969\" font-family=\"Times,serif\" font-size=\"14.00\" fill=\"#000000\">AB</text>\n</g>\n<!-- A&#45;&gt;AB -->\n<g id=\"edge3\" class=\"edge\">\n<title>A&#45;&gt;AB</title>\n<path fill=\"none\" stroke=\"#000000\" d=\"M165.3445,-39.0969C175.0893,-39.0969 187.4065,-39.0969 198.8608,-39.0969\"/>\n<polygon fill=\"#000000\" stroke=\"#000000\" points=\"199.0388,-42.597 209.0388,-39.0969 199.0388,-35.597 199.0388,-42.597\"/>\n<text text-anchor=\"middle\" x=\"187.096\" y=\"-42.8969\" font-family=\"Times,serif\" font-size=\"14.00\" fill=\"#000000\">b</text>\n</g>\n<!-- A2&#45;&gt;AB2 -->\n<g id=\"edge8\" class=\"edge\">\n<title>A2&#45;&gt;AB2</title>\n<path fill=\"none\" stroke=\"#000000\" d=\"M550.1147,-39.0969C560.1573,-39.0969 572.2049,-39.0969 583.5583,-39.0969\"/>\n<polygon fill=\"#000000\" stroke=\"#000000\" points=\"583.7124,-42.597 593.7123,-39.0969 583.7123,-35.597 583.7124,-42.597\"/>\n<text text-anchor=\"middle\" x=\"571.7822\" y=\"-42.8969\" font-family=\"Times,serif\" font-size=\"14.00\" fill=\"#000000\">b</text>\n</g>\n<!-- Q0&#45;&gt;A -->\n<g id=\"edge2\" class=\"edge\">\n<title>Q0&#45;&gt;A</title>\n<path fill=\"none\" stroke=\"#000000\" d=\"M86.2325,-39.0969C96.3302,-39.0969 108.297,-39.0969 118.936,-39.0969\"/>\n<polygon fill=\"#000000\" stroke=\"#000000\" points=\"119.0142,-42.597 129.0141,-39.0969 119.0141,-35.597 119.0142,-42.597\"/>\n<text text-anchor=\"middle\" x=\"107.596\" y=\"-42.8969\" font-family=\"Times,serif\" font-size=\"14.00\" fill=\"#000000\">a</text>\n</g>\n<!-- AB&#45;&gt;ABC -->\n<g id=\"edge4\" class=\"edge\">\n<title>AB&#45;&gt;ABC</title>\n<path fill=\"none\" stroke=\"#000000\" d=\"M257.2685,-39.0969C267.0214,-39.0969 278.5588,-39.0969 289.5655,-39.0969\"/>\n<polygon fill=\"#000000\" stroke=\"#000000\" points=\"289.8802,-42.597 299.8802,-39.0969 289.8802,-35.597 289.8802,-42.597\"/>\n<text text-anchor=\"middle\" x=\"278.6917\" y=\"-42.8969\" font-family=\"Times,serif\" font-size=\"14.00\" fill=\"#000000\">c</text>\n</g>\n</g>\n</svg>\n"
          },
          "metadata": {},
          "execution_count": 95
        }
      ]
    },
    {
      "cell_type": "markdown",
      "metadata": {
        "id": "T9Ns6k9OQ12j"
      },
      "source": [
        "7. Construa um AFN para a seguinte linguagem sobre o alfabeto $\\Sigma = \\{a, b,c\\}$: O conjunto das palavras em que o ultimo símbolo tenha ocorrido antes no maximo uma vez."
      ]
    },
    {
      "cell_type": "markdown",
      "metadata": {
        "id": "r6vEMro0Csdk"
      },
      "source": [
        "8. Construa um AFN sobre $\\Sigma = \\{a, b\\}$ que reconheça o conjunto das palavras com no mínimo um a ou um b.\n"
      ]
    },
    {
      "cell_type": "code",
      "metadata": {
        "colab": {
          "base_uri": "https://localhost:8080/",
          "height": 152
        },
        "id": "I6fSPPwTdegi",
        "cellView": "form",
        "outputId": "c4d753df-fe6e-4684-e5dc-9fe9f26011ec"
      },
      "source": [
        "#@title Q.08\n",
        "\n",
        "#Q = Estados \n",
        "Q = { 'Q', 'S'}   \n",
        "\n",
        "Sigma = {'a','b'}    #Alfabeto\n",
        "delta = {            #Função de transição\n",
        "   ('Q', 'a'):'S',\n",
        "   ('Q', 'b'):'S',\n",
        "\n",
        "   ('S', 'a'):'S',\n",
        "   ('S', 'b'):'S',\n",
        "  \n",
        "}\n",
        "\n",
        "q0 = 'Q'           #Estado Inicial\n",
        "F = {'S'}           #Estado Final\n",
        " \n",
        "M = AFN(Q,Sigma,delta,q0,F)\n",
        "\n",
        "print(M.aceita(\"a\"))\n",
        "M.visualizar()"
      ],
      "execution_count": null,
      "outputs": [
        {
          "output_type": "stream",
          "name": "stdout",
          "text": [
            "True\n"
          ]
        },
        {
          "output_type": "execute_result",
          "data": {
            "text/plain": [
              "<graphviz.dot.Digraph at 0x7f804a98ca90>"
            ],
            "image/svg+xml": "<?xml version=\"1.0\" encoding=\"UTF-8\" standalone=\"no\"?>\n<!DOCTYPE svg PUBLIC \"-//W3C//DTD SVG 1.1//EN\"\n \"http://www.w3.org/Graphics/SVG/1.1/DTD/svg11.dtd\">\n<!-- Generated by graphviz version 2.40.1 (20161225.0304)\n -->\n<!-- Title: finite_state_machine Pages: 1 -->\n<svg width=\"183pt\" height=\"85pt\"\n viewBox=\"0.00 0.00 182.60 85.00\" xmlns=\"http://www.w3.org/2000/svg\" xmlns:xlink=\"http://www.w3.org/1999/xlink\">\n<g id=\"graph0\" class=\"graph\" transform=\"scale(1 1) rotate(0) translate(4 81)\">\n<title>finite_state_machine</title>\n<polygon fill=\"#ffffff\" stroke=\"transparent\" points=\"-4,4 -4,-81 178.6,-81 178.6,4 -4,4\"/>\n<g id=\"node1\" class=\"node\">\n<title></title>\n<ellipse fill=\"#000000\" stroke=\"#000000\" cx=\"1.8\" cy=\"-22\" rx=\"1.8\" ry=\"1.8\"/>\n</g>\n<!-- Q -->\n<g id=\"node3\" class=\"node\">\n<title>Q</title>\n<ellipse fill=\"none\" stroke=\"#000000\" cx=\"58.6\" cy=\"-22\" rx=\"18\" ry=\"18\"/>\n<text text-anchor=\"middle\" x=\"58.6\" y=\"-18.3\" font-family=\"Times,serif\" font-size=\"14.00\" fill=\"#000000\">Q</text>\n</g>\n<!-- &#45;&gt;Q -->\n<g id=\"edge1\" class=\"edge\">\n<title>&#45;&gt;Q</title>\n<path fill=\"none\" stroke=\"#000000\" d=\"M3.6898,-22C8.0522,-22 19.3107,-22 30.5058,-22\"/>\n<polygon fill=\"#000000\" stroke=\"#000000\" points=\"30.5696,-25.5001 40.5696,-22 30.5696,-18.5001 30.5696,-25.5001\"/>\n</g>\n<!-- S -->\n<g id=\"node2\" class=\"node\">\n<title>S</title>\n<ellipse fill=\"none\" stroke=\"#000000\" cx=\"152.6\" cy=\"-22\" rx=\"18\" ry=\"18\"/>\n<ellipse fill=\"none\" stroke=\"#000000\" cx=\"152.6\" cy=\"-22\" rx=\"22\" ry=\"22\"/>\n<text text-anchor=\"middle\" x=\"152.6\" y=\"-18.3\" font-family=\"Times,serif\" font-size=\"14.00\" fill=\"#000000\">S</text>\n</g>\n<!-- S&#45;&gt;S -->\n<g id=\"edge3\" class=\"edge\">\n<title>S&#45;&gt;S</title>\n<path fill=\"none\" stroke=\"#000000\" d=\"M143.8659,-42.5808C142.6574,-52.8447 145.5688,-62 152.6,-62 157.1044,-62 159.918,-58.2427 161.0408,-52.8436\"/>\n<polygon fill=\"#000000\" stroke=\"#000000\" points=\"164.5469,-52.6768 161.3341,-42.5808 157.5498,-52.4767 164.5469,-52.6768\"/>\n<text text-anchor=\"middle\" x=\"152.6\" y=\"-65.8\" font-family=\"Times,serif\" font-size=\"14.00\" fill=\"#000000\">a,b</text>\n</g>\n<!-- Q&#45;&gt;S -->\n<g id=\"edge2\" class=\"edge\">\n<title>Q&#45;&gt;S</title>\n<path fill=\"none\" stroke=\"#000000\" d=\"M76.7241,-22C89.0881,-22 105.8047,-22 120.4005,-22\"/>\n<polygon fill=\"#000000\" stroke=\"#000000\" points=\"120.5612,-25.5001 130.5612,-22 120.5611,-18.5001 120.5612,-25.5001\"/>\n<text text-anchor=\"middle\" x=\"103.6\" y=\"-25.8\" font-family=\"Times,serif\" font-size=\"14.00\" fill=\"#000000\">a,b</text>\n</g>\n</g>\n</svg>\n"
          },
          "metadata": {},
          "execution_count": 147
        }
      ]
    },
    {
      "cell_type": "markdown",
      "metadata": {
        "id": "jfDkYzQMUljV"
      },
      "source": [
        "9. Construa um AFD sobre $\\Sigma = \\{a, b\\}$ que reconheça o conjunto das palavras com quantidade par de $a$'s ou ímpar de $b$'s (mas não ambos). "
      ]
    },
    {
      "cell_type": "markdown",
      "metadata": {
        "id": "Z4RFkhBQOq7Z"
      },
      "source": [
        "10. Construa uma Gramatica com a menor quantidade de regras possível para gerar os casos de teste do problema: https://www.urionlinejudge.com.br/judge/pt/problems/view/1726"
      ]
    },
    {
      "cell_type": "markdown",
      "metadata": {
        "id": "2tLU9XtGzEpS"
      },
      "source": [
        "As variáveis:\n",
        "  C representa um conjunto\n",
        "  A representa os elementos do conjunto\n",
        "  O representa um operador ( + - * )\n",
        "\n",
        "Os terminais:\n",
        "  L representa uma letra do alfabeto de A a Z."
      ]
    },
    {
      "cell_type": "code",
      "metadata": {
        "colab": {
          "base_uri": "https://localhost:8080/"
        },
        "id": "DOKcbL-ieDuf",
        "outputId": "ad8daa42-9caf-45c9-c33d-17ff2edfe5a2"
      },
      "source": [
        "V = {'c', 'a', 'o', 'p'} #variaveis\n",
        "Sigma = {'{', '}', '(', ')', '+', '-', '*'\n",
        "         'A', 'B', 'C', 'D', 'E', 'F', 'G', 'H', 'I', 'J', 'K', 'L', 'M', 'N', 'O', 'P', 'Q', 'R', 'S', 'T', 'U', 'V', 'W', 'X', 'Y', 'Z'\n",
        "        } #terminais\n",
        "S = 'c' # partida\n",
        "R = { #regras\n",
        "     \n",
        "  #Parenteses \n",
        "\n",
        "  #Conjunto com operações\n",
        "  ('c', 'coc'),\n",
        "  ('c', '(c)'),\n",
        "  ('c', '{a}'),\n",
        "  \n",
        "  #Letras\n",
        "  ('a', 'aa'),\n",
        "  ('a', ''),\n",
        "\n",
        "  ('a', 'A'), ('a', 'B'), ('a', 'C'),('a', 'D'), ('a', 'E'), ('a', 'F'),\n",
        "  ('a', 'G'), ('a', 'H'), ('a', 'I'),('a', 'J'), ('a', 'K'), ('a', 'L'),\n",
        "  ('a', 'M'), ('a', 'N'), ('a', 'O'),('a', 'P'), ('a', 'Q'), ('a', 'R'),\n",
        "  ('a', 'S'), ('a', 'T'), ('a', 'U'),('a', 'V'), ('a', 'W'), ('a', 'X'), \n",
        "  ('a', 'Y'), ('a', 'Z'),\n",
        "\n",
        "\n",
        "  #Operadores\n",
        "  ('o', '+'),\n",
        "  ('o', '-'),\n",
        "  ('o', '*')\n",
        "\n",
        "}\n",
        "\n",
        "G = GLC(V, Sigma, R, S)\n",
        "G.print()\n",
        "\n",
        "G.gera(\"({AC})-{A}\")"
      ],
      "execution_count": null,
      "outputs": [
        {
          "output_type": "stream",
          "name": "stdout",
          "text": [
            "c → {a}|coc|(c)\n",
            "a → C||B|aa|A\n",
            "o → -|*|+\n",
            "p → \n"
          ]
        },
        {
          "output_type": "execute_result",
          "data": {
            "text/plain": [
              "True"
            ]
          },
          "metadata": {},
          "execution_count": 33
        }
      ]
    }
  ]
}