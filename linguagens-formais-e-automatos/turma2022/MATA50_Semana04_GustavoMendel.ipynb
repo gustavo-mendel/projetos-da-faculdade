{
  "nbformat": 4,
  "nbformat_minor": 0,
  "metadata": {
    "colab": {
      "provenance": [],
      "collapsed_sections": []
    },
    "kernelspec": {
      "name": "python3",
      "display_name": "Python 3"
    },
    "language_info": {
      "name": "python"
    }
  },
  "cells": [
    {
      "cell_type": "markdown",
      "metadata": {
        "id": "EC51xd8L1WzV"
      },
      "source": [
        "# MATA50 - Exercícios da Semana 04\n",
        "\n",
        "*   Aluno: Gustavo Mendel Queiroz e Souza\n",
        "\n"
      ]
    },
    {
      "cell_type": "markdown",
      "metadata": {
        "id": "9_9I0TfW94ov"
      },
      "source": [
        "# Instruções (não apagar)\n",
        "1.   Após criar este notebook, altere o nome do notebook/documentação incluindo o nome do vegetal do seu grupo. Por exemplo, se você é do grupo Carambola, altere o nome do notebook para \"MATA50-Semana04-Carambola.ipynb\"\n",
        "1. Compartilhe este documento com todos os membros do grupo (para participarem da elaboração deste documento). É importante que o notebook utilizado seja o mesmo compartilhado para que os registros de participação e colaboração fiquem salvos no histórico.\n",
        "1.   Incluia o nome completo dos autores na lista de autores que auxiliaram na elaboração deste notebook. Destaque o responsável como sendo o(a) primeiro(a) autor(a).\n",
        "1. Utilize os recursos de blocos de texto e de código para adicionar as suas respostas, sem alterar os blocos de texto e código existente. Não economize, esses blocos são de graça.\n",
        "1. Ao concluir a atividade, compartilhe o notebook com januario.ufba@gmail.com (dando permisão para edição) e deixando o aviso de notificação marcado, para que eu receba o seu e-mail.\n",
        "\n"
      ]
    },
    {
      "cell_type": "code",
      "metadata": {
        "id": "TM_UtFZ-BmZ8",
        "cellView": "form"
      },
      "source": [
        "#@title Implementação dos modelos em Python\n",
        "#@markdown Esta célula contém a implementação em Python 3 dos principais modelos de computação vistos na disciplina de Linguagens Formais e Autômatos. \n",
        "#@markdown Não é necessário conhecer o código aqui implementado ou mesmo ter um conhecimento profundo da linguagem Python. Acompanhe os exemplos e experimente construir seus próprios modelos.\n",
        " \n",
        "#@markdown >*Execute esta célula (`ctrl+enter` ou clicando no botão ao lado) para que o ambiente seja carregado com as classes implementadas.*\n",
        " \n",
        "from graphviz import Digraph\n",
        "import re\n",
        " \n",
        "class AP: \n",
        "    def __init__(self, Q={}, Sigma={}, Gamma={}, delta={}, q0=0, F={}):\n",
        "        self.states = Q\n",
        "        self.inputAlphabet = Sigma\n",
        "        self.stackAlphabet = Gamma\n",
        "        self.transition = delta\n",
        "        self.startState = q0\n",
        "        self.acceptStates = F \n",
        " \n",
        "        self.initialize()\n",
        " \n",
        "    def initialize(self, input_string=\"\"):\n",
        "        self.traces = [[(self.startState,tuple(input_string),())]]\n",
        " \n",
        "    def check(self):\n",
        "        pass\n",
        "        \n",
        "    def hasNext(self):\n",
        "        return self.traces and (not self.acceptTraces())\n",
        "    \n",
        "    def acceptTraces(self):\n",
        "        return [t for t in self.traces if t[-1][1] == () and t[-1][0] in self.acceptStates]\n",
        " \n",
        "    def step(self):\n",
        "        updated_traces = []\n",
        "        for trace in self.traces:\n",
        "          s, string, stack = trace[-1]\n",
        "          A = {'', string[0]} if string else {''}\n",
        "          B = {'', stack[-1]} if stack else {''}\n",
        "          possible_transitions = [(s,a,b) for a in A for b in B if (s,a,b) in self.transition]          \n",
        "          for (s,a,b) in possible_transitions:  \n",
        "            for r,c in self.transition[s,a,b]:\n",
        "              nstring = string[1:] if a else string\n",
        "              nstack  = stack[:-1] if b else stack\n",
        "              nstack  = nstack+(c,) if c else nstack\n",
        "              if (not (r,nstring,nstack) in trace):\n",
        "                updated_traces.append(trace+[(r,nstring,nstack)])\n",
        "        self.traces = updated_traces\n",
        " \n",
        "    def run(self, input_string=0, max_steps=1000):        \n",
        "        while (self.hasNext()): \n",
        "          if max_steps == 0: \n",
        "            raise Exception(\"Timeout\")\n",
        "          self.step()\n",
        "          max_steps -= 1\n",
        "        return self.result()\n",
        " \n",
        "    def aceita(self, input_string=0):\n",
        "        self.initialize(input_string)\n",
        "        return self.run()\n",
        " \n",
        "    def result(self):\n",
        "        return True if self.acceptTraces() else (False if (not self.traces) else None)\n",
        "    \n",
        "    def visualizar(self):      \n",
        "        f = Digraph('finite_state_machine', filename='fsm.gv')\n",
        "        f.attr(rankdir='LR', size='8,5')\n",
        " \n",
        "        f.attr('node', shape='point')\n",
        "        f.node('')\n",
        "        \n",
        "        f.attr('node', shape='doublecircle')\n",
        "        for n in self.acceptStates:\n",
        "          f.node(str(n))\n",
        " \n",
        "        f.attr('node', shape='circle')\n",
        "        for n in self.states.difference(self.acceptStates):\n",
        "          f.node(str(n))\n",
        " \n",
        "        label = {}        \n",
        "        for (q,a,b) in self.transition:\n",
        "          for (r,c) in self.transition[q,a,b]:          \n",
        "            label[q,r] = label[q,r]+[(a,b,c)] if (q,r) in label else [(a,b,c)]\n",
        " \n",
        "        f.edge('', str(self.startState))\n",
        "        for (q,r) in label:\n",
        "          f.edge(str(q),str(r),label=self.graphviz_edge_label_format(label[q,r]))      \n",
        "          pass\n",
        "        \n",
        "        return f\n",
        "    \n",
        "    def graphviz_edge_label_format(self,labels=[]):\n",
        "        epsilon = \"\\u03BB\"\n",
        "        right_arrow = \"\\u2192\"\n",
        "        return '\\n'.join([(a if (a or a==0) else epsilon) + \",\" + (b if (b or b==0) else epsilon) + right_arrow + (c if (c or c==0) else epsilon) for (a,b,c) in labels])\n",
        "        # return '\\n'.join([(str(a) if a else epsilon) + \",\" + (str(b) if b else epsilon) + right_arrow + (str(c) if c else epsilon) for (a,b,c) in labels])\n",
        " \n",
        "class AFN(AP):\n",
        "  def __init__(self, Q={}, Sigma={}, delta={}, q0=0, F={}):\n",
        "        delta_pda = {}\n",
        "        for q,a in delta:\n",
        "          delta_pda[q,a,''] = {(r,'') for r in delta[q,a]}\n",
        "        super().__init__(Q,Sigma,{},delta_pda,q0,F)\n",
        "  \n",
        "  def graphviz_edge_label_format(self,labels):\n",
        "      epsilon = \"\\u03B5\"\n",
        "      return \",\".join([(str(a) if (a or a==0) else epsilon) for (a,b,c) in labels])\n",
        " \n",
        "class AFD(AFN):\n",
        "  def __init__(self, Q={}, Sigma={}, delta={}, q0=0, F={}):\n",
        "        delta_nfa = {}\n",
        "        for (q,a) in delta:\n",
        "          delta_nfa[q,a] = {delta[q,a]}\n",
        "        super().__init__(Q,Sigma,delta_nfa,q0,F)\n",
        " \n",
        "class ER:\n",
        "  def __init__(self,regex=None):  \n",
        "    if (regex == None):\n",
        "      self.regex = None\n",
        "    elif (re.match(\"^[a-zA-Z0-9\\(\\)\\|\\*]*$\", regex)):\n",
        "      self.regex = regex\n",
        "    else:\n",
        "      raise Exception(\"Invalid pattern\")\n",
        " \n",
        "  def gera(self, input_string):\n",
        "    if (self.regex == None):\n",
        "      return False\n",
        "    else:\n",
        "      return True if re.match(\"^\"+self.regex+\"$\",input_string) else False\n",
        " \n",
        "class GLC:\n",
        "  def __init__(self,V,Sigma,R,S):\n",
        "      self.variables = V\n",
        "      self.terminals = Sigma\n",
        "      # self.rules = R\n",
        "      self.rules = {(a, tuple(b)) for (a,b) in R}\n",
        "      self.start = S\n",
        " \n",
        "      self.derivation = []\n",
        "      self.chomsky = None\n",
        "  \n",
        "  def gera(self, string):\n",
        "      if (not self.chomsky):\n",
        "        self.chomsky = self.to_chomsky()        \n",
        "      G = self.chomsky\n",
        "      \n",
        "      if len(string) == 0: return (G.start,()) in G.rules\n",
        " \n",
        "      # CYK Algorithm\n",
        "      n = len(string)\n",
        "      P = [[[] for x in range(n - y)] for y in range(n)]\n",
        "      for i,c in enumerate(string):\n",
        "        for v in [a for (a,b) in G.rules if len(b) == 1 and c in b]:\n",
        "          P[0][i] += [v]\n",
        "      for l in range(2, n+1): # borda da iteração\n",
        "        for s in range(0, n+1-l): # coluna\n",
        "          for p in range(1, l): # linha\n",
        "            for u, v in [(a,b) for (a,b) in G.rules if len(b) == 2]:\n",
        "              if v[0] in P[p-1][s] and v[1] in P[l-p-1][s+p]:\n",
        "                P[l-1][s] += [u]\n",
        "      return G.start in P[-1][0]\n",
        " \n",
        "  def print(self):\n",
        "      rightarrow = \"\\u2192\"\n",
        "      print(self.start,rightarrow, '|'.join([''.join(y) for x,y in self.rules if x == S]))\n",
        "      for v in sorted(self.variables.difference(self.start)): \n",
        "        print(v,rightarrow, '|'.join([''.join(y) for x,y in self.rules if x == v]))\n",
        " \n",
        "  def replace_eps(self, v, l):\n",
        "    if not l: return {()}\n",
        "    result = {(l[0],) + s for s in self.replace_eps(v, tuple(l[1:]))}\n",
        "    if l[0] == v:\n",
        "      result.update({tuple(s[1:]) for s in result})\n",
        "    return result   \n",
        " \n",
        "  def to_chomsky(self):\n",
        "      n_state = 0\n",
        "      \n",
        "      S = '<{}>'.format(n_state)\n",
        "      Sigma = self.terminals \n",
        "      V = {S}.union(self.variables)\n",
        "      R = {(S,(self.start,))}.union(self.rules)\n",
        " \n",
        "      target = {alpha for alpha in self.variables if (alpha,()) in R}\n",
        "      while (target):\n",
        "        for e in target:\n",
        "          rules = {(alpha,beta) for (alpha,beta) in R if e in beta}\n",
        "          for (a,b) in rules:\n",
        "            R.update({(a, beta) for beta in self.replace_eps(e,b)})\n",
        "          R.discard((e,()))\n",
        "        target = {alpha for alpha in self.variables if (alpha,()) in R}\n",
        "      \n",
        "      target = {(a,b) for (a,b) in R if len(b) == 1 and b[0] in V}\n",
        "      while (target):\n",
        "        for u,v in target:\n",
        "          rules = {b for (a,b) in R if a == v[0]}\n",
        "          R.update({(u,b) for b in rules})\n",
        "          R.discard((u,v))\n",
        "        target = {(a,b) for (a,b) in R if len(b) == 1 and b[0] in V}\n",
        "      \n",
        "      target = {(alpha,beta) for (alpha,beta) in R if len(beta) > 2}\n",
        "      while(target):\n",
        "        for u,v in target:\n",
        "          n_state += 1\n",
        "          state = '<{}>'.format(n_state)\n",
        "          V.update({state})\n",
        "          R.update({(u,(v[0],state)),(state, tuple(v[1:]))})\n",
        "          R.discard((u,v))\n",
        "        target = {(alpha,beta) for (alpha,beta) in R if len(beta) > 2}\n",
        " \n",
        "      target = {(alpha,beta) for (alpha,beta) in R if len(beta) == 2}\n",
        "      for u,v in target:\n",
        "        n = list(v)\n",
        "        for i in range(2):\n",
        "          if v[i] in Sigma:\n",
        "            R.discard((u,(n[0],n[1])))\n",
        "            n_state += 1\n",
        "            n[i] = '<{}>'.format(n_state)\n",
        "            V.update({n[i]})\n",
        "            R.update({(u,(n[0],n[1]))})\n",
        "            R.update({(n[i],(v[i],))})\n",
        " \n",
        "      return GLC(V,Sigma,R,S)"
      ],
      "execution_count": 2,
      "outputs": []
    },
    {
      "cell_type": "markdown",
      "metadata": {
        "id": "NqAD4jnTWIIW"
      },
      "source": [
        "# Exemplos (Apague os exemplos abaixo antes de compartilhar com o professor)"
      ]
    },
    {
      "cell_type": "code",
      "metadata": {
        "id": "67b0Fux_WOdJ",
        "colab": {
          "base_uri": "https://localhost:8080/"
        },
        "outputId": "2cef4efa-e9f9-468a-a0aa-f366d9fc33f8",
        "cellView": "form"
      },
      "source": [
        "#@title 1. Construa um AFD para a seguinte linguagem sobre o alfabeto $\\Sigma = \\{0, 1\\}$: O conjunto das palavras que contem um ou dois 1’s, cujo tamanho é múltiplo de 3.\n",
        "Q = {'z1r0','z1r1','z1r2','u1r0','u1r1','u1r2','d1r0','d1r1','d1r2'}\n",
        "Sigma = {'0','1'}\n",
        "delta = {('z1r0','0'):'z1r1',\n",
        "         ('z1r1','0'):'z1r2',\n",
        "         ('z1r2','0'):'z1r0',\n",
        "         ('u1r0','0'):'u1r1',\n",
        "         ('u1r1','0'):'u1r2',\n",
        "         ('u1r2','0'):'u1r0',\n",
        "         ('d1r0','0'):'d1r1',\n",
        "         ('d1r1','0'):'d1r2',\n",
        "         ('d1r2','0'):'d1r0',\n",
        "         ('z1r0','1'):'u1r1',\n",
        "         ('z1r1','1'):'u1r2',\n",
        "         ('z1r2','1'):'u1r0',\n",
        "         ('u1r0','1'):'d1r1',\n",
        "         ('u1r1','1'):'d1r2',\n",
        "         ('u1r2','1'):'d1r0'}\n",
        "q0 = 'z1r0'\n",
        "F = {'u1r0','d1r0'}\n",
        " \n",
        "M = AFD(Q,Sigma,delta,q0,F)\n",
        "M.visualizar()\n",
        "M.aceita(\"100\")"
      ],
      "execution_count": null,
      "outputs": [
        {
          "output_type": "execute_result",
          "data": {
            "text/plain": [
              "True"
            ]
          },
          "metadata": {},
          "execution_count": 3
        }
      ]
    },
    {
      "cell_type": "code",
      "metadata": {
        "id": "cXNlEwZzSuFo",
        "colab": {
          "base_uri": "https://localhost:8080/",
          "height": 357
        },
        "outputId": "dfbc56fc-58dd-4691-b5b0-05a4caa04194",
        "cellView": "form"
      },
      "source": [
        "#@title 2. Construa um AFN sobre $\\Sigma = \\{a, b, c\\}$ que reconheça o conjunto das palavras em que o último símbolo não tenha ocorrido antes.\n",
        "Q = {'q0','ta','tb','tc','f'}\n",
        "Sigma = {'a','b','c'}\n",
        "delta = {('q0',''):{'ta','tb','tc'},\n",
        "         ('ta','b'):{'ta'},\n",
        "         ('ta','c'):{'ta'},\n",
        "         ('tb','a'):{'tb'},\n",
        "         ('tb','c'):{'tb'},\n",
        "         ('tc','a'):{'tc'},\n",
        "         ('tc','b'):{'tc'},\n",
        "         ('ta','a'):{'f'},\n",
        "         ('tb','b'):{'f'},\n",
        "         ('tc','c'):{'f'}}\n",
        "q0 = 'q0'\n",
        "F = {'q0','f'}\n",
        " \n",
        "M = AFN(Q,Sigma,delta,q0,F)\n",
        "M.visualizar()\n",
        "# M.aceita(\"aacacacacccacaccacaacab\")"
      ],
      "execution_count": null,
      "outputs": [
        {
          "output_type": "execute_result",
          "data": {
            "text/plain": [
              "<graphviz.dot.Digraph at 0x7fc7e2d3e290>"
            ],
            "image/svg+xml": "<?xml version=\"1.0\" encoding=\"UTF-8\" standalone=\"no\"?>\n<!DOCTYPE svg PUBLIC \"-//W3C//DTD SVG 1.1//EN\"\n \"http://www.w3.org/Graphics/SVG/1.1/DTD/svg11.dtd\">\n<!-- Generated by graphviz version 2.40.1 (20161225.0304)\n -->\n<!-- Title: finite_state_machine Pages: 1 -->\n<svg width=\"266pt\" height=\"251pt\"\n viewBox=\"0.00 0.00 265.59 251.20\" xmlns=\"http://www.w3.org/2000/svg\" xmlns:xlink=\"http://www.w3.org/1999/xlink\">\n<g id=\"graph0\" class=\"graph\" transform=\"scale(1 1) rotate(0) translate(4 247.1984)\">\n<title>finite_state_machine</title>\n<polygon fill=\"#ffffff\" stroke=\"transparent\" points=\"-4,4 -4,-247.1984 261.5931,-247.1984 261.5931,4 -4,4\"/>\n<g id=\"node1\" class=\"node\">\n<title></title>\n<ellipse fill=\"#000000\" stroke=\"#000000\" cx=\"1.8\" cy=\"-105.1984\" rx=\"1.8\" ry=\"1.8\"/>\n</g>\n<!-- q0 -->\n<g id=\"node3\" class=\"node\">\n<title>q0</title>\n<ellipse fill=\"none\" stroke=\"#000000\" cx=\"65.3982\" cy=\"-105.1984\" rx=\"20.6302\" ry=\"20.6302\"/>\n<ellipse fill=\"none\" stroke=\"#000000\" cx=\"65.3982\" cy=\"-105.1984\" rx=\"24.5979\" ry=\"24.5979\"/>\n<text text-anchor=\"middle\" x=\"65.3982\" y=\"-101.4984\" font-family=\"Times,serif\" font-size=\"14.00\" fill=\"#000000\">q0</text>\n</g>\n<!-- &#45;&gt;q0 -->\n<g id=\"edge1\" class=\"edge\">\n<title>&#45;&gt;q0</title>\n<path fill=\"none\" stroke=\"#000000\" d=\"M3.6348,-105.1984C7.8563,-105.1984 18.7828,-105.1984 30.2933,-105.1984\"/>\n<polygon fill=\"#000000\" stroke=\"#000000\" points=\"30.4051,-108.6985 40.4051,-105.1984 30.4051,-101.6985 30.4051,-108.6985\"/>\n</g>\n<!-- f -->\n<g id=\"node2\" class=\"node\">\n<title>f</title>\n<ellipse fill=\"none\" stroke=\"#000000\" cx=\"235.5931\" cy=\"-105.1984\" rx=\"18\" ry=\"18\"/>\n<ellipse fill=\"none\" stroke=\"#000000\" cx=\"235.5931\" cy=\"-105.1984\" rx=\"22\" ry=\"22\"/>\n<text text-anchor=\"middle\" x=\"235.5931\" y=\"-101.4984\" font-family=\"Times,serif\" font-size=\"14.00\" fill=\"#000000\">f</text>\n</g>\n<!-- ta -->\n<g id=\"node4\" class=\"node\">\n<title>ta</title>\n<ellipse fill=\"none\" stroke=\"#000000\" cx=\"151.3947\" cy=\"-192.1984\" rx=\"18\" ry=\"18\"/>\n<text text-anchor=\"middle\" x=\"151.3947\" y=\"-188.4984\" font-family=\"Times,serif\" font-size=\"14.00\" fill=\"#000000\">ta</text>\n</g>\n<!-- q0&#45;&gt;ta -->\n<g id=\"edge3\" class=\"edge\">\n<title>q0&#45;&gt;ta</title>\n<path fill=\"none\" stroke=\"#000000\" d=\"M83.2167,-123.2248C97.2932,-137.4656 116.9287,-157.3302 131.514,-172.0857\"/>\n<polygon fill=\"#000000\" stroke=\"#000000\" points=\"129.1054,-174.6278 138.6246,-179.2793 134.0838,-169.7068 129.1054,-174.6278\"/>\n<text text-anchor=\"middle\" x=\"111.6963\" y=\"-156.9984\" font-family=\"Times,serif\" font-size=\"14.00\" fill=\"#000000\">ε</text>\n</g>\n<!-- tc -->\n<g id=\"node5\" class=\"node\">\n<title>tc</title>\n<ellipse fill=\"none\" stroke=\"#000000\" cx=\"151.3947\" cy=\"-105.1984\" rx=\"18\" ry=\"18\"/>\n<text text-anchor=\"middle\" x=\"151.3947\" y=\"-101.4984\" font-family=\"Times,serif\" font-size=\"14.00\" fill=\"#000000\">tc</text>\n</g>\n<!-- q0&#45;&gt;tc -->\n<g id=\"edge2\" class=\"edge\">\n<title>q0&#45;&gt;tc</title>\n<path fill=\"none\" stroke=\"#000000\" d=\"M90.2719,-105.1984C100.5403,-105.1984 112.4966,-105.1984 123.0975,-105.1984\"/>\n<polygon fill=\"#000000\" stroke=\"#000000\" points=\"123.1341,-108.6985 133.134,-105.1984 123.134,-101.6985 123.1341,-108.6985\"/>\n<text text-anchor=\"middle\" x=\"111.6963\" y=\"-108.9984\" font-family=\"Times,serif\" font-size=\"14.00\" fill=\"#000000\">ε</text>\n</g>\n<!-- tb -->\n<g id=\"node6\" class=\"node\">\n<title>tb</title>\n<ellipse fill=\"none\" stroke=\"#000000\" cx=\"151.3947\" cy=\"-18.1984\" rx=\"18.399\" ry=\"18.399\"/>\n<text text-anchor=\"middle\" x=\"151.3947\" y=\"-14.4984\" font-family=\"Times,serif\" font-size=\"14.00\" fill=\"#000000\">tb</text>\n</g>\n<!-- q0&#45;&gt;tb -->\n<g id=\"edge4\" class=\"edge\">\n<title>q0&#45;&gt;tb</title>\n<path fill=\"none\" stroke=\"#000000\" d=\"M83.2167,-87.1719C97.2094,-73.0159 116.6952,-53.3028 131.253,-38.5751\"/>\n<polygon fill=\"#000000\" stroke=\"#000000\" points=\"133.8206,-40.9562 138.3614,-31.3837 128.8423,-36.0353 133.8206,-40.9562\"/>\n<text text-anchor=\"middle\" x=\"111.6963\" y=\"-64.9984\" font-family=\"Times,serif\" font-size=\"14.00\" fill=\"#000000\">ε</text>\n</g>\n<!-- ta&#45;&gt;f -->\n<g id=\"edge8\" class=\"edge\">\n<title>ta&#45;&gt;f</title>\n<path fill=\"none\" stroke=\"#000000\" d=\"M164.1826,-178.985C177.071,-165.6677 197.2356,-144.8322 212.8547,-128.6933\"/>\n<polygon fill=\"#000000\" stroke=\"#000000\" points=\"215.666,-130.8213 220.1054,-121.2014 210.6359,-125.9532 215.666,-130.8213\"/>\n<text text-anchor=\"middle\" x=\"191.5931\" y=\"-156.9984\" font-family=\"Times,serif\" font-size=\"14.00\" fill=\"#000000\">a</text>\n</g>\n<!-- ta&#45;&gt;ta -->\n<g id=\"edge5\" class=\"edge\">\n<title>ta&#45;&gt;ta</title>\n<path fill=\"none\" stroke=\"#000000\" d=\"M144.6611,-209.2357C143.2869,-219.0563 145.5314,-228.1984 151.3947,-228.1984 155.0592,-228.1984 157.3102,-224.6273 158.1476,-219.5513\"/>\n<polygon fill=\"#000000\" stroke=\"#000000\" points=\"161.6471,-219.2291 158.1283,-209.2357 154.6471,-219.2423 161.6471,-219.2291\"/>\n<text text-anchor=\"middle\" x=\"151.3947\" y=\"-231.9984\" font-family=\"Times,serif\" font-size=\"14.00\" fill=\"#000000\">b,c</text>\n</g>\n<!-- tc&#45;&gt;f -->\n<g id=\"edge10\" class=\"edge\">\n<title>tc&#45;&gt;f</title>\n<path fill=\"none\" stroke=\"#000000\" d=\"M169.6645,-105.1984C179.5145,-105.1984 191.9596,-105.1984 203.3769,-105.1984\"/>\n<polygon fill=\"#000000\" stroke=\"#000000\" points=\"203.4693,-108.6985 213.4692,-105.1984 203.4692,-101.6985 203.4693,-108.6985\"/>\n<text text-anchor=\"middle\" x=\"191.5931\" y=\"-108.9984\" font-family=\"Times,serif\" font-size=\"14.00\" fill=\"#000000\">c</text>\n</g>\n<!-- tc&#45;&gt;tc -->\n<g id=\"edge7\" class=\"edge\">\n<title>tc&#45;&gt;tc</title>\n<path fill=\"none\" stroke=\"#000000\" d=\"M144.6611,-122.2357C143.2869,-132.0563 145.5314,-141.1984 151.3947,-141.1984 155.0592,-141.1984 157.3102,-137.6273 158.1476,-132.5513\"/>\n<polygon fill=\"#000000\" stroke=\"#000000\" points=\"161.6471,-132.2291 158.1283,-122.2357 154.6471,-132.2423 161.6471,-132.2291\"/>\n<text text-anchor=\"middle\" x=\"151.3947\" y=\"-144.9984\" font-family=\"Times,serif\" font-size=\"14.00\" fill=\"#000000\">a,b</text>\n</g>\n<!-- tb&#45;&gt;f -->\n<g id=\"edge9\" class=\"edge\">\n<title>tb&#45;&gt;f</title>\n<path fill=\"none\" stroke=\"#000000\" d=\"M164.1826,-31.4118C177.071,-44.7291 197.2356,-65.5646 212.8547,-81.7034\"/>\n<polygon fill=\"#000000\" stroke=\"#000000\" points=\"210.6359,-84.4435 220.1054,-89.1953 215.666,-79.5754 210.6359,-84.4435\"/>\n<text text-anchor=\"middle\" x=\"191.5931\" y=\"-64.9984\" font-family=\"Times,serif\" font-size=\"14.00\" fill=\"#000000\">b</text>\n</g>\n<!-- tb&#45;&gt;tb -->\n<g id=\"edge6\" class=\"edge\">\n<title>tb&#45;&gt;tb</title>\n<path fill=\"none\" stroke=\"#000000\" d=\"M144.6611,-35.3296C143.2869,-45.2043 145.5314,-54.3968 151.3947,-54.3968 155.0592,-54.3968 157.3102,-50.806 158.1476,-45.702\"/>\n<polygon fill=\"#000000\" stroke=\"#000000\" points=\"161.647,-45.323 158.1283,-35.3296 154.647,-45.3361 161.647,-45.323\"/>\n<text text-anchor=\"middle\" x=\"151.3947\" y=\"-58.1968\" font-family=\"Times,serif\" font-size=\"14.00\" fill=\"#000000\">a,c</text>\n</g>\n</g>\n</svg>\n"
          },
          "metadata": {},
          "execution_count": 4
        }
      ]
    },
    {
      "cell_type": "markdown",
      "metadata": {
        "id": "UDIB4qHrmpy1"
      },
      "source": [
        "# Exercícios\n",
        "\n",
        "1. Construa um AFD para a seguinte linguagem sobre o alfabeto $\\Sigma = \\{0, 1\\}$: $\\{w \\in \\{0, 1\\}^* \\mid $ cada 0 de $w$ é imediatamente seguido de, no mínimo, dois 1's$\\}.$"
      ]
    },
    {
      "cell_type": "code",
      "source": [
        "Q = {'P', 'Z'}\n",
        "Sigma = {'0','1'}\n",
        "delta = {\n",
        "    ('P', '1'): 'P',\n",
        "    ('P', '0'): 'Z',\n",
        "    ('Z', '0'): 'Z',\n",
        "    ('Z', '1'): 'P',\n",
        "}\n",
        "q0 = 'P'\n",
        "F = {'P'}\n",
        " \n",
        "M = AFD(Q,Sigma,delta,q0,F)\n",
        "print(M.aceita(\"011001\"))\n",
        "print(M.aceita(\"0110011111111111\"))\n",
        "print(M.aceita(\"01\"))\n",
        "print(M.aceita(\"01100100000\"))\n",
        "print(M.aceita(\"\"))\n",
        "print(M.aceita(\"0\"))\n",
        "M.visualizar()"
      ],
      "metadata": {
        "colab": {
          "base_uri": "https://localhost:8080/",
          "height": 239
        },
        "id": "TjP-6nJVJTPR",
        "outputId": "857067f0-a3bd-4917-a393-9c3b23655ca5"
      },
      "execution_count": 4,
      "outputs": [
        {
          "output_type": "stream",
          "name": "stdout",
          "text": [
            "True\n",
            "True\n",
            "True\n",
            "False\n",
            "True\n",
            "False\n"
          ]
        },
        {
          "output_type": "execute_result",
          "data": {
            "text/plain": [
              "<graphviz.dot.Digraph at 0x7fce5d927e90>"
            ],
            "image/svg+xml": "<?xml version=\"1.0\" encoding=\"UTF-8\" standalone=\"no\"?>\n<!DOCTYPE svg PUBLIC \"-//W3C//DTD SVG 1.1//EN\"\n \"http://www.w3.org/Graphics/SVG/1.1/DTD/svg11.dtd\">\n<!-- Generated by graphviz version 2.40.1 (20161225.0304)\n -->\n<!-- Title: finite_state_machine Pages: 1 -->\n<svg width=\"173pt\" height=\"85pt\"\n viewBox=\"0.00 0.00 172.60 85.00\" xmlns=\"http://www.w3.org/2000/svg\" xmlns:xlink=\"http://www.w3.org/1999/xlink\">\n<g id=\"graph0\" class=\"graph\" transform=\"scale(1 1) rotate(0) translate(4 81)\">\n<title>finite_state_machine</title>\n<polygon fill=\"#ffffff\" stroke=\"transparent\" points=\"-4,4 -4,-81 168.6,-81 168.6,4 -4,4\"/>\n<g id=\"node1\" class=\"node\">\n<title></title>\n<ellipse fill=\"#000000\" stroke=\"#000000\" cx=\"1.8\" cy=\"-22\" rx=\"1.8\" ry=\"1.8\"/>\n</g>\n<!-- P -->\n<g id=\"node2\" class=\"node\">\n<title>P</title>\n<ellipse fill=\"none\" stroke=\"#000000\" cx=\"62.6\" cy=\"-22\" rx=\"18\" ry=\"18\"/>\n<ellipse fill=\"none\" stroke=\"#000000\" cx=\"62.6\" cy=\"-22\" rx=\"22\" ry=\"22\"/>\n<text text-anchor=\"middle\" x=\"62.6\" y=\"-18.3\" font-family=\"Times,serif\" font-size=\"14.00\" fill=\"#000000\">P</text>\n</g>\n<!-- &#45;&gt;P -->\n<g id=\"edge1\" class=\"edge\">\n<title>&#45;&gt;P</title>\n<path fill=\"none\" stroke=\"#000000\" d=\"M3.8229,-22C8.2086,-22 19.1055,-22 30.3421,-22\"/>\n<polygon fill=\"#000000\" stroke=\"#000000\" points=\"30.58,-25.5001 40.58,-22 30.5799,-18.5001 30.58,-25.5001\"/>\n</g>\n<!-- P&#45;&gt;P -->\n<g id=\"edge2\" class=\"edge\">\n<title>P&#45;&gt;P</title>\n<path fill=\"none\" stroke=\"#000000\" d=\"M55.2831,-42.9908C54.3798,-53.0872 56.8188,-62 62.6,-62 66.3036,-62 68.6356,-58.3422 69.5958,-53.0587\"/>\n<polygon fill=\"#000000\" stroke=\"#000000\" points=\"73.0963,-53.0973 69.9169,-42.9908 66.0998,-52.8741 73.0963,-53.0973\"/>\n<text text-anchor=\"middle\" x=\"62.6\" y=\"-65.8\" font-family=\"Times,serif\" font-size=\"14.00\" fill=\"#000000\">1</text>\n</g>\n<!-- Z -->\n<g id=\"node3\" class=\"node\">\n<title>Z</title>\n<ellipse fill=\"none\" stroke=\"#000000\" cx=\"146.6\" cy=\"-22\" rx=\"18\" ry=\"18\"/>\n<text text-anchor=\"middle\" x=\"146.6\" y=\"-18.3\" font-family=\"Times,serif\" font-size=\"14.00\" fill=\"#000000\">Z</text>\n</g>\n<!-- P&#45;&gt;Z -->\n<g id=\"edge3\" class=\"edge\">\n<title>P&#45;&gt;Z</title>\n<path fill=\"none\" stroke=\"#000000\" d=\"M84.67,-22C94.8779,-22 107.1305,-22 118.0332,-22\"/>\n<polygon fill=\"#000000\" stroke=\"#000000\" points=\"118.3603,-25.5001 128.3603,-22 118.3603,-18.5001 118.3603,-25.5001\"/>\n<text text-anchor=\"middle\" x=\"106.6\" y=\"-25.8\" font-family=\"Times,serif\" font-size=\"14.00\" fill=\"#000000\">0</text>\n</g>\n<!-- Z&#45;&gt;P -->\n<g id=\"edge5\" class=\"edge\">\n<title>Z&#45;&gt;P</title>\n<path fill=\"none\" stroke=\"#000000\" d=\"M131.4943,-11.93C125.2932,-8.3682 117.8713,-4.8011 110.6,-3 103.8198,-1.3206 96.7191,-2.4247 90.1214,-4.7733\"/>\n<polygon fill=\"#000000\" stroke=\"#000000\" points=\"88.589,-1.6248 80.9109,-8.9253 91.4658,-8.0064 88.589,-1.6248\"/>\n<text text-anchor=\"middle\" x=\"106.6\" y=\"-6.8\" font-family=\"Times,serif\" font-size=\"14.00\" fill=\"#000000\">1</text>\n</g>\n<!-- Z&#45;&gt;Z -->\n<g id=\"edge4\" class=\"edge\">\n<title>Z&#45;&gt;Z</title>\n<path fill=\"none\" stroke=\"#000000\" d=\"M139.5688,-38.6641C138.0063,-48.625 140.35,-58 146.6,-58 150.6039,-58 153.0047,-54.1525 153.8023,-48.7682\"/>\n<polygon fill=\"#000000\" stroke=\"#000000\" points=\"157.3001,-48.6033 153.6313,-38.6641 150.3011,-48.7219 157.3001,-48.6033\"/>\n<text text-anchor=\"middle\" x=\"146.6\" y=\"-61.8\" font-family=\"Times,serif\" font-size=\"14.00\" fill=\"#000000\">0</text>\n</g>\n</g>\n</svg>\n"
          },
          "metadata": {},
          "execution_count": 4
        }
      ]
    },
    {
      "cell_type": "markdown",
      "metadata": {
        "id": "KtD1cERXTjzK"
      },
      "source": [
        "2. Construa um AFD para a seguinte linguagem sobre o alfabeto $\\Sigma = \\{0, 1\\}$: O conjunto das palavras com no maximo três 1’s."
      ]
    },
    {
      "cell_type": "code",
      "source": [
        "Q = {'P', 't1', 't2', 't3', 't4'}\n",
        "Sigma = {'0','1'}\n",
        "delta = {\n",
        "    ('P', '0'): 'P',\n",
        "    ('P', '1'): 't1',\n",
        "    ('t1', '0'): 't1',\n",
        "    ('t1', '1'): 't2',\n",
        "    ('t2', '0'): 't2',\n",
        "    ('t2', '1'): 't3',\n",
        "    ('t3', '0'): 't3',\n",
        "    ('t3', '1'): 't4',\n",
        "}\n",
        "q0 = 'P'\n",
        "F = {'P', 't1', 't2', 't3'}\n",
        " \n",
        "M = AFD(Q,Sigma,delta,q0,F)\n",
        "print(M.aceita(\"111\"))\n",
        "print(M.aceita(\"1111\"))\n",
        "print(M.aceita(\"0100100010000\"))\n",
        "print(M.aceita(\"01001000100001\"))\n",
        "M.visualizar()"
      ],
      "metadata": {
        "id": "5PyqfTUYQKnu",
        "colab": {
          "base_uri": "https://localhost:8080/",
          "height": 204
        },
        "outputId": "d455da94-98fb-464d-b638-e495d540852a"
      },
      "execution_count": null,
      "outputs": [
        {
          "output_type": "stream",
          "name": "stdout",
          "text": [
            "True\n",
            "False\n",
            "True\n",
            "False\n"
          ]
        },
        {
          "output_type": "execute_result",
          "data": {
            "text/plain": [
              "<graphviz.dot.Digraph at 0x7f375d212210>"
            ],
            "image/svg+xml": "<?xml version=\"1.0\" encoding=\"UTF-8\" standalone=\"no\"?>\n<!DOCTYPE svg PUBLIC \"-//W3C//DTD SVG 1.1//EN\"\n \"http://www.w3.org/Graphics/SVG/1.1/DTD/svg11.dtd\">\n<!-- Generated by graphviz version 2.40.1 (20161225.0304)\n -->\n<!-- Title: finite_state_machine Pages: 1 -->\n<svg width=\"438pt\" height=\"85pt\"\n viewBox=\"0.00 0.00 438.19 85.40\" xmlns=\"http://www.w3.org/2000/svg\" xmlns:xlink=\"http://www.w3.org/1999/xlink\">\n<g id=\"graph0\" class=\"graph\" transform=\"scale(1 1) rotate(0) translate(4 81.3968)\">\n<title>finite_state_machine</title>\n<polygon fill=\"#ffffff\" stroke=\"transparent\" points=\"-4,4 -4,-81.3968 434.1871,-81.3968 434.1871,4 -4,4\"/>\n<g id=\"node1\" class=\"node\">\n<title></title>\n<ellipse fill=\"#000000\" stroke=\"#000000\" cx=\"1.8\" cy=\"-22.1984\" rx=\"1.8\" ry=\"1.8\"/>\n</g>\n<!-- P -->\n<g id=\"node4\" class=\"node\">\n<title>P</title>\n<ellipse fill=\"none\" stroke=\"#000000\" cx=\"62.6\" cy=\"-22.1984\" rx=\"18\" ry=\"18\"/>\n<ellipse fill=\"none\" stroke=\"#000000\" cx=\"62.6\" cy=\"-22.1984\" rx=\"22\" ry=\"22\"/>\n<text text-anchor=\"middle\" x=\"62.6\" y=\"-18.4984\" font-family=\"Times,serif\" font-size=\"14.00\" fill=\"#000000\">P</text>\n</g>\n<!-- &#45;&gt;P -->\n<g id=\"edge1\" class=\"edge\">\n<title>&#45;&gt;P</title>\n<path fill=\"none\" stroke=\"#000000\" d=\"M3.8229,-22.1984C8.2086,-22.1984 19.1055,-22.1984 30.3421,-22.1984\"/>\n<polygon fill=\"#000000\" stroke=\"#000000\" points=\"30.58,-25.6985 40.58,-22.1984 30.5799,-18.6985 30.58,-25.6985\"/>\n</g>\n<!-- t2 -->\n<g id=\"node2\" class=\"node\">\n<title>t2</title>\n<ellipse fill=\"none\" stroke=\"#000000\" cx=\"239.1952\" cy=\"-22.1984\" rx=\"18.3625\" ry=\"18.3625\"/>\n<ellipse fill=\"none\" stroke=\"#000000\" cx=\"239.1952\" cy=\"-22.1984\" rx=\"22.3986\" ry=\"22.3986\"/>\n<text text-anchor=\"middle\" x=\"239.1952\" y=\"-18.4984\" font-family=\"Times,serif\" font-size=\"14.00\" fill=\"#000000\">t2</text>\n</g>\n<!-- t2&#45;&gt;t2 -->\n<g id=\"edge6\" class=\"edge\">\n<title>t2&#45;&gt;t2</title>\n<path fill=\"none\" stroke=\"#000000\" d=\"M231.1466,-43.2932C230.1529,-53.4398 232.8358,-62.3968 239.1952,-62.3968 243.2691,-62.3968 245.8343,-58.7208 246.8906,-53.4111\"/>\n<polygon fill=\"#000000\" stroke=\"#000000\" points=\"250.3927,-53.4093 247.2437,-43.2932 243.3969,-53.165 250.3927,-53.4093\"/>\n<text text-anchor=\"middle\" x=\"239.1952\" y=\"-66.1968\" font-family=\"Times,serif\" font-size=\"14.00\" fill=\"#000000\">0</text>\n</g>\n<!-- t3 -->\n<g id=\"node3\" class=\"node\">\n<title>t3</title>\n<ellipse fill=\"none\" stroke=\"#000000\" cx=\"327.5919\" cy=\"-22.1984\" rx=\"18.3625\" ry=\"18.3625\"/>\n<ellipse fill=\"none\" stroke=\"#000000\" cx=\"327.5919\" cy=\"-22.1984\" rx=\"22.3986\" ry=\"22.3986\"/>\n<text text-anchor=\"middle\" x=\"327.5919\" y=\"-18.4984\" font-family=\"Times,serif\" font-size=\"14.00\" fill=\"#000000\">t3</text>\n</g>\n<!-- t2&#45;&gt;t3 -->\n<g id=\"edge7\" class=\"edge\">\n<title>t2&#45;&gt;t3</title>\n<path fill=\"none\" stroke=\"#000000\" d=\"M261.5014,-22.1984C271.6563,-22.1984 283.8739,-22.1984 295.0274,-22.1984\"/>\n<polygon fill=\"#000000\" stroke=\"#000000\" points=\"295.2929,-25.6985 305.2928,-22.1984 295.2928,-18.6985 295.2929,-25.6985\"/>\n<text text-anchor=\"middle\" x=\"283.3935\" y=\"-25.9984\" font-family=\"Times,serif\" font-size=\"14.00\" fill=\"#000000\">1</text>\n</g>\n<!-- t3&#45;&gt;t3 -->\n<g id=\"edge8\" class=\"edge\">\n<title>t3&#45;&gt;t3</title>\n<path fill=\"none\" stroke=\"#000000\" d=\"M319.5433,-43.2932C318.5497,-53.4398 321.2326,-62.3968 327.5919,-62.3968 331.6659,-62.3968 334.231,-58.7208 335.2873,-53.4111\"/>\n<polygon fill=\"#000000\" stroke=\"#000000\" points=\"338.7894,-53.4093 335.6405,-43.2932 331.7937,-53.165 338.7894,-53.4093\"/>\n<text text-anchor=\"middle\" x=\"327.5919\" y=\"-66.1968\" font-family=\"Times,serif\" font-size=\"14.00\" fill=\"#000000\">0</text>\n</g>\n<!-- t4 -->\n<g id=\"node6\" class=\"node\">\n<title>t4</title>\n<ellipse fill=\"none\" stroke=\"#000000\" cx=\"411.9887\" cy=\"-22.1984\" rx=\"18.399\" ry=\"18.399\"/>\n<text text-anchor=\"middle\" x=\"411.9887\" y=\"-18.4984\" font-family=\"Times,serif\" font-size=\"14.00\" fill=\"#000000\">t4</text>\n</g>\n<!-- t3&#45;&gt;t4 -->\n<g id=\"edge9\" class=\"edge\">\n<title>t3&#45;&gt;t4</title>\n<path fill=\"none\" stroke=\"#000000\" d=\"M350.2087,-22.1984C360.3891,-22.1984 372.5232,-22.1984 383.3316,-22.1984\"/>\n<polygon fill=\"#000000\" stroke=\"#000000\" points=\"383.5767,-25.6985 393.5766,-22.1984 383.5766,-18.6985 383.5767,-25.6985\"/>\n<text text-anchor=\"middle\" x=\"371.7903\" y=\"-25.9984\" font-family=\"Times,serif\" font-size=\"14.00\" fill=\"#000000\">1</text>\n</g>\n<!-- P&#45;&gt;P -->\n<g id=\"edge2\" class=\"edge\">\n<title>P&#45;&gt;P</title>\n<path fill=\"none\" stroke=\"#000000\" d=\"M55.2831,-43.1891C54.3798,-53.2856 56.8188,-62.1984 62.6,-62.1984 66.3036,-62.1984 68.6356,-58.5406 69.5958,-53.257\"/>\n<polygon fill=\"#000000\" stroke=\"#000000\" points=\"73.0963,-53.2957 69.9169,-43.1891 66.0998,-53.0725 73.0963,-53.2957\"/>\n<text text-anchor=\"middle\" x=\"62.6\" y=\"-65.9984\" font-family=\"Times,serif\" font-size=\"14.00\" fill=\"#000000\">0</text>\n</g>\n<!-- t1 -->\n<g id=\"node5\" class=\"node\">\n<title>t1</title>\n<ellipse fill=\"none\" stroke=\"#000000\" cx=\"150.7984\" cy=\"-22.1984\" rx=\"18.3625\" ry=\"18.3625\"/>\n<ellipse fill=\"none\" stroke=\"#000000\" cx=\"150.7984\" cy=\"-22.1984\" rx=\"22.3986\" ry=\"22.3986\"/>\n<text text-anchor=\"middle\" x=\"150.7984\" y=\"-18.4984\" font-family=\"Times,serif\" font-size=\"14.00\" fill=\"#000000\">t1</text>\n</g>\n<!-- P&#45;&gt;t1 -->\n<g id=\"edge3\" class=\"edge\">\n<title>P&#45;&gt;t1</title>\n<path fill=\"none\" stroke=\"#000000\" d=\"M84.8562,-22.1984C94.9883,-22.1984 107.1785,-22.1984 118.307,-22.1984\"/>\n<polygon fill=\"#000000\" stroke=\"#000000\" points=\"118.5494,-25.6985 128.5493,-22.1984 118.5493,-18.6985 118.5494,-25.6985\"/>\n<text text-anchor=\"middle\" x=\"106.6\" y=\"-25.9984\" font-family=\"Times,serif\" font-size=\"14.00\" fill=\"#000000\">1</text>\n</g>\n<!-- t1&#45;&gt;t2 -->\n<g id=\"edge5\" class=\"edge\">\n<title>t1&#45;&gt;t2</title>\n<path fill=\"none\" stroke=\"#000000\" d=\"M173.1046,-22.1984C183.2595,-22.1984 195.4772,-22.1984 206.6306,-22.1984\"/>\n<polygon fill=\"#000000\" stroke=\"#000000\" points=\"206.8961,-25.6985 216.8961,-22.1984 206.896,-18.6985 206.8961,-25.6985\"/>\n<text text-anchor=\"middle\" x=\"194.9968\" y=\"-25.9984\" font-family=\"Times,serif\" font-size=\"14.00\" fill=\"#000000\">1</text>\n</g>\n<!-- t1&#45;&gt;t1 -->\n<g id=\"edge4\" class=\"edge\">\n<title>t1&#45;&gt;t1</title>\n<path fill=\"none\" stroke=\"#000000\" d=\"M142.7498,-43.2932C141.7561,-53.4398 144.439,-62.3968 150.7984,-62.3968 154.8724,-62.3968 157.4375,-58.7208 158.4938,-53.4111\"/>\n<polygon fill=\"#000000\" stroke=\"#000000\" points=\"161.9959,-53.4093 158.847,-43.2932 155.0001,-53.165 161.9959,-53.4093\"/>\n<text text-anchor=\"middle\" x=\"150.7984\" y=\"-66.1968\" font-family=\"Times,serif\" font-size=\"14.00\" fill=\"#000000\">0</text>\n</g>\n</g>\n</svg>\n"
          },
          "metadata": {},
          "execution_count": 16
        }
      ]
    },
    {
      "cell_type": "markdown",
      "metadata": {
        "id": "r6vEMro0Csdk"
      },
      "source": [
        "3. Construa um AFN sobre $\\Sigma = \\{a, b, c\\}$ que reconheça o conjunto das palavras em que o último símbolo seja diferente do primeiro.\n"
      ]
    },
    {
      "cell_type": "code",
      "source": [
        "Q = {'P', 'A', 'B', 'C', 'F'}\n",
        "Sigma = {'a','b','c'}\n",
        "delta = {\n",
        "  ('P', 'a'): {'A'},\n",
        "  ('P', 'b'): {'B'},\n",
        "  ('P', 'c'): {'C'},\n",
        "  ('A', 'a'): {'A'},\n",
        "  ('A', 'b'): {'A', 'F'},\n",
        "  ('A', 'c'): {'A', 'F'},\n",
        "  ('B', 'a'): {'B', 'F'},\n",
        "  ('B', 'b'): {'B'},\n",
        "  ('B', 'c'): {'B', 'F'},\n",
        "  ('C', 'a'): {'C', 'F'},\n",
        "  ('C', 'b'): {'C', 'F'},\n",
        "  ('C', 'c'): {'C'},\n",
        "}\n",
        "q0 = 'P'\n",
        "F = {'P' ,'F'}\n",
        " \n",
        "M = AFN(Q,Sigma,delta,q0,F)\n",
        "print(M.aceita(\"abc\"))\n",
        "print(M.aceita(\"aba\"))\n",
        "print(M.aceita(\"baaccacb\"))\n",
        "print(M.aceita(\"cababsbcbacsbc\"))\n",
        "print(M.aceita(\"cabcbabcabcbabcbacb\"))\n",
        "M.visualizar()"
      ],
      "metadata": {
        "id": "mkbxTzfVKu3N",
        "colab": {
          "base_uri": "https://localhost:8080/",
          "height": 443
        },
        "outputId": "390ad529-f0f9-4650-c883-be3838c8d0a2"
      },
      "execution_count": null,
      "outputs": [
        {
          "output_type": "stream",
          "name": "stdout",
          "text": [
            "True\n",
            "False\n",
            "False\n",
            "False\n",
            "True\n"
          ]
        },
        {
          "output_type": "execute_result",
          "data": {
            "text/plain": [
              "<graphviz.dot.Digraph at 0x7f375d212ad0>"
            ],
            "image/svg+xml": "<?xml version=\"1.0\" encoding=\"UTF-8\" standalone=\"no\"?>\n<!DOCTYPE svg PUBLIC \"-//W3C//DTD SVG 1.1//EN\"\n \"http://www.w3.org/Graphics/SVG/1.1/DTD/svg11.dtd\">\n<!-- Generated by graphviz version 2.40.1 (20161225.0304)\n -->\n<!-- Title: finite_state_machine Pages: 1 -->\n<svg width=\"271pt\" height=\"251pt\"\n viewBox=\"0.00 0.00 270.60 251.00\" xmlns=\"http://www.w3.org/2000/svg\" xmlns:xlink=\"http://www.w3.org/1999/xlink\">\n<g id=\"graph0\" class=\"graph\" transform=\"scale(1 1) rotate(0) translate(4 247)\">\n<title>finite_state_machine</title>\n<polygon fill=\"#ffffff\" stroke=\"transparent\" points=\"-4,4 -4,-247 266.6,-247 266.6,4 -4,4\"/>\n<g id=\"node1\" class=\"node\">\n<title></title>\n<ellipse fill=\"#000000\" stroke=\"#000000\" cx=\"1.8\" cy=\"-105\" rx=\"1.8\" ry=\"1.8\"/>\n</g>\n<!-- P -->\n<g id=\"node3\" class=\"node\">\n<title>P</title>\n<ellipse fill=\"none\" stroke=\"#000000\" cx=\"62.6\" cy=\"-105\" rx=\"18\" ry=\"18\"/>\n<ellipse fill=\"none\" stroke=\"#000000\" cx=\"62.6\" cy=\"-105\" rx=\"22\" ry=\"22\"/>\n<text text-anchor=\"middle\" x=\"62.6\" y=\"-101.3\" font-family=\"Times,serif\" font-size=\"14.00\" fill=\"#000000\">P</text>\n</g>\n<!-- &#45;&gt;P -->\n<g id=\"edge1\" class=\"edge\">\n<title>&#45;&gt;P</title>\n<path fill=\"none\" stroke=\"#000000\" d=\"M3.8229,-105C8.2086,-105 19.1055,-105 30.3421,-105\"/>\n<polygon fill=\"#000000\" stroke=\"#000000\" points=\"30.58,-108.5001 40.58,-105 30.5799,-101.5001 30.58,-108.5001\"/>\n</g>\n<!-- F -->\n<g id=\"node2\" class=\"node\">\n<title>F</title>\n<ellipse fill=\"none\" stroke=\"#000000\" cx=\"240.6\" cy=\"-105\" rx=\"18\" ry=\"18\"/>\n<ellipse fill=\"none\" stroke=\"#000000\" cx=\"240.6\" cy=\"-105\" rx=\"22\" ry=\"22\"/>\n<text text-anchor=\"middle\" x=\"240.6\" y=\"-101.3\" font-family=\"Times,serif\" font-size=\"14.00\" fill=\"#000000\">F</text>\n</g>\n<!-- B -->\n<g id=\"node4\" class=\"node\">\n<title>B</title>\n<ellipse fill=\"none\" stroke=\"#000000\" cx=\"146.6\" cy=\"-192\" rx=\"18\" ry=\"18\"/>\n<text text-anchor=\"middle\" x=\"146.6\" y=\"-188.3\" font-family=\"Times,serif\" font-size=\"14.00\" fill=\"#000000\">B</text>\n</g>\n<!-- P&#45;&gt;B -->\n<g id=\"edge3\" class=\"edge\">\n<title>P&#45;&gt;B</title>\n<path fill=\"none\" stroke=\"#000000\" d=\"M78.0069,-120.9571C91.7201,-135.1601 111.8586,-156.0178 126.7703,-171.4621\"/>\n<polygon fill=\"#000000\" stroke=\"#000000\" points=\"124.5661,-174.2181 134.03,-178.9811 129.602,-169.356 124.5661,-174.2181\"/>\n<text text-anchor=\"middle\" x=\"106.6\" y=\"-156.8\" font-family=\"Times,serif\" font-size=\"14.00\" fill=\"#000000\">b</text>\n</g>\n<!-- C -->\n<g id=\"node5\" class=\"node\">\n<title>C</title>\n<ellipse fill=\"none\" stroke=\"#000000\" cx=\"146.6\" cy=\"-105\" rx=\"18\" ry=\"18\"/>\n<text text-anchor=\"middle\" x=\"146.6\" y=\"-101.3\" font-family=\"Times,serif\" font-size=\"14.00\" fill=\"#000000\">C</text>\n</g>\n<!-- P&#45;&gt;C -->\n<g id=\"edge4\" class=\"edge\">\n<title>P&#45;&gt;C</title>\n<path fill=\"none\" stroke=\"#000000\" d=\"M84.67,-105C94.8779,-105 107.1305,-105 118.0332,-105\"/>\n<polygon fill=\"#000000\" stroke=\"#000000\" points=\"118.3603,-108.5001 128.3603,-105 118.3603,-101.5001 118.3603,-108.5001\"/>\n<text text-anchor=\"middle\" x=\"106.6\" y=\"-108.8\" font-family=\"Times,serif\" font-size=\"14.00\" fill=\"#000000\">c</text>\n</g>\n<!-- A -->\n<g id=\"node6\" class=\"node\">\n<title>A</title>\n<ellipse fill=\"none\" stroke=\"#000000\" cx=\"146.6\" cy=\"-18\" rx=\"18\" ry=\"18\"/>\n<text text-anchor=\"middle\" x=\"146.6\" y=\"-14.3\" font-family=\"Times,serif\" font-size=\"14.00\" fill=\"#000000\">A</text>\n</g>\n<!-- P&#45;&gt;A -->\n<g id=\"edge2\" class=\"edge\">\n<title>P&#45;&gt;A</title>\n<path fill=\"none\" stroke=\"#000000\" d=\"M78.0069,-89.0429C91.7201,-74.8399 111.8586,-53.9822 126.7703,-38.5379\"/>\n<polygon fill=\"#000000\" stroke=\"#000000\" points=\"129.602,-40.644 134.03,-31.0189 124.5661,-35.7819 129.602,-40.644\"/>\n<text text-anchor=\"middle\" x=\"106.6\" y=\"-64.8\" font-family=\"Times,serif\" font-size=\"14.00\" fill=\"#000000\">a</text>\n</g>\n<!-- B&#45;&gt;F -->\n<g id=\"edge8\" class=\"edge\">\n<title>B&#45;&gt;F</title>\n<path fill=\"none\" stroke=\"#000000\" d=\"M160.0679,-179.535C174.7716,-165.9263 198.6114,-143.8618 216.5451,-127.2635\"/>\n<polygon fill=\"#000000\" stroke=\"#000000\" points=\"219.3537,-129.4332 224.3153,-120.072 214.5989,-124.2959 219.3537,-129.4332\"/>\n<text text-anchor=\"middle\" x=\"191.6\" y=\"-159.8\" font-family=\"Times,serif\" font-size=\"14.00\" fill=\"#000000\">a,c</text>\n</g>\n<!-- B&#45;&gt;B -->\n<g id=\"edge7\" class=\"edge\">\n<title>B&#45;&gt;B</title>\n<path fill=\"none\" stroke=\"#000000\" d=\"M139.5688,-208.6641C138.0063,-218.625 140.35,-228 146.6,-228 150.6039,-228 153.0047,-224.1525 153.8023,-218.7682\"/>\n<polygon fill=\"#000000\" stroke=\"#000000\" points=\"157.3001,-218.6033 153.6313,-208.6641 150.3011,-218.7219 157.3001,-218.6033\"/>\n<text text-anchor=\"middle\" x=\"146.6\" y=\"-231.8\" font-family=\"Times,serif\" font-size=\"14.00\" fill=\"#000000\">a,b,c</text>\n</g>\n<!-- C&#45;&gt;F -->\n<g id=\"edge10\" class=\"edge\">\n<title>C&#45;&gt;F</title>\n<path fill=\"none\" stroke=\"#000000\" d=\"M164.7241,-105C177.0881,-105 193.8047,-105 208.4005,-105\"/>\n<polygon fill=\"#000000\" stroke=\"#000000\" points=\"208.5612,-108.5001 218.5612,-105 208.5611,-101.5001 208.5612,-108.5001\"/>\n<text text-anchor=\"middle\" x=\"191.6\" y=\"-108.8\" font-family=\"Times,serif\" font-size=\"14.00\" fill=\"#000000\">a,b</text>\n</g>\n<!-- C&#45;&gt;C -->\n<g id=\"edge9\" class=\"edge\">\n<title>C&#45;&gt;C</title>\n<path fill=\"none\" stroke=\"#000000\" d=\"M139.5688,-121.6641C138.0063,-131.625 140.35,-141 146.6,-141 150.6039,-141 153.0047,-137.1525 153.8023,-131.7682\"/>\n<polygon fill=\"#000000\" stroke=\"#000000\" points=\"157.3001,-131.6033 153.6313,-121.6641 150.3011,-131.7219 157.3001,-131.6033\"/>\n<text text-anchor=\"middle\" x=\"146.6\" y=\"-144.8\" font-family=\"Times,serif\" font-size=\"14.00\" fill=\"#000000\">a,b,c</text>\n</g>\n<!-- A&#45;&gt;F -->\n<g id=\"edge6\" class=\"edge\">\n<title>A&#45;&gt;F</title>\n<path fill=\"none\" stroke=\"#000000\" d=\"M160.0679,-30.465C174.7716,-44.0737 198.6114,-66.1382 216.5451,-82.7365\"/>\n<polygon fill=\"#000000\" stroke=\"#000000\" points=\"214.5989,-85.7041 224.3153,-89.928 219.3537,-80.5668 214.5989,-85.7041\"/>\n<text text-anchor=\"middle\" x=\"191.6\" y=\"-69.8\" font-family=\"Times,serif\" font-size=\"14.00\" fill=\"#000000\">b,c</text>\n</g>\n<!-- A&#45;&gt;A -->\n<g id=\"edge5\" class=\"edge\">\n<title>A&#45;&gt;A</title>\n<path fill=\"none\" stroke=\"#000000\" d=\"M139.5688,-34.6641C138.0063,-44.625 140.35,-54 146.6,-54 150.6039,-54 153.0047,-50.1525 153.8023,-44.7682\"/>\n<polygon fill=\"#000000\" stroke=\"#000000\" points=\"157.3001,-44.6033 153.6313,-34.6641 150.3011,-44.7219 157.3001,-44.6033\"/>\n<text text-anchor=\"middle\" x=\"146.6\" y=\"-57.8\" font-family=\"Times,serif\" font-size=\"14.00\" fill=\"#000000\">a,b,c</text>\n</g>\n</g>\n</svg>\n"
          },
          "metadata": {},
          "execution_count": 15
        }
      ]
    },
    {
      "cell_type": "markdown",
      "metadata": {
        "id": "jfDkYzQMUljV"
      },
      "source": [
        "4. Construa um AFN sobre $\\Sigma = \\{a, b, c\\}$ que reconheça o conjunto das palavras com sufixo $abc$ ou $bca$. "
      ]
    },
    {
      "cell_type": "code",
      "source": [
        "Q = {'P','1','2','3','4','F'}\n",
        "Sigma = {'a','b','c'}\n",
        "delta = {\n",
        "  ('P', 'a'): {'P', '1'},\n",
        "  ('P', 'b'): {'P', '3'},\n",
        "  ('P', 'c'): {'P'},\n",
        "  ('1', 'b'): {'2'},\n",
        "  ('2', 'c'): {'F'},\n",
        "  ('3', 'c'): {'4'},\n",
        "  ('4', 'a'): {'F'},\n",
        "}\n",
        "q0 = 'P'\n",
        "F = {'F'}\n",
        " \n",
        "M = AFN(Q,Sigma,delta,q0,F)\n",
        "print(M.aceita(\"abccabababc\"))\n",
        "print(M.aceita(\"abccababca\"))\n",
        "print(M.aceita(\"aacbbabcabbc\"))\n",
        "M.visualizar()"
      ],
      "metadata": {
        "id": "YBWYxjT6SLTM",
        "colab": {
          "base_uri": "https://localhost:8080/",
          "height": 212
        },
        "outputId": "504ecbb6-6b99-4e6a-e812-51d3418c441a"
      },
      "execution_count": null,
      "outputs": [
        {
          "output_type": "stream",
          "name": "stdout",
          "text": [
            "True\n",
            "True\n",
            "False\n"
          ]
        },
        {
          "output_type": "execute_result",
          "data": {
            "text/plain": [
              "<graphviz.dot.Digraph at 0x7f375d243250>"
            ],
            "image/svg+xml": "<?xml version=\"1.0\" encoding=\"UTF-8\" standalone=\"no\"?>\n<!DOCTYPE svg PUBLIC \"-//W3C//DTD SVG 1.1//EN\"\n \"http://www.w3.org/Graphics/SVG/1.1/DTD/svg11.dtd\">\n<!-- Generated by graphviz version 2.40.1 (20161225.0304)\n -->\n<!-- Title: finite_state_machine Pages: 1 -->\n<svg width=\"332pt\" height=\"104pt\"\n viewBox=\"0.00 0.00 331.60 104.00\" xmlns=\"http://www.w3.org/2000/svg\" xmlns:xlink=\"http://www.w3.org/1999/xlink\">\n<g id=\"graph0\" class=\"graph\" transform=\"scale(1 1) rotate(0) translate(4 100)\">\n<title>finite_state_machine</title>\n<polygon fill=\"#ffffff\" stroke=\"transparent\" points=\"-4,4 -4,-100 327.6,-100 327.6,4 -4,4\"/>\n<g id=\"node1\" class=\"node\">\n<title></title>\n<ellipse fill=\"#000000\" stroke=\"#000000\" cx=\"1.8\" cy=\"-45\" rx=\"1.8\" ry=\"1.8\"/>\n</g>\n<!-- P -->\n<g id=\"node3\" class=\"node\">\n<title>P</title>\n<ellipse fill=\"none\" stroke=\"#000000\" cx=\"58.6\" cy=\"-45\" rx=\"18\" ry=\"18\"/>\n<text text-anchor=\"middle\" x=\"58.6\" y=\"-41.3\" font-family=\"Times,serif\" font-size=\"14.00\" fill=\"#000000\">P</text>\n</g>\n<!-- &#45;&gt;P -->\n<g id=\"edge1\" class=\"edge\">\n<title>&#45;&gt;P</title>\n<path fill=\"none\" stroke=\"#000000\" d=\"M3.6898,-45C8.0522,-45 19.3107,-45 30.5058,-45\"/>\n<polygon fill=\"#000000\" stroke=\"#000000\" points=\"30.5696,-48.5001 40.5696,-45 30.5696,-41.5001 30.5696,-48.5001\"/>\n</g>\n<!-- F -->\n<g id=\"node2\" class=\"node\">\n<title>F</title>\n<ellipse fill=\"none\" stroke=\"#000000\" cx=\"301.6\" cy=\"-45\" rx=\"18\" ry=\"18\"/>\n<ellipse fill=\"none\" stroke=\"#000000\" cx=\"301.6\" cy=\"-45\" rx=\"22\" ry=\"22\"/>\n<text text-anchor=\"middle\" x=\"301.6\" y=\"-41.3\" font-family=\"Times,serif\" font-size=\"14.00\" fill=\"#000000\">F</text>\n</g>\n<!-- P&#45;&gt;P -->\n<g id=\"edge3\" class=\"edge\">\n<title>P&#45;&gt;P</title>\n<path fill=\"none\" stroke=\"#000000\" d=\"M52.2208,-62.0373C50.9189,-71.8579 53.0453,-81 58.6,-81 62.0717,-81 64.2042,-77.4289 64.9975,-72.3529\"/>\n<polygon fill=\"#000000\" stroke=\"#000000\" points=\"68.4971,-72.031 64.9792,-62.0373 61.4971,-72.0435 68.4971,-72.031\"/>\n<text text-anchor=\"middle\" x=\"58.6\" y=\"-84.8\" font-family=\"Times,serif\" font-size=\"14.00\" fill=\"#000000\">a,b,c</text>\n</g>\n<!-- 3 -->\n<g id=\"node4\" class=\"node\">\n<title>3</title>\n<ellipse fill=\"none\" stroke=\"#000000\" cx=\"138.6\" cy=\"-72\" rx=\"18\" ry=\"18\"/>\n<text text-anchor=\"middle\" x=\"138.6\" y=\"-68.3\" font-family=\"Times,serif\" font-size=\"14.00\" fill=\"#000000\">3</text>\n</g>\n<!-- P&#45;&gt;3 -->\n<g id=\"edge4\" class=\"edge\">\n<title>P&#45;&gt;3</title>\n<path fill=\"none\" stroke=\"#000000\" d=\"M75.9588,-50.8586C86.3373,-54.3613 99.748,-58.8874 111.4965,-62.8526\"/>\n<polygon fill=\"#000000\" stroke=\"#000000\" points=\"110.6809,-66.2712 121.2751,-66.1528 112.9194,-59.6388 110.6809,-66.2712\"/>\n<text text-anchor=\"middle\" x=\"98.6\" y=\"-62.8\" font-family=\"Times,serif\" font-size=\"14.00\" fill=\"#000000\">b</text>\n</g>\n<!-- 1 -->\n<g id=\"node6\" class=\"node\">\n<title>1</title>\n<ellipse fill=\"none\" stroke=\"#000000\" cx=\"138.6\" cy=\"-18\" rx=\"18\" ry=\"18\"/>\n<text text-anchor=\"middle\" x=\"138.6\" y=\"-14.3\" font-family=\"Times,serif\" font-size=\"14.00\" fill=\"#000000\">1</text>\n</g>\n<!-- P&#45;&gt;1 -->\n<g id=\"edge2\" class=\"edge\">\n<title>P&#45;&gt;1</title>\n<path fill=\"none\" stroke=\"#000000\" d=\"M75.3424,-38.1541C81.3725,-35.7775 88.2539,-33.1672 94.6,-31 99.9707,-29.1659 105.7603,-27.3457 111.3194,-25.6737\"/>\n<polygon fill=\"#000000\" stroke=\"#000000\" points=\"112.3259,-29.0261 120.9368,-22.8534 110.356,-22.3089 112.3259,-29.0261\"/>\n<text text-anchor=\"middle\" x=\"98.6\" y=\"-34.8\" font-family=\"Times,serif\" font-size=\"14.00\" fill=\"#000000\">a</text>\n</g>\n<!-- 4 -->\n<g id=\"node7\" class=\"node\">\n<title>4</title>\n<ellipse fill=\"none\" stroke=\"#000000\" cx=\"218.6\" cy=\"-72\" rx=\"18\" ry=\"18\"/>\n<text text-anchor=\"middle\" x=\"218.6\" y=\"-68.3\" font-family=\"Times,serif\" font-size=\"14.00\" fill=\"#000000\">4</text>\n</g>\n<!-- 3&#45;&gt;4 -->\n<g id=\"edge7\" class=\"edge\">\n<title>3&#45;&gt;4</title>\n<path fill=\"none\" stroke=\"#000000\" d=\"M156.7532,-72C166.6749,-72 179.1833,-72 190.3508,-72\"/>\n<polygon fill=\"#000000\" stroke=\"#000000\" points=\"190.5186,-75.5001 200.5186,-72 190.5186,-68.5001 190.5186,-75.5001\"/>\n<text text-anchor=\"middle\" x=\"178.6\" y=\"-75.8\" font-family=\"Times,serif\" font-size=\"14.00\" fill=\"#000000\">c</text>\n</g>\n<!-- 2 -->\n<g id=\"node5\" class=\"node\">\n<title>2</title>\n<ellipse fill=\"none\" stroke=\"#000000\" cx=\"218.6\" cy=\"-18\" rx=\"18\" ry=\"18\"/>\n<text text-anchor=\"middle\" x=\"218.6\" y=\"-14.3\" font-family=\"Times,serif\" font-size=\"14.00\" fill=\"#000000\">2</text>\n</g>\n<!-- 2&#45;&gt;F -->\n<g id=\"edge6\" class=\"edge\">\n<title>2&#45;&gt;F</title>\n<path fill=\"none\" stroke=\"#000000\" d=\"M236.2273,-23.1426C244.0267,-25.466 253.2953,-28.2927 261.6,-31 264.5817,-31.972 267.6794,-33.0085 270.7718,-34.061\"/>\n<polygon fill=\"#000000\" stroke=\"#000000\" points=\"269.8886,-37.4588 280.4834,-37.4183 272.1758,-30.843 269.8886,-37.4588\"/>\n<text text-anchor=\"middle\" x=\"258.1\" y=\"-34.8\" font-family=\"Times,serif\" font-size=\"14.00\" fill=\"#000000\">c</text>\n</g>\n<!-- 1&#45;&gt;2 -->\n<g id=\"edge5\" class=\"edge\">\n<title>1&#45;&gt;2</title>\n<path fill=\"none\" stroke=\"#000000\" d=\"M156.7532,-18C166.6749,-18 179.1833,-18 190.3508,-18\"/>\n<polygon fill=\"#000000\" stroke=\"#000000\" points=\"190.5186,-21.5001 200.5186,-18 190.5186,-14.5001 190.5186,-21.5001\"/>\n<text text-anchor=\"middle\" x=\"178.6\" y=\"-21.8\" font-family=\"Times,serif\" font-size=\"14.00\" fill=\"#000000\">b</text>\n</g>\n<!-- 4&#45;&gt;F -->\n<g id=\"edge8\" class=\"edge\">\n<title>4&#45;&gt;F</title>\n<path fill=\"none\" stroke=\"#000000\" d=\"M235.7977,-66.4056C245.9619,-63.0991 259.1293,-58.8158 271.0119,-54.9504\"/>\n<polygon fill=\"#000000\" stroke=\"#000000\" points=\"272.1702,-58.2542 280.5969,-51.8323 270.0047,-51.5975 272.1702,-58.2542\"/>\n<text text-anchor=\"middle\" x=\"258.1\" y=\"-63.8\" font-family=\"Times,serif\" font-size=\"14.00\" fill=\"#000000\">a</text>\n</g>\n</g>\n</svg>\n"
          },
          "metadata": {},
          "execution_count": 18
        }
      ]
    }
  ]
}