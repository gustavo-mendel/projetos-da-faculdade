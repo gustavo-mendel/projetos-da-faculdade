{
  "cells": [
    {
      "cell_type": "markdown",
      "source": [
        "# Exercícios\n",
        "\n",
        "1. Altere o programa abaixo para que identifique apenas as palavras que começam com a, tenham qualquer coisa no meio, e terminem com b."
      ],
      "metadata": {
        "id": "yuRHmWJZwPBo"
      }
    },
    {
      "cell_type": "code",
      "source": [
        "import re\n",
        "def text_match(text):\n",
        "        patterns = 'ab*?'\n",
        "        if re.search(patterns,  text):\n",
        "                return 'Encontrei!'\n",
        "        else:\n",
        "                return('Oxe!')\n",
        "\n",
        "print(text_match(\"bb\"))\n",
        "print(text_match(\"a1b2\"))\n",
        "print(text_match(\"abcde\"))"
      ],
      "metadata": {
        "id": "eQVwtMXAwe7u",
        "colab": {
          "base_uri": "https://localhost:8080/"
        },
        "outputId": "688fb326-9753-4378-9e2a-d11779c24225"
      },
      "execution_count": 25,
      "outputs": [
        {
          "output_type": "stream",
          "name": "stdout",
          "text": [
            "asdf_sdafasdf\n",
            "Oxe!\n",
            "sjadfl_askdf_kasjer_klansg\n"
          ]
        }
      ]
    },
    {
      "cell_type": "markdown",
      "source": [
        "2. Altere a variavel patterns do código da questão 1 e escreva um programa em Python que identifique números de telefone no formato \n",
        " * (71) 98765-4321"
      ],
      "metadata": {
        "id": "wZp6XD3CwgE0"
      }
    },
    {
      "cell_type": "code",
      "source": [
        "import re\n",
        "def text_match(text):\n",
        "        patterns = '^(\\([0-9]{2}\\) [0-9]{5}-[0-9]{4})$'\n",
        "        if re.search(patterns,  text):\n",
        "          return re.search(patterns,  text)[0]\n",
        "        else:\n",
        "          return('Oxe!')\n",
        "\n",
        "print(text_match(\"(77)11111-1111\"))\n",
        "print(text_match(\"(7) 11111-1111\"))\n",
        "print(text_match(\"(77) 1111-1111\"))\n",
        "print(text_match(\"(77) 11111-11111\"))\n",
        "print(text_match(\"(77) 111111-1111\"))\n",
        "print(text_match(\"(777) 11111-1111\"))\n",
        "print(text_match(\"(77) 1111111111\"))\n",
        "print(text_match(\"(77) 11111-1111\"))\n",
        "print(text_match(\"(71) 99999-9999\"))\n",
        "print(text_match(\"(77) 90909-1234\"))"
      ],
      "metadata": {
        "colab": {
          "base_uri": "https://localhost:8080/"
        },
        "id": "Rv4VHm7wqudf",
        "outputId": "32b11c4a-cd97-44f7-e4ac-02ce8a28eacd"
      },
      "execution_count": 45,
      "outputs": [
        {
          "output_type": "stream",
          "name": "stdout",
          "text": [
            "Oxe!\n",
            "Oxe!\n",
            "Oxe!\n",
            "Oxe!\n",
            "Oxe!\n",
            "Oxe!\n",
            "Oxe!\n",
            "Oxe!\n",
            "(71) 99999-9999\n",
            "(77) 90909-1234\n"
          ]
        }
      ]
    },
    {
      "cell_type": "markdown",
      "source": [
        "3. Altere a variavel patterns do código da questão 1 e escreva um programa em Python que identifique CPFs no formato \n",
        " * 123.456.789-10"
      ],
      "metadata": {
        "id": "YaeUS5MLwijb"
      }
    },
    {
      "cell_type": "code",
      "source": [
        "import re\n",
        "def text_match(text):\n",
        "        patterns = '^([0-9]{3}.){2}[0-9]{3}-[0-9]{2}$'\n",
        "        if re.search(patterns,  text):\n",
        "          return re.search(patterns,  text)[0]\n",
        "        else:\n",
        "          return('Oxe!')\n",
        "\n",
        "print(text_match(\"0121.345.678-90\"))\n",
        "print(text_match(\"012.3451.678-90\"))\n",
        "print(text_match(\"012.345.6781-90\"))\n",
        "print(text_match(\"012.345.678-901\"))\n",
        "print(text_match(\"a012.345.678-90\"))\n",
        "print(text_match(\"0123.45.678-90\"))\n",
        "print(text_match(\"012.345.678-90\"))\n",
        "print(text_match(\"111.111.111-11\"))\n",
        "print(text_match(\"111.222.333-44\"))"
      ],
      "metadata": {
        "colab": {
          "base_uri": "https://localhost:8080/"
        },
        "id": "wKO6IZiIt8zQ",
        "outputId": "7355af23-cdb8-4c09-9738-e7c02dd56b07"
      },
      "execution_count": 48,
      "outputs": [
        {
          "output_type": "stream",
          "name": "stdout",
          "text": [
            "Oxe!\n",
            "Oxe!\n",
            "Oxe!\n",
            "Oxe!\n",
            "Oxe!\n",
            "Oxe!\n",
            "012.345.678-90\n",
            "111.111.111-11\n",
            "111.222.333-44\n"
          ]
        }
      ]
    },
    {
      "cell_type": "markdown",
      "source": [
        "4. Altere a variavel patterns do código da questão 1 e escreva um programa em Python que identifique palavras em que apenas a primeira letra é maiúscula."
      ],
      "metadata": {
        "id": "yPO_1AsHwlR0"
      }
    },
    {
      "cell_type": "code",
      "source": [
        "import re\n",
        "def text_match(text):\n",
        "        patterns = '^[A-Z][a-z]*$'\n",
        "        if re.search(patterns,  text):\n",
        "          return re.search(patterns,  text)[0]\n",
        "        else:\n",
        "          return('Oxe!')\n",
        "\n",
        "print(text_match(\"Gustavo\"))\n",
        "print(text_match(\"Mendel\"))\n",
        "print(text_match(\"GustavoA\"))\n",
        "print(text_match(\"FGustavo\"))\n",
        "print(text_match(\"GusAtavo\"))\n",
        "print(text_match(\"dMendel\"))"
      ],
      "metadata": {
        "colab": {
          "base_uri": "https://localhost:8080/"
        },
        "id": "6-tyutvau82-",
        "outputId": "3d16318e-80e6-4228-d002-be44c5e8f8c0"
      },
      "execution_count": 50,
      "outputs": [
        {
          "output_type": "stream",
          "name": "stdout",
          "text": [
            "Gustavo\n",
            "Mendel\n",
            "Oxe!\n",
            "Oxe!\n",
            "Oxe!\n",
            "Oxe!\n"
          ]
        }
      ]
    },
    {
      "cell_type": "markdown",
      "metadata": {
        "id": "vqWJsf-V7zST"
      },
      "source": [
        "# Classificando Tweets sobre eleições com Expressões Regulares\n",
        "\n",
        "* Objetivos\n",
        "  * Apresentação da biblioteca re da linguagem Python\n",
        "  * Classificar Tweets automaticamente utilizando expressões regulares \n",
        "  * Identificar os políticos mais comentados no Twitter"
      ]
    },
    {
      "cell_type": "markdown",
      "metadata": {
        "id": "HYkvsRZe8hIi"
      },
      "source": [
        "##1  - Utilize o seu BEARER_TOKEN para realizar as consultas na API do Twitter."
      ]
    },
    {
      "cell_type": "code",
      "execution_count": 53,
      "metadata": {
        "id": "8uNBt2Sp8qOW"
      },
      "outputs": [],
      "source": [
        "# Use o seu próprio BEARER_TOKEN\n",
        "bearer_token = 'AAAAAAAAAAAAAAAAAAAAAOJwgAEAAAAAX4zOPvwAzhJ8g%2FipQEbAk7UFZJ0%3DEokyi0E4LPKtTR6AEdEzJbVssshIgoFQanj7kI8nSkbFtIzp19'"
      ]
    },
    {
      "cell_type": "markdown",
      "metadata": {
        "id": "oMD6PbL29Joa"
      },
      "source": [
        "## 2 - Defina a sua chave de busca para tweets no Tweeter. Escolha os políticos (presidente da República, governador, senador, deputado federal, deputado estadual ou deputado distrital) que você quer monitorar."
      ]
    },
    {
      "cell_type": "code",
      "execution_count": 58,
      "metadata": {
        "id": "by1Ga5hhtHdz"
      },
      "outputs": [],
      "source": [
        "# Essa chave de consulta ficará em branco\n",
        "query = 'bolsonaro'"
      ]
    },
    {
      "cell_type": "code",
      "execution_count": 59,
      "metadata": {
        "cellView": "form",
        "id": "wW36gy-RKkzZ"
      },
      "outputs": [],
      "source": [
        "#@title Mantenha esse código oculto\n",
        "from tqdm import tqdm\n",
        "import json\n",
        "import csv\n",
        "import requests\n",
        "import pandas\n",
        "import time\n",
        "from requests.utils import quote\n",
        "# import emoji\n",
        "import re\n",
        "import pandas as pd\n",
        "import matplotlib.pyplot as plt\n",
        "import numpy as np\n",
        "\n",
        "def connect_to_endpoint(url, headers):\n",
        "    \"\"\" Connects to API URL endpoint \"\"\"\n",
        "    for i in range(1, 14):\n",
        "        try:\n",
        "            response = requests.get(url, headers=headers)\n",
        "            if response.status_code == 200:\n",
        "                return response.json()\n",
        "        except Exception as e:\n",
        "      \n",
        "            print(\"Connection failed, retrying...\",i)\n",
        "            time.sleep(5)\n",
        "\n",
        "def json_extract(obj, key):\n",
        "    \"\"\"Recursively fetch values from nested JSON.\"\"\"\n",
        "    arr = []\n",
        "\n",
        "    def extract(obj, arr, key):\n",
        "        \"\"\"Recursively search for values of key in JSON tree.\"\"\"\n",
        "        if isinstance(obj, dict):\n",
        "            for k, v in obj.items():\n",
        "                if isinstance(v, (dict, list)):\n",
        "                    extract(v, arr, key)\n",
        "                elif k == key:\n",
        "                    arr.append(v)\n",
        "        elif isinstance(obj, list):\n",
        "            for item in obj:\n",
        "                extract(item, arr, key)\n",
        "        return arr\n",
        "\n",
        "    values = extract(obj, arr, key)\n",
        "    return values\n",
        "\n",
        "def main(token):\n",
        "    stop = False\n",
        "    tweets = set()\n",
        "    # for i in tqdm(range(10)):\n",
        "    for i in range(10):\n",
        "        print()\n",
        "        headers = {\"Authorization\": \"Bearer {}\".format(bearer_token)}\n",
        "        query_field = quote(query, safe='')\n",
        "        \n",
        "        if token == '':\n",
        "          url = f'https://api.twitter.com/2/tweets/search/recent?query={query_field}'\n",
        "        else:\n",
        "          url = f'https://api.twitter.com/2/tweets/search/recent?query={query_field}'+'&next_token='+token\n",
        "\n",
        "        time.sleep(3.2) # Sleep for 3 seconds\n",
        "        try:\n",
        "            data = connect_to_endpoint(url, headers)\n",
        "        except Exception as e:\n",
        "            print(\"Oh no!!!\")\n",
        "        id = json_extract(data, 'id')\n",
        "        created_at = json_extract(data, 'id')\n",
        "        author_id = json_extract(data, 'author_id')\n",
        "        text = json_extract(data, 'text')\n",
        "\n",
        "        \n",
        "        for t in text:\n",
        "            tweets.add(t)       \n",
        "        \n",
        "        try:\n",
        "            token = json_extract(data, 'next_token')[0]\n",
        "            with open(token+'.json', 'w', encoding='utf-8') as f:\n",
        "                json.dump(data, f, ensure_ascii=False, indent=4, sort_keys=True)\n",
        "            \n",
        "            break\n",
        "        except:\n",
        "            token = ''\n",
        "            with open('last.json', 'w', encoding='utf-8') as f:\n",
        "                json.dump(data, f, ensure_ascii=False, indent=4, sort_keys=True)\n",
        "            print(\"finished\")\n",
        "            stop = True\n",
        "\n",
        "        if stop:\n",
        "            break\n",
        "    \n",
        "    complete = list(tweets)\n",
        "    return(complete,token)\n",
        "    \n"
      ]
    },
    {
      "cell_type": "markdown",
      "metadata": {
        "id": "L4KUNhyJMVMM"
      },
      "source": [
        "## 3 - Sua tarefa: Defina uma expressão regular que seja capaz de identificar se um tweet é contra ou a favor do seu candidato ~do coração~ nestas eleições de 2022. Caso necessário, modifique o gráfico de pizza para melhor visualização.\n",
        "\n",
        "A entrega desta atividade requer dois arquivos:\n",
        "* O arquivo fonte do Google Colab na extensão ipynb\n",
        "* A imagem do gráfico de pizza gerada após a execução do seu código"
      ]
    },
    {
      "cell_type": "code",
      "execution_count": 69,
      "metadata": {
        "colab": {
          "base_uri": "https://localhost:8080/",
          "height": 265
        },
        "id": "KHzP4kl8rgCF",
        "outputId": "a4d79402-a1ad-4b28-ffa2-bbb65d6343a5"
      },
      "outputs": [
        {
          "output_type": "stream",
          "name": "stdout",
          "text": [
            "RT @ValterL31673442: Você percebe o que é propósito e o que é conveniência. Os apoiadores do Lula falam dele como um criminoso e depois o a…\n"
          ]
        },
        {
          "output_type": "display_data",
          "data": {
            "text/plain": [
              "<Figure size 432x288 with 1 Axes>"
            ],
            "image/png": "[encoded data removed]"
          },
          "metadata": {}
        }
      ],
      "source": [
        "from IPython.display import display, clear_output\n",
        "\n",
        "if __name__ == '__main__':\n",
        "  \n",
        "  # Faz uma coleta inicial de Tweets\n",
        "  token = ''\n",
        "\n",
        "  # Geracao de Graficos\n",
        "  y = np.array([0, 0, 0])\n",
        "  labels = [\"Positivo\", \"Negativo\", \"Nenhum\"]\n",
        "\n",
        "  # Realiza 5 buscas no Twitter, altere essa quantidade como desejar\n",
        "  buscas = 100\n",
        "  for i in range(buscas):\n",
        "    # Utiliza token para continuar buscando Tweets do último ponto de retorno\n",
        "    tweets,token = main(token)  \n",
        "    for t in tweets:\n",
        "      plt.pause(0.5)\n",
        "      plt.clf() \n",
        "      clear_output(wait=True)\n",
        "      print(t)\n",
        "\n",
        "      # Crie suas expressões regulares aqui!!!\n",
        "      positivo = re.search(\"alta|empregos|inflação|melhor|acima de tudo\",t,re.IGNORECASE)\n",
        "      negativo = re.search(\"cortes|cortou|educação|inimigo|piores|corrupção|confiscou\",t,re.IGNORECASE)\n",
        "      nenhum = re.search(\"\",t,re.IGNORECASE)\n",
        "\n",
        "      if negativo:\n",
        "        y[1] = y[1]+1\n",
        "      elif positivo:\n",
        "        y[0] = y[0]+1\n",
        "      \n",
        "      plt.pie(y, labels = labels,autopct='%1.1f%%')\n",
        "      plt.show()\n",
        "\n",
        "    if token == '':\n",
        "      break\n",
        "    \n"
      ]
    }
  ],
  "metadata": {
    "colab": {
      "collapsed_sections": [],
      "provenance": []
    },
    "kernelspec": {
      "display_name": "Python 3",
      "name": "python3"
    },
    "language_info": {
      "name": "python"
    }
  },
  "nbformat": 4,
  "nbformat_minor": 0
}