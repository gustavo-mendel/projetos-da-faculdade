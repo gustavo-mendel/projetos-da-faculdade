{
  "nbformat": 4,
  "nbformat_minor": 0,
  "metadata": {
    "colab": {
      "provenance": [],
      "collapsed_sections": []
    },
    "kernelspec": {
      "name": "python3",
      "display_name": "Python 3"
    },
    "language_info": {
      "name": "python"
    }
  },
  "cells": [
    {
      "cell_type": "code",
      "metadata": {
        "id": "M9ujLosfru9F",
        "cellView": "form"
      },
      "source": [
        "#@title Implementação dos modelos em Python (*beta*)\n",
        "#@markdown Esta célula contém a implementação em Python 3 dos principais modelos de computação vistos na disciplina de Linguagens Formais e Autômatos. \n",
        "#@markdown Não é necessário conhecer o código aqui implementado ou mesmo ter um conhecimento profundo da linguagem Python. Acompanhe os exemplos e experimente construir seus próprios modelos.\n",
        " \n",
        "#@markdown >*Execute esta célula (`ctrl+enter` ou clicando no botão ao lado) para que o ambiente seja carregado com as classes implementadas.*\n",
        " \n",
        "from graphviz import Digraph\n",
        "import re\n",
        " \n",
        "class AP: \n",
        "    def __init__(self, Q={}, Sigma={}, Gamma={}, delta={}, q0=0, F={}):\n",
        "        self.states = Q\n",
        "        self.inputAlphabet = Sigma\n",
        "        self.stackAlphabet = Gamma\n",
        "        self.transition = delta\n",
        "        self.startState = q0\n",
        "        self.acceptStates = F \n",
        " \n",
        "        self.initialize()\n",
        " \n",
        "    def initialize(self, input_string=\"\"):\n",
        "        self.traces = [[(self.startState,tuple(input_string),())]]\n",
        " \n",
        "    def check(self):\n",
        "        pass\n",
        "        \n",
        "    def hasNext(self):\n",
        "        return self.traces and (not self.acceptTraces())\n",
        "    \n",
        "    def acceptTraces(self):\n",
        "        return [t for t in self.traces if t[-1][1] == () and t[-1][0] in self.acceptStates]\n",
        " \n",
        "    def step(self):\n",
        "        updated_traces = []\n",
        "        for trace in self.traces:\n",
        "          s, string, stack = trace[-1]\n",
        "          A = {'', string[0]} if string else {''}\n",
        "          B = {'', stack[-1]} if stack else {''}\n",
        "          possible_transitions = [(s,a,b) for a in A for b in B if (s,a,b) in self.transition]          \n",
        "          for (s,a,b) in possible_transitions:  \n",
        "            for r,c in self.transition[s,a,b]:\n",
        "              nstring = string[1:] if a else string\n",
        "              nstack  = stack[:-1] if b else stack\n",
        "              nstack  = nstack+(c,) if c else nstack\n",
        "              if (not (r,nstring,nstack) in trace):\n",
        "                updated_traces.append(trace+[(r,nstring,nstack)])\n",
        "        self.traces = updated_traces\n",
        " \n",
        "    def run(self, input_string=0, max_steps=1000):        \n",
        "        while (self.hasNext()): \n",
        "          if max_steps == 0: \n",
        "            raise Exception(\"Timeout\")\n",
        "          self.step()\n",
        "          max_steps -= 1\n",
        "        return self.result()\n",
        " \n",
        "    def aceita(self, input_string=0):\n",
        "        self.initialize(input_string)\n",
        "        return self.run()\n",
        " \n",
        "    def result(self):\n",
        "        return True if self.acceptTraces() else (False if (not self.traces) else None)\n",
        "    \n",
        "    def visualizar(self):      \n",
        "        f = Digraph('finite_state_machine', filename='fsm.gv')\n",
        "        f.attr(rankdir='LR', size='8,5')\n",
        " \n",
        "        f.attr('node', shape='point')\n",
        "        f.node('')\n",
        "        \n",
        "        f.attr('node', shape='doublecircle')\n",
        "        for n in self.acceptStates:\n",
        "          f.node(str(n))\n",
        " \n",
        "        f.attr('node', shape='circle')\n",
        "        for n in self.states.difference(self.acceptStates):\n",
        "          f.node(str(n))\n",
        " \n",
        "        label = {}        \n",
        "        for (q,a,b) in self.transition:\n",
        "          for (r,c) in self.transition[q,a,b]:          \n",
        "            label[q,r] = label[q,r]+[(a,b,c)] if (q,r) in label else [(a,b,c)]\n",
        " \n",
        "        f.edge('', str(self.startState))\n",
        "        for (q,r) in label:\n",
        "          f.edge(str(q),str(r),label=self.graphviz_edge_label_format(label[q,r]))      \n",
        "          pass\n",
        "        \n",
        "        return f\n",
        "    \n",
        "    def graphviz_edge_label_format(self,labels=[]):\n",
        "        epsilon = \"\\u03BB\"\n",
        "        right_arrow = \"\\u2192\"\n",
        "        return '\\n'.join([(a if (a or a==0) else epsilon) + \",\" + (b if (b or b==0) else epsilon) + right_arrow + (c if (c or c==0) else epsilon) for (a,b,c) in labels])\n",
        "        # return '\\n'.join([(str(a) if a else epsilon) + \",\" + (str(b) if b else epsilon) + right_arrow + (str(c) if c else epsilon) for (a,b,c) in labels])\n",
        " \n",
        "class AFN(AP):\n",
        "  def __init__(self, Q={}, Sigma={}, delta={}, q0=0, F={}):\n",
        "        delta_pda = {}\n",
        "        for q,a in delta:\n",
        "          delta_pda[q,a,''] = {(r,'') for r in delta[q,a]}\n",
        "        super().__init__(Q,Sigma,{},delta_pda,q0,F)\n",
        "  \n",
        "  def graphviz_edge_label_format(self,labels):\n",
        "      epsilon = \"\\u03BB\"\n",
        "      return \",\".join([(str(a) if (a or a==0) else epsilon) for (a,b,c) in labels])\n",
        " \n",
        "class AFD(AFN):\n",
        "  def __init__(self, Q={}, Sigma={}, delta={}, q0=0, F={}):\n",
        "        delta_nfa = {}\n",
        "        for (q,a) in delta:\n",
        "          delta_nfa[q,a] = {delta[q,a]}\n",
        "        super().__init__(Q,Sigma,delta_nfa,q0,F)\n",
        " \n",
        "class ER:\n",
        "  def __init__(self,regex=None):  \n",
        "    if (regex == None):\n",
        "      self.regex = None\n",
        "    elif (re.match(\"^[a-zA-Z0-9\\(\\)\\|\\*]*$\", regex)):\n",
        "      self.regex = regex\n",
        "    else:\n",
        "      raise Exception(\"Invalid pattern\")\n",
        " \n",
        "  def gera(self, input_string):\n",
        "    if (self.regex == None):\n",
        "      return False\n",
        "    else:\n",
        "      return True if re.match(\"^\"+self.regex+\"$\",input_string) else False\n",
        " \n",
        "class GLC:\n",
        "  def __init__(self,V,Sigma,R,S):\n",
        "      self.variables = V\n",
        "      self.terminals = Sigma\n",
        "      # self.rules = R\n",
        "      self.rules = {(a, tuple(b)) for (a,b) in R}\n",
        "      self.start = S\n",
        " \n",
        "      self.derivation = []\n",
        "      self.chomsky = None\n",
        "  \n",
        "  def gera(self, string):\n",
        "      if (not self.chomsky):\n",
        "        self.chomsky = self.to_chomsky()        \n",
        "      G = self.chomsky\n",
        "      \n",
        "      if len(string) == 0: return (G.start,()) in G.rules\n",
        " \n",
        "      # CYK Algorithm\n",
        "      n = len(string)\n",
        "      P = [[[] for x in range(n - y)] for y in range(n)]\n",
        "      for i,c in enumerate(string):\n",
        "        for v in [a for (a,b) in G.rules if len(b) == 1 and c in b]:\n",
        "          P[0][i] += [v]\n",
        "      for l in range(2, n+1): # borda da iteração\n",
        "        for s in range(0, n+1-l): # coluna\n",
        "          for p in range(1, l): # linha\n",
        "            for u, v in [(a,b) for (a,b) in G.rules if len(b) == 2]:\n",
        "              if v[0] in P[p-1][s] and v[1] in P[l-p-1][s+p]:\n",
        "                P[l-1][s] += [u]\n",
        "      return G.start in P[-1][0]\n",
        " \n",
        "  def print(self):\n",
        "      rightarrow = \"\\u2192\"\n",
        "      print(self.start,rightarrow, '|'.join([''.join(y) for x,y in self.rules if x == S]))\n",
        "      for v in sorted(self.variables.difference(self.start)): \n",
        "        print(v,rightarrow, '|'.join([''.join(y) for x,y in self.rules if x == v]))\n",
        " \n",
        "  def replace_eps(self, v, l):\n",
        "    if not l: return {()}\n",
        "    result = {(l[0],) + s for s in self.replace_eps(v, tuple(l[1:]))}\n",
        "    if l[0] == v:\n",
        "      result.update({tuple(s[1:]) for s in result})\n",
        "    return result   \n",
        " \n",
        "  def to_chomsky(self):\n",
        "      n_state = 0\n",
        "      \n",
        "      S = '<{}>'.format(n_state)\n",
        "      Sigma = self.terminals \n",
        "      V = {S}.union(self.variables)\n",
        "      R = {(S,(self.start,))}.union(self.rules)\n",
        " \n",
        "      target = {alpha for alpha in self.variables if (alpha,()) in R}\n",
        "      while (target):\n",
        "        for e in target:\n",
        "          rules = {(alpha,beta) for (alpha,beta) in R if e in beta}\n",
        "          for (a,b) in rules:\n",
        "            R.update({(a, beta) for beta in self.replace_eps(e,b)})\n",
        "          R.discard((e,()))\n",
        "        target = {alpha for alpha in self.variables if (alpha,()) in R}\n",
        "      \n",
        "      target = {(a,b) for (a,b) in R if len(b) == 1 and b[0] in V}\n",
        "      while (target):\n",
        "        for u,v in target:\n",
        "          rules = {b for (a,b) in R if a == v[0]}\n",
        "          R.update({(u,b) for b in rules})\n",
        "          R.discard((u,v))\n",
        "        target = {(a,b) for (a,b) in R if len(b) == 1 and b[0] in V}\n",
        "      \n",
        "      target = {(alpha,beta) for (alpha,beta) in R if len(beta) > 2}\n",
        "      while(target):\n",
        "        for u,v in target:\n",
        "          n_state += 1\n",
        "          state = '<{}>'.format(n_state)\n",
        "          V.update({state})\n",
        "          R.update({(u,(v[0],state)),(state, tuple(v[1:]))})\n",
        "          R.discard((u,v))\n",
        "        target = {(alpha,beta) for (alpha,beta) in R if len(beta) > 2}\n",
        " \n",
        "      target = {(alpha,beta) for (alpha,beta) in R if len(beta) == 2}\n",
        "      for u,v in target:\n",
        "        n = list(v)\n",
        "        for i in range(2):\n",
        "          if v[i] in Sigma:\n",
        "            R.discard((u,(n[0],n[1])))\n",
        "            n_state += 1\n",
        "            n[i] = '<{}>'.format(n_state)\n",
        "            V.update({n[i]})\n",
        "            R.update({(u,(n[0],n[1]))})\n",
        "            R.update({(n[i],(v[i],))})\n",
        " \n",
        "      return GLC(V,Sigma,R,S)"
      ],
      "execution_count": 2,
      "outputs": []
    },
    {
      "cell_type": "code",
      "metadata": {
        "cellView": "form",
        "id": "QDdwYb4RI7AN"
      },
      "source": [
        "#@title # Contrução de árvores de derivação com NetworkX\n",
        "#@markdown Esta célula contém uma implementação em Python3 da função que organiza os vértices da árvore de derivação de forma hierárquica. \n",
        "#@markdown >*Execute esta célula (`ctrl+enter` ou clicando no botão ao lado) para que a função seja carregada.*\n",
        "import networkx as nx\n",
        "import random\n",
        "\n",
        "    \n",
        "def hierarchy_pos(G, root=None, width=1., vert_gap = 0.2, vert_loc = 0, xcenter = 0.5):\n",
        "\n",
        "    '''\n",
        "    From Joel's answer at https://stackoverflow.com/a/29597209/2966723.  \n",
        "    Licensed under Creative Commons Attribution-Share Alike \n",
        "    \n",
        "    If the graph is a tree this will return the positions to plot this in a \n",
        "    hierarchical layout.\n",
        "    \n",
        "    G: the graph (must be a tree)\n",
        "    \n",
        "    root: the root node of current branch \n",
        "    - if the tree is directed and this is not given, \n",
        "      the root will be found and used\n",
        "    - if the tree is directed and this is given, then \n",
        "      the positions will be just for the descendants of this node.\n",
        "    - if the tree is undirected and not given, \n",
        "      then a random choice will be used.\n",
        "    \n",
        "    width: horizontal space allocated for this branch - avoids overlap with other branches\n",
        "    \n",
        "    vert_gap: gap between levels of hierarchy\n",
        "    \n",
        "    vert_loc: vertical location of root\n",
        "    \n",
        "    xcenter: horizontal location of root\n",
        "    '''\n",
        "    if not nx.is_tree(G):\n",
        "        raise TypeError('cannot use hierarchy_pos on a graph that is not a tree')\n",
        "\n",
        "    if root is None:\n",
        "        if isinstance(G, nx.DiGraph):\n",
        "            root = next(iter(nx.topological_sort(G)))  #allows back compatibility with nx version 1.11\n",
        "        else:\n",
        "            root = random.choice(list(G.nodes))\n",
        "\n",
        "    def _hierarchy_pos(G, root, width=1., vert_gap = 0.2, vert_loc = 0, xcenter = 0.5, pos = None, parent = None):\n",
        "        '''\n",
        "        see hierarchy_pos docstring for most arguments\n",
        "\n",
        "        pos: a dict saying where all nodes go if they have been assigned\n",
        "        parent: parent of this branch. - only affects it if non-directed\n",
        "\n",
        "        '''\n",
        "    \n",
        "        if pos is None:\n",
        "            pos = {root:(xcenter,vert_loc)}\n",
        "        else:\n",
        "            pos[root] = (xcenter, vert_loc)\n",
        "        children = list(G.neighbors(root))\n",
        "        if not isinstance(G, nx.DiGraph) and parent is not None:\n",
        "            children.remove(parent)  \n",
        "        if len(children)!=0:\n",
        "            dx = width/len(children) \n",
        "            nextx = xcenter - width/2 - dx/2\n",
        "            for child in children:\n",
        "                nextx += dx\n",
        "                pos = _hierarchy_pos(G,child, width = dx, vert_gap = vert_gap, \n",
        "                                    vert_loc = vert_loc-vert_gap, xcenter=nextx,\n",
        "                                    pos=pos, parent = root)\n",
        "        return pos\n",
        "\n",
        "            \n",
        "    return _hierarchy_pos(G, root, width, vert_gap, vert_loc, xcenter)"
      ],
      "execution_count": 3,
      "outputs": []
    },
    {
      "cell_type": "markdown",
      "metadata": {
        "id": "oSRGlatKOYar"
      },
      "source": [
        "###Exemplo\n",
        "Seja a gramática $G = (\\{E\\}, \\{t, +, ∗, (, )\\}, R, E)$, para expressões aritméticas, onde $R$ consta das regras:\n",
        "$$\n",
        "E \\rightarrow E+E \\mid E*E \\mid (E) \\mid t\n",
        "$$\n",
        "Tal gramática é ambígua, já que existem duas Árvores de Derivação da palavra $t+t+t$, as quais estão mostradas abaixo."
      ]
    },
    {
      "cell_type": "code",
      "metadata": {
        "colab": {
          "base_uri": "https://localhost:8080/",
          "height": 319
        },
        "id": "x2Jq0nj5Iguu",
        "outputId": "ebf258b8-9a6b-4d6e-b163-71b8a9d3c7b6"
      },
      "source": [
        "import matplotlib.pyplot as plt\n",
        "import networkx as nx\n",
        "\n",
        "D=nx.DiGraph()\n",
        "D.add_edges_from([(0,1),(0,2),(0,3),(1,4),(3,5),(3,6),(3,7),(5,8),(7,9)])\n",
        "posD = hierarchy_pos(D,0)    \n",
        "\n",
        "nx.draw(D, posD, node_size=500,node_color='lightgray')\n",
        "\n",
        "labelD = {}\n",
        "labelD[0] = 'E'\n",
        "labelD[1] = 'E'\n",
        "labelD[2] = '+'\n",
        "labelD[3] = 'E'\n",
        "labelD[4] = 't'\n",
        "labelD[5] = 'E'\n",
        "labelD[6] = '+'\n",
        "labelD[7] = 'E'\n",
        "labelD[8] = 't'\n",
        "labelD[9] = 't'\n",
        "nx.draw_networkx_labels(D, posD, labelD)\n",
        "\n",
        "plt.axis(\"off\")\n",
        "plt.show()"
      ],
      "execution_count": 4,
      "outputs": [
        {
          "output_type": "display_data",
          "data": {
            "text/plain": [
              "<Figure size 432x288 with 1 Axes>"
            ],
            "image/png": "[encoded data removed]"
          },
          "metadata": {}
        }
      ]
    },
    {
      "cell_type": "code",
      "metadata": {
        "colab": {
          "base_uri": "https://localhost:8080/",
          "height": 319
        },
        "id": "cZBh3PNlTgeC",
        "outputId": "c071b3a0-49d4-44c8-9783-7f869d4774b7"
      },
      "source": [
        "import matplotlib.pyplot as plt\n",
        "import networkx as nx\n",
        "\n",
        "E=nx.DiGraph()\n",
        "E.add_edges_from([(0,1),(0,2),(0,3),\n",
        "                  (1,4),(1,5),(1,6),(3,7),\n",
        "                  (4,8),(6,9)])\n",
        "\n",
        "posE = hierarchy_pos(E,0)  \n",
        "  \n",
        "nx.draw(E, posE, node_size=500,node_color='lightgray')\n",
        "\n",
        "labelE = {}\n",
        "labelE[0] = 'E'\n",
        "labelE[1] = 'E'\n",
        "labelE[2] = '+'\n",
        "labelE[3] = 'E'\n",
        "labelE[4] = 'E'\n",
        "labelE[5] = '+'\n",
        "labelE[6] = 'E'\n",
        "labelE[7] = 't'\n",
        "labelE[8] = 't'\n",
        "labelE[9] = 't'\n",
        "nx.draw_networkx_labels(E, posE, labelE)\n",
        "\n",
        "plt.axis(\"off\")\n",
        "plt.show()\n"
      ],
      "execution_count": null,
      "outputs": [
        {
          "output_type": "display_data",
          "data": {
            "text/plain": [
              "<Figure size 432x288 with 1 Axes>"
            ],
            "image/png": "[encoded data removed]"
          },
          "metadata": {}
        }
      ]
    },
    {
      "cell_type": "markdown",
      "metadata": {
        "id": "UDIB4qHrmpy1"
      },
      "source": [
        "# Exercícios"
      ]
    },
    {
      "cell_type": "markdown",
      "metadata": {
        "id": "pHx0BKntWcWo"
      },
      "source": [
        "1. Construa uma GLC para a linguagem $\\{a^mb^nc^{3m+2n+1} \\mid m, n \\geq 0\\}$. \n"
      ]
    },
    {
      "cell_type": "code",
      "source": [
        "V = {'A', 'B'}\n",
        "Sigma = {'a', 'b', 'c'}\n",
        "R = {\n",
        "  ('A', 'aAccc'),\n",
        "  ('A', 'B'),\n",
        "  ('B', 'bBcc'),\n",
        "  ('B', 'c'),\n",
        "}\n",
        "S = 'A'\n",
        "\n",
        "G = GLC(V,Sigma,R,S)\n",
        "\n",
        "G.print()\n",
        "print()\n",
        "\n",
        "# true\n",
        "print(G.gera('aabbbccccccccccccc'))\n",
        "print(G.gera('abcccccc'))\n",
        "print(G.gera('abbcccccccc'))\n",
        "print(G.gera('bccc'))\n",
        "print(G.gera('acccc'))\n",
        "print(G.gera('c'))\n",
        "\n",
        "# false\n",
        "print(G.gera(''))\n",
        "print(G.gera('bcc'))\n",
        "print(G.gera('aacccccc'))"
      ],
      "metadata": {
        "colab": {
          "base_uri": "https://localhost:8080/"
        },
        "id": "ESDeXp6iBhNn",
        "outputId": "724d755f-290a-49db-b8a1-e0c8634b364b"
      },
      "execution_count": null,
      "outputs": [
        {
          "output_type": "stream",
          "name": "stdout",
          "text": [
            "A → aAccc|B\n",
            "B → c|bBcc\n",
            "\n",
            "True\n",
            "True\n",
            "True\n",
            "True\n",
            "True\n",
            "True\n",
            "False\n",
            "False\n",
            "False\n"
          ]
        }
      ]
    },
    {
      "cell_type": "markdown",
      "metadata": {
        "id": "9cA2D5I2Wnt4"
      },
      "source": [
        "2. Construa uma GLC para a linguagem $\\{a^nb^{2n+k}c^{3k} \\mid n, k \\geq 0\\}$."
      ]
    },
    {
      "cell_type": "code",
      "source": [
        "V = {'P', 'A', 'C'}\n",
        "Sigma = {'a', 'b', 'c'}\n",
        "R = {\n",
        "  ('P', 'aAbbC'),\n",
        "  ('P', 'C'),\n",
        "  ('A', 'aAbb'),\n",
        "  ('A', ''),\n",
        "  ('C', 'bCccc'),\n",
        "  ('C', ''),\n",
        "}\n",
        "S = 'P'\n",
        "\n",
        "G = GLC(V,Sigma,R,S)\n",
        "\n",
        "G.print()\n",
        "print()\n",
        "\n",
        "# true\n",
        "print(G.gera('aabbbbbccc'))\n",
        "print(G.gera('abbbbcccccc'))\n",
        "print(G.gera('aaabbbbbb'))\n",
        "print(G.gera('bbbccccccccc'))\n",
        "print(G.gera(''))\n",
        "\n",
        "# false\n",
        "print(G.gera('aabbbbb'))\n",
        "print(G.gera('abbb'))\n",
        "print(G.gera('aacccccc'))"
      ],
      "metadata": {
        "colab": {
          "base_uri": "https://localhost:8080/"
        },
        "id": "oqCnMaxkCcy6",
        "outputId": "66cb9517-893e-4447-d438-6a3ff55c2195"
      },
      "execution_count": null,
      "outputs": [
        {
          "output_type": "stream",
          "name": "stdout",
          "text": [
            "P → C|aAbbC\n",
            "A → |aAbb\n",
            "C → bCccc|\n",
            "\n",
            "True\n",
            "True\n",
            "True\n",
            "True\n",
            "True\n",
            "False\n",
            "False\n",
            "False\n"
          ]
        }
      ]
    },
    {
      "cell_type": "markdown",
      "metadata": {
        "id": "_k2RC8neWdB8"
      },
      "source": [
        "3. Dada a seguinte gramática, mostre duas derivações à esquerda diferentes para a plavra $aabbccdd$\n",
        "\n",
        "\\begin{align}\n",
        "S &\\rightarrow AB \\mid C\\\\\n",
        "A &\\rightarrow  aAb \\mid ab\\\\\n",
        "B &\\rightarrow  cBd \\mid  cd\\\\\n",
        "C &\\rightarrow  aCd \\mid  aDd\\\\\n",
        "D &\\rightarrow  bDc \\mid  bc\n",
        "\\end{align}"
      ]
    },
    {
      "cell_type": "code",
      "source": [
        "E=nx.DiGraph()\n",
        "E.add_edges_from(\n",
        "  [\n",
        "    (0,1),(0,2),\n",
        "    (1,3),(1,4),(1,5),\n",
        "    (2,6),(2,7),(2,8),\n",
        "    (4,9),(4,10),\n",
        "    (7,11),(7,12),\n",
        "  ]\n",
        ")\n",
        "\n",
        "posE = hierarchy_pos(E,0)  \n",
        "  \n",
        "nx.draw(E, posE, node_size=500,node_color='lightgray')\n",
        "\n",
        "labelE = {}\n",
        "labelE[0] = 'S'\n",
        "labelE[1] = 'A'\n",
        "labelE[2] = 'B'\n",
        "labelE[3] = 'a'\n",
        "labelE[4] = 'A'\n",
        "labelE[5] = 'b'\n",
        "labelE[6] = 'c'\n",
        "labelE[7] = 'B'\n",
        "labelE[8] = 'd'\n",
        "labelE[9] = 'a'\n",
        "labelE[10] = 'b'\n",
        "labelE[11] = 'c'\n",
        "labelE[12] = 'd'\n",
        "\n",
        "nx.draw_networkx_labels(E, posE, labelE)\n",
        "\n",
        "plt.axis(\"off\")\n",
        "plt.show()"
      ],
      "metadata": {
        "colab": {
          "base_uri": "https://localhost:8080/",
          "height": 319
        },
        "id": "IMzUYiRjcoyO",
        "outputId": "91c71b53-14a0-49ee-e275-4b509a78fe96"
      },
      "execution_count": 8,
      "outputs": [
        {
          "output_type": "display_data",
          "data": {
            "text/plain": [
              "<Figure size 432x288 with 1 Axes>"
            ],
            "image/png": "[encoded data removed]"
          },
          "metadata": {}
        }
      ]
    },
    {
      "cell_type": "code",
      "source": [
        "E=nx.DiGraph()\n",
        "E.add_edges_from(\n",
        "  [\n",
        "    (0,1),(0,2),\n",
        "    (1,3),(1,4),(1,5),\n",
        "    (2,6),(2,7),(2,8),\n",
        "    (4,9),(4,10),\n",
        "    (7,11),(7,12),\n",
        "  ]\n",
        ")\n",
        "\n",
        "posE = hierarchy_pos(E,0)  \n",
        "  \n",
        "nx.draw(E, posE, node_size=500,node_color='lightgray')\n",
        "\n",
        "labelE = {}\n",
        "labelE[0] = 'S'\n",
        "labelE[1] = 'A'\n",
        "labelE[2] = 'B'\n",
        "labelE[3] = 'a'\n",
        "labelE[4] = 'A'\n",
        "labelE[5] = 'b'\n",
        "labelE[6] = 'c'\n",
        "labelE[7] = 'B'\n",
        "labelE[8] = 'd'\n",
        "labelE[9] = 'a'\n",
        "labelE[10] = 'b'\n",
        "labelE[11] = 'c'\n",
        "labelE[12] = 'd'\n",
        "\n",
        "nx.draw_networkx_labels(E, posE, labelE)\n",
        "\n",
        "print(\"Arvóre de derivação mais a esqueda\")\n",
        "\n",
        "plt.axis(\"off\")\n",
        "plt.show()"
      ],
      "metadata": {
        "colab": {
          "base_uri": "https://localhost:8080/",
          "height": 336
        },
        "id": "E_f-ycGOe7Pl",
        "outputId": "601338fc-9588-4f99-88c7-6b8d037ad0dd"
      },
      "execution_count": 10,
      "outputs": [
        {
          "output_type": "stream",
          "name": "stdout",
          "text": [
            "Arvóre de derivação mais a esqueda\n"
          ]
        },
        {
          "output_type": "display_data",
          "data": {
            "text/plain": [
              "<Figure size 432x288 with 1 Axes>"
            ],
            "image/png": "[encoded data removed]"
          },
          "metadata": {}
        }
      ]
    },
    {
      "cell_type": "code",
      "source": [
        "E=nx.DiGraph()\n",
        "E.add_edges_from(\n",
        "  [\n",
        "    (0,1),(0,2),\n",
        "    (1,3),(1,4),(1,5),\n",
        "    (2,6),(2,7),(2,8),\n",
        "    (4,9),(4,10),\n",
        "    (7,11),(7,12),\n",
        "  ]\n",
        ")\n",
        "\n",
        "posE = hierarchy_pos(E,0)  \n",
        "  \n",
        "nx.draw(E, posE, node_size=500,node_color='lightgray')\n",
        "\n",
        "labelE = {}\n",
        "labelE[0] = 'S'\n",
        "labelE[1] = 'A'\n",
        "labelE[2] = 'B'\n",
        "labelE[3] = 'a'\n",
        "labelE[4] = 'A'\n",
        "labelE[5] = 'b'\n",
        "labelE[6] = 'c'\n",
        "labelE[7] = 'B'\n",
        "labelE[8] = 'd'\n",
        "labelE[9] = 'a'\n",
        "labelE[10] = 'b'\n",
        "labelE[11] = 'c'\n",
        "labelE[12] = 'd'\n",
        "\n",
        "nx.draw_networkx_labels(E, posE, labelE)\n",
        "\n",
        "print(\"Arvóre de derivação mais a direita\")\n",
        "\n",
        "plt.axis(\"off\")\n",
        "plt.show()"
      ],
      "metadata": {
        "colab": {
          "base_uri": "https://localhost:8080/",
          "height": 336
        },
        "id": "DrD99JYsfBMe",
        "outputId": "0dde3ddf-dbc2-4250-b9af-63306b190c0d"
      },
      "execution_count": 9,
      "outputs": [
        {
          "output_type": "stream",
          "name": "stdout",
          "text": [
            "Arvóre de derivação mais a direita\n"
          ]
        },
        {
          "output_type": "display_data",
          "data": {
            "text/plain": [
              "<Figure size 432x288 with 1 Axes>"
            ],
            "image/png": "[encoded data removed]"
          },
          "metadata": {}
        }
      ]
    },
    {
      "cell_type": "markdown",
      "metadata": {
        "id": "Cq1DYG6SWcrU"
      },
      "source": [
        "4. Mostre que a gramática $G=(\\{P,S,C,V\\},\\{l,b,x,u,a\\},R,P)$, com o conjunto de regras $R$ definido abaixo, é ambígua.\n",
        "\n",
        "\\begin{align}\n",
        "\t\tP & \\rightarrow SP  \\mid S  ~|~ \\lambda\\\\\n",
        "\t\tS & \\rightarrow CCV \\mid CV ~|~ CCVV ~|~ V ~|~ VC ~|~ CVC ~|~ VV ~|~ CVV\\\\\n",
        "\t\tC & \\rightarrow l \\mid b ~|~ x\\\\\n",
        "\t\tV & \\rightarrow u \\mid a \n",
        "\\end{align}"
      ]
    },
    {
      "cell_type": "markdown",
      "source": [
        "Pois, como é provado a seguir, a palavra 'uu' pode ser obtiva através de duas árvores de derivação diferentes."
      ],
      "metadata": {
        "id": "HDSe5zXTiB51"
      }
    },
    {
      "cell_type": "code",
      "source": [
        "E=nx.DiGraph()\n",
        "E.add_edges_from(\n",
        "  [\n",
        "    (0,1),(0,2),\n",
        "    (1,3),(1,4),\n",
        "    (2,5),\n",
        "    (3,6),\n",
        "    (4,7),\n",
        "  ]\n",
        ")\n",
        "\n",
        "posE = hierarchy_pos(E,0)  \n",
        "  \n",
        "nx.draw(E, posE, node_size=500,node_color='lightgray')\n",
        "\n",
        "labelE = {}\n",
        "labelE[0] = 'P'\n",
        "labelE[1] = 'S'\n",
        "labelE[2] = 'P'\n",
        "labelE[3] = 'V'\n",
        "labelE[4] = 'V'\n",
        "labelE[5] = ''\n",
        "labelE[6] = 'u'\n",
        "labelE[7] = 'u'\n",
        "\n",
        "nx.draw_networkx_labels(E, posE, labelE)\n",
        "\n",
        "plt.axis(\"off\")\n",
        "plt.show()"
      ],
      "metadata": {
        "colab": {
          "base_uri": "https://localhost:8080/",
          "height": 319
        },
        "id": "XUEVLloNhV-d",
        "outputId": "a9089b84-0a82-4896-ab32-1e608c992aac"
      },
      "execution_count": 12,
      "outputs": [
        {
          "output_type": "display_data",
          "data": {
            "text/plain": [
              "<Figure size 432x288 with 1 Axes>"
            ],
            "image/png": "[encoded data removed]"
          },
          "metadata": {}
        }
      ]
    },
    {
      "cell_type": "code",
      "source": [
        "E=nx.DiGraph()\n",
        "E.add_edges_from(\n",
        "  [\n",
        "    (0,1),\n",
        "    (1,2),(1,3),\n",
        "    (2,4),\n",
        "    (3,5),\n",
        "  ]\n",
        ")\n",
        "\n",
        "posE = hierarchy_pos(E,0)  \n",
        "  \n",
        "nx.draw(E, posE, node_size=500,node_color='lightgray')\n",
        "\n",
        "labelE = {}\n",
        "labelE[0] = 'P'\n",
        "labelE[1] = 'S'\n",
        "labelE[2] = 'V'\n",
        "labelE[3] = 'V'\n",
        "labelE[4] = 'u'\n",
        "labelE[5] = 'u'\n",
        "\n",
        "nx.draw_networkx_labels(E, posE, labelE)\n",
        "\n",
        "plt.axis(\"off\")\n",
        "plt.show()"
      ],
      "metadata": {
        "colab": {
          "base_uri": "https://localhost:8080/",
          "height": 319
        },
        "id": "0WyRNY85hz1x",
        "outputId": "f9584189-f4e5-4cd8-ece0-0e85f4f1b235"
      },
      "execution_count": 13,
      "outputs": [
        {
          "output_type": "display_data",
          "data": {
            "text/plain": [
              "<Figure size 432x288 with 1 Axes>"
            ],
            "image/png": "[encoded data removed]"
          },
          "metadata": {}
        }
      ]
    }
  ]
}