{
  "nbformat": 4,
  "nbformat_minor": 0,
  "metadata": {
    "colab": {
      "name": "P02 - MATA50-Semana02.ipynb",
      "provenance": [],
      "collapsed_sections": []
    },
    "kernelspec": {
      "name": "python3",
      "display_name": "Python 3"
    },
    "language_info": {
      "name": "python"
    }
  },
  "cells": [
    {
      "cell_type": "markdown",
      "metadata": {
        "id": "UDIB4qHrmpy1"
      },
      "source": [
        "# Exercícios\n",
        "\n",
        "## Sejam os conjuntos $A = \\{n \\in \\mathbb{N} \\mid n \\leq 8\\}$ e $B = \\{ n \\in \\mathbb{Z} \\mid -5 \\leq n \\leq 5\\}$. Liste os elementos dos seguintes conjuntos:"
      ]
    },
    {
      "cell_type": "code",
      "source": [
        "# Define os conjuntos A e B através de Loops entre intervalos definidos\n",
        "A = set(it for it in range(9))\n",
        "B = set(it for it in range(-5, 6))\n",
        "print(\"A =\", A)\n",
        "print(\"B =\", B)"
      ],
      "metadata": {
        "colab": {
          "base_uri": "https://localhost:8080/"
        },
        "id": "oyvSCQVOyHuK",
        "outputId": "2c9715ef-ff8a-4d7d-f086-f7e75f764a6e"
      },
      "execution_count": 23,
      "outputs": [
        {
          "output_type": "stream",
          "name": "stdout",
          "text": [
            "A = {0, 1, 2, 3, 4, 5, 6, 7, 8}\n",
            "B = {0, 1, 2, 3, 4, 5, -1, -5, -4, -3, -2}\n"
          ]
        }
      ]
    },
    {
      "cell_type": "markdown",
      "metadata": {
        "id": "Cq1DYG6SWcrU"
      },
      "source": [
        "a) $E = A \\cap B$"
      ]
    },
    {
      "cell_type": "code",
      "source": [
        "E = A.intersection(B)\n",
        "\n",
        "print(\"E = \", E)"
      ],
      "metadata": {
        "colab": {
          "base_uri": "https://localhost:8080/"
        },
        "id": "o9eDic70xnPC",
        "outputId": "6beea5e2-6ed5-4a78-a1c0-b24600ca9fb3"
      },
      "execution_count": 3,
      "outputs": [
        {
          "output_type": "stream",
          "name": "stdout",
          "text": [
            "E =  {0, 1, 2, 3, 4, 5}\n"
          ]
        }
      ]
    },
    {
      "cell_type": "markdown",
      "metadata": {
        "id": "_k2RC8neWdB8"
      },
      "source": [
        "b) $C = \\{ n \\in A \\cup B \\mid n = 2\\cdot k$ para $k \\in \\mathbb{Z}\\}$"
      ]
    },
    {
      "cell_type": "code",
      "source": [
        "AUB = A.union(B)\n",
        "\n",
        "C = set()\n",
        "\n",
        "for n in AUB:\n",
        "  if n % 2 == 0:\n",
        "    C.add(n)\n",
        "\n",
        "print(\"C = \", C)"
      ],
      "metadata": {
        "colab": {
          "base_uri": "https://localhost:8080/"
        },
        "id": "Bsvgd_R1yAkj",
        "outputId": "c6f67016-eb0d-4f64-bbe5-016e7489bfe6"
      },
      "execution_count": 4,
      "outputs": [
        {
          "output_type": "stream",
          "name": "stdout",
          "text": [
            "C =  {0, 2, 4, 6, 8, -4, -2}\n"
          ]
        }
      ]
    },
    {
      "cell_type": "markdown",
      "metadata": {
        "id": "pHx0BKntWcWo"
      },
      "source": [
        "c) $D = (A-B) \\cup (B-A)$"
      ]
    },
    {
      "cell_type": "code",
      "source": [
        "AdifferenceB = A.difference(B)\n",
        "BdifferenceA = B.difference(A)\n",
        "\n",
        "print(\"A difference B = \", AdifferenceB)\n",
        "print(\"B difference A = \", BdifferenceA)\n",
        "\n",
        "D = AdifferenceB.union(BdifferenceA)\n",
        "\n",
        "print()\n",
        "print(\"D = \", D)"
      ],
      "metadata": {
        "colab": {
          "base_uri": "https://localhost:8080/"
        },
        "id": "MwEDjoeUyv1f",
        "outputId": "dc016e94-e313-4d6c-c026-748a6817ee43"
      },
      "execution_count": 8,
      "outputs": [
        {
          "output_type": "stream",
          "name": "stdout",
          "text": [
            "A difference B =  {8, 6, 7}\n",
            "B difference A =  {-2, -5, -4, -3, -1}\n",
            "\n",
            "D =  {6, 7, 8, -1, -5, -4, -3, -2}\n"
          ]
        }
      ]
    },
    {
      "cell_type": "markdown",
      "metadata": {
        "id": "9cA2D5I2Wnt4"
      },
      "source": [
        "d) $[(A\\cap C)-(A\\cap D)]\\times [(A\\cap D)-(A\\cap C)]$, onde $\\times$ representa o produto cartesiano."
      ]
    },
    {
      "cell_type": "code",
      "source": [
        "first_section = (A.intersection(C)).difference(A.intersection(D))\n",
        "second_section = (A.intersection(D)).difference(A.intersection(C))\n",
        "\n",
        "print(\"first_section = \", first_section)\n",
        "print(\"second_section = \", second_section)\n",
        "\n",
        "answer = set()\n",
        "\n",
        "for i in first_section:\n",
        "  for j in second_section:\n",
        "    pair = (i, j)\n",
        "    answer.add(pair)\n",
        "\n",
        "print()\n",
        "print(\"Answer = \", answer)"
      ],
      "metadata": {
        "colab": {
          "base_uri": "https://localhost:8080/"
        },
        "id": "M9XWck6OzY8H",
        "outputId": "7764e22f-fb95-4201-85d7-8f3b1ea3ecb5"
      },
      "execution_count": 7,
      "outputs": [
        {
          "output_type": "stream",
          "name": "stdout",
          "text": [
            "first_section =  {0, 2, 4}\n",
            "second_section =  {7}\n",
            "\n",
            "Answer =  {(2, 7), (4, 7), (0, 7)}\n"
          ]
        }
      ]
    },
    {
      "cell_type": "markdown",
      "metadata": {
        "id": "958a0jaqW8uY"
      },
      "source": [
        "## Para cada uma das igualdades abaixo, utilize um pequeno código em Python e verifique que seja válida para $n \\leq 100$ e prove por indução sua validade para qualquer $n$:"
      ]
    },
    {
      "cell_type": "markdown",
      "metadata": {
        "id": "ILweyaCKXWSR"
      },
      "source": [
        "a) $$ \\sum_{i=0}^n i = \\frac{n(n+1)}{2}$$"
      ]
    },
    {
      "cell_type": "code",
      "source": [
        "N = 100\n",
        "\n",
        "# Loop para a varição dos casos de teste 1 <= n <= 100\n",
        "for n in range(N+1):\n",
        "\n",
        "  # Cálculo da fórmula n(n+1)/2\n",
        "  formula = (n * (n + 1)) // 2\n",
        "\n",
        "  # Somatório da esquerda\n",
        "  sum = 0\n",
        "  for j in range(n+1):\n",
        "    sum += j\n",
        "\n",
        "  # Verificação da igualdade entre a fórmula e o somatório\n",
        "  if formula == sum:\n",
        "    print(\"É VÁLIDO para n =\", n)\n",
        "  else:\n",
        "    print(\"NÃO É VÁLIDO para n =\", n)\n",
        "\n"
      ],
      "metadata": {
        "colab": {
          "base_uri": "https://localhost:8080/"
        },
        "id": "NTKHNj541So1",
        "outputId": "57ec619d-6463-4620-e804-925b1f93bbec"
      },
      "execution_count": 15,
      "outputs": [
        {
          "output_type": "stream",
          "name": "stdout",
          "text": [
            "É VÁLIDO para n = 0\n",
            "É VÁLIDO para n = 1\n",
            "É VÁLIDO para n = 2\n",
            "É VÁLIDO para n = 3\n",
            "É VÁLIDO para n = 4\n",
            "É VÁLIDO para n = 5\n",
            "É VÁLIDO para n = 6\n",
            "É VÁLIDO para n = 7\n",
            "É VÁLIDO para n = 8\n",
            "É VÁLIDO para n = 9\n",
            "É VÁLIDO para n = 10\n",
            "É VÁLIDO para n = 11\n",
            "É VÁLIDO para n = 12\n",
            "É VÁLIDO para n = 13\n",
            "É VÁLIDO para n = 14\n",
            "É VÁLIDO para n = 15\n",
            "É VÁLIDO para n = 16\n",
            "É VÁLIDO para n = 17\n",
            "É VÁLIDO para n = 18\n",
            "É VÁLIDO para n = 19\n",
            "É VÁLIDO para n = 20\n",
            "É VÁLIDO para n = 21\n",
            "É VÁLIDO para n = 22\n",
            "É VÁLIDO para n = 23\n",
            "É VÁLIDO para n = 24\n",
            "É VÁLIDO para n = 25\n",
            "É VÁLIDO para n = 26\n",
            "É VÁLIDO para n = 27\n",
            "É VÁLIDO para n = 28\n",
            "É VÁLIDO para n = 29\n",
            "É VÁLIDO para n = 30\n",
            "É VÁLIDO para n = 31\n",
            "É VÁLIDO para n = 32\n",
            "É VÁLIDO para n = 33\n",
            "É VÁLIDO para n = 34\n",
            "É VÁLIDO para n = 35\n",
            "É VÁLIDO para n = 36\n",
            "É VÁLIDO para n = 37\n",
            "É VÁLIDO para n = 38\n",
            "É VÁLIDO para n = 39\n",
            "É VÁLIDO para n = 40\n",
            "É VÁLIDO para n = 41\n",
            "É VÁLIDO para n = 42\n",
            "É VÁLIDO para n = 43\n",
            "É VÁLIDO para n = 44\n",
            "É VÁLIDO para n = 45\n",
            "É VÁLIDO para n = 46\n",
            "É VÁLIDO para n = 47\n",
            "É VÁLIDO para n = 48\n",
            "É VÁLIDO para n = 49\n",
            "É VÁLIDO para n = 50\n",
            "É VÁLIDO para n = 51\n",
            "É VÁLIDO para n = 52\n",
            "É VÁLIDO para n = 53\n",
            "É VÁLIDO para n = 54\n",
            "É VÁLIDO para n = 55\n",
            "É VÁLIDO para n = 56\n",
            "É VÁLIDO para n = 57\n",
            "É VÁLIDO para n = 58\n",
            "É VÁLIDO para n = 59\n",
            "É VÁLIDO para n = 60\n",
            "É VÁLIDO para n = 61\n",
            "É VÁLIDO para n = 62\n",
            "É VÁLIDO para n = 63\n",
            "É VÁLIDO para n = 64\n",
            "É VÁLIDO para n = 65\n",
            "É VÁLIDO para n = 66\n",
            "É VÁLIDO para n = 67\n",
            "É VÁLIDO para n = 68\n",
            "É VÁLIDO para n = 69\n",
            "É VÁLIDO para n = 70\n",
            "É VÁLIDO para n = 71\n",
            "É VÁLIDO para n = 72\n",
            "É VÁLIDO para n = 73\n",
            "É VÁLIDO para n = 74\n",
            "É VÁLIDO para n = 75\n",
            "É VÁLIDO para n = 76\n",
            "É VÁLIDO para n = 77\n",
            "É VÁLIDO para n = 78\n",
            "É VÁLIDO para n = 79\n",
            "É VÁLIDO para n = 80\n",
            "É VÁLIDO para n = 81\n",
            "É VÁLIDO para n = 82\n",
            "É VÁLIDO para n = 83\n",
            "É VÁLIDO para n = 84\n",
            "É VÁLIDO para n = 85\n",
            "É VÁLIDO para n = 86\n",
            "É VÁLIDO para n = 87\n",
            "É VÁLIDO para n = 88\n",
            "É VÁLIDO para n = 89\n",
            "É VÁLIDO para n = 90\n",
            "É VÁLIDO para n = 91\n",
            "É VÁLIDO para n = 92\n",
            "É VÁLIDO para n = 93\n",
            "É VÁLIDO para n = 94\n",
            "É VÁLIDO para n = 95\n",
            "É VÁLIDO para n = 96\n",
            "É VÁLIDO para n = 97\n",
            "É VÁLIDO para n = 98\n",
            "É VÁLIDO para n = 99\n",
            "É VÁLIDO para n = 100\n"
          ]
        }
      ]
    },
    {
      "cell_type": "markdown",
      "source": [
        "Provando a Base de Indução para $n=1$, temos\n",
        "\n",
        "$$ \\sum_{i=0}^n i = \\frac{n(n+1)}{2}$$\n",
        "\n",
        "$$ \\sum_{i=0}^1 i = \\frac{1(1+1)}{2}$$\n",
        "\n",
        "$$ \\sum_{i=0}^1 i = 1 $$\n",
        "\n",
        "\\\n",
        "E de fato, o somatório para n=1, é 1. Ou seja, temos a prova para $ \\sum_{i=0}^n i$, e como Hipótese da Indução, precisamos provar $\\sum_{i=0}^{n+1} i$. Logo:\n",
        "\n",
        "$$ \\sum_{i=0}^{n+1} i = 1 + 2 + 3 + 4 + ... + n + {n+1} $$\n",
        "\n",
        "Percebemos que $$1 + 2 + 4 + ... + n = \\sum_{i=0}^n i $$ Logo, substituindo:\n",
        "\n",
        "$$ \\sum_{i=0}^{n+1} i = \\frac{n(n+1)}{2} + {n+1} $$\n",
        "\n",
        "$$ \\sum_{i=0}^{n+1} i = \\frac{n(n+1)}{2} + \\frac{2(n+1)}{2} $$\n",
        "\n",
        "$$ \\sum_{i=0}^{n+1} i = \\frac{n(n+1) + 2(n+1)}{2} $$\n",
        "\n",
        "$$ \\sum_{i=0}^{n+1} i = \\frac{(n+1) + (2 + n)}{2} $$\n",
        "\n",
        "$$ \\sum_{i=0}^{n+1} i = \\frac{(n+1) + ((n+1) + 1)}{2} $$\n",
        "\n",
        "\\\n",
        "E de acordo com a fórmula original, $\\frac{k(k+1)}{2}, para \\ k = n + 1$, temos então a prova por indução.\n"
      ],
      "metadata": {
        "id": "3UB3jtfd87Q3"
      }
    },
    {
      "cell_type": "markdown",
      "metadata": {
        "id": "u6-91VGrdpTT"
      },
      "source": [
        "b) $$ \\sum_{i=0}^n i^3 = \\big( \\sum_{i=0}^n i \\big)^2 $$"
      ]
    },
    {
      "cell_type": "markdown",
      "source": [
        "## Escreva um programa recursivo para obter o resultado da multiplicação de números sobre o conjunto dos naturais. Dica: $a \\times b = a+a+...+a (b$ vezes)."
      ],
      "metadata": {
        "id": "M0tzuwFdDUmK"
      }
    },
    {
      "cell_type": "code",
      "source": [
        "# Dica a*b = a+a+...+a (b vezes)\n",
        "\n",
        "# Funcao recursiva para calcular o somatorio de \"a\", \"b\" vezes\n",
        "def multiplica(a, b):\n",
        "  if b == 0:\n",
        "    return 0\n",
        "\n",
        "  return a + multiplica(a, b-1)\n",
        "\n",
        "a = 10\n",
        "b = 5\n",
        "\n",
        "answer = multiplica(a, b)\n",
        "\n",
        "print(\"a = \", a)\n",
        "print(\"b = \", b)\n",
        "print()\n",
        "print(\"a * b = \", answer)"
      ],
      "metadata": {
        "id": "588JqypFDpbf",
        "colab": {
          "base_uri": "https://localhost:8080/"
        },
        "outputId": "0b835671-3bba-4eb7-eb26-ba7c2820d8b2"
      },
      "execution_count": 22,
      "outputs": [
        {
          "output_type": "stream",
          "name": "stdout",
          "text": [
            "a =  10\n",
            "b =  5\n",
            "\n",
            "a * b =  50\n"
          ]
        }
      ]
    },
    {
      "cell_type": "markdown",
      "source": [
        "## Escreva um programa recursivo para obter o resultado da função $f:\\mathbb{N} \\rightarrow \\mathbb{N}$ em que $f(n) = \\sum_{k=1}^n k$\n"
      ],
      "metadata": {
        "id": "x0x8UCygDb4F"
      }
    },
    {
      "cell_type": "code",
      "source": [
        "# Funcao recursiva para calcular o somatorio de N ate 1\n",
        "def f(n):\n",
        "  if n == 1:\n",
        "    return 1\n",
        "\n",
        "  return n + f(n-1)\n",
        "\n",
        "n = 10\n",
        "\n",
        "print(\"N = \", n)\n",
        "print(\"f(n) =\", f(n))"
      ],
      "metadata": {
        "id": "gQSpyRV8Dnhm",
        "colab": {
          "base_uri": "https://localhost:8080/"
        },
        "outputId": "06040f96-d6ca-44c7-ba94-dcecfa62d105"
      },
      "execution_count": 21,
      "outputs": [
        {
          "output_type": "stream",
          "name": "stdout",
          "text": [
            "N =  10\n",
            "f(n) = 55\n"
          ]
        }
      ]
    }
  ]
}