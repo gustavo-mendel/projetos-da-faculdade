{
  "nbformat": 4,
  "nbformat_minor": 0,
  "metadata": {
    "colab": {
      "provenance": [],
      "collapsed_sections": []
    },
    "kernelspec": {
      "name": "python3",
      "display_name": "Python 3"
    },
    "language_info": {
      "name": "python"
    }
  },
  "cells": [
    {
      "cell_type": "code",
      "metadata": {
        "id": "M9ujLosfru9F",
        "cellView": "form"
      },
      "source": [
        "#@title Implementação dos modelos em Python (*beta*)\n",
        "#@markdown Esta célula contém a implementação em Python 3 dos principais modelos de computação vistos na disciplina de Linguagens Formais e Autômatos. \n",
        "#@markdown Não é necessário conhecer o código aqui implementado ou mesmo ter um conhecimento profundo da linguagem Python. Acompanhe os exemplos e experimente construir seus próprios modelos.\n",
        " \n",
        "#@markdown >*Execute esta célula (`ctrl+enter` ou clicando no botão ao lado) para que o ambiente seja carregado com as classes implementadas.*\n",
        " \n",
        "from graphviz import Digraph\n",
        "import re\n",
        " \n",
        "class AP: \n",
        "    def __init__(self, Q={}, Sigma={}, Gamma={}, delta={}, q0=0, F={}):\n",
        "        self.states = Q\n",
        "        self.inputAlphabet = Sigma\n",
        "        self.stackAlphabet = Gamma\n",
        "        self.transition = delta\n",
        "        self.startState = q0\n",
        "        self.acceptStates = F \n",
        " \n",
        "        self.initialize()\n",
        " \n",
        "    def initialize(self, input_string=\"\"):\n",
        "        self.traces = [[(self.startState,tuple(input_string),())]]\n",
        " \n",
        "    def check(self):\n",
        "        pass\n",
        "        \n",
        "    def hasNext(self):\n",
        "        return self.traces and (not self.acceptTraces())\n",
        "    \n",
        "    def acceptTraces(self):\n",
        "        return [t for t in self.traces if t[-1][1] == () and t[-1][0] in self.acceptStates]\n",
        " \n",
        "    def step(self):\n",
        "        updated_traces = []\n",
        "        for trace in self.traces:\n",
        "          s, string, stack = trace[-1]\n",
        "          A = {'', string[0]} if string else {''}\n",
        "          B = {'', stack[-1]} if stack else {''}\n",
        "          possible_transitions = [(s,a,b) for a in A for b in B if (s,a,b) in self.transition]          \n",
        "          for (s,a,b) in possible_transitions:  \n",
        "            for r,c in self.transition[s,a,b]:\n",
        "              nstring = string[1:] if a else string\n",
        "              nstack  = stack[:-1] if b else stack\n",
        "              nstack  = nstack+(c,) if c else nstack\n",
        "              if (not (r,nstring,nstack) in trace):\n",
        "                updated_traces.append(trace+[(r,nstring,nstack)])\n",
        "        self.traces = updated_traces\n",
        " \n",
        "    def run(self, input_string=0, max_steps=1000):        \n",
        "        while (self.hasNext()): \n",
        "          if max_steps == 0: \n",
        "            raise Exception(\"Timeout\")\n",
        "          self.step()\n",
        "          max_steps -= 1\n",
        "        return self.result()\n",
        " \n",
        "    def aceita(self, input_string=0):\n",
        "        self.initialize(input_string)\n",
        "        return self.run()\n",
        " \n",
        "    def result(self):\n",
        "        return True if self.acceptTraces() else (False if (not self.traces) else None)\n",
        "    \n",
        "    def visualizar(self):      \n",
        "        f = Digraph('finite_state_machine', filename='fsm.gv')\n",
        "        f.attr(rankdir='LR', size='8,5')\n",
        " \n",
        "        f.attr('node', shape='point')\n",
        "        f.node('')\n",
        "        \n",
        "        f.attr('node', shape='doublecircle')\n",
        "        for n in self.acceptStates:\n",
        "          f.node(str(n))\n",
        " \n",
        "        f.attr('node', shape='circle')\n",
        "        for n in self.states.difference(self.acceptStates):\n",
        "          f.node(str(n))\n",
        " \n",
        "        label = {}        \n",
        "        for (q,a,b) in self.transition:\n",
        "          for (r,c) in self.transition[q,a,b]:          \n",
        "            label[q,r] = label[q,r]+[(a,b,c)] if (q,r) in label else [(a,b,c)]\n",
        " \n",
        "        f.edge('', str(self.startState))\n",
        "        for (q,r) in label:\n",
        "          f.edge(str(q),str(r),label=self.graphviz_edge_label_format(label[q,r]))      \n",
        "          pass\n",
        "        \n",
        "        return f\n",
        "    \n",
        "    def graphviz_edge_label_format(self,labels=[]):\n",
        "        epsilon = \"\\u03BB\"\n",
        "        right_arrow = \"\\u2192\"\n",
        "        return '\\n'.join([(a if (a or a==0) else epsilon) + \",\" + (b if (b or b==0) else epsilon) + right_arrow + (c if (c or c==0) else epsilon) for (a,b,c) in labels])\n",
        "        # return '\\n'.join([(str(a) if a else epsilon) + \",\" + (str(b) if b else epsilon) + right_arrow + (str(c) if c else epsilon) for (a,b,c) in labels])\n",
        " \n",
        "class AFN(AP):\n",
        "  def __init__(self, Q={}, Sigma={}, delta={}, q0=0, F={}):\n",
        "        delta_pda = {}\n",
        "        for q,a in delta:\n",
        "          delta_pda[q,a,''] = {(r,'') for r in delta[q,a]}\n",
        "        super().__init__(Q,Sigma,{},delta_pda,q0,F)\n",
        "  \n",
        "  def graphviz_edge_label_format(self,labels):\n",
        "      epsilon = \"\\u03BB\"\n",
        "      return \",\".join([(str(a) if (a or a==0) else epsilon) for (a,b,c) in labels])\n",
        " \n",
        "class AFD(AFN):\n",
        "  def __init__(self, Q={}, Sigma={}, delta={}, q0=0, F={}):\n",
        "        delta_nfa = {}\n",
        "        for (q,a) in delta:\n",
        "          delta_nfa[q,a] = {delta[q,a]}\n",
        "        super().__init__(Q,Sigma,delta_nfa,q0,F)\n",
        " \n",
        "class ER:\n",
        "  def __init__(self,regex=None):  \n",
        "    if (regex == None):\n",
        "      self.regex = None\n",
        "    elif (re.match(\"^[a-zA-Z0-9\\(\\)\\|\\*]*$\", regex)):\n",
        "      self.regex = regex\n",
        "    else:\n",
        "      raise Exception(\"Invalid pattern\")\n",
        " \n",
        "  def gera(self, input_string):\n",
        "    if (self.regex == None):\n",
        "      return False\n",
        "    else:\n",
        "      return True if re.match(\"^\"+self.regex+\"$\",input_string) else False\n",
        " \n",
        "class GLC:\n",
        "  def __init__(self,V,Sigma,R,S):\n",
        "      self.variables = V\n",
        "      self.terminals = Sigma\n",
        "      # self.rules = R\n",
        "      self.rules = {(a, tuple(b)) for (a,b) in R}\n",
        "      self.start = S\n",
        " \n",
        "      self.derivation = []\n",
        "      self.chomsky = None\n",
        "  \n",
        "  def gera(self, string):\n",
        "      if (not self.chomsky):\n",
        "        self.chomsky = self.to_chomsky()        \n",
        "      G = self.chomsky\n",
        "      \n",
        "      if len(string) == 0: return (G.start,()) in G.rules\n",
        " \n",
        "      # CYK Algorithm\n",
        "      n = len(string)\n",
        "      P = [[[] for x in range(n - y)] for y in range(n)]\n",
        "      for i,c in enumerate(string):\n",
        "        for v in [a for (a,b) in G.rules if len(b) == 1 and c in b]:\n",
        "          P[0][i] += [v]\n",
        "      for l in range(2, n+1): # borda da iteração\n",
        "        for s in range(0, n+1-l): # coluna\n",
        "          for p in range(1, l): # linha\n",
        "            for u, v in [(a,b) for (a,b) in G.rules if len(b) == 2]:\n",
        "              if v[0] in P[p-1][s] and v[1] in P[l-p-1][s+p]:\n",
        "                P[l-1][s] += [u]\n",
        "      return G.start in P[-1][0]\n",
        " \n",
        "  def print(self):\n",
        "      rightarrow = \"\\u2192\"\n",
        "      print(self.start,rightarrow, '|'.join([''.join(y) for x,y in self.rules if x == S]))\n",
        "      for v in sorted(self.variables.difference(self.start)): \n",
        "        print(v,rightarrow, '|'.join([''.join(y) for x,y in self.rules if x == v]))\n",
        " \n",
        "  def replace_eps(self, v, l):\n",
        "    if not l: return {()}\n",
        "    result = {(l[0],) + s for s in self.replace_eps(v, tuple(l[1:]))}\n",
        "    if l[0] == v:\n",
        "      result.update({tuple(s[1:]) for s in result})\n",
        "    return result   \n",
        " \n",
        "  def to_chomsky(self):\n",
        "      n_state = 0\n",
        "      \n",
        "      S = '<{}>'.format(n_state)\n",
        "      Sigma = self.terminals \n",
        "      V = {S}.union(self.variables)\n",
        "      R = {(S,(self.start,))}.union(self.rules)\n",
        " \n",
        "      target = {alpha for alpha in self.variables if (alpha,()) in R}\n",
        "      while (target):\n",
        "        for e in target:\n",
        "          rules = {(alpha,beta) for (alpha,beta) in R if e in beta}\n",
        "          for (a,b) in rules:\n",
        "            R.update({(a, beta) for beta in self.replace_eps(e,b)})\n",
        "          R.discard((e,()))\n",
        "        target = {alpha for alpha in self.variables if (alpha,()) in R}\n",
        "      \n",
        "      target = {(a,b) for (a,b) in R if len(b) == 1 and b[0] in V}\n",
        "      while (target):\n",
        "        for u,v in target:\n",
        "          rules = {b for (a,b) in R if a == v[0]}\n",
        "          R.update({(u,b) for b in rules})\n",
        "          R.discard((u,v))\n",
        "        target = {(a,b) for (a,b) in R if len(b) == 1 and b[0] in V}\n",
        "      \n",
        "      target = {(alpha,beta) for (alpha,beta) in R if len(beta) > 2}\n",
        "      while(target):\n",
        "        for u,v in target:\n",
        "          n_state += 1\n",
        "          state = '<{}>'.format(n_state)\n",
        "          V.update({state})\n",
        "          R.update({(u,(v[0],state)),(state, tuple(v[1:]))})\n",
        "          R.discard((u,v))\n",
        "        target = {(alpha,beta) for (alpha,beta) in R if len(beta) > 2}\n",
        " \n",
        "      target = {(alpha,beta) for (alpha,beta) in R if len(beta) == 2}\n",
        "      for u,v in target:\n",
        "        n = list(v)\n",
        "        for i in range(2):\n",
        "          if v[i] in Sigma:\n",
        "            R.discard((u,(n[0],n[1])))\n",
        "            n_state += 1\n",
        "            n[i] = '<{}>'.format(n_state)\n",
        "            V.update({n[i]})\n",
        "            R.update({(u,(n[0],n[1]))})\n",
        "            R.update({(n[i],(v[i],))})\n",
        " \n",
        "      return GLC(V,Sigma,R,S)"
      ],
      "execution_count": 2,
      "outputs": []
    },
    {
      "cell_type": "markdown",
      "metadata": {
        "id": "UDIB4qHrmpy1"
      },
      "source": [
        "# Autômato de Pilha Determinístico\n",
        "\n",
        "Os **autômatos de pilha** (AP) são modelos de computação que possuem uma memória do tipo FILO (*first in, last out*), fazendo analogia a uma pilha de objetos, onde só podemos ter acesso aquele que está no topo. \n",
        "\n",
        "Nesse modelo, temos um alfabeto específico para a escrita nessa memória, chamado de *alfabeto de pilha*. As transições se assemelham àquelas dos autômatos finitos não-determinísticos, porém a ocorrência da transição também leva em conta a informação encontrada no topo da pilha de memória. \n",
        "\n",
        "Assim como para AFDs, graficamente descrevemos um AP por meio de uma representação de estados ligados por arestas rotuladas. Utilizamos nessas arestas rótulos do tipo \n",
        "\n",
        "$$a, b \\rightarrow c$$\n",
        "\n",
        "para indicar que para a transição ocorrer o autômato espera ler $a$ da entrada e ter $b$ no topo da pilha. Com a transição de estado, o autômato irá desempilhar $b$ e em seu lugar empilhar o símbolo $c$.\n"
      ]
    },
    {
      "cell_type": "markdown",
      "metadata": {
        "id": "ZSydcyUirv0Q"
      },
      "source": [
        "A definição formal de um APD difere da definição de AFD pelo uso do alfabeto específico de pilha:\n",
        "\n",
        ">**Definição**: Um autômato de pilha é uma sextupla $(E, \\Sigma, \\Gamma, \\delta, i, F)$ onde:\n",
        ">1. $E$ é um conjunto finito de símbolos de estado,\n",
        ">1. $\\Sigma$ é um conjunto finito de símbolos de alfabeto de entrada,\n",
        ">1. $\\Gamma$ é um conjunto finito de símbolos de alfabeto de pilha,\n",
        ">1. $\\delta : E \\times \\Sigma_\\lambda \\times \\Gamma_\\lambda \\rightarrow \\mathcal{P}(E \\times \\Gamma_\\lambda)$ é a função de transição,\n",
        ">1. $i \\in E$ é o estado inicial, e\n",
        ">1. $F \\subseteq E$ é o conjunto de estados finais.\n",
        "> \n",
        "> onde $\\Sigma_\\lambda = \\Sigma \\cup \\{\\lambda\\}$ e $\\Gamma_\\lambda = \\Gamma \\cup \\{\\lambda\\}$.\n",
        "\n",
        "\n",
        "Seja $M = (E, \\Sigma, \\Gamma, \\delta, i, F)$ um APD e $w = w_1w_2...w_n$ uma cadeia sobre $\\Sigma_\\lambda$, dizemos que $M$ aceita $w$ se existe uma sequência $(~(s_0,x_0), (s_1, x_1),...,(s_n,x_n)~)$ tal que $s_i \\in E$ e $x_i \\in \\Gamma^*$ e\n",
        "1. $s_0 = q_0$ e $x_0 = \\lambda$,\n",
        "1. $(s_{i+1}, b) \\in \\delta(s_i,w_{i+1},a)$, para $0 \\leq i < n$, onde $x_{i} = at$, $x_{i+1} = bt$, $t \\in \\Sigma^*$ e $a,b \\in \\Sigma_\\lambda$,\n",
        "1. $s_n \\in F$.\n",
        "\n",
        "## Implementação em Python\n",
        "\n",
        "Em nossa implementação, um autômato de pilha é representado pela classe `AP`, cujo construtor segue a Definição acima:\n",
        "\n",
        ">`M = AP(E,Sigma,Gamma,delta,q0,F)`\n",
        "\n",
        "A principal diferença para a construção de AFDs é a indicação do alfabeto de pilha e que a função de transição `delta` deve ser um elemento do tipo `dict()` mapeando `estado-entrada-pilha` para um conjunto de pares `estado-pilha`. A seguir um exemplo de construção de APD."
      ]
    },
    {
      "cell_type": "code",
      "metadata": {
        "id": "n3HjbewbsRTl",
        "colab": {
          "base_uri": "https://localhost:8080/",
          "height": 134
        },
        "outputId": "57297bf3-a20a-4e47-a2a3-12638b68f3ff"
      },
      "source": [
        "E = {'e0','e1','e2','e3'}\n",
        "Sigma = {'a','b'}\n",
        "Gamma = {'$','x'}\n",
        "delta = {('e0','' ,'' ):{('e1','$')},\n",
        "         ('e1','a','' ):{('e1','x')},\n",
        "         ('e1','' ,'' ):{('e2','' )},\n",
        "         ('e2','b','x'):{('e2','' )},\n",
        "         ('e2','' ,'$'):{('e3','' )}}\n",
        "i = 'e0'\n",
        "F = {'e3'}\n",
        " \n",
        "M = AP(E,Sigma,Gamma,delta,i,F)\n",
        "M.visualizar()"
      ],
      "execution_count": null,
      "outputs": [
        {
          "output_type": "execute_result",
          "data": {
            "text/plain": [
              "<graphviz.dot.Digraph at 0x7f459ca552d0>"
            ],
            "image/svg+xml": "<?xml version=\"1.0\" encoding=\"UTF-8\" standalone=\"no\"?>\n<!DOCTYPE svg PUBLIC \"-//W3C//DTD SVG 1.1//EN\"\n \"http://www.w3.org/Graphics/SVG/1.1/DTD/svg11.dtd\">\n<!-- Generated by graphviz version 2.40.1 (20161225.0304)\n -->\n<!-- Title: finite_state_machine Pages: 1 -->\n<svg width=\"440pt\" height=\"84pt\"\n viewBox=\"0.00 0.00 439.59 84.00\" xmlns=\"http://www.w3.org/2000/svg\" xmlns:xlink=\"http://www.w3.org/1999/xlink\">\n<g id=\"graph0\" class=\"graph\" transform=\"scale(1 1) rotate(0) translate(4 79.9965)\">\n<title>finite_state_machine</title>\n<polygon fill=\"#ffffff\" stroke=\"transparent\" points=\"-4,4 -4,-79.9965 435.5862,-79.9965 435.5862,4 -4,4\"/>\n<g id=\"node1\" class=\"node\">\n<title></title>\n<ellipse fill=\"#000000\" stroke=\"#000000\" cx=\"1.8\" cy=\"-23.4983\" rx=\"1.8\" ry=\"1.8\"/>\n</g>\n<!-- e0 -->\n<g id=\"node3\" class=\"node\">\n<title>e0</title>\n<ellipse fill=\"none\" stroke=\"#000000\" cx=\"60.0983\" cy=\"-23.4983\" rx=\"19.4965\" ry=\"19.4965\"/>\n<text text-anchor=\"middle\" x=\"60.0983\" y=\"-19.7983\" font-family=\"Times,serif\" font-size=\"14.00\" fill=\"#000000\">e0</text>\n</g>\n<!-- &#45;&gt;e0 -->\n<g id=\"edge1\" class=\"edge\">\n<title>&#45;&gt;e0</title>\n<path fill=\"none\" stroke=\"#000000\" d=\"M3.7397,-23.4983C8.0961,-23.4983 19.1532,-23.4983 30.3314,-23.4983\"/>\n<polygon fill=\"#000000\" stroke=\"#000000\" points=\"30.4424,-26.9984 40.4424,-23.4983 30.4424,-19.9984 30.4424,-26.9984\"/>\n</g>\n<!-- e3 -->\n<g id=\"node2\" class=\"node\">\n<title>e3</title>\n<ellipse fill=\"none\" stroke=\"#000000\" cx=\"408.0879\" cy=\"-23.4983\" rx=\"19.4968\" ry=\"19.4968\"/>\n<ellipse fill=\"none\" stroke=\"#000000\" cx=\"408.0879\" cy=\"-23.4983\" rx=\"23.4965\" ry=\"23.4965\"/>\n<text text-anchor=\"middle\" x=\"408.0879\" y=\"-19.7983\" font-family=\"Times,serif\" font-size=\"14.00\" fill=\"#000000\">e3</text>\n</g>\n<!-- e1 -->\n<g id=\"node5\" class=\"node\">\n<title>e1</title>\n<ellipse fill=\"none\" stroke=\"#000000\" cx=\"175.0948\" cy=\"-23.4983\" rx=\"19.4965\" ry=\"19.4965\"/>\n<text text-anchor=\"middle\" x=\"175.0948\" y=\"-19.7983\" font-family=\"Times,serif\" font-size=\"14.00\" fill=\"#000000\">e1</text>\n</g>\n<!-- e0&#45;&gt;e1 -->\n<g id=\"edge2\" class=\"edge\">\n<title>e0&#45;&gt;e1</title>\n<path fill=\"none\" stroke=\"#000000\" d=\"M79.6059,-23.4983C97.6134,-23.4983 124.6194,-23.4983 145.3214,-23.4983\"/>\n<polygon fill=\"#000000\" stroke=\"#000000\" points=\"145.4916,-26.9984 155.4915,-23.4983 145.4915,-19.9984 145.4916,-26.9984\"/>\n<text text-anchor=\"middle\" x=\"117.5965\" y=\"-27.2983\" font-family=\"Times,serif\" font-size=\"14.00\" fill=\"#000000\">λ,λ→$</text>\n</g>\n<!-- e2 -->\n<g id=\"node4\" class=\"node\">\n<title>e2</title>\n<ellipse fill=\"none\" stroke=\"#000000\" cx=\"289.0913\" cy=\"-23.4983\" rx=\"19.4965\" ry=\"19.4965\"/>\n<text text-anchor=\"middle\" x=\"289.0913\" y=\"-19.7983\" font-family=\"Times,serif\" font-size=\"14.00\" fill=\"#000000\">e2</text>\n</g>\n<!-- e2&#45;&gt;e3 -->\n<g id=\"edge6\" class=\"edge\">\n<title>e2&#45;&gt;e3</title>\n<path fill=\"none\" stroke=\"#000000\" d=\"M308.7412,-23.4983C326.4733,-23.4983 352.9445,-23.4983 374.1043,-23.4983\"/>\n<polygon fill=\"#000000\" stroke=\"#000000\" points=\"374.3066,-26.9984 384.3065,-23.4983 374.3065,-19.9984 374.3066,-26.9984\"/>\n<text text-anchor=\"middle\" x=\"346.5896\" y=\"-27.2983\" font-family=\"Times,serif\" font-size=\"14.00\" fill=\"#000000\">λ,$→λ</text>\n</g>\n<!-- e2&#45;&gt;e2 -->\n<g id=\"edge5\" class=\"edge\">\n<title>e2&#45;&gt;e2</title>\n<path fill=\"none\" stroke=\"#000000\" d=\"M279.3322,-40.4665C276.9789,-50.9857 280.232,-60.9965 289.0913,-60.9965 294.9053,-60.9965 298.3048,-56.6852 299.2899,-50.7482\"/>\n<polygon fill=\"#000000\" stroke=\"#000000\" points=\"302.7744,-50.3079 298.8505,-40.4665 295.7808,-50.6069 302.7744,-50.3079\"/>\n<text text-anchor=\"middle\" x=\"289.0913\" y=\"-64.7965\" font-family=\"Times,serif\" font-size=\"14.00\" fill=\"#000000\">b,x→λ</text>\n</g>\n<!-- e1&#45;&gt;e2 -->\n<g id=\"edge4\" class=\"edge\">\n<title>e1&#45;&gt;e2</title>\n<path fill=\"none\" stroke=\"#000000\" d=\"M194.6915,-23.4983C212.4722,-23.4983 238.9469,-23.4983 259.3383,-23.4983\"/>\n<polygon fill=\"#000000\" stroke=\"#000000\" points=\"259.3689,-26.9984 269.3689,-23.4983 259.3688,-19.9984 259.3689,-26.9984\"/>\n<text text-anchor=\"middle\" x=\"232.0931\" y=\"-27.2983\" font-family=\"Times,serif\" font-size=\"14.00\" fill=\"#000000\">λ,λ→λ</text>\n</g>\n<!-- e1&#45;&gt;e1 -->\n<g id=\"edge3\" class=\"edge\">\n<title>e1&#45;&gt;e1</title>\n<path fill=\"none\" stroke=\"#000000\" d=\"M165.3357,-40.4665C162.9824,-50.9857 166.2354,-60.9965 175.0948,-60.9965 180.9088,-60.9965 184.3083,-56.6852 185.2934,-50.7482\"/>\n<polygon fill=\"#000000\" stroke=\"#000000\" points=\"188.7778,-50.3079 184.854,-40.4665 181.7842,-50.6069 188.7778,-50.3079\"/>\n<text text-anchor=\"middle\" x=\"175.0948\" y=\"-64.7965\" font-family=\"Times,serif\" font-size=\"14.00\" fill=\"#000000\">a,λ→x</text>\n</g>\n</g>\n</svg>\n"
          },
          "metadata": {},
          "execution_count": 2
        }
      ]
    },
    {
      "cell_type": "markdown",
      "metadata": {
        "id": "ul_gsiKfsl_l"
      },
      "source": [
        "\n",
        "Definido o autômato `M`, podemos verificar a aceitação de cadeias por meio da função `M.aceita(entrada)`, onde `entrada` deve ser composta por uma sequência de símbolos pertencentes a `Sigma`. A aceitação de uma palavra retornará o valor `True`."
      ]
    },
    {
      "cell_type": "code",
      "metadata": {
        "id": "RPk_vwmYsie1",
        "colab": {
          "base_uri": "https://localhost:8080/"
        },
        "outputId": "8fa1ccc0-7414-488f-ae92-451d52fc2171"
      },
      "source": [
        "M.aceita(\"aabb\")"
      ],
      "execution_count": null,
      "outputs": [
        {
          "output_type": "execute_result",
          "data": {
            "text/plain": [
              "True"
            ]
          },
          "metadata": {},
          "execution_count": 3
        }
      ]
    },
    {
      "cell_type": "markdown",
      "metadata": {
        "id": "mho70Y7XswRu"
      },
      "source": [
        "A rejeição de uma palavra retornará o valor `False`."
      ]
    },
    {
      "cell_type": "code",
      "metadata": {
        "id": "3XMT4iDEsxWb",
        "colab": {
          "base_uri": "https://localhost:8080/"
        },
        "outputId": "216e894b-421d-459e-c7fc-6d80b2eb63b2"
      },
      "source": [
        "M.aceita(\"aaabb\")"
      ],
      "execution_count": null,
      "outputs": [
        {
          "output_type": "execute_result",
          "data": {
            "text/plain": [
              "False"
            ]
          },
          "metadata": {},
          "execution_count": 4
        }
      ]
    },
    {
      "cell_type": "markdown",
      "metadata": {
        "id": "S06qoh0Is2ed"
      },
      "source": [
        "Você pode também realizar múltiplos testes utilizando listas com casos de testes:"
      ]
    },
    {
      "cell_type": "code",
      "metadata": {
        "id": "9ZCq-C9otAf-",
        "colab": {
          "base_uri": "https://localhost:8080/"
        },
        "outputId": "d9fe9a3d-b716-4f97-8c56-9fa0c37202c0"
      },
      "source": [
        "testes = [(\"\",True), (\"ab\",True), (\"aabb\",True), (\"aaabbb\",True), (\"b\",False), (\"ba\",False), (\"bbb\",False), (\"bbaa\",False)]\n",
        "[M.aceita(entrada) == saida for entrada, saida in testes]"
      ],
      "execution_count": null,
      "outputs": [
        {
          "output_type": "execute_result",
          "data": {
            "text/plain": [
              "[True, True, True, True, True, True, True, True]"
            ]
          },
          "metadata": {},
          "execution_count": 5
        }
      ]
    },
    {
      "cell_type": "markdown",
      "metadata": {
        "id": "Z_SJ63fTsUym"
      },
      "source": [
        "Por fim, é possível gerar a representação gráfica do AFD `M` por meio da função `M.visualizar()`. O diagrama de estados é gerado utilizando da biblioteca [`graphviz`]().\n"
      ]
    },
    {
      "cell_type": "code",
      "metadata": {
        "id": "Apb3H-ogsbw_",
        "colab": {
          "base_uri": "https://localhost:8080/",
          "height": 134
        },
        "outputId": "bf23d316-2183-4bfe-f7e2-c2cfb6b385a8"
      },
      "source": [
        "M.visualizar()"
      ],
      "execution_count": null,
      "outputs": [
        {
          "output_type": "execute_result",
          "data": {
            "text/plain": [
              "<graphviz.dot.Digraph at 0x7f459cad1110>"
            ],
            "image/svg+xml": "<?xml version=\"1.0\" encoding=\"UTF-8\" standalone=\"no\"?>\n<!DOCTYPE svg PUBLIC \"-//W3C//DTD SVG 1.1//EN\"\n \"http://www.w3.org/Graphics/SVG/1.1/DTD/svg11.dtd\">\n<!-- Generated by graphviz version 2.40.1 (20161225.0304)\n -->\n<!-- Title: finite_state_machine Pages: 1 -->\n<svg width=\"440pt\" height=\"84pt\"\n viewBox=\"0.00 0.00 439.59 84.00\" xmlns=\"http://www.w3.org/2000/svg\" xmlns:xlink=\"http://www.w3.org/1999/xlink\">\n<g id=\"graph0\" class=\"graph\" transform=\"scale(1 1) rotate(0) translate(4 79.9965)\">\n<title>finite_state_machine</title>\n<polygon fill=\"#ffffff\" stroke=\"transparent\" points=\"-4,4 -4,-79.9965 435.5862,-79.9965 435.5862,4 -4,4\"/>\n<g id=\"node1\" class=\"node\">\n<title></title>\n<ellipse fill=\"#000000\" stroke=\"#000000\" cx=\"1.8\" cy=\"-23.4983\" rx=\"1.8\" ry=\"1.8\"/>\n</g>\n<!-- e0 -->\n<g id=\"node3\" class=\"node\">\n<title>e0</title>\n<ellipse fill=\"none\" stroke=\"#000000\" cx=\"60.0983\" cy=\"-23.4983\" rx=\"19.4965\" ry=\"19.4965\"/>\n<text text-anchor=\"middle\" x=\"60.0983\" y=\"-19.7983\" font-family=\"Times,serif\" font-size=\"14.00\" fill=\"#000000\">e0</text>\n</g>\n<!-- &#45;&gt;e0 -->\n<g id=\"edge1\" class=\"edge\">\n<title>&#45;&gt;e0</title>\n<path fill=\"none\" stroke=\"#000000\" d=\"M3.7397,-23.4983C8.0961,-23.4983 19.1532,-23.4983 30.3314,-23.4983\"/>\n<polygon fill=\"#000000\" stroke=\"#000000\" points=\"30.4424,-26.9984 40.4424,-23.4983 30.4424,-19.9984 30.4424,-26.9984\"/>\n</g>\n<!-- e3 -->\n<g id=\"node2\" class=\"node\">\n<title>e3</title>\n<ellipse fill=\"none\" stroke=\"#000000\" cx=\"408.0879\" cy=\"-23.4983\" rx=\"19.4968\" ry=\"19.4968\"/>\n<ellipse fill=\"none\" stroke=\"#000000\" cx=\"408.0879\" cy=\"-23.4983\" rx=\"23.4965\" ry=\"23.4965\"/>\n<text text-anchor=\"middle\" x=\"408.0879\" y=\"-19.7983\" font-family=\"Times,serif\" font-size=\"14.00\" fill=\"#000000\">e3</text>\n</g>\n<!-- e1 -->\n<g id=\"node5\" class=\"node\">\n<title>e1</title>\n<ellipse fill=\"none\" stroke=\"#000000\" cx=\"175.0948\" cy=\"-23.4983\" rx=\"19.4965\" ry=\"19.4965\"/>\n<text text-anchor=\"middle\" x=\"175.0948\" y=\"-19.7983\" font-family=\"Times,serif\" font-size=\"14.00\" fill=\"#000000\">e1</text>\n</g>\n<!-- e0&#45;&gt;e1 -->\n<g id=\"edge2\" class=\"edge\">\n<title>e0&#45;&gt;e1</title>\n<path fill=\"none\" stroke=\"#000000\" d=\"M79.6059,-23.4983C97.6134,-23.4983 124.6194,-23.4983 145.3214,-23.4983\"/>\n<polygon fill=\"#000000\" stroke=\"#000000\" points=\"145.4916,-26.9984 155.4915,-23.4983 145.4915,-19.9984 145.4916,-26.9984\"/>\n<text text-anchor=\"middle\" x=\"117.5965\" y=\"-27.2983\" font-family=\"Times,serif\" font-size=\"14.00\" fill=\"#000000\">λ,λ→$</text>\n</g>\n<!-- e2 -->\n<g id=\"node4\" class=\"node\">\n<title>e2</title>\n<ellipse fill=\"none\" stroke=\"#000000\" cx=\"289.0913\" cy=\"-23.4983\" rx=\"19.4965\" ry=\"19.4965\"/>\n<text text-anchor=\"middle\" x=\"289.0913\" y=\"-19.7983\" font-family=\"Times,serif\" font-size=\"14.00\" fill=\"#000000\">e2</text>\n</g>\n<!-- e2&#45;&gt;e3 -->\n<g id=\"edge6\" class=\"edge\">\n<title>e2&#45;&gt;e3</title>\n<path fill=\"none\" stroke=\"#000000\" d=\"M308.7412,-23.4983C326.4733,-23.4983 352.9445,-23.4983 374.1043,-23.4983\"/>\n<polygon fill=\"#000000\" stroke=\"#000000\" points=\"374.3066,-26.9984 384.3065,-23.4983 374.3065,-19.9984 374.3066,-26.9984\"/>\n<text text-anchor=\"middle\" x=\"346.5896\" y=\"-27.2983\" font-family=\"Times,serif\" font-size=\"14.00\" fill=\"#000000\">λ,$→λ</text>\n</g>\n<!-- e2&#45;&gt;e2 -->\n<g id=\"edge5\" class=\"edge\">\n<title>e2&#45;&gt;e2</title>\n<path fill=\"none\" stroke=\"#000000\" d=\"M279.3322,-40.4665C276.9789,-50.9857 280.232,-60.9965 289.0913,-60.9965 294.9053,-60.9965 298.3048,-56.6852 299.2899,-50.7482\"/>\n<polygon fill=\"#000000\" stroke=\"#000000\" points=\"302.7744,-50.3079 298.8505,-40.4665 295.7808,-50.6069 302.7744,-50.3079\"/>\n<text text-anchor=\"middle\" x=\"289.0913\" y=\"-64.7965\" font-family=\"Times,serif\" font-size=\"14.00\" fill=\"#000000\">b,x→λ</text>\n</g>\n<!-- e1&#45;&gt;e2 -->\n<g id=\"edge4\" class=\"edge\">\n<title>e1&#45;&gt;e2</title>\n<path fill=\"none\" stroke=\"#000000\" d=\"M194.6915,-23.4983C212.4722,-23.4983 238.9469,-23.4983 259.3383,-23.4983\"/>\n<polygon fill=\"#000000\" stroke=\"#000000\" points=\"259.3689,-26.9984 269.3689,-23.4983 259.3688,-19.9984 259.3689,-26.9984\"/>\n<text text-anchor=\"middle\" x=\"232.0931\" y=\"-27.2983\" font-family=\"Times,serif\" font-size=\"14.00\" fill=\"#000000\">λ,λ→λ</text>\n</g>\n<!-- e1&#45;&gt;e1 -->\n<g id=\"edge3\" class=\"edge\">\n<title>e1&#45;&gt;e1</title>\n<path fill=\"none\" stroke=\"#000000\" d=\"M165.3357,-40.4665C162.9824,-50.9857 166.2354,-60.9965 175.0948,-60.9965 180.9088,-60.9965 184.3083,-56.6852 185.2934,-50.7482\"/>\n<polygon fill=\"#000000\" stroke=\"#000000\" points=\"188.7778,-50.3079 184.854,-40.4665 181.7842,-50.6069 188.7778,-50.3079\"/>\n<text text-anchor=\"middle\" x=\"175.0948\" y=\"-64.7965\" font-family=\"Times,serif\" font-size=\"14.00\" fill=\"#000000\">a,λ→x</text>\n</g>\n</g>\n</svg>\n"
          },
          "metadata": {},
          "execution_count": 6
        }
      ]
    },
    {
      "cell_type": "markdown",
      "metadata": {
        "id": "pHx0BKntWcWo"
      },
      "source": [
        "# Exercícios"
      ]
    },
    {
      "cell_type": "markdown",
      "metadata": {
        "id": "owRHayEB0tiz"
      },
      "source": [
        "1. Construa um autômato de pilha que reconheça a linguagem $L = \\{a^ib^jc^k \\mid i\\geq 0, j=2*i+3, k>5\\}$"
      ]
    },
    {
      "cell_type": "code",
      "source": [
        "Q = {'P', 'A', 'B', 'C', 'D', 'E', 'F', 'G', 'H', 'I', 'J'}\n",
        "Sigma = {'a','b','c'}\n",
        "Gamma = {'i','k'}\n",
        "delta = {\n",
        "  ('P','a' ,'' ):{('P','i')},\n",
        "  ('P','b' ,'' ):{('A', '')},\n",
        "  ('A','b' ,'' ):{('B','')},\n",
        "  ('B','b' ,'' ):{('C','')},\n",
        "  ('C','b' ,'i' ):{('C','')},\n",
        "  ('C','c' ,'' ):{('D','')},\n",
        "  ('D','c' ,'' ):{('E','')},\n",
        "  ('E','c' ,'' ):{('H','')},\n",
        "  ('H','c' ,'' ):{('I','')},\n",
        "  ('I','c' ,'' ):{('J','')},\n",
        "  ('J','c' ,'' ):{('F','')},\n",
        "  ('F','c' ,'' ):{('F','')},\n",
        "}\n",
        "i = 'P'\n",
        "F = {'F'}\n",
        " \n",
        "M = AP(Q,Sigma,Gamma,delta,i,F)\n",
        "M.visualizar()"
      ],
      "metadata": {
        "colab": {
          "base_uri": "https://localhost:8080/",
          "height": 80
        },
        "id": "eifKtT2OqYz_",
        "outputId": "69aee07c-0a3c-4626-cec4-c0f07e947da5"
      },
      "execution_count": null,
      "outputs": [
        {
          "output_type": "execute_result",
          "data": {
            "text/plain": [
              "<graphviz.dot.Digraph at 0x7faf3a93dd10>"
            ],
            "image/svg+xml": "<?xml version=\"1.0\" encoding=\"UTF-8\" standalone=\"no\"?>\n<!DOCTYPE svg PUBLIC \"-//W3C//DTD SVG 1.1//EN\"\n \"http://www.w3.org/Graphics/SVG/1.1/DTD/svg11.dtd\">\n<!-- Generated by graphviz version 2.40.1 (20161225.0304)\n -->\n<!-- Title: finite_state_machine Pages: 1 -->\n<svg width=\"576pt\" height=\"44pt\"\n viewBox=\"0.00 0.00 576.00 44.19\" xmlns=\"http://www.w3.org/2000/svg\" xmlns:xlink=\"http://www.w3.org/1999/xlink\">\n<g id=\"graph0\" class=\"graph\" transform=\"scale(.5138 .5138) rotate(0) translate(4 82)\">\n<title>finite_state_machine</title>\n<polygon fill=\"#ffffff\" stroke=\"transparent\" points=\"-4,4 -4,-82 1117,-82 1117,4 -4,4\"/>\n<g id=\"node1\" class=\"node\">\n<title></title>\n<ellipse fill=\"#000000\" stroke=\"#000000\" cx=\"18\" cy=\"-22\" rx=\"1.8\" ry=\"1.8\"/>\n</g>\n<!-- P -->\n<g id=\"node6\" class=\"node\">\n<title>P</title>\n<ellipse fill=\"none\" stroke=\"#000000\" cx=\"91\" cy=\"-22\" rx=\"18\" ry=\"18\"/>\n<text text-anchor=\"middle\" x=\"91\" y=\"-18.3\" font-family=\"Times,serif\" font-size=\"14.00\" fill=\"#000000\">P</text>\n</g>\n<!-- &#45;&gt;P -->\n<g id=\"edge1\" class=\"edge\">\n<title>&#45;&gt;P</title>\n<path fill=\"none\" stroke=\"#000000\" d=\"M19.8045,-22C25.7683,-22 45.4422,-22 62.6008,-22\"/>\n<polygon fill=\"#000000\" stroke=\"#000000\" points=\"62.8143,-25.5001 72.8143,-22 62.8143,-18.5001 62.8143,-25.5001\"/>\n</g>\n<!-- F -->\n<g id=\"node2\" class=\"node\">\n<title>F</title>\n<ellipse fill=\"none\" stroke=\"#000000\" cx=\"1091\" cy=\"-22\" rx=\"18\" ry=\"18\"/>\n<ellipse fill=\"none\" stroke=\"#000000\" cx=\"1091\" cy=\"-22\" rx=\"22\" ry=\"22\"/>\n<text text-anchor=\"middle\" x=\"1091\" y=\"-18.3\" font-family=\"Times,serif\" font-size=\"14.00\" fill=\"#000000\">F</text>\n</g>\n<!-- F&#45;&gt;F -->\n<g id=\"edge13\" class=\"edge\">\n<title>F&#45;&gt;F</title>\n<path fill=\"none\" stroke=\"#000000\" d=\"M1080.5737,-41.7575C1078.8019,-52.3499 1082.2773,-62 1091,-62 1096.7242,-62 1100.1887,-57.8441 1101.3934,-51.9932\"/>\n<polygon fill=\"#000000\" stroke=\"#000000\" points=\"1104.894,-51.7687 1101.4263,-41.7575 1097.894,-51.7461 1104.894,-51.7687\"/>\n<text text-anchor=\"middle\" x=\"1091\" y=\"-65.8\" font-family=\"Times,serif\" font-size=\"14.00\" fill=\"#000000\">c,λ→λ</text>\n</g>\n<!-- C -->\n<g id=\"node3\" class=\"node\">\n<title>C</title>\n<ellipse fill=\"none\" stroke=\"#000000\" cx=\"427\" cy=\"-22\" rx=\"18\" ry=\"18\"/>\n<text text-anchor=\"middle\" x=\"427\" y=\"-18.3\" font-family=\"Times,serif\" font-size=\"14.00\" fill=\"#000000\">C</text>\n</g>\n<!-- C&#45;&gt;C -->\n<g id=\"edge6\" class=\"edge\">\n<title>C&#45;&gt;C</title>\n<path fill=\"none\" stroke=\"#000000\" d=\"M417.7674,-37.5414C415.1685,-47.9087 418.2461,-58 427,-58 432.7448,-58 436.0449,-53.654 436.9004,-47.7362\"/>\n<polygon fill=\"#000000\" stroke=\"#000000\" points=\"440.3789,-47.2913 436.2326,-37.5414 433.3939,-47.7489 440.3789,-47.2913\"/>\n<text text-anchor=\"middle\" x=\"427\" y=\"-61.8\" font-family=\"Times,serif\" font-size=\"14.00\" fill=\"#000000\">b,i→λ</text>\n</g>\n<!-- D -->\n<g id=\"node10\" class=\"node\">\n<title>D</title>\n<ellipse fill=\"none\" stroke=\"#000000\" cx=\"537\" cy=\"-22\" rx=\"18\" ry=\"18\"/>\n<text text-anchor=\"middle\" x=\"537\" y=\"-18.3\" font-family=\"Times,serif\" font-size=\"14.00\" fill=\"#000000\">D</text>\n</g>\n<!-- C&#45;&gt;D -->\n<g id=\"edge7\" class=\"edge\">\n<title>C&#45;&gt;D</title>\n<path fill=\"none\" stroke=\"#000000\" d=\"M445.1643,-22C462.4405,-22 488.691,-22 508.7083,-22\"/>\n<polygon fill=\"#000000\" stroke=\"#000000\" points=\"508.8088,-25.5001 518.8088,-22 508.8087,-18.5001 508.8088,-25.5001\"/>\n<text text-anchor=\"middle\" x=\"482\" y=\"-25.8\" font-family=\"Times,serif\" font-size=\"14.00\" fill=\"#000000\">c,λ→λ</text>\n</g>\n<!-- G -->\n<g id=\"node4\" class=\"node\">\n<title>G</title>\n<ellipse fill=\"none\" stroke=\"#000000\" cx=\"18\" cy=\"-60\" rx=\"18\" ry=\"18\"/>\n<text text-anchor=\"middle\" x=\"18\" y=\"-56.3\" font-family=\"Times,serif\" font-size=\"14.00\" fill=\"#000000\">G</text>\n</g>\n<!-- J -->\n<g id=\"node5\" class=\"node\">\n<title>J</title>\n<ellipse fill=\"none\" stroke=\"#000000\" cx=\"977\" cy=\"-22\" rx=\"18\" ry=\"18\"/>\n<text text-anchor=\"middle\" x=\"977\" y=\"-18.3\" font-family=\"Times,serif\" font-size=\"14.00\" fill=\"#000000\">J</text>\n</g>\n<!-- J&#45;&gt;F -->\n<g id=\"edge12\" class=\"edge\">\n<title>J&#45;&gt;F</title>\n<path fill=\"none\" stroke=\"#000000\" d=\"M995.0636,-22C1012.0651,-22 1037.9192,-22 1058.5057,-22\"/>\n<polygon fill=\"#000000\" stroke=\"#000000\" points=\"1058.7162,-25.5001 1068.7162,-22 1058.7161,-18.5001 1058.7162,-25.5001\"/>\n<text text-anchor=\"middle\" x=\"1032\" y=\"-25.8\" font-family=\"Times,serif\" font-size=\"14.00\" fill=\"#000000\">c,λ→λ</text>\n</g>\n<!-- P&#45;&gt;P -->\n<g id=\"edge2\" class=\"edge\">\n<title>P&#45;&gt;P</title>\n<path fill=\"none\" stroke=\"#000000\" d=\"M84.6208,-39.0373C83.3189,-48.8579 85.4453,-58 91,-58 94.4717,-58 96.6042,-54.4289 97.3975,-49.3529\"/>\n<polygon fill=\"#000000\" stroke=\"#000000\" points=\"100.8971,-49.031 97.3792,-39.0373 93.8971,-49.0435 100.8971,-49.031\"/>\n<text text-anchor=\"middle\" x=\"91\" y=\"-61.8\" font-family=\"Times,serif\" font-size=\"14.00\" fill=\"#000000\">a,λ→i</text>\n</g>\n<!-- A -->\n<g id=\"node11\" class=\"node\">\n<title>A</title>\n<ellipse fill=\"none\" stroke=\"#000000\" cx=\"203\" cy=\"-22\" rx=\"18\" ry=\"18\"/>\n<text text-anchor=\"middle\" x=\"203\" y=\"-18.3\" font-family=\"Times,serif\" font-size=\"14.00\" fill=\"#000000\">A</text>\n</g>\n<!-- P&#45;&gt;A -->\n<g id=\"edge3\" class=\"edge\">\n<title>P&#45;&gt;A</title>\n<path fill=\"none\" stroke=\"#000000\" d=\"M109.4945,-22C127.2718,-22 154.3816,-22 174.8413,-22\"/>\n<polygon fill=\"#000000\" stroke=\"#000000\" points=\"174.8497,-25.5001 184.8496,-22 174.8496,-18.5001 174.8497,-25.5001\"/>\n<text text-anchor=\"middle\" x=\"147\" y=\"-25.8\" font-family=\"Times,serif\" font-size=\"14.00\" fill=\"#000000\">b,λ→λ</text>\n</g>\n<!-- H -->\n<g id=\"node7\" class=\"node\">\n<title>H</title>\n<ellipse fill=\"none\" stroke=\"#000000\" cx=\"757\" cy=\"-22\" rx=\"18\" ry=\"18\"/>\n<text text-anchor=\"middle\" x=\"757\" y=\"-18.3\" font-family=\"Times,serif\" font-size=\"14.00\" fill=\"#000000\">H</text>\n</g>\n<!-- I -->\n<g id=\"node8\" class=\"node\">\n<title>I</title>\n<ellipse fill=\"none\" stroke=\"#000000\" cx=\"867\" cy=\"-22\" rx=\"18\" ry=\"18\"/>\n<text text-anchor=\"middle\" x=\"867\" y=\"-18.3\" font-family=\"Times,serif\" font-size=\"14.00\" fill=\"#000000\">I</text>\n</g>\n<!-- H&#45;&gt;I -->\n<g id=\"edge10\" class=\"edge\">\n<title>H&#45;&gt;I</title>\n<path fill=\"none\" stroke=\"#000000\" d=\"M775.1643,-22C792.4405,-22 818.691,-22 838.7083,-22\"/>\n<polygon fill=\"#000000\" stroke=\"#000000\" points=\"838.8088,-25.5001 848.8088,-22 838.8087,-18.5001 838.8088,-25.5001\"/>\n<text text-anchor=\"middle\" x=\"812\" y=\"-25.8\" font-family=\"Times,serif\" font-size=\"14.00\" fill=\"#000000\">c,λ→λ</text>\n</g>\n<!-- I&#45;&gt;J -->\n<g id=\"edge11\" class=\"edge\">\n<title>I&#45;&gt;J</title>\n<path fill=\"none\" stroke=\"#000000\" d=\"M885.1643,-22C902.4405,-22 928.691,-22 948.7083,-22\"/>\n<polygon fill=\"#000000\" stroke=\"#000000\" points=\"948.8088,-25.5001 958.8088,-22 948.8087,-18.5001 948.8088,-25.5001\"/>\n<text text-anchor=\"middle\" x=\"922\" y=\"-25.8\" font-family=\"Times,serif\" font-size=\"14.00\" fill=\"#000000\">c,λ→λ</text>\n</g>\n<!-- E -->\n<g id=\"node9\" class=\"node\">\n<title>E</title>\n<ellipse fill=\"none\" stroke=\"#000000\" cx=\"647\" cy=\"-22\" rx=\"18\" ry=\"18\"/>\n<text text-anchor=\"middle\" x=\"647\" y=\"-18.3\" font-family=\"Times,serif\" font-size=\"14.00\" fill=\"#000000\">E</text>\n</g>\n<!-- E&#45;&gt;H -->\n<g id=\"edge9\" class=\"edge\">\n<title>E&#45;&gt;H</title>\n<path fill=\"none\" stroke=\"#000000\" d=\"M665.1643,-22C682.4405,-22 708.691,-22 728.7083,-22\"/>\n<polygon fill=\"#000000\" stroke=\"#000000\" points=\"728.8088,-25.5001 738.8088,-22 728.8087,-18.5001 728.8088,-25.5001\"/>\n<text text-anchor=\"middle\" x=\"702\" y=\"-25.8\" font-family=\"Times,serif\" font-size=\"14.00\" fill=\"#000000\">c,λ→λ</text>\n</g>\n<!-- D&#45;&gt;E -->\n<g id=\"edge8\" class=\"edge\">\n<title>D&#45;&gt;E</title>\n<path fill=\"none\" stroke=\"#000000\" d=\"M555.1643,-22C572.4405,-22 598.691,-22 618.7083,-22\"/>\n<polygon fill=\"#000000\" stroke=\"#000000\" points=\"618.8088,-25.5001 628.8088,-22 618.8087,-18.5001 618.8088,-25.5001\"/>\n<text text-anchor=\"middle\" x=\"592\" y=\"-25.8\" font-family=\"Times,serif\" font-size=\"14.00\" fill=\"#000000\">c,λ→λ</text>\n</g>\n<!-- B -->\n<g id=\"node12\" class=\"node\">\n<title>B</title>\n<ellipse fill=\"none\" stroke=\"#000000\" cx=\"315\" cy=\"-22\" rx=\"18\" ry=\"18\"/>\n<text text-anchor=\"middle\" x=\"315\" y=\"-18.3\" font-family=\"Times,serif\" font-size=\"14.00\" fill=\"#000000\">B</text>\n</g>\n<!-- A&#45;&gt;B -->\n<g id=\"edge4\" class=\"edge\">\n<title>A&#45;&gt;B</title>\n<path fill=\"none\" stroke=\"#000000\" d=\"M221.4945,-22C239.2718,-22 266.3816,-22 286.8413,-22\"/>\n<polygon fill=\"#000000\" stroke=\"#000000\" points=\"286.8497,-25.5001 296.8496,-22 286.8496,-18.5001 286.8497,-25.5001\"/>\n<text text-anchor=\"middle\" x=\"259\" y=\"-25.8\" font-family=\"Times,serif\" font-size=\"14.00\" fill=\"#000000\">b,λ→λ</text>\n</g>\n<!-- B&#45;&gt;C -->\n<g id=\"edge5\" class=\"edge\">\n<title>B&#45;&gt;C</title>\n<path fill=\"none\" stroke=\"#000000\" d=\"M333.4945,-22C351.2718,-22 378.3816,-22 398.8413,-22\"/>\n<polygon fill=\"#000000\" stroke=\"#000000\" points=\"398.8497,-25.5001 408.8496,-22 398.8496,-18.5001 398.8497,-25.5001\"/>\n<text text-anchor=\"middle\" x=\"371\" y=\"-25.8\" font-family=\"Times,serif\" font-size=\"14.00\" fill=\"#000000\">b,λ→λ</text>\n</g>\n</g>\n</svg>\n"
          },
          "metadata": {},
          "execution_count": 5
        }
      ]
    },
    {
      "cell_type": "markdown",
      "metadata": {
        "id": "958a0jaqW8uY"
      },
      "source": [
        "2. Construa um autômato de pilha que reconheça a linguagem $L =\\{a^ib^jc^k \\mid i\\geq 1, j=i,  k\\leq 3\\}$"
      ]
    },
    {
      "cell_type": "code",
      "source": [
        "Q = {'P', 'A', 'B', 'C', 'D', 'F'}\n",
        "Sigma = {'a','b','c'}\n",
        "Gamma = {'i','k'}\n",
        "delta = {\n",
        "  ('P','a' ,'' ):{('A','i')},\n",
        "  ('A','a' ,'' ):{('A','i')},\n",
        "  ('A','b' ,'i' ):{('B','')},\n",
        "  ('B','b' ,'i' ):{('B','')},\n",
        "  ('B','c' ,'' ):{('C','')},\n",
        "  ('C','c' ,'' ):{('D','')},\n",
        "  ('D','c' ,'' ):{('E','')},\n",
        "}\n",
        "i = 'P'\n",
        "F = {'B','C','D','E'}\n",
        " \n",
        "M = AP(Q,Sigma,Gamma,delta,i,F)\n",
        "M.visualizar()"
      ],
      "metadata": {
        "colab": {
          "base_uri": "https://localhost:8080/",
          "height": 116
        },
        "id": "OA6KgHycufwZ",
        "outputId": "1f54e602-c181-4643-b0de-ba07df6469c6"
      },
      "execution_count": null,
      "outputs": [
        {
          "output_type": "execute_result",
          "data": {
            "text/plain": [
              "<graphviz.dot.Digraph at 0x7faf33962350>"
            ],
            "image/svg+xml": "<?xml version=\"1.0\" encoding=\"UTF-8\" standalone=\"no\"?>\n<!DOCTYPE svg PUBLIC \"-//W3C//DTD SVG 1.1//EN\"\n \"http://www.w3.org/Graphics/SVG/1.1/DTD/svg11.dtd\">\n<!-- Generated by graphviz version 2.40.1 (20161225.0304)\n -->\n<!-- Title: finite_state_machine Pages: 1 -->\n<svg width=\"576pt\" height=\"71pt\"\n viewBox=\"0.00 0.00 576.00 71.27\" xmlns=\"http://www.w3.org/2000/svg\" xmlns:xlink=\"http://www.w3.org/1999/xlink\">\n<g id=\"graph0\" class=\"graph\" transform=\"scale(.8288 .8288) rotate(0) translate(4 82)\">\n<title>finite_state_machine</title>\n<polygon fill=\"#ffffff\" stroke=\"transparent\" points=\"-4,4 -4,-82 691,-82 691,4 -4,4\"/>\n<g id=\"node1\" class=\"node\">\n<title></title>\n<ellipse fill=\"#000000\" stroke=\"#000000\" cx=\"18\" cy=\"-22\" rx=\"1.8\" ry=\"1.8\"/>\n</g>\n<!-- P -->\n<g id=\"node8\" class=\"node\">\n<title>P</title>\n<ellipse fill=\"none\" stroke=\"#000000\" cx=\"91\" cy=\"-22\" rx=\"18\" ry=\"18\"/>\n<text text-anchor=\"middle\" x=\"91\" y=\"-18.3\" font-family=\"Times,serif\" font-size=\"14.00\" fill=\"#000000\">P</text>\n</g>\n<!-- &#45;&gt;P -->\n<g id=\"edge1\" class=\"edge\">\n<title>&#45;&gt;P</title>\n<path fill=\"none\" stroke=\"#000000\" d=\"M19.8045,-22C25.7683,-22 45.4422,-22 62.6008,-22\"/>\n<polygon fill=\"#000000\" stroke=\"#000000\" points=\"62.8143,-25.5001 72.8143,-22 62.8143,-18.5001 62.8143,-25.5001\"/>\n</g>\n<!-- C -->\n<g id=\"node2\" class=\"node\">\n<title>C</title>\n<ellipse fill=\"none\" stroke=\"#000000\" cx=\"429\" cy=\"-22\" rx=\"18\" ry=\"18\"/>\n<ellipse fill=\"none\" stroke=\"#000000\" cx=\"429\" cy=\"-22\" rx=\"22\" ry=\"22\"/>\n<text text-anchor=\"middle\" x=\"429\" y=\"-18.3\" font-family=\"Times,serif\" font-size=\"14.00\" fill=\"#000000\">C</text>\n</g>\n<!-- D -->\n<g id=\"node3\" class=\"node\">\n<title>D</title>\n<ellipse fill=\"none\" stroke=\"#000000\" cx=\"547\" cy=\"-22\" rx=\"18\" ry=\"18\"/>\n<ellipse fill=\"none\" stroke=\"#000000\" cx=\"547\" cy=\"-22\" rx=\"22\" ry=\"22\"/>\n<text text-anchor=\"middle\" x=\"547\" y=\"-18.3\" font-family=\"Times,serif\" font-size=\"14.00\" fill=\"#000000\">D</text>\n</g>\n<!-- C&#45;&gt;D -->\n<g id=\"edge7\" class=\"edge\">\n<title>C&#45;&gt;D</title>\n<path fill=\"none\" stroke=\"#000000\" d=\"M451.1949,-22C469.1599,-22 494.7051,-22 514.9001,-22\"/>\n<polygon fill=\"#000000\" stroke=\"#000000\" points=\"514.9047,-25.5001 524.9046,-22 514.9046,-18.5001 514.9047,-25.5001\"/>\n<text text-anchor=\"middle\" x=\"488\" y=\"-25.8\" font-family=\"Times,serif\" font-size=\"14.00\" fill=\"#000000\">c,λ→λ</text>\n</g>\n<!-- E -->\n<g id=\"node4\" class=\"node\">\n<title>E</title>\n<ellipse fill=\"none\" stroke=\"#000000\" cx=\"665\" cy=\"-22\" rx=\"18\" ry=\"18\"/>\n<ellipse fill=\"none\" stroke=\"#000000\" cx=\"665\" cy=\"-22\" rx=\"22\" ry=\"22\"/>\n<text text-anchor=\"middle\" x=\"665\" y=\"-18.3\" font-family=\"Times,serif\" font-size=\"14.00\" fill=\"#000000\">E</text>\n</g>\n<!-- D&#45;&gt;E -->\n<g id=\"edge8\" class=\"edge\">\n<title>D&#45;&gt;E</title>\n<path fill=\"none\" stroke=\"#000000\" d=\"M569.1949,-22C587.1599,-22 612.7051,-22 632.9001,-22\"/>\n<polygon fill=\"#000000\" stroke=\"#000000\" points=\"632.9047,-25.5001 642.9046,-22 632.9046,-18.5001 632.9047,-25.5001\"/>\n<text text-anchor=\"middle\" x=\"606\" y=\"-25.8\" font-family=\"Times,serif\" font-size=\"14.00\" fill=\"#000000\">c,λ→λ</text>\n</g>\n<!-- B -->\n<g id=\"node5\" class=\"node\">\n<title>B</title>\n<ellipse fill=\"none\" stroke=\"#000000\" cx=\"311\" cy=\"-22\" rx=\"18\" ry=\"18\"/>\n<ellipse fill=\"none\" stroke=\"#000000\" cx=\"311\" cy=\"-22\" rx=\"22\" ry=\"22\"/>\n<text text-anchor=\"middle\" x=\"311\" y=\"-18.3\" font-family=\"Times,serif\" font-size=\"14.00\" fill=\"#000000\">B</text>\n</g>\n<!-- B&#45;&gt;C -->\n<g id=\"edge6\" class=\"edge\">\n<title>B&#45;&gt;C</title>\n<path fill=\"none\" stroke=\"#000000\" d=\"M333.1949,-22C351.1599,-22 376.7051,-22 396.9001,-22\"/>\n<polygon fill=\"#000000\" stroke=\"#000000\" points=\"396.9047,-25.5001 406.9046,-22 396.9046,-18.5001 396.9047,-25.5001\"/>\n<text text-anchor=\"middle\" x=\"370\" y=\"-25.8\" font-family=\"Times,serif\" font-size=\"14.00\" fill=\"#000000\">c,λ→λ</text>\n</g>\n<!-- B&#45;&gt;B -->\n<g id=\"edge5\" class=\"edge\">\n<title>B&#45;&gt;B</title>\n<path fill=\"none\" stroke=\"#000000\" d=\"M300.5737,-41.7575C298.8019,-52.3499 302.2773,-62 311,-62 316.7242,-62 320.1887,-57.8441 321.3934,-51.9932\"/>\n<polygon fill=\"#000000\" stroke=\"#000000\" points=\"324.894,-51.7687 321.4263,-41.7575 317.894,-51.7461 324.894,-51.7687\"/>\n<text text-anchor=\"middle\" x=\"311\" y=\"-65.8\" font-family=\"Times,serif\" font-size=\"14.00\" fill=\"#000000\">b,i→λ</text>\n</g>\n<!-- F -->\n<g id=\"node6\" class=\"node\">\n<title>F</title>\n<ellipse fill=\"none\" stroke=\"#000000\" cx=\"18\" cy=\"-60\" rx=\"18\" ry=\"18\"/>\n<text text-anchor=\"middle\" x=\"18\" y=\"-56.3\" font-family=\"Times,serif\" font-size=\"14.00\" fill=\"#000000\">F</text>\n</g>\n<!-- A -->\n<g id=\"node7\" class=\"node\">\n<title>A</title>\n<ellipse fill=\"none\" stroke=\"#000000\" cx=\"198\" cy=\"-22\" rx=\"18\" ry=\"18\"/>\n<text text-anchor=\"middle\" x=\"198\" y=\"-18.3\" font-family=\"Times,serif\" font-size=\"14.00\" fill=\"#000000\">A</text>\n</g>\n<!-- A&#45;&gt;B -->\n<g id=\"edge4\" class=\"edge\">\n<title>A&#45;&gt;B</title>\n<path fill=\"none\" stroke=\"#000000\" d=\"M216.1554,-22C232.9435,-22 258.2836,-22 278.5489,-22\"/>\n<polygon fill=\"#000000\" stroke=\"#000000\" points=\"278.6116,-25.5001 288.6115,-22 278.6115,-18.5001 278.6116,-25.5001\"/>\n<text text-anchor=\"middle\" x=\"252.5\" y=\"-25.8\" font-family=\"Times,serif\" font-size=\"14.00\" fill=\"#000000\">b,i→λ</text>\n</g>\n<!-- A&#45;&gt;A -->\n<g id=\"edge3\" class=\"edge\">\n<title>A&#45;&gt;A</title>\n<path fill=\"none\" stroke=\"#000000\" d=\"M189.0212,-37.916C186.679,-48.1504 189.6719,-58 198,-58 203.4653,-58 206.633,-53.7581 207.503,-47.9494\"/>\n<polygon fill=\"#000000\" stroke=\"#000000\" points=\"210.9958,-47.7198 206.9788,-37.916 204.0054,-48.0851 210.9958,-47.7198\"/>\n<text text-anchor=\"middle\" x=\"198\" y=\"-61.8\" font-family=\"Times,serif\" font-size=\"14.00\" fill=\"#000000\">a,λ→i</text>\n</g>\n<!-- P&#45;&gt;A -->\n<g id=\"edge2\" class=\"edge\">\n<title>P&#45;&gt;A</title>\n<path fill=\"none\" stroke=\"#000000\" d=\"M109.1511,-22C125.6758,-22 150.3445,-22 169.4984,-22\"/>\n<polygon fill=\"#000000\" stroke=\"#000000\" points=\"169.7599,-25.5001 179.7599,-22 169.7598,-18.5001 169.7599,-25.5001\"/>\n<text text-anchor=\"middle\" x=\"144.5\" y=\"-25.8\" font-family=\"Times,serif\" font-size=\"14.00\" fill=\"#000000\">a,λ→i</text>\n</g>\n</g>\n</svg>\n"
          },
          "metadata": {},
          "execution_count": 7
        }
      ]
    },
    {
      "cell_type": "markdown",
      "metadata": {
        "id": "ILweyaCKXWSR"
      },
      "source": [
        "3. Construa um autômato de pilha que reconheça a linguagem $L = \\{a^ib^jc^k\\mid i\\geq 1, j=2, 1\\leq k\\leq 3\\}$"
      ]
    },
    {
      "cell_type": "code",
      "source": [
        "Q = {'P', 'A', 'B', 'C', 'D', 'F'}\n",
        "Sigma = {'a','b','c'}\n",
        "Gamma = {'i','k'}\n",
        "delta = {\n",
        "  ('P','a' ,'' ):{('A','')},\n",
        "  ('A','a' ,'' ):{('A','')},\n",
        "  ('A','b' ,'' ):{('B','')},\n",
        "  ('B','c' ,'' ):{('C','')},\n",
        "  ('C','c' ,'' ):{('D','')},\n",
        "  ('D','c' ,'' ):{('E','')},\n",
        "}\n",
        "i = 'P'\n",
        "F = {'C','D','E'}\n",
        " \n",
        "M = AP(Q,Sigma,Gamma,delta,i,F)\n",
        "M.visualizar()"
      ],
      "metadata": {
        "colab": {
          "base_uri": "https://localhost:8080/",
          "height": 116
        },
        "id": "kprNEfOcx633",
        "outputId": "f68d1b1f-250b-42fb-8436-44ded5d62c50"
      },
      "execution_count": null,
      "outputs": [
        {
          "output_type": "execute_result",
          "data": {
            "text/plain": [
              "<graphviz.dot.Digraph at 0x7faf3397d790>"
            ],
            "image/svg+xml": "<?xml version=\"1.0\" encoding=\"UTF-8\" standalone=\"no\"?>\n<!DOCTYPE svg PUBLIC \"-//W3C//DTD SVG 1.1//EN\"\n \"http://www.w3.org/Graphics/SVG/1.1/DTD/svg11.dtd\">\n<!-- Generated by graphviz version 2.40.1 (20161225.0304)\n -->\n<!-- Title: finite_state_machine Pages: 1 -->\n<svg width=\"576pt\" height=\"71pt\"\n viewBox=\"0.00 0.00 576.00 71.48\" xmlns=\"http://www.w3.org/2000/svg\" xmlns:xlink=\"http://www.w3.org/1999/xlink\">\n<g id=\"graph0\" class=\"graph\" transform=\"scale(.8312 .8312) rotate(0) translate(4 82)\">\n<title>finite_state_machine</title>\n<polygon fill=\"#ffffff\" stroke=\"transparent\" points=\"-4,4 -4,-82 689,-82 689,4 -4,4\"/>\n<g id=\"node1\" class=\"node\">\n<title></title>\n<ellipse fill=\"#000000\" stroke=\"#000000\" cx=\"18\" cy=\"-22\" rx=\"1.8\" ry=\"1.8\"/>\n</g>\n<!-- P -->\n<g id=\"node8\" class=\"node\">\n<title>P</title>\n<ellipse fill=\"none\" stroke=\"#000000\" cx=\"91\" cy=\"-22\" rx=\"18\" ry=\"18\"/>\n<text text-anchor=\"middle\" x=\"91\" y=\"-18.3\" font-family=\"Times,serif\" font-size=\"14.00\" fill=\"#000000\">P</text>\n</g>\n<!-- &#45;&gt;P -->\n<g id=\"edge1\" class=\"edge\">\n<title>&#45;&gt;P</title>\n<path fill=\"none\" stroke=\"#000000\" d=\"M19.8045,-22C25.7683,-22 45.4422,-22 62.6008,-22\"/>\n<polygon fill=\"#000000\" stroke=\"#000000\" points=\"62.8143,-25.5001 72.8143,-22 62.8143,-18.5001 62.8143,-25.5001\"/>\n</g>\n<!-- C -->\n<g id=\"node2\" class=\"node\">\n<title>C</title>\n<ellipse fill=\"none\" stroke=\"#000000\" cx=\"427\" cy=\"-22\" rx=\"18\" ry=\"18\"/>\n<ellipse fill=\"none\" stroke=\"#000000\" cx=\"427\" cy=\"-22\" rx=\"22\" ry=\"22\"/>\n<text text-anchor=\"middle\" x=\"427\" y=\"-18.3\" font-family=\"Times,serif\" font-size=\"14.00\" fill=\"#000000\">C</text>\n</g>\n<!-- D -->\n<g id=\"node3\" class=\"node\">\n<title>D</title>\n<ellipse fill=\"none\" stroke=\"#000000\" cx=\"545\" cy=\"-22\" rx=\"18\" ry=\"18\"/>\n<ellipse fill=\"none\" stroke=\"#000000\" cx=\"545\" cy=\"-22\" rx=\"22\" ry=\"22\"/>\n<text text-anchor=\"middle\" x=\"545\" y=\"-18.3\" font-family=\"Times,serif\" font-size=\"14.00\" fill=\"#000000\">D</text>\n</g>\n<!-- C&#45;&gt;D -->\n<g id=\"edge6\" class=\"edge\">\n<title>C&#45;&gt;D</title>\n<path fill=\"none\" stroke=\"#000000\" d=\"M449.1949,-22C467.1599,-22 492.7051,-22 512.9001,-22\"/>\n<polygon fill=\"#000000\" stroke=\"#000000\" points=\"512.9047,-25.5001 522.9046,-22 512.9046,-18.5001 512.9047,-25.5001\"/>\n<text text-anchor=\"middle\" x=\"486\" y=\"-25.8\" font-family=\"Times,serif\" font-size=\"14.00\" fill=\"#000000\">c,λ→λ</text>\n</g>\n<!-- E -->\n<g id=\"node4\" class=\"node\">\n<title>E</title>\n<ellipse fill=\"none\" stroke=\"#000000\" cx=\"663\" cy=\"-22\" rx=\"18\" ry=\"18\"/>\n<ellipse fill=\"none\" stroke=\"#000000\" cx=\"663\" cy=\"-22\" rx=\"22\" ry=\"22\"/>\n<text text-anchor=\"middle\" x=\"663\" y=\"-18.3\" font-family=\"Times,serif\" font-size=\"14.00\" fill=\"#000000\">E</text>\n</g>\n<!-- D&#45;&gt;E -->\n<g id=\"edge7\" class=\"edge\">\n<title>D&#45;&gt;E</title>\n<path fill=\"none\" stroke=\"#000000\" d=\"M567.1949,-22C585.1599,-22 610.7051,-22 630.9001,-22\"/>\n<polygon fill=\"#000000\" stroke=\"#000000\" points=\"630.9047,-25.5001 640.9046,-22 630.9046,-18.5001 630.9047,-25.5001\"/>\n<text text-anchor=\"middle\" x=\"604\" y=\"-25.8\" font-family=\"Times,serif\" font-size=\"14.00\" fill=\"#000000\">c,λ→λ</text>\n</g>\n<!-- B -->\n<g id=\"node5\" class=\"node\">\n<title>B</title>\n<ellipse fill=\"none\" stroke=\"#000000\" cx=\"313\" cy=\"-22\" rx=\"18\" ry=\"18\"/>\n<text text-anchor=\"middle\" x=\"313\" y=\"-18.3\" font-family=\"Times,serif\" font-size=\"14.00\" fill=\"#000000\">B</text>\n</g>\n<!-- B&#45;&gt;C -->\n<g id=\"edge5\" class=\"edge\">\n<title>B&#45;&gt;C</title>\n<path fill=\"none\" stroke=\"#000000\" d=\"M331.0636,-22C348.0651,-22 373.9192,-22 394.5057,-22\"/>\n<polygon fill=\"#000000\" stroke=\"#000000\" points=\"394.7162,-25.5001 404.7162,-22 394.7161,-18.5001 394.7162,-25.5001\"/>\n<text text-anchor=\"middle\" x=\"368\" y=\"-25.8\" font-family=\"Times,serif\" font-size=\"14.00\" fill=\"#000000\">c,λ→λ</text>\n</g>\n<!-- F -->\n<g id=\"node6\" class=\"node\">\n<title>F</title>\n<ellipse fill=\"none\" stroke=\"#000000\" cx=\"18\" cy=\"-60\" rx=\"18\" ry=\"18\"/>\n<text text-anchor=\"middle\" x=\"18\" y=\"-56.3\" font-family=\"Times,serif\" font-size=\"14.00\" fill=\"#000000\">F</text>\n</g>\n<!-- A -->\n<g id=\"node7\" class=\"node\">\n<title>A</title>\n<ellipse fill=\"none\" stroke=\"#000000\" cx=\"201\" cy=\"-22\" rx=\"18\" ry=\"18\"/>\n<text text-anchor=\"middle\" x=\"201\" y=\"-18.3\" font-family=\"Times,serif\" font-size=\"14.00\" fill=\"#000000\">A</text>\n</g>\n<!-- A&#45;&gt;B -->\n<g id=\"edge4\" class=\"edge\">\n<title>A&#45;&gt;B</title>\n<path fill=\"none\" stroke=\"#000000\" d=\"M219.4945,-22C237.2718,-22 264.3816,-22 284.8413,-22\"/>\n<polygon fill=\"#000000\" stroke=\"#000000\" points=\"284.8497,-25.5001 294.8496,-22 284.8496,-18.5001 284.8497,-25.5001\"/>\n<text text-anchor=\"middle\" x=\"257\" y=\"-25.8\" font-family=\"Times,serif\" font-size=\"14.00\" fill=\"#000000\">b,λ→λ</text>\n</g>\n<!-- A&#45;&gt;A -->\n<g id=\"edge3\" class=\"edge\">\n<title>A&#45;&gt;A</title>\n<path fill=\"none\" stroke=\"#000000\" d=\"M191.7674,-37.5414C189.1685,-47.9087 192.2461,-58 201,-58 206.7448,-58 210.0449,-53.654 210.9004,-47.7362\"/>\n<polygon fill=\"#000000\" stroke=\"#000000\" points=\"214.3789,-47.2913 210.2326,-37.5414 207.3939,-47.7489 214.3789,-47.2913\"/>\n<text text-anchor=\"middle\" x=\"201\" y=\"-61.8\" font-family=\"Times,serif\" font-size=\"14.00\" fill=\"#000000\">a,λ→λ</text>\n</g>\n<!-- P&#45;&gt;A -->\n<g id=\"edge2\" class=\"edge\">\n<title>P&#45;&gt;A</title>\n<path fill=\"none\" stroke=\"#000000\" d=\"M109.1643,-22C126.4405,-22 152.691,-22 172.7083,-22\"/>\n<polygon fill=\"#000000\" stroke=\"#000000\" points=\"172.8088,-25.5001 182.8088,-22 172.8087,-18.5001 172.8088,-25.5001\"/>\n<text text-anchor=\"middle\" x=\"146\" y=\"-25.8\" font-family=\"Times,serif\" font-size=\"14.00\" fill=\"#000000\">a,λ→λ</text>\n</g>\n</g>\n</svg>\n"
          },
          "metadata": {},
          "execution_count": 9
        }
      ]
    },
    {
      "cell_type": "markdown",
      "metadata": {
        "id": "u6-91VGrdpTT"
      },
      "source": [
        "4. Construa um autômato de pilha que reconheça a linguagem gerada pela gramática abaixo:\n",
        "\n",
        "$$\n",
        "E\\rightarrow  a ~|~E + E ~|~ E - E ~|~ E*E ~|~ E/E ~|~ ( E )\n",
        "$$"
      ]
    },
    {
      "cell_type": "code",
      "source": [
        "Q = {'P', 'A'}\n",
        "Sigma = {'a', '+', '-', '*', '/', '(', ')'}\n",
        "Gamma = {'X'}\n",
        "delta = {\n",
        "  ('P','(' ,'' ):{('P','X')},\n",
        "  ('P','a' ,'' ):{('A','')},\n",
        "  ('A',')' ,'X'):{('A','')},\n",
        "  ('A','+' ,'' ):{('P','')},\n",
        "  ('A','-' ,'' ):{('P','')},\n",
        "  ('A','*' ,'' ):{('P','')},\n",
        "  ('A','/' ,'' ):{('P','')},\n",
        "}\n",
        "i = 'P'\n",
        "F = {'A'}\n",
        " \n",
        "M = AP(Q,Sigma,Gamma,delta,i,F)\n",
        "M.visualizar()"
      ],
      "metadata": {
        "colab": {
          "base_uri": "https://localhost:8080/",
          "height": 172
        },
        "id": "EvoG4vFK8UBk",
        "outputId": "a88fc80c-6c9c-407e-98b8-bc27c78b5de0"
      },
      "execution_count": 9,
      "outputs": [
        {
          "output_type": "execute_result",
          "data": {
            "text/plain": [
              "<graphviz.dot.Digraph at 0x7ff69c4b2250>"
            ],
            "image/svg+xml": "<?xml version=\"1.0\" encoding=\"UTF-8\" standalone=\"no\"?>\n<!DOCTYPE svg PUBLIC \"-//W3C//DTD SVG 1.1//EN\"\n \"http://www.w3.org/Graphics/SVG/1.1/DTD/svg11.dtd\">\n<!-- Generated by graphviz version 2.40.1 (20161225.0304)\n -->\n<!-- Title: finite_state_machine Pages: 1 -->\n<svg width=\"205pt\" height=\"113pt\"\n viewBox=\"0.00 0.00 204.60 112.60\" xmlns=\"http://www.w3.org/2000/svg\" xmlns:xlink=\"http://www.w3.org/1999/xlink\">\n<g id=\"graph0\" class=\"graph\" transform=\"scale(1 1) rotate(0) translate(4 108.6045)\">\n<title>finite_state_machine</title>\n<polygon fill=\"#ffffff\" stroke=\"transparent\" points=\"-4,4 -4,-108.6045 200.6,-108.6045 200.6,4 -4,4\"/>\n<g id=\"node1\" class=\"node\">\n<title></title>\n<ellipse fill=\"#000000\" stroke=\"#000000\" cx=\"1.8\" cy=\"-49.6045\" rx=\"1.8\" ry=\"1.8\"/>\n</g>\n<!-- P -->\n<g id=\"node3\" class=\"node\">\n<title>P</title>\n<ellipse fill=\"none\" stroke=\"#000000\" cx=\"58.6\" cy=\"-49.6045\" rx=\"18\" ry=\"18\"/>\n<text text-anchor=\"middle\" x=\"58.6\" y=\"-45.9045\" font-family=\"Times,serif\" font-size=\"14.00\" fill=\"#000000\">P</text>\n</g>\n<!-- &#45;&gt;P -->\n<g id=\"edge1\" class=\"edge\">\n<title>&#45;&gt;P</title>\n<path fill=\"none\" stroke=\"#000000\" d=\"M3.6898,-49.6045C8.0522,-49.6045 19.3107,-49.6045 30.5058,-49.6045\"/>\n<polygon fill=\"#000000\" stroke=\"#000000\" points=\"30.5696,-53.1046 40.5696,-49.6045 30.5696,-46.1046 30.5696,-53.1046\"/>\n</g>\n<!-- A -->\n<g id=\"node2\" class=\"node\">\n<title>A</title>\n<ellipse fill=\"none\" stroke=\"#000000\" cx=\"174.6\" cy=\"-49.6045\" rx=\"18\" ry=\"18\"/>\n<ellipse fill=\"none\" stroke=\"#000000\" cx=\"174.6\" cy=\"-49.6045\" rx=\"22\" ry=\"22\"/>\n<text text-anchor=\"middle\" x=\"174.6\" y=\"-45.9045\" font-family=\"Times,serif\" font-size=\"14.00\" fill=\"#000000\">A</text>\n</g>\n<!-- A&#45;&gt;A -->\n<g id=\"edge4\" class=\"edge\">\n<title>A&#45;&gt;A</title>\n<path fill=\"none\" stroke=\"#000000\" d=\"M163.8883,-68.9488C161.8888,-79.7022 165.4594,-89.6045 174.6,-89.6045 180.5985,-89.6045 184.1982,-85.3399 185.3991,-79.3689\"/>\n<polygon fill=\"#000000\" stroke=\"#000000\" points=\"188.8956,-78.9191 185.3117,-68.9488 181.8958,-78.9779 188.8956,-78.9191\"/>\n<text text-anchor=\"middle\" x=\"174.6\" y=\"-93.4045\" font-family=\"Times,serif\" font-size=\"14.00\" fill=\"#000000\">),X→λ</text>\n</g>\n<!-- A&#45;&gt;P -->\n<g id=\"edge5\" class=\"edge\">\n<title>A&#45;&gt;P</title>\n<path fill=\"none\" stroke=\"#000000\" d=\"M163.0004,-30.7043C156.0576,-21.2684 146.307,-10.7833 134.6,-5.6045 118.342,1.5876 110.6652,2.0085 94.6,-5.6045 85.8815,-9.736 78.5724,-17.1275 72.8674,-24.6871\"/>\n<polygon fill=\"#000000\" stroke=\"#000000\" points=\"69.6377,-23.2134 66.9188,-33.4534 75.4301,-27.1439 69.6377,-23.2134\"/>\n<text text-anchor=\"middle\" x=\"114.6\" y=\"-54.4045\" font-family=\"Times,serif\" font-size=\"14.00\" fill=\"#000000\">+,λ→λ</text>\n<text text-anchor=\"middle\" x=\"114.6\" y=\"-39.4045\" font-family=\"Times,serif\" font-size=\"14.00\" fill=\"#000000\">&#45;,λ→λ</text>\n<text text-anchor=\"middle\" x=\"114.6\" y=\"-24.4045\" font-family=\"Times,serif\" font-size=\"14.00\" fill=\"#000000\">*,λ→λ</text>\n<text text-anchor=\"middle\" x=\"114.6\" y=\"-9.4045\" font-family=\"Times,serif\" font-size=\"14.00\" fill=\"#000000\">/,λ→λ</text>\n</g>\n<!-- P&#45;&gt;A -->\n<g id=\"edge3\" class=\"edge\">\n<title>P&#45;&gt;A</title>\n<path fill=\"none\" stroke=\"#000000\" d=\"M73.6386,-60.1992C79.8305,-63.9477 87.2636,-67.7034 94.6,-69.6045 111.8094,-74.0639 117.2978,-73.689 134.6,-69.6045 138.5671,-68.668 142.5894,-67.2745 146.4773,-65.6507\"/>\n<polygon fill=\"#000000\" stroke=\"#000000\" points=\"148.2086,-68.7039 155.7572,-61.2696 145.2201,-62.3739 148.2086,-68.7039\"/>\n<text text-anchor=\"middle\" x=\"114.6\" y=\"-76.4045\" font-family=\"Times,serif\" font-size=\"14.00\" fill=\"#000000\">a,λ→λ</text>\n</g>\n<!-- P&#45;&gt;P -->\n<g id=\"edge2\" class=\"edge\">\n<title>P&#45;&gt;P</title>\n<path fill=\"none\" stroke=\"#000000\" d=\"M52.2208,-66.6418C50.9189,-76.4624 53.0453,-85.6045 58.6,-85.6045 62.0717,-85.6045 64.2042,-82.0334 64.9975,-76.9574\"/>\n<polygon fill=\"#000000\" stroke=\"#000000\" points=\"68.4971,-76.6356 64.9792,-66.6418 61.4971,-76.648 68.4971,-76.6356\"/>\n<text text-anchor=\"middle\" x=\"58.6\" y=\"-89.4045\" font-family=\"Times,serif\" font-size=\"14.00\" fill=\"#000000\">(,λ→X</text>\n</g>\n</g>\n</svg>\n"
          },
          "metadata": {},
          "execution_count": 9
        }
      ]
    },
    {
      "cell_type": "markdown",
      "metadata": {
        "id": "VNKN-MR9U_mI"
      },
      "source": [
        " 5. Construa um autômato de pilha que reconheça a linguagem $L =\\{a^ib^jc^k \\mid i+j = k\\}$\n",
        "\n",
        " Resposta: Podemos reescrever a descrição da linguagem para $L =\\{a^ib^jc^{i+j}\\}$ e a partir deste ponto, podemos definir definir um autômato de pilha em função de $i$ e de $j$."
      ]
    },
    {
      "cell_type": "code",
      "metadata": {
        "colab": {
          "base_uri": "https://localhost:8080/",
          "height": 258
        },
        "id": "RkiIWFkQVMSN",
        "outputId": "0e95362b-ecec-40a2-a821-2199464503a0"
      },
      "source": [
        "Q = {'i','e0','e1', 'e2', 'e3','f'}\n",
        "Sigma = {'a','b','c'}\n",
        "Gamma = {'$','i','j'}\n",
        "delta = {('i','' ,'' ):{('e0','$')},\n",
        "         ('e0','a' ,'' ):{('e1','i')},\n",
        "         ('e0','b' ,'' ):{('e2','j')},\n",
        "         ('e1','a' ,'' ):{('e1','i')},\n",
        "         ('e1','b' ,'' ):{('e2','j')},\n",
        "         ('e1','c' ,'i' ):{('e3','')},\n",
        "         ('e1','c' ,'j' ):{('e3','')},\n",
        "         ('e2','b' ,'' ):{('e2','j')},\n",
        "         ('e2','c' ,'i' ):{('e3','')},\n",
        "         ('e2','c' ,'j' ):{('e3','')},\n",
        "         ('e3','c' ,'i' ):{('e3','')},\n",
        "         ('e3','c' ,'j' ):{('e3','')},\n",
        "         ('e0','' ,'$' ):{('f','')},\n",
        "         ('e3','' ,'$' ):{('f','')}\n",
        "         }\n",
        "i = 'i'\n",
        "F = {'f'}\n",
        " \n",
        "M = AP(E,Sigma,Gamma,delta,i,F)\n",
        "print(M.aceita(\"aaacc\"))\n",
        "M.visualizar()\n"
      ],
      "execution_count": null,
      "outputs": [
        {
          "output_type": "stream",
          "name": "stdout",
          "text": [
            "False\n"
          ]
        },
        {
          "output_type": "execute_result",
          "data": {
            "text/plain": [
              "<graphviz.dot.Digraph at 0x7f459bffe690>"
            ],
            "image/svg+xml": "<?xml version=\"1.0\" encoding=\"UTF-8\" standalone=\"no\"?>\n<!DOCTYPE svg PUBLIC \"-//W3C//DTD SVG 1.1//EN\"\n \"http://www.w3.org/Graphics/SVG/1.1/DTD/svg11.dtd\">\n<!-- Generated by graphviz version 2.40.1 (20161225.0304)\n -->\n<!-- Title: finite_state_machine Pages: 1 -->\n<svg width=\"576pt\" height=\"164pt\"\n viewBox=\"0.00 0.00 576.00 163.73\" xmlns=\"http://www.w3.org/2000/svg\" xmlns:xlink=\"http://www.w3.org/1999/xlink\">\n<g id=\"graph0\" class=\"graph\" transform=\"scale(.8826 .8826) rotate(0) translate(4 181.4983)\">\n<title>finite_state_machine</title>\n<polygon fill=\"#ffffff\" stroke=\"transparent\" points=\"-4,4 -4,-181.4983 648.5896,-181.4983 648.5896,4 -4,4\"/>\n<g id=\"node1\" class=\"node\">\n<title></title>\n<ellipse fill=\"#000000\" stroke=\"#000000\" cx=\"1.8\" cy=\"-107.4983\" rx=\"1.8\" ry=\"1.8\"/>\n</g>\n<!-- i -->\n<g id=\"node7\" class=\"node\">\n<title>i</title>\n<ellipse fill=\"none\" stroke=\"#000000\" cx=\"58.6\" cy=\"-107.4983\" rx=\"18\" ry=\"18\"/>\n<text text-anchor=\"middle\" x=\"58.6\" y=\"-103.7983\" font-family=\"Times,serif\" font-size=\"14.00\" fill=\"#000000\">i</text>\n</g>\n<!-- &#45;&gt;i -->\n<g id=\"edge1\" class=\"edge\">\n<title>&#45;&gt;i</title>\n<path fill=\"none\" stroke=\"#000000\" d=\"M3.6898,-107.4983C8.0522,-107.4983 19.3107,-107.4983 30.5058,-107.4983\"/>\n<polygon fill=\"#000000\" stroke=\"#000000\" points=\"30.5696,-110.9984 40.5696,-107.4983 30.5696,-103.9984 30.5696,-110.9984\"/>\n</g>\n<!-- f -->\n<g id=\"node2\" class=\"node\">\n<title>f</title>\n<ellipse fill=\"none\" stroke=\"#000000\" cx=\"622.5896\" cy=\"-115.4983\" rx=\"18\" ry=\"18\"/>\n<ellipse fill=\"none\" stroke=\"#000000\" cx=\"622.5896\" cy=\"-115.4983\" rx=\"22\" ry=\"22\"/>\n<text text-anchor=\"middle\" x=\"622.5896\" y=\"-111.7983\" font-family=\"Times,serif\" font-size=\"14.00\" fill=\"#000000\">f</text>\n</g>\n<!-- e0 -->\n<g id=\"node3\" class=\"node\">\n<title>e0</title>\n<ellipse fill=\"none\" stroke=\"#000000\" cx=\"172.0983\" cy=\"-107.4983\" rx=\"19.4965\" ry=\"19.4965\"/>\n<text text-anchor=\"middle\" x=\"172.0983\" y=\"-103.7983\" font-family=\"Times,serif\" font-size=\"14.00\" fill=\"#000000\">e0</text>\n</g>\n<!-- e0&#45;&gt;f -->\n<g id=\"edge11\" class=\"edge\">\n<title>e0&#45;&gt;f</title>\n<path fill=\"none\" stroke=\"#000000\" d=\"M186.9441,-120.5325C207.049,-136.7967 244.7309,-162.4983 282.0948,-162.4983 282.0948,-162.4983 282.0948,-162.4983 505.0913,-162.4983 537.9183,-162.4983 572.4517,-146.4879 595.5173,-133.1561\"/>\n<polygon fill=\"#000000\" stroke=\"#000000\" points=\"597.5903,-135.994 604.3635,-127.847 593.9881,-129.9919 597.5903,-135.994\"/>\n<text text-anchor=\"middle\" x=\"394.5931\" y=\"-166.2983\" font-family=\"Times,serif\" font-size=\"14.00\" fill=\"#000000\">λ,$→λ</text>\n</g>\n<!-- e2 -->\n<g id=\"node4\" class=\"node\">\n<title>e2</title>\n<ellipse fill=\"none\" stroke=\"#000000\" cx=\"394.5931\" cy=\"-74.4983\" rx=\"19.4965\" ry=\"19.4965\"/>\n<text text-anchor=\"middle\" x=\"394.5931\" y=\"-70.7983\" font-family=\"Times,serif\" font-size=\"14.00\" fill=\"#000000\">e2</text>\n</g>\n<!-- e0&#45;&gt;e2 -->\n<g id=\"edge4\" class=\"edge\">\n<title>e0&#45;&gt;e2</title>\n<path fill=\"none\" stroke=\"#000000\" d=\"M191.454,-104.6275C230.492,-98.8374 318.8735,-85.7289 365.1254,-78.8689\"/>\n<polygon fill=\"#000000\" stroke=\"#000000\" points=\"365.7454,-82.3153 375.1237,-77.3859 364.7183,-75.391 365.7454,-82.3153\"/>\n<text text-anchor=\"middle\" x=\"282.0948\" y=\"-97.2983\" font-family=\"Times,serif\" font-size=\"14.00\" fill=\"#000000\">b,λ→j</text>\n</g>\n<!-- e1 -->\n<g id=\"node5\" class=\"node\">\n<title>e1</title>\n<ellipse fill=\"none\" stroke=\"#000000\" cx=\"282.0948\" cy=\"-19.4983\" rx=\"19.4965\" ry=\"19.4965\"/>\n<text text-anchor=\"middle\" x=\"282.0948\" y=\"-15.7983\" font-family=\"Times,serif\" font-size=\"14.00\" fill=\"#000000\">e1</text>\n</g>\n<!-- e0&#45;&gt;e1 -->\n<g id=\"edge3\" class=\"edge\">\n<title>e0&#45;&gt;e1</title>\n<path fill=\"none\" stroke=\"#000000\" d=\"M187.3928,-95.2622C205.841,-80.5032 237.0511,-55.5344 258.5706,-38.3182\"/>\n<polygon fill=\"#000000\" stroke=\"#000000\" points=\"260.9534,-40.8942 266.5756,-31.9141 256.5805,-35.4282 260.9534,-40.8942\"/>\n<text text-anchor=\"middle\" x=\"227.0965\" y=\"-80.2983\" font-family=\"Times,serif\" font-size=\"14.00\" fill=\"#000000\">a,λ→i</text>\n</g>\n<!-- e2&#45;&gt;e2 -->\n<g id=\"edge8\" class=\"edge\">\n<title>e2&#45;&gt;e2</title>\n<path fill=\"none\" stroke=\"#000000\" d=\"M385.1009,-91.8559C382.9915,-102.2314 386.1556,-111.9965 394.5931,-111.9965 400.1302,-111.9965 403.3962,-107.791 404.3912,-101.9674\"/>\n<polygon fill=\"#000000\" stroke=\"#000000\" points=\"407.8862,-101.7454 404.0853,-91.8559 400.8894,-101.9572 407.8862,-101.7454\"/>\n<text text-anchor=\"middle\" x=\"394.5931\" y=\"-115.7965\" font-family=\"Times,serif\" font-size=\"14.00\" fill=\"#000000\">b,λ→j</text>\n</g>\n<!-- e3 -->\n<g id=\"node6\" class=\"node\">\n<title>e3</title>\n<ellipse fill=\"none\" stroke=\"#000000\" cx=\"505.0913\" cy=\"-67.4983\" rx=\"19.4965\" ry=\"19.4965\"/>\n<text text-anchor=\"middle\" x=\"505.0913\" y=\"-63.7983\" font-family=\"Times,serif\" font-size=\"14.00\" fill=\"#000000\">e3</text>\n</g>\n<!-- e2&#45;&gt;e3 -->\n<g id=\"edge9\" class=\"edge\">\n<title>e2&#45;&gt;e3</title>\n<path fill=\"none\" stroke=\"#000000\" d=\"M414.0936,-73.2629C431.031,-72.1899 455.8238,-70.6193 475.2547,-69.3884\"/>\n<polygon fill=\"#000000\" stroke=\"#000000\" points=\"475.6554,-72.8701 485.4141,-68.7448 475.2128,-65.8841 475.6554,-72.8701\"/>\n<text text-anchor=\"middle\" x=\"450.0931\" y=\"-90.2983\" font-family=\"Times,serif\" font-size=\"14.00\" fill=\"#000000\">c,i→λ</text>\n<text text-anchor=\"middle\" x=\"450.0931\" y=\"-75.2983\" font-family=\"Times,serif\" font-size=\"14.00\" fill=\"#000000\">c,j→λ</text>\n</g>\n<!-- e1&#45;&gt;e2 -->\n<g id=\"edge6\" class=\"edge\">\n<title>e1&#45;&gt;e2</title>\n<path fill=\"none\" stroke=\"#000000\" d=\"M299.6727,-28.092C317.8932,-37 346.6062,-51.0377 367.6849,-61.343\"/>\n<polygon fill=\"#000000\" stroke=\"#000000\" points=\"366.2463,-64.5355 376.7674,-65.7834 369.3208,-58.2468 366.2463,-64.5355\"/>\n<text text-anchor=\"middle\" x=\"338.0931\" y=\"-58.2983\" font-family=\"Times,serif\" font-size=\"14.00\" fill=\"#000000\">b,λ→j</text>\n</g>\n<!-- e1&#45;&gt;e1 -->\n<g id=\"edge5\" class=\"edge\">\n<title>e1&#45;&gt;e1</title>\n<path fill=\"none\" stroke=\"#000000\" d=\"M272.6026,-36.8559C270.4932,-47.2314 273.6573,-56.9965 282.0948,-56.9965 287.6319,-56.9965 290.8979,-52.791 291.8929,-46.9674\"/>\n<polygon fill=\"#000000\" stroke=\"#000000\" points=\"295.3879,-46.7454 291.587,-36.8559 288.3911,-46.9572 295.3879,-46.7454\"/>\n<text text-anchor=\"middle\" x=\"282.0948\" y=\"-60.7965\" font-family=\"Times,serif\" font-size=\"14.00\" fill=\"#000000\">a,λ→i</text>\n</g>\n<!-- e1&#45;&gt;e3 -->\n<g id=\"edge7\" class=\"edge\">\n<title>e1&#45;&gt;e3</title>\n<path fill=\"none\" stroke=\"#000000\" d=\"M301.35,-15.7915C327.4856,-11.4929 375.4229,-6.221 414.5931,-16.4983 438.955,-22.8902 463.6692,-37.486 481.1012,-49.4325\"/>\n<polygon fill=\"#000000\" stroke=\"#000000\" points=\"479.3271,-52.4646 489.5127,-55.3807 483.3687,-46.7492 479.3271,-52.4646\"/>\n<text text-anchor=\"middle\" x=\"394.5931\" y=\"-35.2983\" font-family=\"Times,serif\" font-size=\"14.00\" fill=\"#000000\">c,i→λ</text>\n<text text-anchor=\"middle\" x=\"394.5931\" y=\"-20.2983\" font-family=\"Times,serif\" font-size=\"14.00\" fill=\"#000000\">c,j→λ</text>\n</g>\n<!-- e3&#45;&gt;f -->\n<g id=\"edge12\" class=\"edge\">\n<title>e3&#45;&gt;f</title>\n<path fill=\"none\" stroke=\"#000000\" d=\"M523.193,-74.8931C541.6148,-82.4187 570.4954,-94.2169 592.3882,-103.1605\"/>\n<polygon fill=\"#000000\" stroke=\"#000000\" points=\"591.3118,-106.5015 601.8927,-107.0433 593.9591,-100.0213 591.3118,-106.5015\"/>\n<text text-anchor=\"middle\" x=\"562.5896\" y=\"-102.2983\" font-family=\"Times,serif\" font-size=\"14.00\" fill=\"#000000\">λ,$→λ</text>\n</g>\n<!-- e3&#45;&gt;e3 -->\n<g id=\"edge10\" class=\"edge\">\n<title>e3&#45;&gt;e3</title>\n<path fill=\"none\" stroke=\"#000000\" d=\"M495.5992,-84.8559C493.4898,-95.2314 496.6538,-104.9965 505.0913,-104.9965 510.6285,-104.9965 513.8945,-100.791 514.8894,-94.9674\"/>\n<polygon fill=\"#000000\" stroke=\"#000000\" points=\"518.3844,-94.7454 514.5835,-84.8559 511.3876,-94.9572 518.3844,-94.7454\"/>\n<text text-anchor=\"middle\" x=\"505.0913\" y=\"-123.7965\" font-family=\"Times,serif\" font-size=\"14.00\" fill=\"#000000\">c,i→λ</text>\n<text text-anchor=\"middle\" x=\"505.0913\" y=\"-108.7965\" font-family=\"Times,serif\" font-size=\"14.00\" fill=\"#000000\">c,j→λ</text>\n</g>\n<!-- i&#45;&gt;e0 -->\n<g id=\"edge2\" class=\"edge\">\n<title>i&#45;&gt;e0</title>\n<path fill=\"none\" stroke=\"#000000\" d=\"M76.8355,-107.4983C94.4447,-107.4983 121.4215,-107.4983 142.1782,-107.4983\"/>\n<polygon fill=\"#000000\" stroke=\"#000000\" points=\"142.3831,-110.9984 152.3831,-107.4983 142.383,-103.9984 142.3831,-110.9984\"/>\n<text text-anchor=\"middle\" x=\"114.6\" y=\"-111.2983\" font-family=\"Times,serif\" font-size=\"14.00\" fill=\"#000000\">λ,λ→$</text>\n</g>\n</g>\n</svg>\n"
          },
          "metadata": {},
          "execution_count": 13
        }
      ]
    }
  ]
}