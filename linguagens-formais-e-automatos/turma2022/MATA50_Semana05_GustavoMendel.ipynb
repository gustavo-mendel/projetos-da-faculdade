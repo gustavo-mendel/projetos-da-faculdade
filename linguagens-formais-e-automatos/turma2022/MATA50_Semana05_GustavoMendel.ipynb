{
  "nbformat": 4,
  "nbformat_minor": 0,
  "metadata": {
    "colab": {
      "provenance": [],
      "collapsed_sections": []
    },
    "kernelspec": {
      "name": "python3",
      "display_name": "Python 3"
    },
    "language_info": {
      "name": "python"
    }
  },
  "cells": [
    {
      "cell_type": "code",
      "metadata": {
        "id": "TM_UtFZ-BmZ8",
        "cellView": "form"
      },
      "source": [
        "#@title Implementação dos modelos em Python\n",
        "#@markdown Esta célula contém a implementação em Python 3 dos principais modelos de computação vistos na disciplina de Linguagens Formais e Autômatos. \n",
        "#@markdown Não é necessário conhecer o código aqui implementado ou mesmo ter um conhecimento profundo da linguagem Python. Acompanhe os exemplos e experimente construir seus próprios modelos.\n",
        " \n",
        "#@markdown >*Execute esta célula (`ctrl+enter` ou clicando no botão ao lado) para que o ambiente seja carregado com as classes implementadas.*\n",
        " \n",
        "from graphviz import Digraph\n",
        "import re\n",
        " \n",
        "class AP: \n",
        "    def __init__(self, Q={}, Sigma={}, Gamma={}, delta={}, q0=0, F={}):\n",
        "        self.states = Q\n",
        "        self.inputAlphabet = Sigma\n",
        "        self.stackAlphabet = Gamma\n",
        "        self.transition = delta\n",
        "        self.startState = q0\n",
        "        self.acceptStates = F \n",
        " \n",
        "        self.initialize()\n",
        " \n",
        "    def initialize(self, input_string=\"\"):\n",
        "        self.traces = [[(self.startState,tuple(input_string),())]]\n",
        " \n",
        "    def check(self):\n",
        "        pass\n",
        "        \n",
        "    def hasNext(self):\n",
        "        return self.traces and (not self.acceptTraces())\n",
        "    \n",
        "    def acceptTraces(self):\n",
        "        return [t for t in self.traces if t[-1][1] == () and t[-1][0] in self.acceptStates]\n",
        " \n",
        "    def step(self):\n",
        "        updated_traces = []\n",
        "        for trace in self.traces:\n",
        "          s, string, stack = trace[-1]\n",
        "          A = {'', string[0]} if string else {''}\n",
        "          B = {'', stack[-1]} if stack else {''}\n",
        "          possible_transitions = [(s,a,b) for a in A for b in B if (s,a,b) in self.transition]          \n",
        "          for (s,a,b) in possible_transitions:  \n",
        "            for r,c in self.transition[s,a,b]:\n",
        "              nstring = string[1:] if a else string\n",
        "              nstack  = stack[:-1] if b else stack\n",
        "              nstack  = nstack+(c,) if c else nstack\n",
        "              if (not (r,nstring,nstack) in trace):\n",
        "                updated_traces.append(trace+[(r,nstring,nstack)])\n",
        "        self.traces = updated_traces\n",
        " \n",
        "    def run(self, input_string=0, max_steps=1000):        \n",
        "        while (self.hasNext()): \n",
        "          if max_steps == 0: \n",
        "            raise Exception(\"Timeout\")\n",
        "          self.step()\n",
        "          max_steps -= 1\n",
        "        return self.result()\n",
        " \n",
        "    def aceita(self, input_string=0):\n",
        "        self.initialize(input_string)\n",
        "        return self.run()\n",
        " \n",
        "    def result(self):\n",
        "        return True if self.acceptTraces() else (False if (not self.traces) else None)\n",
        "    \n",
        "    def visualizar(self):      \n",
        "        f = Digraph('finite_state_machine', filename='fsm.gv')\n",
        "        f.attr(rankdir='LR', size='8,5')\n",
        " \n",
        "        f.attr('node', shape='point')\n",
        "        f.node('')\n",
        "        \n",
        "        f.attr('node', shape='doublecircle')\n",
        "        for n in self.acceptStates:\n",
        "          f.node(str(n))\n",
        " \n",
        "        f.attr('node', shape='circle')\n",
        "        for n in self.states.difference(self.acceptStates):\n",
        "          f.node(str(n))\n",
        " \n",
        "        label = {}        \n",
        "        for (q,a,b) in self.transition:\n",
        "          for (r,c) in self.transition[q,a,b]:          \n",
        "            label[q,r] = label[q,r]+[(a,b,c)] if (q,r) in label else [(a,b,c)]\n",
        " \n",
        "        f.edge('', str(self.startState))\n",
        "        for (q,r) in label:\n",
        "          f.edge(str(q),str(r),label=self.graphviz_edge_label_format(label[q,r]))      \n",
        "          pass\n",
        "        \n",
        "        return f\n",
        "    \n",
        "    def graphviz_edge_label_format(self,labels=[]):\n",
        "        epsilon = \"\\u03BB\"\n",
        "        right_arrow = \"\\u2192\"\n",
        "        return '\\n'.join([(a if (a or a==0) else epsilon) + \",\" + (b if (b or b==0) else epsilon) + right_arrow + (c if (c or c==0) else epsilon) for (a,b,c) in labels])\n",
        "        # return '\\n'.join([(str(a) if a else epsilon) + \",\" + (str(b) if b else epsilon) + right_arrow + (str(c) if c else epsilon) for (a,b,c) in labels])\n",
        " \n",
        "class AFN(AP):\n",
        "  def __init__(self, Q={}, Sigma={}, delta={}, q0=0, F={}):\n",
        "        delta_pda = {}\n",
        "        for q,a in delta:\n",
        "          delta_pda[q,a,''] = {(r,'') for r in delta[q,a]}\n",
        "        super().__init__(Q,Sigma,{},delta_pda,q0,F)\n",
        "  \n",
        "  def graphviz_edge_label_format(self,labels):\n",
        "      epsilon = \"\\u03B5\"\n",
        "      return \",\".join([(str(a) if (a or a==0) else epsilon) for (a,b,c) in labels])\n",
        " \n",
        "class AFD(AFN):\n",
        "  def __init__(self, Q={}, Sigma={}, delta={}, q0=0, F={}):\n",
        "        delta_nfa = {}\n",
        "        for (q,a) in delta:\n",
        "          delta_nfa[q,a] = {delta[q,a]}\n",
        "        super().__init__(Q,Sigma,delta_nfa,q0,F)\n",
        " \n",
        "class ER:\n",
        "  def __init__(self,regex=None):  \n",
        "    if (regex == None):\n",
        "      self.regex = None\n",
        "    elif (re.match(\"^[a-zA-Z0-9\\(\\)\\|\\*]*$\", regex)):\n",
        "      self.regex = regex\n",
        "    else:\n",
        "      raise Exception(\"Invalid pattern\")\n",
        " \n",
        "  def gera(self, input_string):\n",
        "    if (self.regex == None):\n",
        "      return False\n",
        "    else:\n",
        "      return True if re.match(\"^\"+self.regex+\"$\",input_string) else False\n",
        " \n",
        "class GLC:\n",
        "  def __init__(self,V,Sigma,R,S):\n",
        "      self.variables = V\n",
        "      self.terminals = Sigma\n",
        "      # self.rules = R\n",
        "      self.rules = {(a, tuple(b)) for (a,b) in R}\n",
        "      self.start = S\n",
        " \n",
        "      self.derivation = []\n",
        "      self.chomsky = None\n",
        "  \n",
        "  def gera(self, string):\n",
        "      if (not self.chomsky):\n",
        "        self.chomsky = self.to_chomsky()        \n",
        "      G = self.chomsky\n",
        "      \n",
        "      if len(string) == 0: return (G.start,()) in G.rules\n",
        " \n",
        "      # CYK Algorithm\n",
        "      n = len(string)\n",
        "      P = [[[] for x in range(n - y)] for y in range(n)]\n",
        "      for i,c in enumerate(string):\n",
        "        for v in [a for (a,b) in G.rules if len(b) == 1 and c in b]:\n",
        "          P[0][i] += [v]\n",
        "      for l in range(2, n+1): # borda da iteração\n",
        "        for s in range(0, n+1-l): # coluna\n",
        "          for p in range(1, l): # linha\n",
        "            for u, v in [(a,b) for (a,b) in G.rules if len(b) == 2]:\n",
        "              if v[0] in P[p-1][s] and v[1] in P[l-p-1][s+p]:\n",
        "                P[l-1][s] += [u]\n",
        "      return G.start in P[-1][0]\n",
        " \n",
        "  def print(self):\n",
        "      rightarrow = \"\\u2192\"\n",
        "      print(self.start,rightarrow, '|'.join([''.join(y) for x,y in self.rules if x == S]))\n",
        "      for v in sorted(self.variables.difference(self.start)): \n",
        "        print(v,rightarrow, '|'.join([''.join(y) for x,y in self.rules if x == v]))\n",
        " \n",
        "  def replace_eps(self, v, l):\n",
        "    if not l: return {()}\n",
        "    result = {(l[0],) + s for s in self.replace_eps(v, tuple(l[1:]))}\n",
        "    if l[0] == v:\n",
        "      result.update({tuple(s[1:]) for s in result})\n",
        "    return result   \n",
        " \n",
        "  def to_chomsky(self):\n",
        "      n_state = 0\n",
        "      \n",
        "      S = '<{}>'.format(n_state)\n",
        "      Sigma = self.terminals \n",
        "      V = {S}.union(self.variables)\n",
        "      R = {(S,(self.start,))}.union(self.rules)\n",
        " \n",
        "      target = {alpha for alpha in self.variables if (alpha,()) in R}\n",
        "      while (target):\n",
        "        for e in target:\n",
        "          rules = {(alpha,beta) for (alpha,beta) in R if e in beta}\n",
        "          for (a,b) in rules:\n",
        "            R.update({(a, beta) for beta in self.replace_eps(e,b)})\n",
        "          R.discard((e,()))\n",
        "        target = {alpha for alpha in self.variables if (alpha,()) in R}\n",
        "      \n",
        "      target = {(a,b) for (a,b) in R if len(b) == 1 and b[0] in V}\n",
        "      while (target):\n",
        "        for u,v in target:\n",
        "          rules = {b for (a,b) in R if a == v[0]}\n",
        "          R.update({(u,b) for b in rules})\n",
        "          R.discard((u,v))\n",
        "        target = {(a,b) for (a,b) in R if len(b) == 1 and b[0] in V}\n",
        "      \n",
        "      target = {(alpha,beta) for (alpha,beta) in R if len(beta) > 2}\n",
        "      while(target):\n",
        "        for u,v in target:\n",
        "          n_state += 1\n",
        "          state = '<{}>'.format(n_state)\n",
        "          V.update({state})\n",
        "          R.update({(u,(v[0],state)),(state, tuple(v[1:]))})\n",
        "          R.discard((u,v))\n",
        "        target = {(alpha,beta) for (alpha,beta) in R if len(beta) > 2}\n",
        " \n",
        "      target = {(alpha,beta) for (alpha,beta) in R if len(beta) == 2}\n",
        "      for u,v in target:\n",
        "        n = list(v)\n",
        "        for i in range(2):\n",
        "          if v[i] in Sigma:\n",
        "            R.discard((u,(n[0],n[1])))\n",
        "            n_state += 1\n",
        "            n[i] = '<{}>'.format(n_state)\n",
        "            V.update({n[i]})\n",
        "            R.update({(u,(n[0],n[1]))})\n",
        "            R.update({(n[i],(v[i],))})\n",
        " \n",
        "      return GLC(V,Sigma,R,S)"
      ],
      "execution_count": 2,
      "outputs": []
    },
    {
      "cell_type": "markdown",
      "metadata": {
        "id": "UDIB4qHrmpy1"
      },
      "source": [
        "# Exercícios"
      ]
    },
    {
      "cell_type": "markdown",
      "metadata": {
        "id": "KsJcO7LUSQKs"
      },
      "source": [
        "**Construa autômatos com a menor quantidade de estados possíveis. Considere que o símbolo na posicao 1 de uma palavra é o primeiro símbolo desta, o símbolo na posicao 2 é o segundo, e assim por diante.**"
      ]
    },
    {
      "cell_type": "markdown",
      "metadata": {
        "id": "n2thSPkMSTwS"
      },
      "source": [
        "1. Construa um AFD para a seguinte linguagem sobre o alfabeto $\\Sigma = \\{0, 1\\}$: O conjunto das palavras em que o símbolo na posicao $2i$ difere do símbolo na posicao $2 i + 2$ , para $i  \\geq  1$."
      ]
    },
    {
      "cell_type": "code",
      "source": [
        "Q = {'P', 't1', '2i', '2i+1', '2i+2', '2j', '2j+1', '2j+2'}\n",
        "Sigma = {'0','1'}\n",
        "delta = {\n",
        "    ('t0', '0'): 't1',\n",
        "    ('t0', '1'): 't1',\n",
        "    ('t1', '0'): '2i',\n",
        "    ('2i', '0'): '2i+1',\n",
        "    ('2i', '1'): '2i+1',\n",
        "    ('2i+1', '1'): '2i+2',\n",
        "    ('2i+2', '0'): '2j+1',\n",
        "    ('2i+2', '1'): '2j+1',\n",
        "    ('t1', '1'): '2j',\n",
        "    ('2j', '0'): '2j+1',\n",
        "    ('2j', '1'): '2j+1',\n",
        "    ('2j+1', '0'): '2j+2',\n",
        "    ('2j+2', '0'): '2i+1',\n",
        "    ('2j+2', '1'): '2i+1',\n",
        "}\n",
        "q0 = 'P'\n",
        "F = {'P', 't1', '2i', '2i+1', '2i+2', '2j', '2j+1', '2j+2'}\n",
        " \n",
        "M = AFD(Q,Sigma,delta,q0,F)\n",
        "print(M.aceita(\"011001\"))\n",
        "M.visualizar()"
      ],
      "metadata": {
        "id": "ycLnU4vSI2Us",
        "colab": {
          "base_uri": "https://localhost:8080/",
          "height": 191
        },
        "outputId": "367aa5e5-2a2e-48e5-e3f8-6495de37e868"
      },
      "execution_count": null,
      "outputs": [
        {
          "output_type": "stream",
          "name": "stdout",
          "text": [
            "True\n"
          ]
        },
        {
          "output_type": "execute_result",
          "data": {
            "text/plain": [
              "<graphviz.dot.Digraph at 0x7f982df4a590>"
            ],
            "image/svg+xml": "<?xml version=\"1.0\" encoding=\"UTF-8\" standalone=\"no\"?>\n<!DOCTYPE svg PUBLIC \"-//W3C//DTD SVG 1.1//EN\"\n \"http://www.w3.org/Graphics/SVG/1.1/DTD/svg11.dtd\">\n<!-- Generated by graphviz version 2.40.1 (20161225.0304)\n -->\n<!-- Title: finite_state_machine Pages: 1 -->\n<svg width=\"576pt\" height=\"114pt\"\n viewBox=\"0.00 0.00 576.00 114.46\" xmlns=\"http://www.w3.org/2000/svg\" xmlns:xlink=\"http://www.w3.org/1999/xlink\">\n<g id=\"graph0\" class=\"graph\" transform=\"scale(.7423 .7423) rotate(0) translate(4 150.1984)\">\n<title>finite_state_machine</title>\n<polygon fill=\"#ffffff\" stroke=\"transparent\" points=\"-4,4 -4,-150.1984 771.9668,-150.1984 771.9668,4 -4,4\"/>\n<g id=\"node1\" class=\"node\">\n<title></title>\n<ellipse fill=\"#000000\" stroke=\"#000000\" cx=\"1.8\" cy=\"-46.1984\" rx=\"1.8\" ry=\"1.8\"/>\n</g>\n<!-- t0 -->\n<g id=\"node9\" class=\"node\">\n<title>t0</title>\n<ellipse fill=\"none\" stroke=\"#000000\" cx=\"62.7984\" cy=\"-46.1984\" rx=\"18.3625\" ry=\"18.3625\"/>\n<ellipse fill=\"none\" stroke=\"#000000\" cx=\"62.7984\" cy=\"-46.1984\" rx=\"22.3986\" ry=\"22.3986\"/>\n<text text-anchor=\"middle\" x=\"62.7984\" y=\"-42.4984\" font-family=\"Times,serif\" font-size=\"14.00\" fill=\"#000000\">t0</text>\n</g>\n<!-- &#45;&gt;t0 -->\n<g id=\"edge1\" class=\"edge\">\n<title>&#45;&gt;t0</title>\n<path fill=\"none\" stroke=\"#000000\" d=\"M3.8295,-46.1984C8.1978,-46.1984 19.005,-46.1984 30.192,-46.1984\"/>\n<polygon fill=\"#000000\" stroke=\"#000000\" points=\"30.3988,-49.6985 40.3988,-46.1984 30.3987,-42.6985 30.3988,-49.6985\"/>\n</g>\n<!-- 2i+1 -->\n<g id=\"node2\" class=\"node\">\n<title>2i+1</title>\n<ellipse fill=\"none\" stroke=\"#000000\" cx=\"626.1744\" cy=\"-80.1984\" rx=\"28.6832\" ry=\"28.6832\"/>\n<ellipse fill=\"none\" stroke=\"#000000\" cx=\"626.1744\" cy=\"-80.1984\" rx=\"32.6952\" ry=\"32.6952\"/>\n<text text-anchor=\"middle\" x=\"626.1744\" y=\"-76.4984\" font-family=\"Times,serif\" font-size=\"14.00\" fill=\"#000000\">2i+1</text>\n</g>\n<!-- 2i+2 -->\n<g id=\"node7\" class=\"node\">\n<title>2i+2</title>\n<ellipse fill=\"none\" stroke=\"#000000\" cx=\"735.3693\" cy=\"-111.1984\" rx=\"28.6832\" ry=\"28.6832\"/>\n<ellipse fill=\"none\" stroke=\"#000000\" cx=\"735.3693\" cy=\"-111.1984\" rx=\"32.6952\" ry=\"32.6952\"/>\n<text text-anchor=\"middle\" x=\"735.3693\" y=\"-107.4984\" font-family=\"Times,serif\" font-size=\"14.00\" fill=\"#000000\">2i+2</text>\n</g>\n<!-- 2i+1&#45;&gt;2i+2 -->\n<g id=\"edge5\" class=\"edge\">\n<title>2i+1&#45;&gt;2i+2</title>\n<path fill=\"none\" stroke=\"#000000\" d=\"M657.7581,-89.1649C669.0761,-92.378 682.0091,-96.0496 694.0296,-99.4622\"/>\n<polygon fill=\"#000000\" stroke=\"#000000\" points=\"693.2809,-102.8879 703.8566,-102.2521 695.1926,-96.154 693.2809,-102.8879\"/>\n<text text-anchor=\"middle\" x=\"680.7719\" y=\"-99.9984\" font-family=\"Times,serif\" font-size=\"14.00\" fill=\"#000000\">1</text>\n</g>\n<!-- t1 -->\n<g id=\"node3\" class=\"node\">\n<title>t1</title>\n<ellipse fill=\"none\" stroke=\"#000000\" cx=\"162.1952\" cy=\"-46.1984\" rx=\"18.3625\" ry=\"18.3625\"/>\n<ellipse fill=\"none\" stroke=\"#000000\" cx=\"162.1952\" cy=\"-46.1984\" rx=\"22.3986\" ry=\"22.3986\"/>\n<text text-anchor=\"middle\" x=\"162.1952\" y=\"-42.4984\" font-family=\"Times,serif\" font-size=\"14.00\" fill=\"#000000\">t1</text>\n</g>\n<!-- 2j -->\n<g id=\"node4\" class=\"node\">\n<title>2j</title>\n<ellipse fill=\"none\" stroke=\"#000000\" cx=\"250.5919\" cy=\"-78.1984\" rx=\"18.3625\" ry=\"18.3625\"/>\n<ellipse fill=\"none\" stroke=\"#000000\" cx=\"250.5919\" cy=\"-78.1984\" rx=\"22.3986\" ry=\"22.3986\"/>\n<text text-anchor=\"middle\" x=\"250.5919\" y=\"-74.4984\" font-family=\"Times,serif\" font-size=\"14.00\" fill=\"#000000\">2j</text>\n</g>\n<!-- t1&#45;&gt;2j -->\n<g id=\"edge7\" class=\"edge\">\n<title>t1&#45;&gt;2j</title>\n<path fill=\"none\" stroke=\"#000000\" d=\"M183.144,-53.7819C194.0729,-57.7383 207.6532,-62.6544 219.7574,-67.0362\"/>\n<polygon fill=\"#000000\" stroke=\"#000000\" points=\"218.8929,-70.4454 229.4872,-70.5584 221.2757,-63.8634 218.8929,-70.4454\"/>\n<text text-anchor=\"middle\" x=\"206.3935\" y=\"-66.9984\" font-family=\"Times,serif\" font-size=\"14.00\" fill=\"#000000\">1</text>\n</g>\n<!-- 2i -->\n<g id=\"node5\" class=\"node\">\n<title>2i</title>\n<ellipse fill=\"none\" stroke=\"#000000\" cx=\"312.9887\" cy=\"-22.1984\" rx=\"18.3625\" ry=\"18.3625\"/>\n<ellipse fill=\"none\" stroke=\"#000000\" cx=\"312.9887\" cy=\"-22.1984\" rx=\"22.3986\" ry=\"22.3986\"/>\n<text text-anchor=\"middle\" x=\"312.9887\" y=\"-18.4984\" font-family=\"Times,serif\" font-size=\"14.00\" fill=\"#000000\">2i</text>\n</g>\n<!-- t1&#45;&gt;2i -->\n<g id=\"edge3\" class=\"edge\">\n<title>t1&#45;&gt;2i</title>\n<path fill=\"none\" stroke=\"#000000\" d=\"M184.1218,-42.7086C209.5843,-38.656 251.8093,-31.9356 280.9477,-27.298\"/>\n<polygon fill=\"#000000\" stroke=\"#000000\" points=\"281.71,-30.7208 291.0356,-25.6924 280.6097,-23.8078 281.71,-30.7208\"/>\n<text text-anchor=\"middle\" x=\"206.3935\" y=\"-43.9984\" font-family=\"Times,serif\" font-size=\"14.00\" fill=\"#000000\">0</text>\n</g>\n<!-- 2j+1 -->\n<g id=\"node6\" class=\"node\">\n<title>2j+1</title>\n<ellipse fill=\"none\" stroke=\"#000000\" cx=\"385.7845\" cy=\"-80.1984\" rx=\"28.6832\" ry=\"28.6832\"/>\n<ellipse fill=\"none\" stroke=\"#000000\" cx=\"385.7845\" cy=\"-80.1984\" rx=\"32.6952\" ry=\"32.6952\"/>\n<text text-anchor=\"middle\" x=\"385.7845\" y=\"-76.4984\" font-family=\"Times,serif\" font-size=\"14.00\" fill=\"#000000\">2j+1</text>\n</g>\n<!-- 2j&#45;&gt;2j+1 -->\n<g id=\"edge8\" class=\"edge\">\n<title>2j&#45;&gt;2j+1</title>\n<path fill=\"none\" stroke=\"#000000\" d=\"M272.9162,-78.5286C291.8419,-78.8086 319.5301,-79.2182 342.7457,-79.5617\"/>\n<polygon fill=\"#000000\" stroke=\"#000000\" points=\"342.9994,-83.0657 353.0501,-79.7141 343.103,-76.0665 342.9994,-83.0657\"/>\n<text text-anchor=\"middle\" x=\"312.9887\" y=\"-83.9984\" font-family=\"Times,serif\" font-size=\"14.00\" fill=\"#000000\">0,1</text>\n</g>\n<!-- 2i&#45;&gt;2i+1 -->\n<g id=\"edge4\" class=\"edge\">\n<title>2i&#45;&gt;2i+1</title>\n<path fill=\"none\" stroke=\"#000000\" d=\"M335.213,-21.0552C376.1895,-19.5405 466.0848,-18.9957 538.5769,-38.1984 555.8584,-42.7761 573.8471,-50.7638 588.9944,-58.5526\"/>\n<polygon fill=\"#000000\" stroke=\"#000000\" points=\"587.5527,-61.7497 598.0268,-63.3443 590.8332,-55.566 587.5527,-61.7497\"/>\n<text text-anchor=\"middle\" x=\"445.882\" y=\"-27.9984\" font-family=\"Times,serif\" font-size=\"14.00\" fill=\"#000000\">0,1</text>\n</g>\n<!-- 2j+2 -->\n<g id=\"node8\" class=\"node\">\n<title>2j+2</title>\n<ellipse fill=\"none\" stroke=\"#000000\" cx=\"505.9795\" cy=\"-80.1984\" rx=\"28.6832\" ry=\"28.6832\"/>\n<ellipse fill=\"none\" stroke=\"#000000\" cx=\"505.9795\" cy=\"-80.1984\" rx=\"32.6952\" ry=\"32.6952\"/>\n<text text-anchor=\"middle\" x=\"505.9795\" y=\"-76.4984\" font-family=\"Times,serif\" font-size=\"14.00\" fill=\"#000000\">2j+2</text>\n</g>\n<!-- 2j+1&#45;&gt;2j+2 -->\n<g id=\"edge9\" class=\"edge\">\n<title>2j+1&#45;&gt;2j+2</title>\n<path fill=\"none\" stroke=\"#000000\" d=\"M418.6283,-80.1984C432.2756,-80.1984 448.3017,-80.1984 462.8751,-80.1984\"/>\n<polygon fill=\"#000000\" stroke=\"#000000\" points=\"463.1754,-83.6985 473.1754,-80.1984 463.1754,-76.6985 463.1754,-83.6985\"/>\n<text text-anchor=\"middle\" x=\"445.882\" y=\"-83.9984\" font-family=\"Times,serif\" font-size=\"14.00\" fill=\"#000000\">0</text>\n</g>\n<!-- 2i+2&#45;&gt;2j+1 -->\n<g id=\"edge6\" class=\"edge\">\n<title>2i+2&#45;&gt;2j+1</title>\n<path fill=\"none\" stroke=\"#000000\" d=\"M703.426,-117.8769C653.5879,-127.1101 554.618,-140.6668 473.382,-122.1984 455.9493,-118.2352 437.9347,-110.3532 422.8088,-102.4772\"/>\n<polygon fill=\"#000000\" stroke=\"#000000\" points=\"424.2572,-99.2816 413.7952,-97.6091 420.9307,-105.4407 424.2572,-99.2816\"/>\n<text text-anchor=\"middle\" x=\"566.0769\" y=\"-134.9984\" font-family=\"Times,serif\" font-size=\"14.00\" fill=\"#000000\">0,1</text>\n</g>\n<!-- 2j+2&#45;&gt;2i+1 -->\n<g id=\"edge10\" class=\"edge\">\n<title>2j+2&#45;&gt;2i+1</title>\n<path fill=\"none\" stroke=\"#000000\" d=\"M538.8233,-80.1984C552.4705,-80.1984 568.4966,-80.1984 583.0701,-80.1984\"/>\n<polygon fill=\"#000000\" stroke=\"#000000\" points=\"583.3703,-83.6985 593.3703,-80.1984 583.3703,-76.6985 583.3703,-83.6985\"/>\n<text text-anchor=\"middle\" x=\"566.0769\" y=\"-83.9984\" font-family=\"Times,serif\" font-size=\"14.00\" fill=\"#000000\">0,1</text>\n</g>\n<!-- t0&#45;&gt;t1 -->\n<g id=\"edge2\" class=\"edge\">\n<title>t0&#45;&gt;t1</title>\n<path fill=\"none\" stroke=\"#000000\" d=\"M85.3531,-46.1984C98.4428,-46.1984 115.1565,-46.1984 129.6511,-46.1984\"/>\n<polygon fill=\"#000000\" stroke=\"#000000\" points=\"129.7298,-49.6985 139.7297,-46.1984 129.7297,-42.6985 129.7298,-49.6985\"/>\n<text text-anchor=\"middle\" x=\"112.4968\" y=\"-49.9984\" font-family=\"Times,serif\" font-size=\"14.00\" fill=\"#000000\">0,1</text>\n</g>\n</g>\n</svg>\n"
          },
          "metadata": {},
          "execution_count": 7
        }
      ]
    },
    {
      "cell_type": "markdown",
      "metadata": {
        "id": "KtD1cERXTjzK"
      },
      "source": [
        "2. Construa um AFD para a seguinte linguagem sobre o alfabeto $\\Sigma = \\{0, 1\\}$: O conjunto das palavras em que o símbolo na posicao $2i  -  1$ difere do símbolo na posicao $2i$, para $i  \\geq  1$."
      ]
    },
    {
      "cell_type": "code",
      "source": [
        "Q = {'P', '2i-1', '2i', '2j-1', '2j'}\n",
        "Sigma = {'0','1'}\n",
        "delta = {\n",
        "    ('P', '0'): '2i-1',\n",
        "    ('2i-1', '1'): '2i',\n",
        "    ('2i', '0'): '2i-1',\n",
        "    ('2i', '1'): '2j-1',\n",
        "    ('P', '1'): '2j-1',\n",
        "    ('2j-1', '0'): '2j',\n",
        "    ('2j', '0'): '2i-1',\n",
        "    ('2j', '1'): '2j-1',\n",
        "}\n",
        "q0 = 'P'\n",
        "F = {'P', '2i-1', '2i', '2j-1', '2j'}\n",
        " \n",
        "M = AFD(Q,Sigma,delta,q0,F)\n",
        "print(M.aceita(\"01101001\"))\n",
        "print(M.aceita(\"00011011\"))\n",
        "M.visualizar()"
      ],
      "metadata": {
        "colab": {
          "base_uri": "https://localhost:8080/",
          "height": 208
        },
        "id": "hKZMduzntdDr",
        "outputId": "a61bdcc8-f611-4adf-fe51-e0e8075e40f2"
      },
      "execution_count": 5,
      "outputs": [
        {
          "output_type": "stream",
          "name": "stdout",
          "text": [
            "True\n",
            "False\n"
          ]
        },
        {
          "output_type": "execute_result",
          "data": {
            "text/plain": [
              "<graphviz.dot.Digraph at 0x7f40ebaac250>"
            ],
            "image/svg+xml": "<?xml version=\"1.0\" encoding=\"UTF-8\" standalone=\"no\"?>\n<!DOCTYPE svg PUBLIC \"-//W3C//DTD SVG 1.1//EN\"\n \"http://www.w3.org/Graphics/SVG/1.1/DTD/svg11.dtd\">\n<!-- Generated by graphviz version 2.40.1 (20161225.0304)\n -->\n<!-- Title: finite_state_machine Pages: 1 -->\n<svg width=\"477pt\" height=\"114pt\"\n viewBox=\"0.00 0.00 477.38 114.00\" xmlns=\"http://www.w3.org/2000/svg\" xmlns:xlink=\"http://www.w3.org/1999/xlink\">\n<g id=\"graph0\" class=\"graph\" transform=\"scale(1 1) rotate(0) translate(4 110)\">\n<title>finite_state_machine</title>\n<polygon fill=\"#ffffff\" stroke=\"transparent\" points=\"-4,4 -4,-110 473.3843,-110 473.3843,4 -4,4\"/>\n<g id=\"node1\" class=\"node\">\n<title></title>\n<ellipse fill=\"#000000\" stroke=\"#000000\" cx=\"1.8\" cy=\"-22\" rx=\"1.8\" ry=\"1.8\"/>\n</g>\n<!-- P -->\n<g id=\"node5\" class=\"node\">\n<title>P</title>\n<ellipse fill=\"none\" stroke=\"#000000\" cx=\"62.6\" cy=\"-22\" rx=\"18\" ry=\"18\"/>\n<ellipse fill=\"none\" stroke=\"#000000\" cx=\"62.6\" cy=\"-22\" rx=\"22\" ry=\"22\"/>\n<text text-anchor=\"middle\" x=\"62.6\" y=\"-18.3\" font-family=\"Times,serif\" font-size=\"14.00\" fill=\"#000000\">P</text>\n</g>\n<!-- &#45;&gt;P -->\n<g id=\"edge1\" class=\"edge\">\n<title>&#45;&gt;P</title>\n<path fill=\"none\" stroke=\"#000000\" d=\"M3.8229,-22C8.2086,-22 19.1055,-22 30.3421,-22\"/>\n<polygon fill=\"#000000\" stroke=\"#000000\" points=\"30.58,-25.5001 40.58,-22 30.5799,-18.5001 30.58,-25.5001\"/>\n</g>\n<!-- 2i -->\n<g id=\"node2\" class=\"node\">\n<title>2i</title>\n<ellipse fill=\"none\" stroke=\"#000000\" cx=\"447.1859\" cy=\"-82\" rx=\"18.3625\" ry=\"18.3625\"/>\n<ellipse fill=\"none\" stroke=\"#000000\" cx=\"447.1859\" cy=\"-82\" rx=\"22.3986\" ry=\"22.3986\"/>\n<text text-anchor=\"middle\" x=\"447.1859\" y=\"-78.3\" font-family=\"Times,serif\" font-size=\"14.00\" fill=\"#000000\">2i</text>\n</g>\n<!-- 2j&#45;1 -->\n<g id=\"node4\" class=\"node\">\n<title>2j&#45;1</title>\n<ellipse fill=\"none\" stroke=\"#000000\" cx=\"158.5977\" cy=\"-73\" rx=\"25.9957\" ry=\"25.9957\"/>\n<ellipse fill=\"none\" stroke=\"#000000\" cx=\"158.5977\" cy=\"-73\" rx=\"29.9954\" ry=\"29.9954\"/>\n<text text-anchor=\"middle\" x=\"158.5977\" y=\"-69.3\" font-family=\"Times,serif\" font-size=\"14.00\" fill=\"#000000\">2j&#45;1</text>\n</g>\n<!-- 2i&#45;&gt;2j&#45;1 -->\n<g id=\"edge5\" class=\"edge\">\n<title>2i&#45;&gt;2j&#45;1</title>\n<path fill=\"none\" stroke=\"#000000\" d=\"M424.8548,-84.6067C412.0388,-85.9565 395.6324,-87.4376 380.9875,-88 303.5052,-90.9757 282.8956,-96.8076 206.5954,-83 203.7685,-82.4884 200.8528,-81.938 197.9208,-81.3677\"/>\n<polygon fill=\"#000000\" stroke=\"#000000\" points=\"198.4872,-77.9117 187.9947,-79.3806 197.1131,-84.7755 198.4872,-77.9117\"/>\n<text text-anchor=\"middle\" x=\"298.9922\" y=\"-94.8\" font-family=\"Times,serif\" font-size=\"14.00\" fill=\"#000000\">1</text>\n</g>\n<!-- 2i&#45;1 -->\n<g id=\"node6\" class=\"node\">\n<title>2i&#45;1</title>\n<ellipse fill=\"none\" stroke=\"#000000\" cx=\"350.9899\" cy=\"-49\" rx=\"25.9957\" ry=\"25.9957\"/>\n<ellipse fill=\"none\" stroke=\"#000000\" cx=\"350.9899\" cy=\"-49\" rx=\"29.9954\" ry=\"29.9954\"/>\n<text text-anchor=\"middle\" x=\"350.9899\" y=\"-45.3\" font-family=\"Times,serif\" font-size=\"14.00\" fill=\"#000000\">2i&#45;1</text>\n</g>\n<!-- 2i&#45;&gt;2i&#45;1 -->\n<g id=\"edge4\" class=\"edge\">\n<title>2i&#45;&gt;2i&#45;1</title>\n<path fill=\"none\" stroke=\"#000000\" d=\"M433.0103,-64.5791C426.0259,-57.3701 416.9633,-49.814 406.9875,-46 401.8155,-44.0226 396.1775,-43.0719 390.5361,-42.7893\"/>\n<polygon fill=\"#000000\" stroke=\"#000000\" points=\"390.4294,-39.2903 380.4774,-42.9247 390.5237,-46.2897 390.4294,-39.2903\"/>\n<text text-anchor=\"middle\" x=\"402.9875\" y=\"-49.8\" font-family=\"Times,serif\" font-size=\"14.00\" fill=\"#000000\">0</text>\n</g>\n<!-- 2j -->\n<g id=\"node3\" class=\"node\">\n<title>2j</title>\n<ellipse fill=\"none\" stroke=\"#000000\" cx=\"254.7938\" cy=\"-56\" rx=\"18.3625\" ry=\"18.3625\"/>\n<ellipse fill=\"none\" stroke=\"#000000\" cx=\"254.7938\" cy=\"-56\" rx=\"22.3986\" ry=\"22.3986\"/>\n<text text-anchor=\"middle\" x=\"254.7938\" y=\"-52.3\" font-family=\"Times,serif\" font-size=\"14.00\" fill=\"#000000\">2j</text>\n</g>\n<!-- 2j&#45;&gt;2j&#45;1 -->\n<g id=\"edge9\" class=\"edge\">\n<title>2j&#45;&gt;2j&#45;1</title>\n<path fill=\"none\" stroke=\"#000000\" d=\"M234.5607,-46.2583C225.9167,-43.3115 215.7328,-41.4539 206.5954,-44 201.5661,-45.4014 196.5378,-47.4881 191.7306,-49.9116\"/>\n<polygon fill=\"#000000\" stroke=\"#000000\" points=\"189.8371,-46.9604 182.8168,-54.8955 193.2533,-53.0702 189.8371,-46.9604\"/>\n<text text-anchor=\"middle\" x=\"210.5954\" y=\"-47.8\" font-family=\"Times,serif\" font-size=\"14.00\" fill=\"#000000\">1</text>\n</g>\n<!-- 2j&#45;&gt;2i&#45;1 -->\n<g id=\"edge8\" class=\"edge\">\n<title>2j&#45;&gt;2i&#45;1</title>\n<path fill=\"none\" stroke=\"#000000\" d=\"M277.1049,-54.3765C287.0485,-53.6529 299.0798,-52.7774 310.5202,-51.9449\"/>\n<polygon fill=\"#000000\" stroke=\"#000000\" points=\"311.0642,-55.4147 320.7838,-51.198 310.5561,-48.4331 311.0642,-55.4147\"/>\n<text text-anchor=\"middle\" x=\"298.9922\" y=\"-55.8\" font-family=\"Times,serif\" font-size=\"14.00\" fill=\"#000000\">0</text>\n</g>\n<!-- 2j&#45;1&#45;&gt;2j -->\n<g id=\"edge7\" class=\"edge\">\n<title>2j&#45;1&#45;&gt;2j</title>\n<path fill=\"none\" stroke=\"#000000\" d=\"M188.2446,-67.7607C199.1216,-65.8385 211.4825,-63.6541 222.5743,-61.6939\"/>\n<polygon fill=\"#000000\" stroke=\"#000000\" points=\"223.4918,-65.0861 232.7301,-59.8991 222.2736,-58.1929 223.4918,-65.0861\"/>\n<text text-anchor=\"middle\" x=\"210.5954\" y=\"-67.8\" font-family=\"Times,serif\" font-size=\"14.00\" fill=\"#000000\">0</text>\n</g>\n<!-- P&#45;&gt;2j&#45;1 -->\n<g id=\"edge6\" class=\"edge\">\n<title>P&#45;&gt;2j&#45;1</title>\n<path fill=\"none\" stroke=\"#000000\" d=\"M82.4908,-32.5672C94.0923,-38.7307 109.0765,-46.6913 122.677,-53.9167\"/>\n<polygon fill=\"#000000\" stroke=\"#000000\" points=\"121.3399,-57.1696 131.8131,-58.7704 124.6241,-50.9878 121.3399,-57.1696\"/>\n<text text-anchor=\"middle\" x=\"106.6\" y=\"-50.8\" font-family=\"Times,serif\" font-size=\"14.00\" fill=\"#000000\">1</text>\n</g>\n<!-- P&#45;&gt;2i&#45;1 -->\n<g id=\"edge2\" class=\"edge\">\n<title>P&#45;&gt;2i&#45;1</title>\n<path fill=\"none\" stroke=\"#000000\" d=\"M84.7075,-20.1368C123.8088,-17.3223 207.5914,-13.4561 276.9922,-25 289.0481,-27.0053 301.8269,-30.5918 313.3113,-34.391\"/>\n<polygon fill=\"#000000\" stroke=\"#000000\" points=\"312.4248,-37.7878 323.0196,-37.7501 314.7137,-31.1726 312.4248,-37.7878\"/>\n<text text-anchor=\"middle\" x=\"210.5954\" y=\"-22.8\" font-family=\"Times,serif\" font-size=\"14.00\" fill=\"#000000\">0</text>\n</g>\n<!-- 2i&#45;1&#45;&gt;2i -->\n<g id=\"edge3\" class=\"edge\">\n<title>2i&#45;1&#45;&gt;2i</title>\n<path fill=\"none\" stroke=\"#000000\" d=\"M379.5914,-58.8117C391.2737,-62.8193 404.8031,-67.4606 416.6748,-71.5332\"/>\n<polygon fill=\"#000000\" stroke=\"#000000\" points=\"415.5856,-74.8597 426.1802,-74.794 417.8571,-68.2385 415.5856,-74.8597\"/>\n<text text-anchor=\"middle\" x=\"402.9875\" y=\"-70.8\" font-family=\"Times,serif\" font-size=\"14.00\" fill=\"#000000\">1</text>\n</g>\n</g>\n</svg>\n"
          },
          "metadata": {},
          "execution_count": 5
        }
      ]
    },
    {
      "cell_type": "markdown",
      "metadata": {
        "id": "Wh0on_vFQ0iu"
      },
      "source": [
        "3. Construa um AFD para a seguinte linguagem sobre o alfabeto $\\Sigma = \\{0, 1\\}$: O conjunto das palavras em que o símbolo na posicao $i$ difere do símbolo na posicao $i + 2$ , para $i  \\geq  1$."
      ]
    },
    {
      "cell_type": "markdown",
      "metadata": {
        "id": "IgRItL6aQ1Zp"
      },
      "source": [
        "4. Construa um AFD para a seguinte linguagem sobre o alfabeto $\\Sigma = \\{0, 1\\}$: O conjunto das palavras com numero ímpar de 0’s nas posicoes ímpares e numero par de 0’s nas posicoes pares."
      ]
    },
    {
      "cell_type": "markdown",
      "metadata": {
        "id": "XxI3X5Z4Q1nI"
      },
      "source": [
        "5. Construa um AFD para a seguinte linguagem sobre o alfabeto $\\Sigma = \\{0, 1\\}$: O conjunto das palavras de tamanho par com 1’s nas posicoes pares, unido ao conjunto das palavras de tamanho ímpar com 1’s nas posicoes ímpares."
      ]
    },
    {
      "cell_type": "markdown",
      "metadata": {
        "id": "r6vEMro0Csdk"
      },
      "source": [
        "6. Construa um AFD sobre $\\Sigma = \\{a, b\\}$ que reconheça o conjunto das palavras com no mínimo um a ou um b.\n"
      ]
    },
    {
      "cell_type": "code",
      "source": [
        "Q = {'P', 'F'}\n",
        "Sigma = {'a','b'}\n",
        "delta = {\n",
        "  ('P','a'): 'F',\n",
        "  ('P','b'): 'F',\n",
        "  ('F','a'): 'F',\n",
        "  ('F','b'): 'F',\n",
        "}\n",
        "q0 = 'P'\n",
        "F = {'F'}\n",
        " \n",
        "M = AFD(Q,Sigma,delta,q0,F)\n",
        "print(M.aceita(\"\"))\n",
        "print(M.aceita(\"a\"))\n",
        "print(M.aceita(\"b\"))\n",
        "print(M.aceita(\"ab\"))\n",
        "print(M.aceita(\"ababababa\"))\n",
        "M.visualizar()"
      ],
      "metadata": {
        "colab": {
          "base_uri": "https://localhost:8080/",
          "height": 221
        },
        "id": "qzXGlekQOE2B",
        "outputId": "1989b2f0-3dea-4371-ca34-f98a38e7b71d"
      },
      "execution_count": null,
      "outputs": [
        {
          "output_type": "stream",
          "name": "stdout",
          "text": [
            "False\n",
            "True\n",
            "True\n",
            "True\n",
            "True\n"
          ]
        },
        {
          "output_type": "execute_result",
          "data": {
            "text/plain": [
              "<graphviz.dot.Digraph at 0x7f982d50e190>"
            ],
            "image/svg+xml": "<?xml version=\"1.0\" encoding=\"UTF-8\" standalone=\"no\"?>\n<!DOCTYPE svg PUBLIC \"-//W3C//DTD SVG 1.1//EN\"\n \"http://www.w3.org/Graphics/SVG/1.1/DTD/svg11.dtd\">\n<!-- Generated by graphviz version 2.40.1 (20161225.0304)\n -->\n<!-- Title: finite_state_machine Pages: 1 -->\n<svg width=\"183pt\" height=\"85pt\"\n viewBox=\"0.00 0.00 182.60 85.00\" xmlns=\"http://www.w3.org/2000/svg\" xmlns:xlink=\"http://www.w3.org/1999/xlink\">\n<g id=\"graph0\" class=\"graph\" transform=\"scale(1 1) rotate(0) translate(4 81)\">\n<title>finite_state_machine</title>\n<polygon fill=\"#ffffff\" stroke=\"transparent\" points=\"-4,4 -4,-81 178.6,-81 178.6,4 -4,4\"/>\n<g id=\"node1\" class=\"node\">\n<title></title>\n<ellipse fill=\"#000000\" stroke=\"#000000\" cx=\"1.8\" cy=\"-22\" rx=\"1.8\" ry=\"1.8\"/>\n</g>\n<!-- P -->\n<g id=\"node3\" class=\"node\">\n<title>P</title>\n<ellipse fill=\"none\" stroke=\"#000000\" cx=\"58.6\" cy=\"-22\" rx=\"18\" ry=\"18\"/>\n<text text-anchor=\"middle\" x=\"58.6\" y=\"-18.3\" font-family=\"Times,serif\" font-size=\"14.00\" fill=\"#000000\">P</text>\n</g>\n<!-- &#45;&gt;P -->\n<g id=\"edge1\" class=\"edge\">\n<title>&#45;&gt;P</title>\n<path fill=\"none\" stroke=\"#000000\" d=\"M3.6898,-22C8.0522,-22 19.3107,-22 30.5058,-22\"/>\n<polygon fill=\"#000000\" stroke=\"#000000\" points=\"30.5696,-25.5001 40.5696,-22 30.5696,-18.5001 30.5696,-25.5001\"/>\n</g>\n<!-- F -->\n<g id=\"node2\" class=\"node\">\n<title>F</title>\n<ellipse fill=\"none\" stroke=\"#000000\" cx=\"152.6\" cy=\"-22\" rx=\"18\" ry=\"18\"/>\n<ellipse fill=\"none\" stroke=\"#000000\" cx=\"152.6\" cy=\"-22\" rx=\"22\" ry=\"22\"/>\n<text text-anchor=\"middle\" x=\"152.6\" y=\"-18.3\" font-family=\"Times,serif\" font-size=\"14.00\" fill=\"#000000\">F</text>\n</g>\n<!-- F&#45;&gt;F -->\n<g id=\"edge3\" class=\"edge\">\n<title>F&#45;&gt;F</title>\n<path fill=\"none\" stroke=\"#000000\" d=\"M143.8659,-42.5808C142.6574,-52.8447 145.5688,-62 152.6,-62 157.1044,-62 159.918,-58.2427 161.0408,-52.8436\"/>\n<polygon fill=\"#000000\" stroke=\"#000000\" points=\"164.5469,-52.6768 161.3341,-42.5808 157.5498,-52.4767 164.5469,-52.6768\"/>\n<text text-anchor=\"middle\" x=\"152.6\" y=\"-65.8\" font-family=\"Times,serif\" font-size=\"14.00\" fill=\"#000000\">a,b</text>\n</g>\n<!-- P&#45;&gt;F -->\n<g id=\"edge2\" class=\"edge\">\n<title>P&#45;&gt;F</title>\n<path fill=\"none\" stroke=\"#000000\" d=\"M76.7241,-22C89.0881,-22 105.8047,-22 120.4005,-22\"/>\n<polygon fill=\"#000000\" stroke=\"#000000\" points=\"120.5612,-25.5001 130.5612,-22 120.5611,-18.5001 120.5612,-25.5001\"/>\n<text text-anchor=\"middle\" x=\"103.6\" y=\"-25.8\" font-family=\"Times,serif\" font-size=\"14.00\" fill=\"#000000\">a,b</text>\n</g>\n</g>\n</svg>\n"
          },
          "metadata": {},
          "execution_count": 4
        }
      ]
    },
    {
      "cell_type": "markdown",
      "metadata": {
        "id": "jfDkYzQMUljV"
      },
      "source": [
        "7. Construa um AFD sobre $\\Sigma = \\{a, b\\}$ que reconheça o conjunto das palavras com quantidade par de $a$'s ou ímpar de $b$'s (mas não ambos). "
      ]
    },
    {
      "cell_type": "code",
      "source": [
        "Q = {'PP', 'PI', 'IP', 'II'}\n",
        "Sigma = {'a','b'}\n",
        "delta = {\n",
        "  ('PP','a'): 'IP',\n",
        "  ('IP','a'): 'PP',\n",
        "  ('IP','b'): 'II',\n",
        "  ('II','b'): 'IP',\n",
        "  ('II','a'): 'PI',\n",
        "  ('PI','a'): 'II',\n",
        "  ('PI','b'): 'PP',\n",
        "  ('PP','b'): 'PI',\n",
        "}\n",
        "q0 = 'PP'\n",
        "F = {'PP', 'IP', 'II'}\n",
        " \n",
        "M = AFD(Q,Sigma,delta,q0,F)\n",
        "print(M.aceita(\"abab\"))\n",
        "print(M.aceita(\"abb\"))\n",
        "print(M.aceita(\"ab\"))\n",
        "print(M.aceita(\"aab\"))\n",
        "M.visualizar()"
      ],
      "metadata": {
        "colab": {
          "base_uri": "https://localhost:8080/",
          "height": 265
        },
        "id": "YbV7YwQWPK3Z",
        "outputId": "7051a6e2-e49f-4b55-bcff-7056497e94b1"
      },
      "execution_count": null,
      "outputs": [
        {
          "output_type": "stream",
          "name": "stdout",
          "text": [
            "True\n",
            "True\n",
            "True\n",
            "False\n"
          ]
        },
        {
          "output_type": "execute_result",
          "data": {
            "text/plain": [
              "<graphviz.dot.Digraph at 0x7f982df4ab90>"
            ],
            "image/svg+xml": "<?xml version=\"1.0\" encoding=\"UTF-8\" standalone=\"no\"?>\n<!DOCTYPE svg PUBLIC \"-//W3C//DTD SVG 1.1//EN\"\n \"http://www.w3.org/Graphics/SVG/1.1/DTD/svg11.dtd\">\n<!-- Generated by graphviz version 2.40.1 (20161225.0304)\n -->\n<!-- Title: finite_state_machine Pages: 1 -->\n<svg width=\"357pt\" height=\"131pt\"\n viewBox=\"0.00 0.00 356.89 130.69\" xmlns=\"http://www.w3.org/2000/svg\" xmlns:xlink=\"http://www.w3.org/1999/xlink\">\n<g id=\"graph0\" class=\"graph\" transform=\"scale(1 1) rotate(0) translate(4 126.6941)\">\n<title>finite_state_machine</title>\n<polygon fill=\"#ffffff\" stroke=\"transparent\" points=\"-4,4 -4,-126.6941 352.8895,-126.6941 352.8895,4 -4,4\"/>\n<g id=\"node1\" class=\"node\">\n<title></title>\n<ellipse fill=\"#000000\" stroke=\"#000000\" cx=\"1.8\" cy=\"-54.8458\" rx=\"1.8\" ry=\"1.8\"/>\n</g>\n<!-- PP -->\n<g id=\"node4\" class=\"node\">\n<title>PP</title>\n<ellipse fill=\"none\" stroke=\"#000000\" cx=\"66.0481\" cy=\"-54.8458\" rx=\"21.4044\" ry=\"21.4044\"/>\n<ellipse fill=\"none\" stroke=\"#000000\" cx=\"66.0481\" cy=\"-54.8458\" rx=\"25.3963\" ry=\"25.3963\"/>\n<text text-anchor=\"middle\" x=\"66.0481\" y=\"-51.1458\" font-family=\"Times,serif\" font-size=\"14.00\" fill=\"#000000\">PP</text>\n</g>\n<!-- &#45;&gt;PP -->\n<g id=\"edge1\" class=\"edge\">\n<title>&#45;&gt;PP</title>\n<path fill=\"none\" stroke=\"#000000\" d=\"M3.6535,-54.8458C7.8864,-54.8458 18.792,-54.8458 30.3243,-54.8458\"/>\n<polygon fill=\"#000000\" stroke=\"#000000\" points=\"30.4681,-58.3459 40.4681,-54.8458 30.468,-51.3459 30.4681,-58.3459\"/>\n</g>\n<!-- IP -->\n<g id=\"node2\" class=\"node\">\n<title>IP</title>\n<ellipse fill=\"none\" stroke=\"#000000\" cx=\"157.3445\" cy=\"-99.8458\" rx=\"18.724\" ry=\"18.724\"/>\n<ellipse fill=\"none\" stroke=\"#000000\" cx=\"157.3445\" cy=\"-99.8458\" rx=\"22.6977\" ry=\"22.6977\"/>\n<text text-anchor=\"middle\" x=\"157.3445\" y=\"-96.1458\" font-family=\"Times,serif\" font-size=\"14.00\" fill=\"#000000\">IP</text>\n</g>\n<!-- II -->\n<g id=\"node3\" class=\"node\">\n<title>II</title>\n<ellipse fill=\"none\" stroke=\"#000000\" cx=\"246.1928\" cy=\"-98.8458\" rx=\"18\" ry=\"18\"/>\n<ellipse fill=\"none\" stroke=\"#000000\" cx=\"246.1928\" cy=\"-98.8458\" rx=\"22\" ry=\"22\"/>\n<text text-anchor=\"middle\" x=\"246.1928\" y=\"-95.1458\" font-family=\"Times,serif\" font-size=\"14.00\" fill=\"#000000\">II</text>\n</g>\n<!-- IP&#45;&gt;II -->\n<g id=\"edge4\" class=\"edge\">\n<title>IP&#45;&gt;II</title>\n<path fill=\"none\" stroke=\"#000000\" d=\"M180.2252,-99.5883C190.4337,-99.4734 202.6449,-99.3359 213.7704,-99.2107\"/>\n<polygon fill=\"#000000\" stroke=\"#000000\" points=\"214.0437,-102.7079 224.0036,-99.0955 213.9649,-95.7084 214.0437,-102.7079\"/>\n<text text-anchor=\"middle\" x=\"202.1928\" y=\"-102.6458\" font-family=\"Times,serif\" font-size=\"14.00\" fill=\"#000000\">b</text>\n</g>\n<!-- IP&#45;&gt;PP -->\n<g id=\"edge3\" class=\"edge\">\n<title>IP&#45;&gt;PP</title>\n<path fill=\"none\" stroke=\"#000000\" d=\"M140.018,-84.3842C133.09,-78.8425 124.7928,-72.9557 116.4962,-68.8458 111.5584,-66.3997 106.1301,-64.3271 100.7205,-62.5881\"/>\n<polygon fill=\"#000000\" stroke=\"#000000\" points=\"101.6922,-59.2258 91.1134,-59.8099 99.7475,-65.9502 101.6922,-59.2258\"/>\n<text text-anchor=\"middle\" x=\"112.9962\" y=\"-72.6458\" font-family=\"Times,serif\" font-size=\"14.00\" fill=\"#000000\">a</text>\n</g>\n<!-- II&#45;&gt;IP -->\n<g id=\"edge5\" class=\"edge\">\n<title>II&#45;&gt;IP</title>\n<path fill=\"none\" stroke=\"#000000\" d=\"M227.9149,-85.9085C219.126,-81.1805 208.321,-77.4994 198.1928,-79.8458 194.2385,-80.7619 190.2251,-82.1165 186.3359,-83.6967\"/>\n<polygon fill=\"#000000\" stroke=\"#000000\" points=\"184.6574,-80.6159 177.0282,-87.9676 187.5768,-86.9781 184.6574,-80.6159\"/>\n<text text-anchor=\"middle\" x=\"202.1928\" y=\"-83.6458\" font-family=\"Times,serif\" font-size=\"14.00\" fill=\"#000000\">b</text>\n</g>\n<!-- PI -->\n<g id=\"node5\" class=\"node\">\n<title>PI</title>\n<ellipse fill=\"none\" stroke=\"#000000\" cx=\"330.0412\" cy=\"-54.8458\" rx=\"18.6979\" ry=\"18.6979\"/>\n<text text-anchor=\"middle\" x=\"330.0412\" y=\"-51.1458\" font-family=\"Times,serif\" font-size=\"14.00\" fill=\"#000000\">PI</text>\n</g>\n<!-- II&#45;&gt;PI -->\n<g id=\"edge6\" class=\"edge\">\n<title>II&#45;&gt;PI</title>\n<path fill=\"none\" stroke=\"#000000\" d=\"M268.0494,-96.0746C276.2566,-94.4416 285.4628,-91.8714 293.1928,-87.8458 299.091,-84.7741 304.7926,-80.5413 309.8768,-76.1307\"/>\n<polygon fill=\"#000000\" stroke=\"#000000\" points=\"312.3816,-78.5804 317.2975,-69.195 307.6018,-73.4663 312.3816,-78.5804\"/>\n<text text-anchor=\"middle\" x=\"289.6928\" y=\"-93.6458\" font-family=\"Times,serif\" font-size=\"14.00\" fill=\"#000000\">a</text>\n</g>\n<!-- PP&#45;&gt;IP -->\n<g id=\"edge2\" class=\"edge\">\n<title>PP&#45;&gt;IP</title>\n<path fill=\"none\" stroke=\"#000000\" d=\"M85.2743,-72.1061C92.4598,-77.8135 100.9574,-83.7458 109.4962,-87.8458 114.2949,-90.1499 119.5841,-92.0426 124.8427,-93.5878\"/>\n<polygon fill=\"#000000\" stroke=\"#000000\" points=\"124.2234,-97.0424 134.7804,-96.1477 125.9696,-90.2637 124.2234,-97.0424\"/>\n<text text-anchor=\"middle\" x=\"112.9962\" y=\"-93.6458\" font-family=\"Times,serif\" font-size=\"14.00\" fill=\"#000000\">a</text>\n</g>\n<!-- PP&#45;&gt;PI -->\n<g id=\"edge9\" class=\"edge\">\n<title>PP&#45;&gt;PI</title>\n<path fill=\"none\" stroke=\"#000000\" d=\"M91.8415,-54.8458C141.2608,-54.8458 248.9854,-54.8458 300.9098,-54.8458\"/>\n<polygon fill=\"#000000\" stroke=\"#000000\" points=\"301.1019,-58.3459 311.1018,-54.8458 301.1018,-51.3459 301.1019,-58.3459\"/>\n<text text-anchor=\"middle\" x=\"202.1928\" y=\"-58.6458\" font-family=\"Times,serif\" font-size=\"14.00\" fill=\"#000000\">b</text>\n</g>\n<!-- PI&#45;&gt;II -->\n<g id=\"edge7\" class=\"edge\">\n<title>PI&#45;&gt;II</title>\n<path fill=\"none\" stroke=\"#000000\" d=\"M311.5778,-59.2564C303.534,-61.5498 294.1469,-64.7424 286.1928,-68.8458 281.082,-71.4824 275.9376,-74.7635 271.1192,-78.179\"/>\n<polygon fill=\"#000000\" stroke=\"#000000\" points=\"268.7757,-75.5615 262.8759,-84.3617 272.9759,-81.1614 268.7757,-75.5615\"/>\n<text text-anchor=\"middle\" x=\"289.6928\" y=\"-72.6458\" font-family=\"Times,serif\" font-size=\"14.00\" fill=\"#000000\">a</text>\n</g>\n<!-- PI&#45;&gt;PP -->\n<g id=\"edge8\" class=\"edge\">\n<title>PI&#45;&gt;PP</title>\n<path fill=\"none\" stroke=\"#000000\" d=\"M316.3421,-41.3327C309.7974,-35.528 301.5736,-29.1122 293.1928,-24.8458 257.5505,-6.7011 245.8544,-6.9999 206.1928,-1.8458 162.3859,3.847 149.6681,-6.47 109.4962,-24.8458 104.3905,-27.1813 99.2408,-30.1165 94.3605,-33.2308\"/>\n<polygon fill=\"#000000\" stroke=\"#000000\" points=\"92.2504,-30.4327 85.9344,-38.9391 96.1765,-36.2281 92.2504,-30.4327\"/>\n<text text-anchor=\"middle\" x=\"202.1928\" y=\"-5.6458\" font-family=\"Times,serif\" font-size=\"14.00\" fill=\"#000000\">b</text>\n</g>\n</g>\n</svg>\n"
          },
          "metadata": {},
          "execution_count": 6
        }
      ]
    }
  ]
}