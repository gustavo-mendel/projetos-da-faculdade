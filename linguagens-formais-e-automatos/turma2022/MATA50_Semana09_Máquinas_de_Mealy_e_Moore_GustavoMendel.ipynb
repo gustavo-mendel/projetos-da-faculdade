{
  "nbformat": 4,
  "nbformat_minor": 0,
  "metadata": {
    "colab": {
      "provenance": [],
      "collapsed_sections": []
    },
    "kernelspec": {
      "name": "python3",
      "display_name": "Python 3"
    },
    "language_info": {
      "name": "python"
    }
  },
  "cells": [
    {
      "cell_type": "code",
      "metadata": {
        "id": "TM_UtFZ-BmZ8",
        "cellView": "form"
      },
      "source": [
        "#@title Implementação dos modelos em Python\n",
        "#@markdown Esta célula contém a implementação em Python 3 dos principais modelos de computação vistos na disciplina de Linguagens Formais e Autômatos. \n",
        "#@markdown Não é necessário conhecer o código aqui implementado ou mesmo ter um conhecimento profundo da linguagem Python. Acompanhe os exemplos e experimente construir seus próprios modelos.\n",
        " \n",
        "#@markdown >*Execute esta célula (`ctrl+enter` ou clicando no botão ao lado) para que o ambiente seja carregado com as classes implementadas.*\n",
        " \n",
        "from graphviz import Digraph\n",
        "import re\n",
        " \n",
        "class AP: \n",
        "    def __init__(self, Q={}, Sigma={}, Gamma={}, delta={}, q0=0, F={}):\n",
        "        self.states = Q\n",
        "        self.inputAlphabet = Sigma\n",
        "        self.stackAlphabet = Gamma\n",
        "        self.transition = delta\n",
        "        self.startState = q0\n",
        "        self.acceptStates = F \n",
        " \n",
        "        self.initialize()\n",
        " \n",
        "    def initialize(self, input_string=\"\"):\n",
        "        self.traces = [[(self.startState,tuple(input_string),())]]\n",
        " \n",
        "    def check(self):\n",
        "        pass\n",
        "        \n",
        "    def hasNext(self):\n",
        "        return self.traces and (not self.acceptTraces())\n",
        "    \n",
        "    def acceptTraces(self):\n",
        "        return [t for t in self.traces if t[-1][1] == () and t[-1][0] in self.acceptStates]\n",
        " \n",
        "    def step(self):\n",
        "        updated_traces = []\n",
        "        for trace in self.traces:\n",
        "          s, string, stack = trace[-1]\n",
        "          A = {'', string[0]} if string else {''}\n",
        "          B = {'', stack[-1]} if stack else {''}\n",
        "          possible_transitions = [(s,a,b) for a in A for b in B if (s,a,b) in self.transition]          \n",
        "          for (s,a,b) in possible_transitions:  \n",
        "            for r,c in self.transition[s,a,b]:\n",
        "              nstring = string[1:] if a else string\n",
        "              nstack  = stack[:-1] if b else stack\n",
        "              nstack  = nstack+(c,) if c else nstack\n",
        "              if (not (r,nstring,nstack) in trace):\n",
        "                updated_traces.append(trace+[(r,nstring,nstack)])\n",
        "        self.traces = updated_traces\n",
        " \n",
        "    def run(self, input_string=0, max_steps=1000):        \n",
        "        while (self.hasNext()): \n",
        "          if max_steps == 0: \n",
        "            raise Exception(\"Timeout\")\n",
        "          self.step()\n",
        "          max_steps -= 1\n",
        "        return self.result()\n",
        " \n",
        "    def aceita(self, input_string=0):\n",
        "        self.initialize(input_string)\n",
        "        return self.run()\n",
        " \n",
        "    def result(self):\n",
        "        return True if self.acceptTraces() else (False if (not self.traces) else None)\n",
        "    \n",
        "    def visualizar(self):      \n",
        "        f = Digraph('finite_state_machine', filename='fsm.gv')\n",
        "        f.attr(rankdir='LR', size='8,5')\n",
        " \n",
        "        f.attr('node', shape='point')\n",
        "        f.node('')\n",
        "        \n",
        "        f.attr('node', shape='doublecircle')\n",
        "        for n in self.acceptStates:\n",
        "          f.node(str(n))\n",
        " \n",
        "        f.attr('node', shape='circle')\n",
        "        for n in self.states.difference(self.acceptStates):\n",
        "          f.node(str(n))\n",
        " \n",
        "        label = {}        \n",
        "        for (q,a,b) in self.transition:\n",
        "          for (r,c) in self.transition[q,a,b]:          \n",
        "            label[q,r] = label[q,r]+[(a,b,c)] if (q,r) in label else [(a,b,c)]\n",
        " \n",
        "        f.edge('', str(self.startState))\n",
        "        for (q,r) in label:\n",
        "          f.edge(str(q),str(r),label=self.graphviz_edge_label_format(label[q,r]))      \n",
        "          pass\n",
        "        \n",
        "        return f\n",
        "    \n",
        "    def graphviz_edge_label_format(self,labels=[]):\n",
        "        epsilon = \"\\u03BB\"\n",
        "        right_arrow = \"\\u2192\"\n",
        "        return '\\n'.join([(a if (a or a==0) else epsilon) + \",\" + (b if (b or b==0) else epsilon) + right_arrow + (c if (c or c==0) else epsilon) for (a,b,c) in labels])\n",
        "        # return '\\n'.join([(str(a) if a else epsilon) + \",\" + (str(b) if b else epsilon) + right_arrow + (str(c) if c else epsilon) for (a,b,c) in labels])\n",
        " \n",
        "class AFN(AP):\n",
        "  def __init__(self, Q={}, Sigma={}, delta={}, q0=0, F={}):\n",
        "        delta_pda = {}\n",
        "        for q,a in delta:\n",
        "          delta_pda[q,a,''] = {(r,'') for r in delta[q,a]}\n",
        "        super().__init__(Q,Sigma,{},delta_pda,q0,F)\n",
        "  \n",
        "  def graphviz_edge_label_format(self,labels):\n",
        "      epsilon = \"\\u03B5\"\n",
        "      return \",\".join([(str(a) if (a or a==0) else epsilon) for (a,b,c) in labels])\n",
        " \n",
        "class AFD(AFN):\n",
        "  def __init__(self, Q={}, Sigma={}, delta={}, q0=0, F={}):\n",
        "        delta_nfa = {}\n",
        "        for (q,a) in delta:\n",
        "          delta_nfa[q,a] = {delta[q,a]}\n",
        "        super().__init__(Q,Sigma,delta_nfa,q0,F)\n",
        " \n",
        "class ER:\n",
        "  def __init__(self,regex=None):  \n",
        "    if (regex == None):\n",
        "      self.regex = None\n",
        "    elif (re.match(\"^[a-zA-Z0-9\\(\\)\\|\\*]*$\", regex)):\n",
        "      self.regex = regex\n",
        "    else:\n",
        "      raise Exception(\"Invalid pattern\")\n",
        " \n",
        "  def gera(self, input_string):\n",
        "    if (self.regex == None):\n",
        "      return False\n",
        "    else:\n",
        "      return True if re.match(\"^\"+self.regex+\"$\",input_string) else False\n",
        " \n",
        "class GLC:\n",
        "  def __init__(self,V,Sigma,R,S):\n",
        "      self.variables = V\n",
        "      self.terminals = Sigma\n",
        "      # self.rules = R\n",
        "      self.rules = {(a, tuple(b)) for (a,b) in R}\n",
        "      self.start = S\n",
        " \n",
        "      self.derivation = []\n",
        "      self.chomsky = None\n",
        "  \n",
        "  def gera(self, string):\n",
        "      if (not self.chomsky):\n",
        "        self.chomsky = self.to_chomsky()        \n",
        "      G = self.chomsky\n",
        "      \n",
        "      if len(string) == 0: return (G.start,()) in G.rules\n",
        " \n",
        "      # CYK Algorithm\n",
        "      n = len(string)\n",
        "      P = [[[] for x in range(n - y)] for y in range(n)]\n",
        "      for i,c in enumerate(string):\n",
        "        for v in [a for (a,b) in G.rules if len(b) == 1 and c in b]:\n",
        "          P[0][i] += [v]\n",
        "      for l in range(2, n+1): # borda da iteração\n",
        "        for s in range(0, n+1-l): # coluna\n",
        "          for p in range(1, l): # linha\n",
        "            for u, v in [(a,b) for (a,b) in G.rules if len(b) == 2]:\n",
        "              if v[0] in P[p-1][s] and v[1] in P[l-p-1][s+p]:\n",
        "                P[l-1][s] += [u]\n",
        "      return G.start in P[-1][0]\n",
        " \n",
        "  def print(self):\n",
        "      rightarrow = \"\\u2192\"\n",
        "      print(self.start,rightarrow, '|'.join([''.join(y) for x,y in self.rules if x == S]))\n",
        "      for v in sorted(self.variables.difference(self.start)): \n",
        "        print(v,rightarrow, '|'.join([''.join(y) for x,y in self.rules if x == v]))\n",
        " \n",
        "  def replace_eps(self, v, l):\n",
        "    if not l: return {()}\n",
        "    result = {(l[0],) + s for s in self.replace_eps(v, tuple(l[1:]))}\n",
        "    if l[0] == v:\n",
        "      result.update({tuple(s[1:]) for s in result})\n",
        "    return result   \n",
        " \n",
        "  def to_chomsky(self):\n",
        "      n_state = 0\n",
        "      \n",
        "      S = '<{}>'.format(n_state)\n",
        "      Sigma = self.terminals \n",
        "      V = {S}.union(self.variables)\n",
        "      R = {(S,(self.start,))}.union(self.rules)\n",
        " \n",
        "      target = {alpha for alpha in self.variables if (alpha,()) in R}\n",
        "      while (target):\n",
        "        for e in target:\n",
        "          rules = {(alpha,beta) for (alpha,beta) in R if e in beta}\n",
        "          for (a,b) in rules:\n",
        "            R.update({(a, beta) for beta in self.replace_eps(e,b)})\n",
        "          R.discard((e,()))\n",
        "        target = {alpha for alpha in self.variables if (alpha,()) in R}\n",
        "      \n",
        "      target = {(a,b) for (a,b) in R if len(b) == 1 and b[0] in V}\n",
        "      while (target):\n",
        "        for u,v in target:\n",
        "          rules = {b for (a,b) in R if a == v[0]}\n",
        "          R.update({(u,b) for b in rules})\n",
        "          R.discard((u,v))\n",
        "        target = {(a,b) for (a,b) in R if len(b) == 1 and b[0] in V}\n",
        "      \n",
        "      target = {(alpha,beta) for (alpha,beta) in R if len(beta) > 2}\n",
        "      while(target):\n",
        "        for u,v in target:\n",
        "          n_state += 1\n",
        "          state = '<{}>'.format(n_state)\n",
        "          V.update({state})\n",
        "          R.update({(u,(v[0],state)),(state, tuple(v[1:]))})\n",
        "          R.discard((u,v))\n",
        "        target = {(alpha,beta) for (alpha,beta) in R if len(beta) > 2}\n",
        " \n",
        "      target = {(alpha,beta) for (alpha,beta) in R if len(beta) == 2}\n",
        "      for u,v in target:\n",
        "        n = list(v)\n",
        "        for i in range(2):\n",
        "          if v[i] in Sigma:\n",
        "            R.discard((u,(n[0],n[1])))\n",
        "            n_state += 1\n",
        "            n[i] = '<{}>'.format(n_state)\n",
        "            V.update({n[i]})\n",
        "            R.update({(u,(n[0],n[1]))})\n",
        "            R.update({(n[i],(v[i],))})\n",
        " \n",
        "      return GLC(V,Sigma,R,S)"
      ],
      "execution_count": null,
      "outputs": []
    },
    {
      "cell_type": "markdown",
      "metadata": {
        "id": "UDIB4qHrmpy1"
      },
      "source": [
        "# Exercícios\n",
        "\n",
        "1. Construa uma máquina de Mealy que recebe uma palavra de entrada com alfabeto $\\Sigma=\\{0,1\\}$ e substitui a primeira ocorrência de 1 por um 0 para toda subsequência de 1. Por exemplo, a palavra w = 0001001110 tornar-se-ia w = 0000000110.      "
      ]
    },
    {
      "cell_type": "code",
      "source": [
        "Q = {\"e0\", \"e1\"}\n",
        "Sigma = {\"0\", \"1\"}\n",
        "Delta = {\n",
        "    (\"e0\", \"0/0\"): \"e0\",\n",
        "    (\"e0\", \"1/0\"): \"e1\",\n",
        "    (\"e1\", \"1/1\"): \"e1\",\n",
        "    (\"e1\", \"0/0\"): \"e0\",\n",
        "}\n",
        "q0 = \"e0\"\n",
        "F = {}\n",
        "\n",
        "afd = AFD(Q, Sigma, Delta, q0, F)\n",
        "afd.visualizar()"
      ],
      "metadata": {
        "colab": {
          "base_uri": "https://localhost:8080/",
          "height": 130
        },
        "id": "JIyaV6s3ZLY7",
        "outputId": "703005d3-0b4d-4afc-c1c2-89d5aed8e08f"
      },
      "execution_count": null,
      "outputs": [
        {
          "output_type": "execute_result",
          "data": {
            "text/plain": [
              "<graphviz.dot.Digraph at 0x7f597cd676d0>"
            ],
            "image/svg+xml": "<?xml version=\"1.0\" encoding=\"UTF-8\" standalone=\"no\"?>\n<!DOCTYPE svg PUBLIC \"-//W3C//DTD SVG 1.1//EN\"\n \"http://www.w3.org/Graphics/SVG/1.1/DTD/svg11.dtd\">\n<!-- Generated by graphviz version 2.40.1 (20161225.0304)\n -->\n<!-- Title: finite_state_machine Pages: 1 -->\n<svg width=\"182pt\" height=\"81pt\"\n viewBox=\"0.00 0.00 181.59 81.46\" xmlns=\"http://www.w3.org/2000/svg\" xmlns:xlink=\"http://www.w3.org/1999/xlink\">\n<g id=\"graph0\" class=\"graph\" transform=\"scale(1 1) rotate(0) translate(4 77.4603)\">\n<title>finite_state_machine</title>\n<polygon fill=\"#ffffff\" stroke=\"transparent\" points=\"-4,4 -4,-77.4603 177.5931,-77.4603 177.5931,4 -4,4\"/>\n<g id=\"node1\" class=\"node\">\n<title></title>\n<ellipse fill=\"#000000\" stroke=\"#000000\" cx=\"1.8\" cy=\"-20.9621\" rx=\"1.8\" ry=\"1.8\"/>\n</g>\n<!-- e0 -->\n<g id=\"node3\" class=\"node\">\n<title>e0</title>\n<ellipse fill=\"none\" stroke=\"#000000\" cx=\"60.0983\" cy=\"-20.9621\" rx=\"19.4965\" ry=\"19.4965\"/>\n<text text-anchor=\"middle\" x=\"60.0983\" y=\"-17.2621\" font-family=\"Times,serif\" font-size=\"14.00\" fill=\"#000000\">e0</text>\n</g>\n<!-- &#45;&gt;e0 -->\n<g id=\"edge1\" class=\"edge\">\n<title>&#45;&gt;e0</title>\n<path fill=\"none\" stroke=\"#000000\" d=\"M3.7397,-20.9621C8.0961,-20.9621 19.1532,-20.9621 30.3314,-20.9621\"/>\n<polygon fill=\"#000000\" stroke=\"#000000\" points=\"30.4424,-24.4622 40.4424,-20.9621 30.4424,-17.4622 30.4424,-24.4622\"/>\n</g>\n<!-- e1 -->\n<g id=\"node2\" class=\"node\">\n<title>e1</title>\n<ellipse fill=\"none\" stroke=\"#000000\" cx=\"154.0948\" cy=\"-20.9621\" rx=\"19.4965\" ry=\"19.4965\"/>\n<text text-anchor=\"middle\" x=\"154.0948\" y=\"-17.2621\" font-family=\"Times,serif\" font-size=\"14.00\" fill=\"#000000\">e1</text>\n</g>\n<!-- e1&#45;&gt;e1 -->\n<g id=\"edge4\" class=\"edge\">\n<title>e1&#45;&gt;e1</title>\n<path fill=\"none\" stroke=\"#000000\" d=\"M145.9436,-38.7084C144.2801,-48.9378 146.9972,-58.4603 154.0948,-58.4603 158.6417,-58.4603 161.3909,-54.5523 162.3422,-49.0539\"/>\n<polygon fill=\"#000000\" stroke=\"#000000\" points=\"165.839,-48.6754 162.246,-38.7084 158.8393,-48.7406 165.839,-48.6754\"/>\n<text text-anchor=\"middle\" x=\"154.0948\" y=\"-62.2603\" font-family=\"Times,serif\" font-size=\"14.00\" fill=\"#000000\">1/1</text>\n</g>\n<!-- e1&#45;&gt;e0 -->\n<g id=\"edge5\" class=\"edge\">\n<title>e1&#45;&gt;e0</title>\n<path fill=\"none\" stroke=\"#000000\" d=\"M137.572,-10.4851C131.2605,-7.0593 123.8369,-3.6917 116.5965,-1.9621 108.3832,0 105.8099,0 97.5965,-1.9621 93.637,-2.908 89.6226,-4.3437 85.7653,-6.011\"/>\n<polygon fill=\"#000000\" stroke=\"#000000\" points=\"84.0653,-2.9462 76.6211,-10.4851 87.1418,-9.2339 84.0653,-2.9462\"/>\n<text text-anchor=\"middle\" x=\"107.0965\" y=\"-5.7621\" font-family=\"Times,serif\" font-size=\"14.00\" fill=\"#000000\">0/0</text>\n</g>\n<!-- e0&#45;&gt;e1 -->\n<g id=\"edge3\" class=\"edge\">\n<title>e0&#45;&gt;e1</title>\n<path fill=\"none\" stroke=\"#000000\" d=\"M80.0325,-20.9621C92.9552,-20.9621 110.0191,-20.9621 124.5104,-20.9621\"/>\n<polygon fill=\"#000000\" stroke=\"#000000\" points=\"124.5116,-24.4622 134.5116,-20.9621 124.5116,-17.4622 124.5116,-24.4622\"/>\n<text text-anchor=\"middle\" x=\"107.0965\" y=\"-24.7621\" font-family=\"Times,serif\" font-size=\"14.00\" fill=\"#000000\">1/0</text>\n</g>\n<!-- e0&#45;&gt;e0 -->\n<g id=\"edge2\" class=\"edge\">\n<title>e0&#45;&gt;e0</title>\n<path fill=\"none\" stroke=\"#000000\" d=\"M53.6268,-39.4838C52.527,-49.4138 54.6842,-58.4603 60.0983,-58.4603 63.4821,-58.4603 65.5936,-54.9265 66.433,-49.8519\"/>\n<polygon fill=\"#000000\" stroke=\"#000000\" points=\"69.9374,-49.5292 66.5698,-39.4838 62.938,-49.4368 69.9374,-49.5292\"/>\n<text text-anchor=\"middle\" x=\"60.0983\" y=\"-62.2603\" font-family=\"Times,serif\" font-size=\"14.00\" fill=\"#000000\">0/0</text>\n</g>\n</g>\n</svg>\n"
          },
          "metadata": {},
          "execution_count": 4
        }
      ]
    },
    {
      "cell_type": "markdown",
      "metadata": {
        "id": "YnKVc_In1AdD"
      },
      "source": [
        "2. Resolva o mesmo problema do exercício anterior, desta vez, considere uma máquina de Moore."
      ]
    },
    {
      "cell_type": "code",
      "source": [
        "Q = {\"a/0\", \"b/0\", \"c/1\"}\n",
        "Sigma = {\"0\", \"1\"}\n",
        "Delta = {\n",
        "    (\"a/0\", \"1\"): \"b/0\",\n",
        "    (\"a/0\", \"0\"): \"a/0\",\n",
        "    (\"b/0\", \"0\"): \"a/0\",\n",
        "    (\"b/0\", \"1\"): \"c/1\",\n",
        "    (\"c/1\", \"0\"): \"a/0\",\n",
        "    (\"c/1\", \"1\"): \"c/1\",\n",
        "}\n",
        "q0 = \"a/0\"\n",
        "F = {}\n",
        "\n",
        "afd = AFD(Q, Sigma, Delta, q0, F)\n",
        "afd.visualizar()"
      ],
      "metadata": {
        "colab": {
          "base_uri": "https://localhost:8080/",
          "height": 158
        },
        "id": "25B56ajl8UEO",
        "outputId": "103f49db-ad71-414d-fd62-4b4d2f2f12de"
      },
      "execution_count": null,
      "outputs": [
        {
          "output_type": "execute_result",
          "data": {
            "text/plain": [
              "<graphviz.dot.Digraph at 0x7f59743b9190>"
            ],
            "image/svg+xml": "<?xml version=\"1.0\" encoding=\"UTF-8\" standalone=\"no\"?>\n<!DOCTYPE svg PUBLIC \"-//W3C//DTD SVG 1.1//EN\"\n \"http://www.w3.org/Graphics/SVG/1.1/DTD/svg11.dtd\">\n<!-- Generated by graphviz version 2.40.1 (20161225.0304)\n -->\n<!-- Title: finite_state_machine Pages: 1 -->\n<svg width=\"270pt\" height=\"102pt\"\n viewBox=\"0.00 0.00 270.49 102.20\" xmlns=\"http://www.w3.org/2000/svg\" xmlns:xlink=\"http://www.w3.org/1999/xlink\">\n<g id=\"graph0\" class=\"graph\" transform=\"scale(1 1) rotate(0) translate(4 98.1961)\">\n<title>finite_state_machine</title>\n<polygon fill=\"#ffffff\" stroke=\"transparent\" points=\"-4,4 -4,-98.1961 266.4881,-98.1961 266.4881,4 -4,4\"/>\n<g id=\"node1\" class=\"node\">\n<title></title>\n<ellipse fill=\"#000000\" stroke=\"#000000\" cx=\"1.8\" cy=\"-39.098\" rx=\"1.8\" ry=\"1.8\"/>\n</g>\n<!-- a/0 -->\n<g id=\"node2\" class=\"node\">\n<title>a/0</title>\n<ellipse fill=\"none\" stroke=\"#000000\" cx=\"62.698\" cy=\"-39.098\" rx=\"22.1965\" ry=\"22.1965\"/>\n<text text-anchor=\"middle\" x=\"62.698\" y=\"-35.398\" font-family=\"Times,serif\" font-size=\"14.00\" fill=\"#000000\">a/0</text>\n</g>\n<!-- &#45;&gt;a/0 -->\n<g id=\"edge1\" class=\"edge\">\n<title>&#45;&gt;a/0</title>\n<path fill=\"none\" stroke=\"#000000\" d=\"M3.8262,-39.098C8.1873,-39.098 18.9767,-39.098 30.1453,-39.098\"/>\n<polygon fill=\"#000000\" stroke=\"#000000\" points=\"30.3353,-42.5981 40.3353,-39.098 30.3352,-35.5981 30.3353,-42.5981\"/>\n</g>\n<!-- a/0&#45;&gt;a/0 -->\n<g id=\"edge3\" class=\"edge\">\n<title>a/0&#45;&gt;a/0</title>\n<path fill=\"none\" stroke=\"#000000\" d=\"M55.3811,-60.1402C54.4778,-70.2615 56.9168,-79.1961 62.698,-79.1961 66.4017,-79.1961 68.7336,-75.5293 69.6939,-70.2328\"/>\n<polygon fill=\"#000000\" stroke=\"#000000\" points=\"73.1951,-70.2465 70.0149,-60.1402 66.1986,-70.0239 73.1951,-70.2465\"/>\n<text text-anchor=\"middle\" x=\"62.698\" y=\"-82.9961\" font-family=\"Times,serif\" font-size=\"14.00\" fill=\"#000000\">0</text>\n</g>\n<!-- b/0 -->\n<g id=\"node3\" class=\"node\">\n<title>b/0</title>\n<ellipse fill=\"none\" stroke=\"#000000\" cx=\"151.5441\" cy=\"-62.098\" rx=\"22.9987\" ry=\"22.9987\"/>\n<text text-anchor=\"middle\" x=\"151.5441\" y=\"-58.398\" font-family=\"Times,serif\" font-size=\"14.00\" fill=\"#000000\">b/0</text>\n</g>\n<!-- a/0&#45;&gt;b/0 -->\n<g id=\"edge2\" class=\"edge\">\n<title>a/0&#45;&gt;b/0</title>\n<path fill=\"none\" stroke=\"#000000\" d=\"M83.1922,-48.359C89.3884,-50.8618 96.2791,-53.3564 102.7961,-55.098 107.8296,-56.4432 113.2289,-57.5446 118.5347,-58.4421\"/>\n<polygon fill=\"#000000\" stroke=\"#000000\" points=\"118.0952,-61.9152 128.5018,-59.9271 119.1268,-54.9916 118.0952,-61.9152\"/>\n<text text-anchor=\"middle\" x=\"106.7961\" y=\"-59.898\" font-family=\"Times,serif\" font-size=\"14.00\" fill=\"#000000\">1</text>\n</g>\n<!-- b/0&#45;&gt;a/0 -->\n<g id=\"edge4\" class=\"edge\">\n<title>b/0&#45;&gt;a/0</title>\n<path fill=\"none\" stroke=\"#000000\" d=\"M133.5656,-47.5196C126.8315,-42.9307 118.8517,-38.4491 110.7961,-36.098 105.7061,-34.6125 100.1886,-34.0463 94.7671,-34.0354\"/>\n<polygon fill=\"#000000\" stroke=\"#000000\" points=\"94.387,-30.551 84.5976,-34.6028 94.7771,-37.5402 94.387,-30.551\"/>\n<text text-anchor=\"middle\" x=\"106.7961\" y=\"-39.898\" font-family=\"Times,serif\" font-size=\"14.00\" fill=\"#000000\">0</text>\n</g>\n<!-- c/1 -->\n<g id=\"node4\" class=\"node\">\n<title>c/1</title>\n<ellipse fill=\"none\" stroke=\"#000000\" cx=\"240.3901\" cy=\"-22.098\" rx=\"22.1965\" ry=\"22.1965\"/>\n<text text-anchor=\"middle\" x=\"240.3901\" y=\"-18.398\" font-family=\"Times,serif\" font-size=\"14.00\" fill=\"#000000\">c/1</text>\n</g>\n<!-- b/0&#45;&gt;c/1 -->\n<g id=\"edge5\" class=\"edge\">\n<title>b/0&#45;&gt;c/1</title>\n<path fill=\"none\" stroke=\"#000000\" d=\"M172.5993,-52.6186C184.0489,-47.4638 198.3936,-41.0056 210.9357,-35.3589\"/>\n<polygon fill=\"#000000\" stroke=\"#000000\" points=\"212.4159,-38.5309 220.0975,-31.2341 209.5422,-32.148 212.4159,-38.5309\"/>\n<text text-anchor=\"middle\" x=\"196.292\" y=\"-46.898\" font-family=\"Times,serif\" font-size=\"14.00\" fill=\"#000000\">1</text>\n</g>\n<!-- c/1&#45;&gt;a/0 -->\n<g id=\"edge6\" class=\"edge\">\n<title>c/1&#45;&gt;a/0</title>\n<path fill=\"none\" stroke=\"#000000\" d=\"M218.4092,-17.6844C195.7791,-13.8476 159.5767,-9.6828 128.7961,-15.098 116.4276,-17.274 103.3266,-21.5764 92.0789,-25.9449\"/>\n<polygon fill=\"#000000\" stroke=\"#000000\" points=\"90.6782,-22.7362 82.7366,-29.7492 93.3182,-29.2193 90.6782,-22.7362\"/>\n<text text-anchor=\"middle\" x=\"151.5441\" y=\"-18.898\" font-family=\"Times,serif\" font-size=\"14.00\" fill=\"#000000\">0</text>\n</g>\n<!-- c/1&#45;&gt;c/1 -->\n<g id=\"edge7\" class=\"edge\">\n<title>c/1&#45;&gt;c/1</title>\n<path fill=\"none\" stroke=\"#000000\" d=\"M232.3838,-42.7293C231.276,-53.0184 233.9448,-62.1961 240.3901,-62.1961 244.5191,-62.1961 247.0982,-58.4295 248.1275,-53.0172\"/>\n<polygon fill=\"#000000\" stroke=\"#000000\" points=\"251.6338,-52.8174 248.3964,-42.7293 244.6362,-52.6344 251.6338,-52.8174\"/>\n<text text-anchor=\"middle\" x=\"240.3901\" y=\"-65.9961\" font-family=\"Times,serif\" font-size=\"14.00\" fill=\"#000000\">1</text>\n</g>\n</g>\n</svg>\n"
          },
          "metadata": {},
          "execution_count": 6
        }
      ]
    },
    {
      "cell_type": "markdown",
      "metadata": {
        "id": "haz4BKsH1af7"
      },
      "source": [
        "3. Construa uma máquina de Moore com alfabeto de entrada $\\Sigma=\\{0,1\\}$ e alfabeto de saída $\\Delta=\\{S,N\\}$ que produza saída S se a palavra de entrada contém a subsequência 1010, caso contrário, produza N como saída."
      ]
    },
    {
      "cell_type": "code",
      "source": [
        "Q = {\"a/N\", \"b/N\", \"c/N\", \"d/N\", \"e/S\"}\n",
        "Sigma = {\"0\", \"1\"}\n",
        "Delta = {\n",
        "    (\"a/N\", \"1\"): \"b/N\",\n",
        "    (\"a/N\", \"0\"): \"a/N\",\n",
        "    (\"b/N\", \"1\"): \"b/N\",\n",
        "    (\"b/N\", \"0\"): \"c/N\",\n",
        "    (\"c/N\", \"1\"): \"d/N\",\n",
        "    (\"c/N\", \"0\"): \"a/N\",\n",
        "    (\"d/N\", \"1\"): \"b/N\",\n",
        "    (\"d/N\", \"0\"): \"e/S\",\n",
        "    (\"e/S\", \"1\"): \"d/N\",\n",
        "    (\"e/S\", \"0\"): \"a/N\",\n",
        "}\n",
        "q0 = \"a/N\"\n",
        "F = {}\n",
        "\n",
        "afd = AFD(Q, Sigma, Delta, q0, F)\n",
        "afd.visualizar()"
      ],
      "metadata": {
        "colab": {
          "base_uri": "https://localhost:8080/",
          "height": 260
        },
        "id": "LyZ8vV3R9HZj",
        "outputId": "d5a49e33-c163-4a82-a8e2-5364ba83ba37"
      },
      "execution_count": null,
      "outputs": [
        {
          "output_type": "execute_result",
          "data": {
            "text/plain": [
              "<graphviz.dot.Digraph at 0x7f5974325590>"
            ],
            "image/svg+xml": "<?xml version=\"1.0\" encoding=\"UTF-8\" standalone=\"no\"?>\n<!DOCTYPE svg PUBLIC \"-//W3C//DTD SVG 1.1//EN\"\n \"http://www.w3.org/Graphics/SVG/1.1/DTD/svg11.dtd\">\n<!-- Generated by graphviz version 2.40.1 (20161225.0304)\n -->\n<!-- Title: finite_state_machine Pages: 1 -->\n<svg width=\"465pt\" height=\"179pt\"\n viewBox=\"0.00 0.00 465.08 179.05\" xmlns=\"http://www.w3.org/2000/svg\" xmlns:xlink=\"http://www.w3.org/1999/xlink\">\n<g id=\"graph0\" class=\"graph\" transform=\"scale(1 1) rotate(0) translate(4 175.0479)\">\n<title>finite_state_machine</title>\n<polygon fill=\"#ffffff\" stroke=\"transparent\" points=\"-4,4 -4,-175.0479 461.0787,-175.0479 461.0787,4 -4,4\"/>\n<g id=\"node1\" class=\"node\">\n<title></title>\n<ellipse fill=\"#000000\" stroke=\"#000000\" cx=\"1.8\" cy=\"-70.0479\" rx=\"1.8\" ry=\"1.8\"/>\n</g>\n<!-- a/N -->\n<g id=\"node5\" class=\"node\">\n<title>a/N</title>\n<ellipse fill=\"none\" stroke=\"#000000\" cx=\"64.6479\" cy=\"-70.0479\" rx=\"24.0958\" ry=\"24.0958\"/>\n<text text-anchor=\"middle\" x=\"64.6479\" y=\"-66.3479\" font-family=\"Times,serif\" font-size=\"14.00\" fill=\"#000000\">a/N</text>\n</g>\n<!-- &#45;&gt;a/N -->\n<g id=\"edge1\" class=\"edge\">\n<title>&#45;&gt;a/N</title>\n<path fill=\"none\" stroke=\"#000000\" d=\"M3.6131,-70.0479C7.8472,-70.0479 18.9062,-70.0479 30.4668,-70.0479\"/>\n<polygon fill=\"#000000\" stroke=\"#000000\" points=\"30.5964,-73.548 40.5963,-70.0479 30.5963,-66.548 30.5964,-73.548\"/>\n</g>\n<!-- d/N -->\n<g id=\"node2\" class=\"node\">\n<title>d/N</title>\n<ellipse fill=\"none\" stroke=\"#000000\" cx=\"342.8849\" cy=\"-84.0479\" rx=\"24.8972\" ry=\"24.8972\"/>\n<text text-anchor=\"middle\" x=\"342.8849\" y=\"-80.3479\" font-family=\"Times,serif\" font-size=\"14.00\" fill=\"#000000\">d/N</text>\n</g>\n<!-- e/S -->\n<g id=\"node3\" class=\"node\">\n<title>e/S</title>\n<ellipse fill=\"none\" stroke=\"#000000\" cx=\"434.3307\" cy=\"-122.0479\" rx=\"22.9987\" ry=\"22.9987\"/>\n<text text-anchor=\"middle\" x=\"434.3307\" y=\"-118.3479\" font-family=\"Times,serif\" font-size=\"14.00\" fill=\"#000000\">e/S</text>\n</g>\n<!-- d/N&#45;&gt;e/S -->\n<g id=\"edge9\" class=\"edge\">\n<title>d/N&#45;&gt;e/S</title>\n<path fill=\"none\" stroke=\"#000000\" d=\"M365.9605,-93.6369C377.3999,-98.3905 391.3695,-104.1955 403.6927,-109.3164\"/>\n<polygon fill=\"#000000\" stroke=\"#000000\" points=\"402.5654,-112.638 413.1429,-113.2434 405.2516,-106.1739 402.5654,-112.638\"/>\n<text text-anchor=\"middle\" x=\"389.5827\" y=\"-107.8479\" font-family=\"Times,serif\" font-size=\"14.00\" fill=\"#000000\">0</text>\n</g>\n<!-- b/N -->\n<g id=\"node4\" class=\"node\">\n<title>b/N</title>\n<ellipse fill=\"none\" stroke=\"#000000\" cx=\"157.3935\" cy=\"-70.0479\" rx=\"24.8972\" ry=\"24.8972\"/>\n<text text-anchor=\"middle\" x=\"157.3935\" y=\"-66.3479\" font-family=\"Times,serif\" font-size=\"14.00\" fill=\"#000000\">b/N</text>\n</g>\n<!-- d/N&#45;&gt;b/N -->\n<g id=\"edge8\" class=\"edge\">\n<title>d/N&#45;&gt;b/N</title>\n<path fill=\"none\" stroke=\"#000000\" d=\"M318.1512,-82.1811C285.8093,-79.7401 228.9645,-75.4497 192.2624,-72.6796\"/>\n<polygon fill=\"#000000\" stroke=\"#000000\" points=\"192.2604,-69.1696 182.0254,-71.907 191.7336,-76.1497 192.2604,-69.1696\"/>\n<text text-anchor=\"middle\" x=\"250.1392\" y=\"-81.8479\" font-family=\"Times,serif\" font-size=\"14.00\" fill=\"#000000\">1</text>\n</g>\n<!-- e/S&#45;&gt;d/N -->\n<g id=\"edge10\" class=\"edge\">\n<title>e/S&#45;&gt;d/N</title>\n<path fill=\"none\" stroke=\"#000000\" d=\"M421.0132,-103.5676C413.9138,-95.3186 404.4104,-86.4742 393.5827,-82.0479 388.4358,-79.9438 382.7445,-78.999 377.0904,-78.7697\"/>\n<polygon fill=\"#000000\" stroke=\"#000000\" points=\"376.9828,-75.2712 367.0786,-79.0338 377.1675,-82.2688 376.9828,-75.2712\"/>\n<text text-anchor=\"middle\" x=\"389.5827\" y=\"-85.8479\" font-family=\"Times,serif\" font-size=\"14.00\" fill=\"#000000\">1</text>\n</g>\n<!-- e/S&#45;&gt;a/N -->\n<g id=\"edge11\" class=\"edge\">\n<title>e/S&#45;&gt;a/N</title>\n<path fill=\"none\" stroke=\"#000000\" d=\"M414.7702,-133.9394C396.763,-143.744 368.9692,-156.0479 342.8849,-156.0479 157.3935,-156.0479 157.3935,-156.0479 157.3935,-156.0479 123.7555,-156.0479 97.1654,-125.2539 81.2331,-100.5195\"/>\n<polygon fill=\"#000000\" stroke=\"#000000\" points=\"84.0651,-98.4425 75.8522,-91.7493 78.0985,-102.1033 84.0651,-98.4425\"/>\n<text text-anchor=\"middle\" x=\"250.1392\" y=\"-159.8479\" font-family=\"Times,serif\" font-size=\"14.00\" fill=\"#000000\">0</text>\n</g>\n<!-- b/N&#45;&gt;b/N -->\n<g id=\"edge4\" class=\"edge\">\n<title>b/N&#45;&gt;b/N</title>\n<path fill=\"none\" stroke=\"#000000\" d=\"M148.9033,-93.3253C148.0947,-103.7391 150.9248,-112.7457 157.3935,-112.7457 161.5376,-112.7457 164.1883,-109.0494 165.3457,-103.6547\"/>\n<polygon fill=\"#000000\" stroke=\"#000000\" points=\"168.8588,-103.4938 165.8838,-93.3253 161.8682,-103.1296 168.8588,-103.4938\"/>\n<text text-anchor=\"middle\" x=\"157.3935\" y=\"-116.5457\" font-family=\"Times,serif\" font-size=\"14.00\" fill=\"#000000\">1</text>\n</g>\n<!-- c/N -->\n<g id=\"node6\" class=\"node\">\n<title>c/N</title>\n<ellipse fill=\"none\" stroke=\"#000000\" cx=\"250.1392\" cy=\"-24.0479\" rx=\"24.0958\" ry=\"24.0958\"/>\n<text text-anchor=\"middle\" x=\"250.1392\" y=\"-20.3479\" font-family=\"Times,serif\" font-size=\"14.00\" fill=\"#000000\">c/N</text>\n</g>\n<!-- b/N&#45;&gt;c/N -->\n<g id=\"edge5\" class=\"edge\">\n<title>b/N&#45;&gt;c/N</title>\n<path fill=\"none\" stroke=\"#000000\" d=\"M179.8447,-58.9125C191.7511,-53.0072 206.5549,-45.6648 219.502,-39.2433\"/>\n<polygon fill=\"#000000\" stroke=\"#000000\" points=\"221.13,-42.3428 228.5335,-34.7639 218.0196,-36.0717 221.13,-42.3428\"/>\n<text text-anchor=\"middle\" x=\"204.0913\" y=\"-51.8479\" font-family=\"Times,serif\" font-size=\"14.00\" fill=\"#000000\">0</text>\n</g>\n<!-- a/N&#45;&gt;b/N -->\n<g id=\"edge2\" class=\"edge\">\n<title>a/N&#45;&gt;b/N</title>\n<path fill=\"none\" stroke=\"#000000\" d=\"M89.0157,-70.0479C99.1836,-70.0479 111.189,-70.0479 122.2798,-70.0479\"/>\n<polygon fill=\"#000000\" stroke=\"#000000\" points=\"122.5432,-73.548 132.5432,-70.0479 122.5432,-66.548 122.5432,-73.548\"/>\n<text text-anchor=\"middle\" x=\"110.6957\" y=\"-73.8479\" font-family=\"Times,serif\" font-size=\"14.00\" fill=\"#000000\">1</text>\n</g>\n<!-- a/N&#45;&gt;a/N -->\n<g id=\"edge3\" class=\"edge\">\n<title>a/N&#45;&gt;a/N</title>\n<path fill=\"none\" stroke=\"#000000\" d=\"M56.8959,-92.9709C56.1576,-103.2263 58.7416,-112.0957 64.6479,-112.0957 68.4316,-112.0957 70.8518,-108.4557 71.9086,-103.1432\"/>\n<polygon fill=\"#000000\" stroke=\"#000000\" points=\"75.4133,-103.1282 72.3998,-92.9709 68.4214,-102.7904 75.4133,-103.1282\"/>\n<text text-anchor=\"middle\" x=\"64.6479\" y=\"-115.8957\" font-family=\"Times,serif\" font-size=\"14.00\" fill=\"#000000\">0</text>\n</g>\n<!-- c/N&#45;&gt;d/N -->\n<g id=\"edge6\" class=\"edge\">\n<title>c/N&#45;&gt;d/N</title>\n<path fill=\"none\" stroke=\"#000000\" d=\"M270.7157,-36.5243C279.8046,-42.1043 290.5844,-48.8168 300.1871,-55.0479 304.5845,-57.9013 309.2019,-60.9651 313.709,-63.9939\"/>\n<polygon fill=\"#000000\" stroke=\"#000000\" points=\"311.9107,-67.0031 322.1536,-69.7111 315.8351,-61.2066 311.9107,-67.0031\"/>\n<text text-anchor=\"middle\" x=\"296.1871\" y=\"-58.8479\" font-family=\"Times,serif\" font-size=\"14.00\" fill=\"#000000\">1</text>\n</g>\n<!-- c/N&#45;&gt;a/N -->\n<g id=\"edge7\" class=\"edge\">\n<title>c/N&#45;&gt;a/N</title>\n<path fill=\"none\" stroke=\"#000000\" d=\"M226.5344,-18.9502C202.3422,-14.7523 163.9478,-10.9667 132.6957,-21.0479 116.9357,-26.1317 101.7461,-36.3719 89.7317,-46.1825\"/>\n<polygon fill=\"#000000\" stroke=\"#000000\" points=\"87.2766,-43.6768 81.9533,-52.8372 91.8272,-48.9959 87.2766,-43.6768\"/>\n<text text-anchor=\"middle\" x=\"157.3935\" y=\"-24.8479\" font-family=\"Times,serif\" font-size=\"14.00\" fill=\"#000000\">0</text>\n</g>\n</g>\n</svg>\n"
          },
          "metadata": {},
          "execution_count": 7
        }
      ]
    },
    {
      "cell_type": "markdown",
      "metadata": {
        "id": "FxHdmACiPrcq"
      },
      "source": [
        "4. Resolva o mesmo problema do exercício anterior, desta vez, considere uma máquina de Mealy."
      ]
    },
    {
      "cell_type": "code",
      "source": [
        "Q = {\"a\", \"b\", \"c\", \"d\", \"e\"}\n",
        "Sigma = {\"0\", \"1\"}\n",
        "Delta = {\n",
        "    (\"a\", \"0/N\"): \"a\",\n",
        "    (\"a\", \"1/N\"): \"b\",\n",
        "    (\"b\", \"0/N\"): \"c\",\n",
        "    (\"b\", \"1/N\"): \"b\",\n",
        "    (\"c\", \"0/N\"): \"a\",\n",
        "    (\"c\", \"1/N\"): \"d\",\n",
        "    (\"d\", \"0/S\"): \"e\",\n",
        "    (\"d\", \"1/N\"): \"b\",\n",
        "    (\"e\", \"0/N\"): \"a\",\n",
        "    (\"e\", \"1/N\"): \"d\",\n",
        "}\n",
        "q0 = \"a\"\n",
        "F = {}\n",
        "\n",
        "afd = AFD(Q, Sigma, Delta, q0, F)\n",
        "afd.visualizar()"
      ],
      "metadata": {
        "colab": {
          "base_uri": "https://localhost:8080/",
          "height": 238
        },
        "id": "59QqIadU-DSJ",
        "outputId": "a4a225f8-aa0b-4c7f-a3fc-a19b66a836ea"
      },
      "execution_count": null,
      "outputs": [
        {
          "output_type": "execute_result",
          "data": {
            "text/plain": [
              "<graphviz.dot.Digraph at 0x7f5974325dd0>"
            ],
            "image/svg+xml": "<?xml version=\"1.0\" encoding=\"UTF-8\" standalone=\"no\"?>\n<!DOCTYPE svg PUBLIC \"-//W3C//DTD SVG 1.1//EN\"\n \"http://www.w3.org/Graphics/SVG/1.1/DTD/svg11.dtd\">\n<!-- Generated by graphviz version 2.40.1 (20161225.0304)\n -->\n<!-- Title: finite_state_machine Pages: 1 -->\n<svg width=\"461pt\" height=\"162pt\"\n viewBox=\"0.00 0.00 460.60 162.00\" xmlns=\"http://www.w3.org/2000/svg\" xmlns:xlink=\"http://www.w3.org/1999/xlink\">\n<g id=\"graph0\" class=\"graph\" transform=\"scale(1 1) rotate(0) translate(4 158)\">\n<title>finite_state_machine</title>\n<polygon fill=\"#ffffff\" stroke=\"transparent\" points=\"-4,4 -4,-158 456.6,-158 456.6,4 -4,4\"/>\n<g id=\"node1\" class=\"node\">\n<title></title>\n<ellipse fill=\"#000000\" stroke=\"#000000\" cx=\"1.8\" cy=\"-60\" rx=\"1.8\" ry=\"1.8\"/>\n</g>\n<!-- a -->\n<g id=\"node4\" class=\"node\">\n<title>a</title>\n<ellipse fill=\"none\" stroke=\"#000000\" cx=\"58.6\" cy=\"-60\" rx=\"18\" ry=\"18\"/>\n<text text-anchor=\"middle\" x=\"58.6\" y=\"-56.3\" font-family=\"Times,serif\" font-size=\"14.00\" fill=\"#000000\">a</text>\n</g>\n<!-- &#45;&gt;a -->\n<g id=\"edge1\" class=\"edge\">\n<title>&#45;&gt;a</title>\n<path fill=\"none\" stroke=\"#000000\" d=\"M3.6898,-60C8.0522,-60 19.3107,-60 30.5058,-60\"/>\n<polygon fill=\"#000000\" stroke=\"#000000\" points=\"30.5696,-63.5001 40.5696,-60 30.5696,-56.5001 30.5696,-63.5001\"/>\n</g>\n<!-- d -->\n<g id=\"node2\" class=\"node\">\n<title>d</title>\n<ellipse fill=\"none\" stroke=\"#000000\" cx=\"340.6\" cy=\"-71\" rx=\"18\" ry=\"18\"/>\n<text text-anchor=\"middle\" x=\"340.6\" y=\"-67.3\" font-family=\"Times,serif\" font-size=\"14.00\" fill=\"#000000\">d</text>\n</g>\n<!-- e -->\n<g id=\"node3\" class=\"node\">\n<title>e</title>\n<ellipse fill=\"none\" stroke=\"#000000\" cx=\"434.6\" cy=\"-109\" rx=\"18\" ry=\"18\"/>\n<text text-anchor=\"middle\" x=\"434.6\" y=\"-105.3\" font-family=\"Times,serif\" font-size=\"14.00\" fill=\"#000000\">e</text>\n</g>\n<!-- d&#45;&gt;e -->\n<g id=\"edge8\" class=\"edge\">\n<title>d&#45;&gt;e</title>\n<path fill=\"none\" stroke=\"#000000\" d=\"M357.0051,-78.5219C363.1231,-81.2659 370.1486,-84.3452 376.6,-87 386.7265,-91.1671 397.9587,-95.4946 407.8207,-99.1977\"/>\n<polygon fill=\"#000000\" stroke=\"#000000\" points=\"406.9054,-102.5915 417.4982,-102.7979 409.3461,-96.0308 406.9054,-102.5915\"/>\n<text text-anchor=\"middle\" x=\"387.6\" y=\"-98.8\" font-family=\"Times,serif\" font-size=\"14.00\" fill=\"#000000\">0/S</text>\n</g>\n<!-- b -->\n<g id=\"node5\" class=\"node\">\n<title>b</title>\n<ellipse fill=\"none\" stroke=\"#000000\" cx=\"152.6\" cy=\"-60\" rx=\"18\" ry=\"18\"/>\n<text text-anchor=\"middle\" x=\"152.6\" y=\"-56.3\" font-family=\"Times,serif\" font-size=\"14.00\" fill=\"#000000\">b</text>\n</g>\n<!-- d&#45;&gt;b -->\n<g id=\"edge9\" class=\"edge\">\n<title>d&#45;&gt;b</title>\n<path fill=\"none\" stroke=\"#000000\" d=\"M322.6283,-69.9485C289.823,-68.029 220.0142,-63.9444 180.8147,-61.6509\"/>\n<polygon fill=\"#000000\" stroke=\"#000000\" points=\"180.8136,-58.1449 170.6262,-61.0547 180.4047,-65.133 180.8136,-58.1449\"/>\n<text text-anchor=\"middle\" x=\"246.6\" y=\"-69.8\" font-family=\"Times,serif\" font-size=\"14.00\" fill=\"#000000\">1/N</text>\n</g>\n<!-- e&#45;&gt;d -->\n<g id=\"edge11\" class=\"edge\">\n<title>e&#45;&gt;d</title>\n<path fill=\"none\" stroke=\"#000000\" d=\"M425.461,-93.0904C419.2061,-83.8964 409.9908,-73.1569 398.6,-68 389.1921,-63.7408 378.0282,-63.3699 368.0193,-64.4577\"/>\n<polygon fill=\"#000000\" stroke=\"#000000\" points=\"367.4616,-61.0023 358.129,-66.0176 368.5522,-67.9169 367.4616,-61.0023\"/>\n<text text-anchor=\"middle\" x=\"387.6\" y=\"-71.8\" font-family=\"Times,serif\" font-size=\"14.00\" fill=\"#000000\">1/N</text>\n</g>\n<!-- e&#45;&gt;a -->\n<g id=\"edge10\" class=\"edge\">\n<title>e&#45;&gt;a</title>\n<path fill=\"none\" stroke=\"#000000\" d=\"M418.4587,-117.5166C400.1187,-126.3859 369.0365,-139 340.6,-139 152.6,-139 152.6,-139 152.6,-139 118.0083,-139 89.5017,-107.259 73.2644,-84.016\"/>\n<polygon fill=\"#000000\" stroke=\"#000000\" points=\"76.1163,-81.9841 67.655,-75.6079 70.2933,-85.869 76.1163,-81.9841\"/>\n<text text-anchor=\"middle\" x=\"246.6\" y=\"-142.8\" font-family=\"Times,serif\" font-size=\"14.00\" fill=\"#000000\">0/N</text>\n</g>\n<!-- a&#45;&gt;a -->\n<g id=\"edge2\" class=\"edge\">\n<title>a&#45;&gt;a</title>\n<path fill=\"none\" stroke=\"#000000\" d=\"M52.2208,-77.0373C50.9189,-86.8579 53.0453,-96 58.6,-96 62.0717,-96 64.2042,-92.4289 64.9975,-87.3529\"/>\n<polygon fill=\"#000000\" stroke=\"#000000\" points=\"68.4971,-87.031 64.9792,-77.0373 61.4971,-87.0435 68.4971,-87.031\"/>\n<text text-anchor=\"middle\" x=\"58.6\" y=\"-99.8\" font-family=\"Times,serif\" font-size=\"14.00\" fill=\"#000000\">0/N</text>\n</g>\n<!-- a&#45;&gt;b -->\n<g id=\"edge3\" class=\"edge\">\n<title>a&#45;&gt;b</title>\n<path fill=\"none\" stroke=\"#000000\" d=\"M76.7241,-60C90.2484,-60 108.9808,-60 124.4486,-60\"/>\n<polygon fill=\"#000000\" stroke=\"#000000\" points=\"124.5315,-63.5001 134.5315,-60 124.5315,-56.5001 124.5315,-63.5001\"/>\n<text text-anchor=\"middle\" x=\"105.6\" y=\"-63.8\" font-family=\"Times,serif\" font-size=\"14.00\" fill=\"#000000\">1/N</text>\n</g>\n<!-- b&#45;&gt;b -->\n<g id=\"edge5\" class=\"edge\">\n<title>b&#45;&gt;b</title>\n<path fill=\"none\" stroke=\"#000000\" d=\"M144.5836,-76.2903C142.6505,-86.3892 145.3227,-96 152.6,-96 157.262,-96 160.0341,-92.0557 160.9162,-86.5656\"/>\n<polygon fill=\"#000000\" stroke=\"#000000\" points=\"164.4067,-86.1839 160.6164,-76.2903 157.4097,-86.3881 164.4067,-86.1839\"/>\n<text text-anchor=\"middle\" x=\"152.6\" y=\"-99.8\" font-family=\"Times,serif\" font-size=\"14.00\" fill=\"#000000\">1/N</text>\n</g>\n<!-- c -->\n<g id=\"node6\" class=\"node\">\n<title>c</title>\n<ellipse fill=\"none\" stroke=\"#000000\" cx=\"246.6\" cy=\"-18\" rx=\"18\" ry=\"18\"/>\n<text text-anchor=\"middle\" x=\"246.6\" y=\"-14.3\" font-family=\"Times,serif\" font-size=\"14.00\" fill=\"#000000\">c</text>\n</g>\n<!-- b&#45;&gt;c -->\n<g id=\"edge4\" class=\"edge\">\n<title>b&#45;&gt;c</title>\n<path fill=\"none\" stroke=\"#000000\" d=\"M169.0332,-52.0951C175.1542,-49.189 182.1744,-45.9009 188.6,-43 198.9435,-38.3302 210.4038,-33.35 220.3871,-29.0737\"/>\n<polygon fill=\"#000000\" stroke=\"#000000\" points=\"221.955,-32.2101 229.782,-25.0695 219.2104,-25.7706 221.955,-32.2101\"/>\n<text text-anchor=\"middle\" x=\"199.6\" y=\"-46.8\" font-family=\"Times,serif\" font-size=\"14.00\" fill=\"#000000\">0/N</text>\n</g>\n<!-- c&#45;&gt;d -->\n<g id=\"edge7\" class=\"edge\">\n<title>c&#45;&gt;d</title>\n<path fill=\"none\" stroke=\"#000000\" d=\"M263.6499,-24.0314C275.5088,-28.5386 291.4806,-35.2423 304.6,-43 309.3347,-45.7997 314.1506,-49.1417 318.6552,-52.5257\"/>\n<polygon fill=\"#000000\" stroke=\"#000000\" points=\"316.8058,-55.5238 326.8303,-58.953 321.1322,-50.0209 316.8058,-55.5238\"/>\n<text text-anchor=\"middle\" x=\"293.6\" y=\"-46.8\" font-family=\"Times,serif\" font-size=\"14.00\" fill=\"#000000\">1/N</text>\n</g>\n<!-- c&#45;&gt;a -->\n<g id=\"edge6\" class=\"edge\">\n<title>c&#45;&gt;a</title>\n<path fill=\"none\" stroke=\"#000000\" d=\"M228.7978,-15.302C206.4109,-12.5183 166.9845,-9.647 134.6,-18 115.3793,-22.9577 95.8249,-33.9265 81.365,-43.4114\"/>\n<polygon fill=\"#000000\" stroke=\"#000000\" points=\"79.366,-40.5381 73.0685,-49.0582 83.3047,-46.3249 79.366,-40.5381\"/>\n<text text-anchor=\"middle\" x=\"152.6\" y=\"-21.8\" font-family=\"Times,serif\" font-size=\"14.00\" fill=\"#000000\">0/N</text>\n</g>\n</g>\n</svg>\n"
          },
          "metadata": {},
          "execution_count": 8
        }
      ]
    }
  ]
}