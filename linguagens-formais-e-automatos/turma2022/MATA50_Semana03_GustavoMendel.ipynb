{
  "nbformat": 4,
  "nbformat_minor": 0,
  "metadata": {
    "colab": {
      "provenance": [],
      "collapsed_sections": []
    },
    "kernelspec": {
      "name": "python3",
      "display_name": "Python 3"
    },
    "language_info": {
      "name": "python"
    }
  },
  "cells": [
    {
      "cell_type": "markdown",
      "metadata": {
        "id": "EC51xd8L1WzV"
      },
      "source": [
        "# MATA50 - Aula prática da Semana 03\n"
      ]
    },
    {
      "cell_type": "code",
      "metadata": {
        "id": "TM_UtFZ-BmZ8",
        "cellView": "form"
      },
      "source": [
        "#@title Execute esta célula para carregar a classe para análise de gramáticas\n",
        "class GLC:\n",
        "  def __init__(self,V,Sigma,R,S):\n",
        "      self.variables = V\n",
        "      self.terminals = Sigma\n",
        "      # self.rules = R\n",
        "      self.rules = {(a, tuple(b)) for (a,b) in R}\n",
        "      self.start = S\n",
        " \n",
        "      self.derivation = []\n",
        "      self.chomsky = None\n",
        "  \n",
        "  def gera(self, string):\n",
        "      if (not self.chomsky):\n",
        "        self.chomsky = self.to_chomsky()        \n",
        "      G = self.chomsky\n",
        "      \n",
        "      if len(string) == 0: return (G.start,()) in G.rules\n",
        " \n",
        "      # CYK Algorithm\n",
        "      n = len(string)\n",
        "      P = [[[] for x in range(n - y)] for y in range(n)]\n",
        "      for i,c in enumerate(string):\n",
        "        for v in [a for (a,b) in G.rules if len(b) == 1 and c in b]:\n",
        "          P[0][i] += [v]\n",
        "      for l in range(2, n+1): # borda da iteração\n",
        "        for s in range(0, n+1-l): # coluna\n",
        "          for p in range(1, l): # linha\n",
        "            for u, v in [(a,b) for (a,b) in G.rules if len(b) == 2]:\n",
        "              if v[0] in P[p-1][s] and v[1] in P[l-p-1][s+p]:\n",
        "                P[l-1][s] += [u]\n",
        "      return G.start in P[-1][0]\n",
        " \n",
        "  def print(self):\n",
        "      rightarrow = \"\\u2192\"\n",
        "      print(self.start,rightarrow, '|'.join([''.join(y) for x,y in self.rules if x == S]))\n",
        "      for v in sorted(self.variables.difference(self.start)): \n",
        "        print(v,rightarrow, '|'.join([''.join(y) for x,y in self.rules if x == v]))\n",
        " \n",
        "  def replace_eps(self, v, l):\n",
        "    if not l: return {()}\n",
        "    result = {(l[0],) + s for s in self.replace_eps(v, tuple(l[1:]))}\n",
        "    if l[0] == v:\n",
        "      result.update({tuple(s[1:]) for s in result})\n",
        "    return result   \n",
        " \n",
        "  def to_chomsky(self):\n",
        "      n_state = 0\n",
        "      \n",
        "      S = '<{}>'.format(n_state)\n",
        "      Sigma = self.terminals \n",
        "      V = {S}.union(self.variables)\n",
        "      R = {(S,(self.start,))}.union(self.rules)\n",
        " \n",
        "      target = {alpha for alpha in self.variables if (alpha,()) in R}\n",
        "      while (target):\n",
        "        for e in target:\n",
        "          rules = {(alpha,beta) for (alpha,beta) in R if e in beta}\n",
        "          for (a,b) in rules:\n",
        "            R.update({(a, beta) for beta in self.replace_eps(e,b)})\n",
        "          R.discard((e,()))\n",
        "        target = {alpha for alpha in self.variables if (alpha,()) in R}\n",
        "      \n",
        "      target = {(a,b) for (a,b) in R if len(b) == 1 and b[0] in V}\n",
        "      while (target):\n",
        "        for u,v in target:\n",
        "          rules = {b for (a,b) in R if a == v[0]}\n",
        "          R.update({(u,b) for b in rules})\n",
        "          R.discard((u,v))\n",
        "        target = {(a,b) for (a,b) in R if len(b) == 1 and b[0] in V}\n",
        "      \n",
        "      target = {(alpha,beta) for (alpha,beta) in R if len(beta) > 2}\n",
        "      while(target):\n",
        "        for u,v in target:\n",
        "          n_state += 1\n",
        "          state = '<{}>'.format(n_state)\n",
        "          V.update({state})\n",
        "          R.update({(u,(v[0],state)),(state, tuple(v[1:]))})\n",
        "          R.discard((u,v))\n",
        "        target = {(alpha,beta) for (alpha,beta) in R if len(beta) > 2}\n",
        " \n",
        "      target = {(alpha,beta) for (alpha,beta) in R if len(beta) == 2}\n",
        "      for u,v in target:\n",
        "        n = list(v)\n",
        "        for i in range(2):\n",
        "          if v[i] in Sigma:\n",
        "            R.discard((u,(n[0],n[1])))\n",
        "            n_state += 1\n",
        "            n[i] = '<{}>'.format(n_state)\n",
        "            V.update({n[i]})\n",
        "            R.update({(u,(n[0],n[1]))})\n",
        "            R.update({(n[i],(v[i],))})\n",
        " \n",
        "      return GLC(V,Sigma,R,S)"
      ],
      "execution_count": null,
      "outputs": []
    },
    {
      "cell_type": "markdown",
      "metadata": {
        "id": "UDIB4qHrmpy1"
      },
      "source": [
        "# Exercícios\n",
        "\n",
        "1. Construa uma gramática para a linguagem: $L = \\{ w \\in \\{ a , b \\}^* ~|~ \\mbox{ o número de a's em $w$ é par} \\}$. Teste a validade da sua gramática para 3 palavras de sua escolha."
      ]
    },
    {
      "cell_type": "code",
      "source": [
        "V = {'P'}\n",
        "Sigma = {'a', 'b'}\n",
        "R = {\n",
        "  ('P', 'PP'),\n",
        "  ('P', 'aPa'),\n",
        "  ('P', 'aa'),\n",
        "  ('P', 'b'),\n",
        "  ('P', ''),\n",
        "}\n",
        "S = 'P'\n",
        "\n",
        "G = GLC(V,Sigma,R,S)\n",
        "\n",
        "G.print()\n",
        "\n",
        "print(G.gera('aaa'))\n",
        "print(G.gera('abb'))\n",
        "print(G.gera(''))\n",
        "print(G.gera('bb'))\n",
        "print(G.gera('aaaa'))\n",
        "print(G.gera('aba'))\n",
        "print(G.gera('abbaabbbbaabbabbbbaabbbbbabbbbbba'))\n",
        "print('abbaabbbbaabbabbbbaabbbbbabbbbbba'.count('a'))"
      ],
      "metadata": {
        "colab": {
          "base_uri": "https://localhost:8080/"
        },
        "id": "XTdSUQ0RgDTZ",
        "outputId": "da3d0aad-06ec-49bd-e93d-82edf9583388"
      },
      "execution_count": null,
      "outputs": [
        {
          "output_type": "stream",
          "name": "stdout",
          "text": [
            "P → aPa|PP|aa||b\n",
            "False\n",
            "False\n",
            "True\n",
            "True\n",
            "True\n",
            "True\n",
            "True\n",
            "10\n"
          ]
        }
      ]
    },
    {
      "cell_type": "markdown",
      "source": [
        "2. Construa uma gramática para a linguagem: $L = \\{w \\in \\{a,b\\}^* \\mid a^nb^n \\mid n \\in \\natural \\}$. Teste a validade da sua gramática para 3 palavras de sua escolha.\n"
      ],
      "metadata": {
        "id": "uGbTiRpDMo_c"
      }
    },
    {
      "cell_type": "code",
      "source": [
        "V = {'P'}\n",
        "Sigma = {'a', 'b'}\n",
        "R = {\n",
        "    ('P', ''),\n",
        "    ('P', 'aPb')\n",
        "}\n",
        "S = 'P'\n",
        "\n",
        "G = GLC(V,Sigma,R,S)\n",
        "\n",
        "G.print()\n",
        "\n",
        "print(G.gera(\"\"))\n",
        "print(G.gera(\"ab\"))\n",
        "print(G.gera(\"aabb\"))\n",
        "print(G.gera(\"aaabbb\"))\n",
        "print(G.gera(\"aaaabbbb\"))\n",
        "\n",
        "print(G.gera(\"a\"))\n",
        "print(G.gera(\"b\"))\n",
        "print(G.gera(\"abab\"))\n",
        "print(G.gera(\"aaabb\"))\n",
        "print(G.gera(\"ba\"))"
      ],
      "metadata": {
        "colab": {
          "base_uri": "https://localhost:8080/"
        },
        "id": "0DpvFgwmKpSu",
        "outputId": "cb545702-12b5-414b-9f09-24e2e1057b0e"
      },
      "execution_count": null,
      "outputs": [
        {
          "output_type": "stream",
          "name": "stdout",
          "text": [
            "P → aPb|\n",
            "True\n",
            "True\n",
            "True\n",
            "True\n",
            "True\n",
            "False\n",
            "False\n",
            "False\n",
            "False\n",
            "False\n"
          ]
        }
      ]
    },
    {
      "cell_type": "markdown",
      "metadata": {
        "id": "r6vEMro0Csdk"
      },
      "source": [
        "3. Construa uma gramática para a linguagem: $L = \\{w \\in \\{a,b\\}^* \\mid w=w^R\\}$. Teste a validade da sua gramática para 3 palavras de sua escolha.\n"
      ]
    },
    {
      "cell_type": "code",
      "source": [
        "V = {'P'}\n",
        "Sigma = {'a', 'b'}\n",
        "R = {\n",
        "  ('P' , 'aPa'),\n",
        "  ('P' , 'bPb'),\n",
        "  ('P' , 'a'),\n",
        "  ('P' , 'b'),\n",
        "  ('P' , '')\n",
        "}\n",
        "S = 'P'\n",
        "\n",
        "G = GLC(V,Sigma,R,S)\n",
        "\n",
        "G.print()\n",
        "\n",
        "print(G.gera(\"baab\"))\n",
        "print(G.gera(\"aaba\"))\n",
        "print(G.gera(\"ababa\"))\n",
        "print(G.gera(\"abbbbba\"))"
      ],
      "metadata": {
        "colab": {
          "base_uri": "https://localhost:8080/"
        },
        "id": "974tpIi0mq_H",
        "outputId": "8c40252b-d56f-4db6-a7b6-8ca5584bd586"
      },
      "execution_count": null,
      "outputs": [
        {
          "output_type": "stream",
          "name": "stdout",
          "text": [
            "P → aPa|bPb||b|a\n",
            "True\n",
            "False\n",
            "True\n",
            "True\n"
          ]
        }
      ]
    }
  ]
}